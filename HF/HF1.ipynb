{
    "metadata": {
        "kernelspec": {
            "name": "SQL",
            "display_name": "SQL",
            "language": "sql"
        },
        "language_info": {
            "name": "sql",
            "version": ""
        }
    },
    "nbformat_minor": 2,
    "nbformat": 4,
    "cells": [
        {
            "cell_type": "markdown",
            "source": [
                "1\\. LISTAAR Oszlop"
            ],
            "metadata": {
                "azdata_cell_guid": "8abceb20-d090-403f-a193-5573debbc3f6"
            },
            "attachments": {}
        },
        {
            "cell_type": "code",
            "source": [
                "SELECT COUNT(LISTAAR) AS 'sorok száma',\n",
                "       COUNT(CASE WHEN LISTAAR IS NULL THEN 1 END) AS 'NULL sorok száma',\n",
                "       COUNT(CASE WHEN LISTAAR = 0 THEN 1 END) AS 'Nulla értékű sorok száma',\n",
                "       MIN(LISTAAR) AS 'minimum',\n",
                "       MAX(LISTAAR) AS 'maximum',\n",
                "       MAX(LISTAAR) - MIN(LISTAAR) AS 'min max különbözet',\n",
                "       AVG(LISTAAR) AS 'átlag',\n",
                "       STDEV(LISTAAR) AS 'szórás'\n",
                "       \n",
                "FROM Termek\n",
                ""
            ],
            "metadata": {
                "azdata_cell_guid": "ab02773c-9843-46e9-9839-fa64c9696815",
                "language": "sql",
                "tags": []
            },
            "outputs": [
                {
                    "output_type": "display_data",
                    "data": {
                        "text/html": "Warning: Null value is eliminated by an aggregate or other SET operation."
                    },
                    "metadata": {}
                },
                {
                    "output_type": "display_data",
                    "data": {
                        "text/html": "(1 row affected)"
                    },
                    "metadata": {}
                },
                {
                    "output_type": "display_data",
                    "data": {
                        "text/html": "Total execution time: 00:00:00.044"
                    },
                    "metadata": {}
                },
                {
                    "output_type": "execute_result",
                    "metadata": {},
                    "execution_count": 42,
                    "data": {
                        "application/vnd.dataresource+json": {
                            "schema": {
                                "fields": [
                                    {
                                        "name": "sorok száma"
                                    },
                                    {
                                        "name": "NULL sorok száma"
                                    },
                                    {
                                        "name": "Nulla értékű sorok száma"
                                    },
                                    {
                                        "name": "minimum"
                                    },
                                    {
                                        "name": "maximum"
                                    },
                                    {
                                        "name": "min max különbözet"
                                    },
                                    {
                                        "name": "átlag"
                                    },
                                    {
                                        "name": "szórás"
                                    }
                                ]
                            },
                            "data": [
                                {
                                    "sorok száma": "551",
                                    "NULL sorok száma": "0",
                                    "Nulla értékű sorok száma": "1",
                                    "minimum": "0",
                                    "maximum": "46000",
                                    "min max különbözet": "46000",
                                    "átlag": "786,2813067150635",
                                    "szórás": "3602,4811630060694"
                                }
                            ]
                        },
                        "text/html": [
                            "<table>",
                            "<tr><th>sorok száma</th><th>NULL sorok száma</th><th>Nulla értékű sorok száma</th><th>minimum</th><th>maximum</th><th>min max különbözet</th><th>átlag</th><th>szórás</th></tr>",
                            "<tr><td>551</td><td>0</td><td>1</td><td>0</td><td>46000</td><td>46000</td><td>786,2813067150635</td><td>3602,4811630060694</td></tr>",
                            "</table>"
                        ]
                    }
                }
            ],
            "execution_count": 42
        },
        {
            "cell_type": "markdown",
            "source": [
                "2\\. KESZLET Oszlop"
            ],
            "metadata": {
                "azdata_cell_guid": "41cb5cf0-553d-4d67-b1c6-8cf9bf16082a"
            },
            "attachments": {}
        },
        {
            "cell_type": "code",
            "source": [
                "SELECT COUNT(KESZLET) AS 'sorok száma',\n",
                "       COUNT(CASE WHEN KESZLET IS NULL THEN 1 END) AS 'NULL sorok száma',\n",
                "       COUNT(CASE WHEN KESZLET = 0 THEN 1 END) AS 'Nulla értékű sorok száma',\n",
                "       MIN(KESZLET) AS 'minimum',\n",
                "       MAX(KESZLET) AS 'maximum',\n",
                "       MAX(KESZLET) - MIN(KESZLET) AS 'min max különbözet',\n",
                "       AVG(KESZLET) AS 'átlag',\n",
                "       STDEV(KESZLET) AS 'szórás'\n",
                "       \n",
                "\n",
                "FROM Termek"
            ],
            "metadata": {
                "azdata_cell_guid": "0708ec60-677c-4d0b-a845-e37b1ec24b39",
                "language": "sql"
            },
            "outputs": [
                {
                    "output_type": "display_data",
                    "data": {
                        "text/html": "Warning: Null value is eliminated by an aggregate or other SET operation."
                    },
                    "metadata": {}
                },
                {
                    "output_type": "display_data",
                    "data": {
                        "text/html": "(1 row affected)"
                    },
                    "metadata": {}
                },
                {
                    "output_type": "display_data",
                    "data": {
                        "text/html": "Total execution time: 00:00:00.935"
                    },
                    "metadata": {}
                },
                {
                    "output_type": "execute_result",
                    "metadata": {},
                    "execution_count": 46,
                    "data": {
                        "application/vnd.dataresource+json": {
                            "schema": {
                                "fields": [
                                    {
                                        "name": "sorok száma"
                                    },
                                    {
                                        "name": "NULL sorok száma"
                                    },
                                    {
                                        "name": "Nulla értékű sorok száma"
                                    },
                                    {
                                        "name": "minimum"
                                    },
                                    {
                                        "name": "maximum"
                                    },
                                    {
                                        "name": "min max különbözet"
                                    },
                                    {
                                        "name": "átlag"
                                    },
                                    {
                                        "name": "szórás"
                                    }
                                ]
                            },
                            "data": [
                                {
                                    "sorok száma": "551",
                                    "NULL sorok száma": "0",
                                    "Nulla értékű sorok száma": "2",
                                    "minimum": "0",
                                    "maximum": "50000",
                                    "min max különbözet": "50000",
                                    "átlag": "1585,9909255898367",
                                    "szórás": "4604,3876191291965"
                                }
                            ]
                        },
                        "text/html": [
                            "<table>",
                            "<tr><th>sorok száma</th><th>NULL sorok száma</th><th>Nulla értékű sorok száma</th><th>minimum</th><th>maximum</th><th>min max különbözet</th><th>átlag</th><th>szórás</th></tr>",
                            "<tr><td>551</td><td>0</td><td>2</td><td>0</td><td>50000</td><td>50000</td><td>1585,9909255898367</td><td>4604,3876191291965</td></tr>",
                            "</table>"
                        ]
                    }
                }
            ],
            "execution_count": 46
        },
        {
            "cell_type": "markdown",
            "source": [
                "3\\. MEGNEVEZES Oszlop"
            ],
            "metadata": {
                "azdata_cell_guid": "876ad55a-fee9-44ec-8201-6a6c4b97e8db"
            },
            "attachments": {}
        },
        {
            "cell_type": "code",
            "source": [
                "SELECT COUNT(MEGNEVEZES) AS 'sorok száma',\n",
                "       COUNT(CASE WHEN MEGNEVEZES IS NULL THEN 1 END) AS  'NULL sorok száma',\n",
                "       MIN(LEN(MEGNEVEZES)) AS 'legrövidebb',\n",
                "       MAX(LEN(MEGNEVEZES)) AS 'leghosszabb'\n",
                "FROM Termek"
            ],
            "metadata": {
                "azdata_cell_guid": "a639e2eb-3f64-410a-af90-46a8acced49e",
                "language": "sql",
                "tags": []
            },
            "outputs": [
                {
                    "output_type": "display_data",
                    "data": {
                        "text/html": "Warning: Null value is eliminated by an aggregate or other SET operation."
                    },
                    "metadata": {}
                },
                {
                    "output_type": "display_data",
                    "data": {
                        "text/html": "(1 row affected)"
                    },
                    "metadata": {}
                },
                {
                    "output_type": "display_data",
                    "data": {
                        "text/html": "Total execution time: 00:00:00.581"
                    },
                    "metadata": {}
                },
                {
                    "output_type": "execute_result",
                    "metadata": {},
                    "execution_count": 70,
                    "data": {
                        "application/vnd.dataresource+json": {
                            "schema": {
                                "fields": [
                                    {
                                        "name": "sorok száma"
                                    },
                                    {
                                        "name": "NULL sorok száma"
                                    },
                                    {
                                        "name": "legrövidebb"
                                    },
                                    {
                                        "name": "leghosszabb"
                                    }
                                ]
                            },
                            "data": [
                                {
                                    "sorok száma": "551",
                                    "NULL sorok száma": "0",
                                    "legrövidebb": "3",
                                    "leghosszabb": "40"
                                }
                            ]
                        },
                        "text/html": [
                            "<table>",
                            "<tr><th>sorok száma</th><th>NULL sorok száma</th><th>legrövidebb</th><th>leghosszabb</th></tr>",
                            "<tr><td>551</td><td>0</td><td>3</td><td>40</td></tr>",
                            "</table>"
                        ]
                    }
                }
            ],
            "execution_count": 70
        },
        {
            "cell_type": "code",
            "source": [
                "SELECT COUNT(*) AS 'Töbször szereplő megnevezések száma'\n",
                "FROM (SELECT MEGNEVEZES AS 'NEV', \n",
                "        COUNT(*) AS 'DB'\n",
                "        FROM Termek\n",
                "        GROUP BY MEGNEVEZES\n",
                "        HAVING COUNT(*)>1) rows"
            ],
            "metadata": {
                "azdata_cell_guid": "2433c4b0-f19a-4504-9cc1-d7487905d679",
                "language": "sql"
            },
            "outputs": [
                {
                    "output_type": "display_data",
                    "data": {
                        "text/html": "(1 row affected)"
                    },
                    "metadata": {}
                },
                {
                    "output_type": "display_data",
                    "data": {
                        "text/html": "Total execution time: 00:00:00.034"
                    },
                    "metadata": {}
                },
                {
                    "output_type": "execute_result",
                    "metadata": {},
                    "execution_count": 87,
                    "data": {
                        "application/vnd.dataresource+json": {
                            "schema": {
                                "fields": [
                                    {
                                        "name": "Töbször szereplő megnevezések száma"
                                    }
                                ]
                            },
                            "data": [
                                {
                                    "Töbször szereplő megnevezések száma": "8"
                                }
                            ]
                        },
                        "text/html": [
                            "<table>",
                            "<tr><th>Töbször szereplő megnevezések száma</th></tr>",
                            "<tr><td>8</td></tr>",
                            "</table>"
                        ]
                    }
                }
            ],
            "execution_count": 87
        },
        {
            "cell_type": "markdown",
            "source": [
                "4\\. FELVITEL Oszlop"
            ],
            "metadata": {
                "azdata_cell_guid": "bc1aa801-dbb5-442e-b944-53be9d378129"
            },
            "attachments": {}
        },
        {
            "cell_type": "code",
            "source": [
                "SELECT COUNT(FElVITEL) AS 'sorok száma',\n",
                "       COUNT(CASE WHEN FElVITEL IS NULL THEN 1 END) AS 'NULL sorok száma',\n",
                "       MIN(FElVITEL) AS 'legkorábbi datum',\n",
                "       MAX(FElVITEL) AS 'legkesőbbi datum',\n",
                "       DATEDIFF(month,MIN(FElVITEL),MAX(FElVITEL)) AS 'időintervalum hónapban'\n",
                "FROM Termek"
            ],
            "metadata": {
                "azdata_cell_guid": "8c935a3a-1428-4df2-856b-66b2b5a0c072",
                "language": "sql"
            },
            "outputs": [
                {
                    "output_type": "display_data",
                    "data": {
                        "text/html": "Warning: Null value is eliminated by an aggregate or other SET operation."
                    },
                    "metadata": {}
                },
                {
                    "output_type": "display_data",
                    "data": {
                        "text/html": "(1 row affected)"
                    },
                    "metadata": {}
                },
                {
                    "output_type": "display_data",
                    "data": {
                        "text/html": "Total execution time: 00:00:00.034"
                    },
                    "metadata": {}
                },
                {
                    "output_type": "execute_result",
                    "metadata": {},
                    "execution_count": 88,
                    "data": {
                        "application/vnd.dataresource+json": {
                            "schema": {
                                "fields": [
                                    {
                                        "name": "sorok száma"
                                    },
                                    {
                                        "name": "NULL sorok száma"
                                    },
                                    {
                                        "name": "legkorábbi datum"
                                    },
                                    {
                                        "name": "legkesőbbi datum"
                                    },
                                    {
                                        "name": "időintervalum hónapban"
                                    }
                                ]
                            },
                            "data": [
                                {
                                    "sorok száma": "551",
                                    "NULL sorok száma": "0",
                                    "legkorábbi datum": "2016-07-01",
                                    "legkesőbbi datum": "2016-12-11",
                                    "időintervalum hónapban": "5"
                                }
                            ]
                        },
                        "text/html": [
                            "<table>",
                            "<tr><th>sorok száma</th><th>NULL sorok száma</th><th>legkorábbi datum</th><th>legkesőbbi datum</th><th>időintervalum hónapban</th></tr>",
                            "<tr><td>551</td><td>0</td><td>2016-07-01</td><td>2016-12-11</td><td>5</td></tr>",
                            "</table>"
                        ]
                    }
                }
            ],
            "execution_count": 88
        }
    ]
}