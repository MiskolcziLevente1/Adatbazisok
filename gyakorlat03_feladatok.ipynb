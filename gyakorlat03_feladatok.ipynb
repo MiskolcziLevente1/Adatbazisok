{
    "metadata": {
        "kernelspec": {
            "name": "SQL",
            "display_name": "SQL",
            "language": "sql"
        },
        "language_info": {
            "name": "sql",
            "version": ""
        },
        "extensions": {
            "azuredatastudio": {
                "version": 1,
                "views": []
            }
        }
    },
    "nbformat_minor": 2,
    "nbformat": 4,
    "cells": [
        {
            "cell_type": "markdown",
            "source": [
                "**Az első 5 feladat ismétlés (többtáblás lekérdezések) a tanulmányi adatbázisból**\n",
                "\n",
                "1. Készítsünk listát arról, hogy melyik óra melyik teremben van!\n",
                "    \n",
                "    1. Jelenítsük meg az óra azonosítóját és a terem nevét!\n",
                "    2. A listát szűrjük a 3 karakter hosszú, \\[100;199\\] zárt intervallumba eső termekre! Feltesszük, hogy a 3 karakter hosszú terem nevek csak számjegyeket tartalmaznak."
            ],
            "metadata": {
                "azdata_cell_guid": "77f2d5b3-38e9-41cc-893f-f5afd02b97ef"
            },
            "attachments": {}
        },
        {
            "cell_type": "code",
            "source": [
                "SELECT o.ora_id, t.Terem\n",
                "FROM Orak o JOIN Termek t ON o.terem = t.Tkód\n",
                "WHERE LEN(t.Terem) = 3 AND t.Terem  BETWEEN 100 AND 199"
            ],
            "metadata": {
                "azdata_cell_guid": "bd3cef1a-4e6e-4ece-9dc3-aaa9d2b5d66d",
                "language": "sql",
                "tags": []
            },
            "outputs": [
                {
                    "output_type": "display_data",
                    "data": {
                        "text/html": "(30 rows affected)"
                    },
                    "metadata": {}
                },
                {
                    "output_type": "display_data",
                    "data": {
                        "text/html": "Total execution time: 00:00:00.069"
                    },
                    "metadata": {}
                },
                {
                    "output_type": "execute_result",
                    "metadata": {},
                    "execution_count": 7,
                    "data": {
                        "application/vnd.dataresource+json": {
                            "schema": {
                                "fields": [
                                    {
                                        "name": "ora_id"
                                    },
                                    {
                                        "name": "Terem"
                                    }
                                ]
                            },
                            "data": [
                                {
                                    "ora_id": "159",
                                    "Terem": "117"
                                },
                                {
                                    "ora_id": "160",
                                    "Terem": "118"
                                },
                                {
                                    "ora_id": "161",
                                    "Terem": "118"
                                },
                                {
                                    "ora_id": "162",
                                    "Terem": "119"
                                },
                                {
                                    "ora_id": "163",
                                    "Terem": "120"
                                },
                                {
                                    "ora_id": "164",
                                    "Terem": "119"
                                },
                                {
                                    "ora_id": "165",
                                    "Terem": "119"
                                },
                                {
                                    "ora_id": "166",
                                    "Terem": "119"
                                },
                                {
                                    "ora_id": "167",
                                    "Terem": "120"
                                },
                                {
                                    "ora_id": "170",
                                    "Terem": "120"
                                },
                                {
                                    "ora_id": "172",
                                    "Terem": "119"
                                },
                                {
                                    "ora_id": "173",
                                    "Terem": "119"
                                },
                                {
                                    "ora_id": "175",
                                    "Terem": "120"
                                },
                                {
                                    "ora_id": "176",
                                    "Terem": "118"
                                },
                                {
                                    "ora_id": "177",
                                    "Terem": "119"
                                },
                                {
                                    "ora_id": "179",
                                    "Terem": "120"
                                },
                                {
                                    "ora_id": "180",
                                    "Terem": "119"
                                },
                                {
                                    "ora_id": "181",
                                    "Terem": "118"
                                },
                                {
                                    "ora_id": "185",
                                    "Terem": "120"
                                },
                                {
                                    "ora_id": "192",
                                    "Terem": "119"
                                },
                                {
                                    "ora_id": "195",
                                    "Terem": "116"
                                },
                                {
                                    "ora_id": "197",
                                    "Terem": "116"
                                },
                                {
                                    "ora_id": "198",
                                    "Terem": "119"
                                },
                                {
                                    "ora_id": "204",
                                    "Terem": "120"
                                },
                                {
                                    "ora_id": "212",
                                    "Terem": "120"
                                },
                                {
                                    "ora_id": "218",
                                    "Terem": "118"
                                },
                                {
                                    "ora_id": "220",
                                    "Terem": "119"
                                },
                                {
                                    "ora_id": "222",
                                    "Terem": "116"
                                },
                                {
                                    "ora_id": "226",
                                    "Terem": "117"
                                },
                                {
                                    "ora_id": "227",
                                    "Terem": "116"
                                }
                            ]
                        },
                        "text/html": [
                            "<table>",
                            "<tr><th>ora_id</th><th>Terem</th></tr>",
                            "<tr><td>159</td><td>117</td></tr>",
                            "<tr><td>160</td><td>118</td></tr>",
                            "<tr><td>161</td><td>118</td></tr>",
                            "<tr><td>162</td><td>119</td></tr>",
                            "<tr><td>163</td><td>120</td></tr>",
                            "<tr><td>164</td><td>119</td></tr>",
                            "<tr><td>165</td><td>119</td></tr>",
                            "<tr><td>166</td><td>119</td></tr>",
                            "<tr><td>167</td><td>120</td></tr>",
                            "<tr><td>170</td><td>120</td></tr>",
                            "<tr><td>172</td><td>119</td></tr>",
                            "<tr><td>173</td><td>119</td></tr>",
                            "<tr><td>175</td><td>120</td></tr>",
                            "<tr><td>176</td><td>118</td></tr>",
                            "<tr><td>177</td><td>119</td></tr>",
                            "<tr><td>179</td><td>120</td></tr>",
                            "<tr><td>180</td><td>119</td></tr>",
                            "<tr><td>181</td><td>118</td></tr>",
                            "<tr><td>185</td><td>120</td></tr>",
                            "<tr><td>192</td><td>119</td></tr>",
                            "<tr><td>195</td><td>116</td></tr>",
                            "<tr><td>197</td><td>116</td></tr>",
                            "<tr><td>198</td><td>119</td></tr>",
                            "<tr><td>204</td><td>120</td></tr>",
                            "<tr><td>212</td><td>120</td></tr>",
                            "<tr><td>218</td><td>118</td></tr>",
                            "<tr><td>220</td><td>119</td></tr>",
                            "<tr><td>222</td><td>116</td></tr>",
                            "<tr><td>226</td><td>117</td></tr>",
                            "<tr><td>227</td><td>116</td></tr>",
                            "</table>"
                        ]
                    }
                }
            ],
            "execution_count": 7
        },
        {
            "cell_type": "markdown",
            "source": [
                "2. <span style=\"font-weight: 600; color: rgb(36, 41, 47); font-family: -apple-system, BlinkMacSystemFont, &quot;Segoe UI&quot;, Helvetica, Arial, sans-serif, &quot;Apple Color Emoji&quot;, &quot;Segoe UI Emoji&quot;; font-size: 16px;\">Hány óra van összesen az egyes napokon?</span>\n",
                "\n",
                "1. Jelenítsük meg a napok nevét és az órák számát az adott napon!\n",
                "2. Az oszlopokat nevezzük el értelemszerűen!\n",
                "3. A listát rendezzük óraszám szerint növekvő sorrendbe!"
            ],
            "metadata": {
                "azdata_cell_guid": "88f5b4bb-f4c1-4bad-a0c7-b2592687b422"
            },
            "attachments": {}
        },
        {
            "cell_type": "code",
            "source": [
                "SELECT n.nap,\n",
                "    COUNT(*)\n",
                "FROM Orak o JOIN Napok n On o.nap = n.nap_id\n",
                "GROUP BY n.nap\n",
                "ORDER BY COUNT(*) ASC"
            ],
            "metadata": {
                "azdata_cell_guid": "e9de5726-f036-4fb9-8c33-a873955ed886",
                "language": "sql"
            },
            "outputs": [
                {
                    "output_type": "display_data",
                    "data": {
                        "text/html": "(5 rows affected)"
                    },
                    "metadata": {}
                },
                {
                    "output_type": "display_data",
                    "data": {
                        "text/html": "Total execution time: 00:00:00.079"
                    },
                    "metadata": {}
                },
                {
                    "output_type": "execute_result",
                    "metadata": {},
                    "execution_count": 15,
                    "data": {
                        "application/vnd.dataresource+json": {
                            "schema": {
                                "fields": [
                                    {
                                        "name": "nap"
                                    },
                                    {
                                        "name": "(No column name)"
                                    }
                                ]
                            },
                            "data": [
                                {
                                    "nap": "Péntek",
                                    "(No column name)": "6"
                                },
                                {
                                    "nap": "Szerda",
                                    "(No column name)": "6"
                                },
                                {
                                    "nap": "Kedd",
                                    "(No column name)": "13"
                                },
                                {
                                    "nap": "Csütörtök",
                                    "(No column name)": "19"
                                },
                                {
                                    "nap": "Hétfő",
                                    "(No column name)": "23"
                                }
                            ]
                        },
                        "text/html": [
                            "<table>",
                            "<tr><th>nap</th><th>(No column name)</th></tr>",
                            "<tr><td>Péntek</td><td>6</td></tr>",
                            "<tr><td>Szerda</td><td>6</td></tr>",
                            "<tr><td>Kedd</td><td>13</td></tr>",
                            "<tr><td>Csütörtök</td><td>19</td></tr>",
                            "<tr><td>Hétfő</td><td>23</td></tr>",
                            "</table>"
                        ]
                    }
                }
            ],
            "execution_count": 15
        },
        {
            "cell_type": "markdown",
            "source": [
                "3. <span style=\"font-weight: 600; color: rgb(36, 41, 47); font-family: -apple-system, BlinkMacSystemFont, &quot;Segoe UI&quot;, Helvetica, Arial, sans-serif, &quot;Apple Color Emoji&quot;, &quot;Segoe UI Emoji&quot;; font-size: 16px;\">Készítsünk listát arról, hogy melyik oktatónak hány órája van az Órák táblában!</span>\n",
                "\n",
                "1. A lista jelenítse meg az oktatók nevét, és az órák számát!\n",
                "2. Az oszlopokat nevezzük el értelemszerűen!\n",
                "3. A listából hagyjuk ki az óraadókat!"
            ],
            "metadata": {
                "azdata_cell_guid": "9e7249de-1b59-43d8-84b1-26fa7d81fc5a"
            },
            "attachments": {}
        },
        {
            "cell_type": "code",
            "source": [
                "SELECT okt.nev, COUNT(*) AS 'orak szama'\n",
                "FROM Orak o JOIN Oktatok okt ON o.tanar= okt.oktato_id\n",
                "        JOIN Beosztasok b ON b.beosztas_id= okt.beosztás\n",
                "WHERE b.beosztasnev <> 'Óraadó'\n",
                "GROUP BY okt.nev"
            ],
            "metadata": {
                "azdata_cell_guid": "6405d3e8-a9b1-45d7-aa76-3b1e785ef6cc",
                "language": "sql",
                "tags": []
            },
            "outputs": [
                {
                    "output_type": "display_data",
                    "data": {
                        "text/html": "(15 rows affected)"
                    },
                    "metadata": {}
                },
                {
                    "output_type": "display_data",
                    "data": {
                        "text/html": "Total execution time: 00:00:00.079"
                    },
                    "metadata": {}
                },
                {
                    "output_type": "execute_result",
                    "metadata": {},
                    "execution_count": 19,
                    "data": {
                        "application/vnd.dataresource+json": {
                            "schema": {
                                "fields": [
                                    {
                                        "name": "nev"
                                    },
                                    {
                                        "name": "orak szama"
                                    }
                                ]
                            },
                            "data": [
                                {
                                    "nev": "Balkán András",
                                    "orak szama": "3"
                                },
                                {
                                    "nev": "Farkasos Piroska",
                                    "orak szama": "7"
                                },
                                {
                                    "nev": "Jogrerős Pál",
                                    "orak szama": "2"
                                },
                                {
                                    "nev": "Juhász András",
                                    "orak szama": "2"
                                },
                                {
                                    "nev": "Kiss János",
                                    "orak szama": "4"
                                },
                                {
                                    "nev": "Kovács László",
                                    "orak szama": "4"
                                },
                                {
                                    "nev": "Pelikán József",
                                    "orak szama": "6"
                                },
                                {
                                    "nev": "Róbert Gida",
                                    "orak szama": "1"
                                },
                                {
                                    "nev": "Szénási ászló",
                                    "orak szama": "2"
                                },
                                {
                                    "nev": "Szentágotai Istvás",
                                    "orak szama": "8"
                                },
                                {
                                    "nev": "Szép llonka",
                                    "orak szama": "4"
                                },
                                {
                                    "nev": "Szerb László",
                                    "orak szama": "3"
                                },
                                {
                                    "nev": "Ujfalussi István",
                                    "orak szama": "3"
                                },
                                {
                                    "nev": "Varga Kata",
                                    "orak szama": "4"
                                },
                                {
                                    "nev": "Vitéz János",
                                    "orak szama": "4"
                                }
                            ]
                        },
                        "text/html": [
                            "<table>",
                            "<tr><th>nev</th><th>orak szama</th></tr>",
                            "<tr><td>Balkán András</td><td>3</td></tr>",
                            "<tr><td>Farkasos Piroska</td><td>7</td></tr>",
                            "<tr><td>Jogrerős Pál</td><td>2</td></tr>",
                            "<tr><td>Juhász András</td><td>2</td></tr>",
                            "<tr><td>Kiss János</td><td>4</td></tr>",
                            "<tr><td>Kovács László</td><td>4</td></tr>",
                            "<tr><td>Pelikán József</td><td>6</td></tr>",
                            "<tr><td>Róbert Gida</td><td>1</td></tr>",
                            "<tr><td>Szénási ászló</td><td>2</td></tr>",
                            "<tr><td>Szentágotai Istvás</td><td>8</td></tr>",
                            "<tr><td>Szép llonka</td><td>4</td></tr>",
                            "<tr><td>Szerb László</td><td>3</td></tr>",
                            "<tr><td>Ujfalussi István</td><td>3</td></tr>",
                            "<tr><td>Varga Kata</td><td>4</td></tr>",
                            "<tr><td>Vitéz János</td><td>4</td></tr>",
                            "</table>"
                        ]
                    }
                }
            ],
            "execution_count": 19
        },
        {
            "cell_type": "markdown",
            "source": [
                "4. <span style=\"color: rgb(36, 41, 47); font-family: -apple-system, BlinkMacSystemFont, &quot;Segoe UI&quot;, Helvetica, Arial, sans-serif, &quot;Apple Color Emoji&quot;, &quot;Segoe UI Emoji&quot;; font-size: 16px;\">Van-e olyan tantárgy, amelyből nincs óra?</span>\n",
                "\n",
                "1. Jelentsük meg a tantárgy nevét és a tantárgyfelelős nevét!"
            ],
            "metadata": {
                "azdata_cell_guid": "6478e469-c094-472c-a772-ccd5b5c61516"
            },
            "attachments": {}
        },
        {
            "cell_type": "code",
            "source": [
                "SELECT t.Tantárgynév,\n",
                "    okt.nev\n",
                "FROM Tantárgyak t LEFT JOIN Orak o ON t.Tkód = o.targy\n",
                "    JOIN Oktatok okt ON okt.oktato_id = t.Tantárgyfelelős\n",
                "WHERE o.targy IS NUll\n",
                ""
            ],
            "metadata": {
                "azdata_cell_guid": "02031ea2-3838-458d-839c-228e3b362b61",
                "language": "sql"
            },
            "outputs": [
                {
                    "output_type": "display_data",
                    "data": {
                        "text/html": "(1 row affected)"
                    },
                    "metadata": {}
                },
                {
                    "output_type": "display_data",
                    "data": {
                        "text/html": "Total execution time: 00:00:00.061"
                    },
                    "metadata": {}
                },
                {
                    "output_type": "execute_result",
                    "metadata": {},
                    "execution_count": 40,
                    "data": {
                        "application/vnd.dataresource+json": {
                            "schema": {
                                "fields": [
                                    {
                                        "name": "Tantárgynév"
                                    },
                                    {
                                        "name": "nev"
                                    }
                                ]
                            },
                            "data": [
                                {
                                    "Tantárgynév": "Folyami gáttan",
                                    "nev": "Varga Kata"
                                }
                            ]
                        },
                        "text/html": [
                            "<table>",
                            "<tr><th>Tantárgynév</th><th>nev</th></tr>",
                            "<tr><td>Folyami gáttan</td><td>Varga Kata</td></tr>",
                            "</table>"
                        ]
                    }
                }
            ],
            "execution_count": 40
        },
        {
            "cell_type": "markdown",
            "source": [
                "5. <span style=\"background-color: rgb(255, 255, 255); color: rgb(36, 41, 47); font-family: -apple-system, BlinkMacSystemFont, &quot;Segoe UI&quot;, Helvetica, Arial, sans-serif, &quot;Apple Color Emoji&quot;, &quot;Segoe UI Emoji&quot;; font-size: 16px;\">Hány óra van összesen a 120-as teremben?</span>"
            ],
            "metadata": {
                "azdata_cell_guid": "9edbbaf9-c276-4898-9a01-e1b2993c089f"
            },
            "attachments": {}
        },
        {
            "cell_type": "code",
            "source": [
                "SELECT COUNT(t.terem) AS '120 terem orainak szama'\n",
                "FROM Orak o JOIN Termek t ON o.terem = t.Tkód\n",
                "WHERE t.Terem = '120'"
            ],
            "metadata": {
                "azdata_cell_guid": "5ad5fdcb-2878-4111-861a-833bcd50e935",
                "language": "sql"
            },
            "outputs": [
                {
                    "output_type": "display_data",
                    "data": {
                        "text/html": "(1 row affected)"
                    },
                    "metadata": {}
                },
                {
                    "output_type": "display_data",
                    "data": {
                        "text/html": "Total execution time: 00:00:00.099"
                    },
                    "metadata": {}
                },
                {
                    "output_type": "execute_result",
                    "metadata": {},
                    "execution_count": 44,
                    "data": {
                        "application/vnd.dataresource+json": {
                            "schema": {
                                "fields": [
                                    {
                                        "name": "120 terem orainak szama"
                                    }
                                ]
                            },
                            "data": [
                                {
                                    "120 terem orainak szama": "8"
                                }
                            ]
                        },
                        "text/html": [
                            "<table>",
                            "<tr><th>120 terem orainak szama</th></tr>",
                            "<tr><td>8</td></tr>",
                            "</table>"
                        ]
                    }
                }
            ],
            "execution_count": 44
        },
        {
            "cell_type": "markdown",
            "source": [
                "**A 6-10 feladatokat halmazműveletek segítségével oldjuk meg, szintén a tanulmányi adatbázison**\n",
                "\n",
                "6. <span style=\"background-color:rgb(255, 255, 255);color:rgb(36, 41, 47);font-family:-apple-system, BlinkMacSystemFont, &quot;Segoe UI&quot;, Helvetica, Arial, sans-serif, &quot;Apple Color Emoji&quot;, &quot;Segoe UI Emoji&quot;;font-size:16px;font-weight:600;\">Jelenítsük meg azon tanárok azonosítóját és nevét, akik hétfői vagy keddi napokon tanítanak!</span>"
            ],
            "metadata": {
                "azdata_cell_guid": "5fe65c1c-2479-45ac-ad03-ec99d12eae21"
            },
            "attachments": {}
        },
        {
            "cell_type": "code",
            "source": [
                "SELECT okt.oktato_id AS 'oktato azonositoja',\n",
                "       okt.nev\n",
                "FROM Oktatok okt JOIN Orak o ON okt.oktato_id = o.tanar\n",
                "    JOIN Napok n ON n.nap_id = o.nap\n",
                "WHERE n.nap = 'Hétfő'\n",
                "\n",
                "UNION\n",
                "\n",
                "SELECT okt.oktato_id AS 'oktato azonositoja',\n",
                "       okt.nev\n",
                "FROM Oktatok okt JOIN Orak o ON okt.oktato_id = o.tanar\n",
                "    JOIN Napok n ON n.nap_id = o.nap\n",
                "WHERE n.nap = 'Kedd'\n",
                ""
            ],
            "metadata": {
                "azdata_cell_guid": "924f2dde-f1c2-4def-a7f9-dbf4bace7735",
                "language": "sql"
            },
            "outputs": [
                {
                    "output_type": "display_data",
                    "data": {
                        "text/html": "(17 rows affected)"
                    },
                    "metadata": {}
                },
                {
                    "output_type": "display_data",
                    "data": {
                        "text/html": "Total execution time: 00:00:00.075"
                    },
                    "metadata": {}
                },
                {
                    "output_type": "execute_result",
                    "metadata": {},
                    "execution_count": 55,
                    "data": {
                        "application/vnd.dataresource+json": {
                            "schema": {
                                "fields": [
                                    {
                                        "name": "oktato azonositoja"
                                    },
                                    {
                                        "name": "nev"
                                    }
                                ]
                            },
                            "data": [
                                {
                                    "oktato azonositoja": "1",
                                    "nev": "Kovács László"
                                },
                                {
                                    "oktato azonositoja": "2",
                                    "nev": "Szentágotai Istvás"
                                },
                                {
                                    "oktato azonositoja": "3",
                                    "nev": "Szerb László"
                                },
                                {
                                    "oktato azonositoja": "4",
                                    "nev": "Ujfalussi István"
                                },
                                {
                                    "oktato azonositoja": "5",
                                    "nev": "Balkán András"
                                },
                                {
                                    "oktato azonositoja": "6",
                                    "nev": "Szép llonka"
                                },
                                {
                                    "oktato azonositoja": "7",
                                    "nev": "Kiss János"
                                },
                                {
                                    "oktato azonositoja": "8",
                                    "nev": "Pelikán József"
                                },
                                {
                                    "oktato azonositoja": "9",
                                    "nev": "Farkasos Piroska"
                                },
                                {
                                    "oktato azonositoja": "10",
                                    "nev": "Jogrerős Pál"
                                },
                                {
                                    "oktato azonositoja": "12",
                                    "nev": "Varga Kata"
                                },
                                {
                                    "oktato azonositoja": "14",
                                    "nev": "Szénási ászló"
                                },
                                {
                                    "oktato azonositoja": "18",
                                    "nev": "Nógrádi Kata"
                                },
                                {
                                    "oktato azonositoja": "20",
                                    "nev": "Kovács András"
                                },
                                {
                                    "oktato azonositoja": "104",
                                    "nev": "Ludas Mátyás"
                                },
                                {
                                    "oktato azonositoja": "108",
                                    "nev": "Róbert Gida"
                                },
                                {
                                    "oktato azonositoja": "200",
                                    "nev": "Aranyi Mária"
                                }
                            ]
                        },
                        "text/html": [
                            "<table>",
                            "<tr><th>oktato azonositoja</th><th>nev</th></tr>",
                            "<tr><td>1</td><td>Kovács László</td></tr>",
                            "<tr><td>2</td><td>Szentágotai Istvás</td></tr>",
                            "<tr><td>3</td><td>Szerb László</td></tr>",
                            "<tr><td>4</td><td>Ujfalussi István</td></tr>",
                            "<tr><td>5</td><td>Balkán András</td></tr>",
                            "<tr><td>6</td><td>Szép llonka</td></tr>",
                            "<tr><td>7</td><td>Kiss János</td></tr>",
                            "<tr><td>8</td><td>Pelikán József</td></tr>",
                            "<tr><td>9</td><td>Farkasos Piroska</td></tr>",
                            "<tr><td>10</td><td>Jogrerős Pál</td></tr>",
                            "<tr><td>12</td><td>Varga Kata</td></tr>",
                            "<tr><td>14</td><td>Szénási ászló</td></tr>",
                            "<tr><td>18</td><td>Nógrádi Kata</td></tr>",
                            "<tr><td>20</td><td>Kovács András</td></tr>",
                            "<tr><td>104</td><td>Ludas Mátyás</td></tr>",
                            "<tr><td>108</td><td>Róbert Gida</td></tr>",
                            "<tr><td>200</td><td>Aranyi Mária</td></tr>",
                            "</table>"
                        ]
                    }
                }
            ],
            "execution_count": 55
        },
        {
            "cell_type": "markdown",
            "source": [
                "7. <span style=\"background-color: rgb(255, 255, 255); color: rgb(36, 41, 47); font-family: -apple-system, BlinkMacSystemFont, &quot;Segoe UI&quot;, Helvetica, Arial, sans-serif, &quot;Apple Color Emoji&quot;, &quot;Segoe UI Emoji&quot;; font-size: 16px; font-weight: 600;\">Melyek azok a tantárgyak, amelyek esetén van óra a 8.00-kor kezdődő sávban, de nincs a 12.30-kor kezdődő sávban?</span>"
            ],
            "metadata": {
                "azdata_cell_guid": "3aeb6bf5-b111-40d5-92b2-9712ce335696"
            },
            "attachments": {}
        },
        {
            "cell_type": "code",
            "source": [
                "SELECT t.Tkód,t.Tantárgynév\n",
                "FROM Tantárgyak t JOIN Orak o ON t.Tkód = o.targy\n",
                "    JOIN Savok s ON s.Sav_id = o.Sav\n",
                "WHERE s.Időpont = '8.00'\n",
                "\n",
                "EXCEPT\n",
                "\n",
                "SELECT t.Tkód,t.Tantárgynév\n",
                "FROM Tantárgyak t JOIN Orak o ON t.Tkód = o.targy\n",
                "    JOIN Savok s ON s.Sav_id = o.Sav\n",
                "WHERE s.Időpont = '12.30'"
            ],
            "metadata": {
                "azdata_cell_guid": "3e89b651-f56f-4102-af52-30eb2bbe360d",
                "language": "sql",
                "tags": []
            },
            "outputs": [
                {
                    "output_type": "display_data",
                    "data": {
                        "text/html": "(3 rows affected)"
                    },
                    "metadata": {}
                },
                {
                    "output_type": "display_data",
                    "data": {
                        "text/html": "Total execution time: 00:00:00.091"
                    },
                    "metadata": {}
                },
                {
                    "output_type": "execute_result",
                    "metadata": {},
                    "execution_count": 63,
                    "data": {
                        "application/vnd.dataresource+json": {
                            "schema": {
                                "fields": [
                                    {
                                        "name": "Tkód"
                                    },
                                    {
                                        "name": "Tantárgynév"
                                    }
                                ]
                            },
                            "data": [
                                {
                                    "Tkód": "5",
                                    "Tantárgynév": "Az ürgeöntés hydrológiai alapjai II."
                                },
                                {
                                    "Tkód": "10",
                                    "Tantárgynév": "Fejezetek az ürgék jogaiból"
                                },
                                {
                                    "Tkód": "13",
                                    "Tantárgynév": "Ürgevitel"
                                }
                            ]
                        },
                        "text/html": [
                            "<table>",
                            "<tr><th>Tkód</th><th>Tantárgynév</th></tr>",
                            "<tr><td>5</td><td>Az ürgeöntés hydrológiai alapjai II.</td></tr>",
                            "<tr><td>10</td><td>Fejezetek az ürgék jogaiból</td></tr>",
                            "<tr><td>13</td><td>Ürgevitel</td></tr>",
                            "</table>"
                        ]
                    }
                }
            ],
            "execution_count": 63
        },
        {
            "cell_type": "markdown",
            "source": [
                "8. <span style=\"background-color: rgb(255, 255, 255); color: rgb(36, 41, 47); font-family: -apple-system, BlinkMacSystemFont, &quot;Segoe UI&quot;, Helvetica, Arial, sans-serif, &quot;Apple Color Emoji&quot;, &quot;Segoe UI Emoji&quot;; font-size: 16px; font-weight: 600;\">Listázzuk azokat a termeket, amelyekben oktat Kovács László és van olyan tanóra a teremben, ahol a tantárgy nevében nem szerepel az 'ürge' szó!</span>"
            ],
            "metadata": {
                "azdata_cell_guid": "26a504dc-ff6a-439f-94c0-4580eca3eacf"
            },
            "attachments": {}
        },
        {
            "cell_type": "code",
            "source": [
                "SELECT t.Terem\n",
                "FROM Oktatok okt JOIN Orak o ON o.tanar = okt.oktato_id\n",
                "    JOIN Termek t ON o.terem = t.Tkód\n",
                "WHERE okt.nev = 'Kovács László'\n",
                "\n",
                "INTERSECT\n",
                "\n",
                "SELECT t.Terem\n",
                "FROM Oktatok okt JOIN Orak o ON o.tanar = okt.oktato_id\n",
                "    JOIN Termek t ON o.terem = t.Tkód \n",
                "    JOIN Tantárgyak tar ON tar.Tkód = o.targy\n",
                "WHERE tar.Tantárgynév LIKE '%ürge%'"
            ],
            "metadata": {
                "azdata_cell_guid": "1cbb8aeb-78b5-4350-aa45-e3202fdab85b",
                "language": "sql"
            },
            "outputs": [
                {
                    "output_type": "display_data",
                    "data": {
                        "text/html": "(4 rows affected)"
                    },
                    "metadata": {}
                },
                {
                    "output_type": "display_data",
                    "data": {
                        "text/html": "Total execution time: 00:00:00.090"
                    },
                    "metadata": {}
                },
                {
                    "output_type": "execute_result",
                    "metadata": {},
                    "execution_count": 67,
                    "data": {
                        "application/vnd.dataresource+json": {
                            "schema": {
                                "fields": [
                                    {
                                        "name": "Terem"
                                    }
                                ]
                            },
                            "data": [
                                {
                                    "Terem": "116"
                                },
                                {
                                    "Terem": "119"
                                },
                                {
                                    "Terem": "S.Asor.S3"
                                },
                                {
                                    "Terem": "VP 203."
                                }
                            ]
                        },
                        "text/html": [
                            "<table>",
                            "<tr><th>Terem</th></tr>",
                            "<tr><td>116</td></tr>",
                            "<tr><td>119</td></tr>",
                            "<tr><td>S.Asor.S3</td></tr>",
                            "<tr><td>VP 203.</td></tr>",
                            "</table>"
                        ]
                    }
                }
            ],
            "execution_count": 67
        },
        {
            "cell_type": "markdown",
            "source": [
                "9. <span style=\"font-weight: 600; color: rgb(36, 41, 47); font-family: -apple-system, BlinkMacSystemFont, &quot;Segoe UI&quot;, Helvetica, Arial, sans-serif, &quot;Apple Color Emoji&quot;, &quot;Segoe UI Emoji&quot;; font-size: 16px;\">Készítsünk listát arról, hogy melyik tanárnak hány órája van a (munka) hét elején (hétfőn), hét közben (kedd, szerda és csütörtök), illetve a hét végén (péntek)!</span>\n",
                "\n",
                "1. Jelenítsük meg a tanár azonosítóját, nevét, az időszakot (hét eleje - hét közben - hét vége), valamint az óraszámot!\n",
                "2. A három megjelölt időszakot külön kérdezzük le, majd fűzzük össze a lekérdezések eredményeit!\n",
                "3. Rendezzük a listát az oktató neve, azon belül időszak szerint!"
            ],
            "metadata": {
                "azdata_cell_guid": "435e2860-2dd5-4877-90f4-34a43baeb53c"
            },
            "attachments": {}
        },
        {
            "cell_type": "code",
            "source": [
                "SELECT okt.oktato_id,\n",
                "       okt.nev,\n",
                "       CASE\n",
                "            WHEN n.nap = 'Hétfő' THEN 'hét eleje'\n",
                "            WHEN n.nap = 'Péntek' THEN 'hét vége'\n",
                "            ELSE 'hét közben'\n",
                "       END AS 'IDOSZAK',\n",
                "       COUNT(*) AS 'Orak szama'\n",
                "\n",
                "FROM Orak o JOIN Oktatok okt ON o.tanar = okt.oktato_id\n",
                "    JOIN Napok n On o.nap = n.nap_id\n",
                "GROUP BY okt.oktato_id,\n",
                "       okt.nev,\n",
                "        CASE\n",
                "            WHEN n.nap = 'Hétfő' THEN 'hét eleje'\n",
                "            WHEN n.nap = 'Péntek' THEN 'hét vége'\n",
                "            ELSE 'hét közben'\n",
                "       END \n",
                "ORDER BY okt.oktato_id,okt.nev,'IDOSZAK'\n",
                ""
            ],
            "metadata": {
                "azdata_cell_guid": "ce846351-ddbe-4d8e-b8fb-2a92c73ac80b",
                "language": "sql"
            },
            "outputs": [
                {
                    "output_type": "display_data",
                    "data": {
                        "text/html": "(33 rows affected)"
                    },
                    "metadata": {}
                },
                {
                    "output_type": "display_data",
                    "data": {
                        "text/html": "Total execution time: 00:00:00.071"
                    },
                    "metadata": {}
                },
                {
                    "output_type": "execute_result",
                    "metadata": {},
                    "execution_count": 77,
                    "data": {
                        "application/vnd.dataresource+json": {
                            "schema": {
                                "fields": [
                                    {
                                        "name": "oktato_id"
                                    },
                                    {
                                        "name": "nev"
                                    },
                                    {
                                        "name": "IDOSZAK"
                                    },
                                    {
                                        "name": "Orak szama"
                                    }
                                ]
                            },
                            "data": [
                                {
                                    "oktato_id": "1",
                                    "nev": "Kovács László",
                                    "IDOSZAK": "hét közben",
                                    "Orak szama": "3"
                                },
                                {
                                    "oktato_id": "1",
                                    "nev": "Kovács László",
                                    "IDOSZAK": "hét vége",
                                    "Orak szama": "1"
                                },
                                {
                                    "oktato_id": "2",
                                    "nev": "Szentágotai Istvás",
                                    "IDOSZAK": "hét eleje",
                                    "Orak szama": "1"
                                },
                                {
                                    "oktato_id": "2",
                                    "nev": "Szentágotai Istvás",
                                    "IDOSZAK": "hét közben",
                                    "Orak szama": "5"
                                },
                                {
                                    "oktato_id": "2",
                                    "nev": "Szentágotai Istvás",
                                    "IDOSZAK": "hét vége",
                                    "Orak szama": "2"
                                },
                                {
                                    "oktato_id": "3",
                                    "nev": "Szerb László",
                                    "IDOSZAK": "hét közben",
                                    "Orak szama": "3"
                                },
                                {
                                    "oktato_id": "4",
                                    "nev": "Ujfalussi István",
                                    "IDOSZAK": "hét eleje",
                                    "Orak szama": "1"
                                },
                                {
                                    "oktato_id": "4",
                                    "nev": "Ujfalussi István",
                                    "IDOSZAK": "hét közben",
                                    "Orak szama": "2"
                                },
                                {
                                    "oktato_id": "5",
                                    "nev": "Balkán András",
                                    "IDOSZAK": "hét eleje",
                                    "Orak szama": "2"
                                },
                                {
                                    "oktato_id": "5",
                                    "nev": "Balkán András",
                                    "IDOSZAK": "hét közben",
                                    "Orak szama": "1"
                                },
                                {
                                    "oktato_id": "6",
                                    "nev": "Szép llonka",
                                    "IDOSZAK": "hét eleje",
                                    "Orak szama": "4"
                                },
                                {
                                    "oktato_id": "7",
                                    "nev": "Kiss János",
                                    "IDOSZAK": "hét eleje",
                                    "Orak szama": "2"
                                },
                                {
                                    "oktato_id": "7",
                                    "nev": "Kiss János",
                                    "IDOSZAK": "hét közben",
                                    "Orak szama": "2"
                                },
                                {
                                    "oktato_id": "8",
                                    "nev": "Pelikán József",
                                    "IDOSZAK": "hét eleje",
                                    "Orak szama": "3"
                                },
                                {
                                    "oktato_id": "8",
                                    "nev": "Pelikán József",
                                    "IDOSZAK": "hét közben",
                                    "Orak szama": "3"
                                },
                                {
                                    "oktato_id": "9",
                                    "nev": "Farkasos Piroska",
                                    "IDOSZAK": "hét eleje",
                                    "Orak szama": "2"
                                },
                                {
                                    "oktato_id": "9",
                                    "nev": "Farkasos Piroska",
                                    "IDOSZAK": "hét közben",
                                    "Orak szama": "4"
                                },
                                {
                                    "oktato_id": "9",
                                    "nev": "Farkasos Piroska",
                                    "IDOSZAK": "hét vége",
                                    "Orak szama": "1"
                                },
                                {
                                    "oktato_id": "10",
                                    "nev": "Jogrerős Pál",
                                    "IDOSZAK": "hét eleje",
                                    "Orak szama": "2"
                                },
                                {
                                    "oktato_id": "12",
                                    "nev": "Varga Kata",
                                    "IDOSZAK": "hét eleje",
                                    "Orak szama": "2"
                                },
                                {
                                    "oktato_id": "12",
                                    "nev": "Varga Kata",
                                    "IDOSZAK": "hét közben",
                                    "Orak szama": "2"
                                },
                                {
                                    "oktato_id": "14",
                                    "nev": "Szénási ászló",
                                    "IDOSZAK": "hét közben",
                                    "Orak szama": "2"
                                },
                                {
                                    "oktato_id": "18",
                                    "nev": "Nógrádi Kata",
                                    "IDOSZAK": "hét közben",
                                    "Orak szama": "1"
                                },
                                {
                                    "oktato_id": "20",
                                    "nev": "Kovács András",
                                    "IDOSZAK": "hét eleje",
                                    "Orak szama": "2"
                                },
                                {
                                    "oktato_id": "20",
                                    "nev": "Kovács András",
                                    "IDOSZAK": "hét közben",
                                    "Orak szama": "2"
                                },
                                {
                                    "oktato_id": "104",
                                    "nev": "Ludas Mátyás",
                                    "IDOSZAK": "hét eleje",
                                    "Orak szama": "1"
                                },
                                {
                                    "oktato_id": "104",
                                    "nev": "Ludas Mátyás",
                                    "IDOSZAK": "hét közben",
                                    "Orak szama": "1"
                                },
                                {
                                    "oktato_id": "108",
                                    "nev": "Róbert Gida",
                                    "IDOSZAK": "hét közben",
                                    "Orak szama": "1"
                                },
                                {
                                    "oktato_id": "111",
                                    "nev": "Vitéz János",
                                    "IDOSZAK": "hét közben",
                                    "Orak szama": "2"
                                },
                                {
                                    "oktato_id": "111",
                                    "nev": "Vitéz János",
                                    "IDOSZAK": "hét vége",
                                    "Orak szama": "2"
                                },
                                {
                                    "oktato_id": "200",
                                    "nev": "Aranyi Mária",
                                    "IDOSZAK": "hét eleje",
                                    "Orak szama": "1"
                                },
                                {
                                    "oktato_id": "300",
                                    "nev": "Szabó Andrera",
                                    "IDOSZAK": "hét közben",
                                    "Orak szama": "2"
                                },
                                {
                                    "oktato_id": "301",
                                    "nev": "Juhász András",
                                    "IDOSZAK": "hét közben",
                                    "Orak szama": "2"
                                }
                            ]
                        },
                        "text/html": [
                            "<table>",
                            "<tr><th>oktato_id</th><th>nev</th><th>IDOSZAK</th><th>Orak szama</th></tr>",
                            "<tr><td>1</td><td>Kovács László</td><td>hét közben</td><td>3</td></tr>",
                            "<tr><td>1</td><td>Kovács László</td><td>hét vége</td><td>1</td></tr>",
                            "<tr><td>2</td><td>Szentágotai Istvás</td><td>hét eleje</td><td>1</td></tr>",
                            "<tr><td>2</td><td>Szentágotai Istvás</td><td>hét közben</td><td>5</td></tr>",
                            "<tr><td>2</td><td>Szentágotai Istvás</td><td>hét vége</td><td>2</td></tr>",
                            "<tr><td>3</td><td>Szerb László</td><td>hét közben</td><td>3</td></tr>",
                            "<tr><td>4</td><td>Ujfalussi István</td><td>hét eleje</td><td>1</td></tr>",
                            "<tr><td>4</td><td>Ujfalussi István</td><td>hét közben</td><td>2</td></tr>",
                            "<tr><td>5</td><td>Balkán András</td><td>hét eleje</td><td>2</td></tr>",
                            "<tr><td>5</td><td>Balkán András</td><td>hét közben</td><td>1</td></tr>",
                            "<tr><td>6</td><td>Szép llonka</td><td>hét eleje</td><td>4</td></tr>",
                            "<tr><td>7</td><td>Kiss János</td><td>hét eleje</td><td>2</td></tr>",
                            "<tr><td>7</td><td>Kiss János</td><td>hét közben</td><td>2</td></tr>",
                            "<tr><td>8</td><td>Pelikán József</td><td>hét eleje</td><td>3</td></tr>",
                            "<tr><td>8</td><td>Pelikán József</td><td>hét közben</td><td>3</td></tr>",
                            "<tr><td>9</td><td>Farkasos Piroska</td><td>hét eleje</td><td>2</td></tr>",
                            "<tr><td>9</td><td>Farkasos Piroska</td><td>hét közben</td><td>4</td></tr>",
                            "<tr><td>9</td><td>Farkasos Piroska</td><td>hét vége</td><td>1</td></tr>",
                            "<tr><td>10</td><td>Jogrerős Pál</td><td>hét eleje</td><td>2</td></tr>",
                            "<tr><td>12</td><td>Varga Kata</td><td>hét eleje</td><td>2</td></tr>",
                            "<tr><td>12</td><td>Varga Kata</td><td>hét közben</td><td>2</td></tr>",
                            "<tr><td>14</td><td>Szénási ászló</td><td>hét közben</td><td>2</td></tr>",
                            "<tr><td>18</td><td>Nógrádi Kata</td><td>hét közben</td><td>1</td></tr>",
                            "<tr><td>20</td><td>Kovács András</td><td>hét eleje</td><td>2</td></tr>",
                            "<tr><td>20</td><td>Kovács András</td><td>hét közben</td><td>2</td></tr>",
                            "<tr><td>104</td><td>Ludas Mátyás</td><td>hét eleje</td><td>1</td></tr>",
                            "<tr><td>104</td><td>Ludas Mátyás</td><td>hét közben</td><td>1</td></tr>",
                            "<tr><td>108</td><td>Róbert Gida</td><td>hét közben</td><td>1</td></tr>",
                            "<tr><td>111</td><td>Vitéz János</td><td>hét közben</td><td>2</td></tr>",
                            "<tr><td>111</td><td>Vitéz János</td><td>hét vége</td><td>2</td></tr>",
                            "<tr><td>200</td><td>Aranyi Mária</td><td>hét eleje</td><td>1</td></tr>",
                            "<tr><td>300</td><td>Szabó Andrera</td><td>hét közben</td><td>2</td></tr>",
                            "<tr><td>301</td><td>Juhász András</td><td>hét közben</td><td>2</td></tr>",
                            "</table>"
                        ]
                    }
                }
            ],
            "execution_count": 77
        },
        {
            "cell_type": "markdown",
            "source": [
                "10. <span style=\"background-color: rgb(255, 255, 255); color: rgb(36, 41, 47); font-family: -apple-system, BlinkMacSystemFont, &quot;Segoe UI&quot;, Helvetica, Arial, sans-serif, &quot;Apple Color Emoji&quot;, &quot;Segoe UI Emoji&quot;; font-size: 16px; font-weight: 600;\">Melyik napokon nincs órája Pelikán Józsefnek?</span>"
            ],
            "metadata": {
                "azdata_cell_guid": "217c5772-afe2-4a7c-b913-e3a3e09d6411"
            },
            "attachments": {}
        },
        {
            "cell_type": "code",
            "source": [
                "SELECT nap \n",
                "FROM Napok\n",
                "\n",
                "EXCEPT\n",
                "\n",
                "SELECT n.nap\n",
                "FROM Oktatok okt JOIN Orak o ON o.tanar = okt.oktato_id\n",
                "    JOIN Napok n ON n.nap_id = o.nap\n",
                "WHERE okt.nev = 'Pelikán József'\n",
                "\n",
                ""
            ],
            "metadata": {
                "azdata_cell_guid": "a9cc0926-3dbd-4ed8-8179-1c39d64a0762",
                "language": "sql",
                "tags": []
            },
            "outputs": [
                {
                    "output_type": "display_data",
                    "data": {
                        "text/html": "(3 rows affected)"
                    },
                    "metadata": {}
                },
                {
                    "output_type": "display_data",
                    "data": {
                        "text/html": "Total execution time: 00:00:00.082"
                    },
                    "metadata": {}
                },
                {
                    "output_type": "execute_result",
                    "metadata": {},
                    "execution_count": 84,
                    "data": {
                        "application/vnd.dataresource+json": {
                            "schema": {
                                "fields": [
                                    {
                                        "name": "nap"
                                    }
                                ]
                            },
                            "data": [
                                {
                                    "nap": "Csütörtök"
                                },
                                {
                                    "nap": "Péntek"
                                },
                                {
                                    "nap": "Szerda"
                                }
                            ]
                        },
                        "text/html": [
                            "<table>",
                            "<tr><th>nap</th></tr>",
                            "<tr><td>Csütörtök</td></tr>",
                            "<tr><td>Péntek</td></tr>",
                            "<tr><td>Szerda</td></tr>",
                            "</table>"
                        ]
                    }
                }
            ],
            "execution_count": 84
        },
        {
            "cell_type": "markdown",
            "source": [
                "**A 11-15 feladatok gyakorlásra szolgálnak a közelgő zh-ra :-)**\n",
                "\n",
                "11. _Készítsünk listát az oktatók adatairól!_\n",
                "\n",
                "1. Az oktatók titulusa és neve összefűzve jelenjen meg, közöttük szóközzel!\n",
                "2. Ha valakinek nincs titulusa, akkor csak a neve jelenjen meg, szóköz nélkül!\n",
                "3. A listát rendezzük a beosztás kódja, azon belül a státusz kódja szerint növekvő sorrendbe!\n",
                "4. Az oszlopokat nevezzük el értelemszerűen!"
            ],
            "metadata": {
                "azdata_cell_guid": "d2340f5f-1614-473c-b937-85740d67f7c1"
            },
            "attachments": {}
        },
        {
            "cell_type": "code",
            "source": [
                "SELECT \n",
                "    CASE \n",
                "        WHEN titulus IS NULL THEN LEFT(nev,CHARINDEX(' ',nev)-1) + RIGHT(nev, LEN(nev)- CHARINDEX(' ',nev))\n",
                "        ELSE nev + ' ' +  titulus \n",
                "    END AS 'NEV',\n",
                "    beosztás AS 'BEOSZTAS AZONOSITO',\n",
                "    status AS 'STATUS AZONOSITO'\n",
                "FROM Oktatok\n",
                "ORDER BY 2,3 ASC"
            ],
            "metadata": {
                "azdata_cell_guid": "e99c2c53-898f-4787-b0e6-182d106dc16f",
                "language": "sql"
            },
            "outputs": [
                {
                    "output_type": "display_data",
                    "data": {
                        "text/html": "(25 rows affected)"
                    },
                    "metadata": {}
                },
                {
                    "output_type": "display_data",
                    "data": {
                        "text/html": "Total execution time: 00:00:00.077"
                    },
                    "metadata": {}
                },
                {
                    "output_type": "execute_result",
                    "metadata": {},
                    "execution_count": 117,
                    "data": {
                        "application/vnd.dataresource+json": {
                            "schema": {
                                "fields": [
                                    {
                                        "name": "NEV"
                                    },
                                    {
                                        "name": "BEOSZTAS AZONOSITO"
                                    },
                                    {
                                        "name": "STATUS AZONOSITO"
                                    }
                                ]
                            },
                            "data": [
                                {
                                    "NEV": "NógrádiKata",
                                    "BEOSZTAS AZONOSITO": "1",
                                    "STATUS AZONOSITO": "1"
                                },
                                {
                                    "NEV": "RáczAndrás",
                                    "BEOSZTAS AZONOSITO": "1",
                                    "STATUS AZONOSITO": "1"
                                },
                                {
                                    "NEV": "KovácsAndrás",
                                    "BEOSZTAS AZONOSITO": "1",
                                    "STATUS AZONOSITO": "1"
                                },
                                {
                                    "NEV": "LudasMátyás",
                                    "BEOSZTAS AZONOSITO": "1",
                                    "STATUS AZONOSITO": "1"
                                },
                                {
                                    "NEV": "AranyiMária",
                                    "BEOSZTAS AZONOSITO": "1",
                                    "STATUS AZONOSITO": "1"
                                },
                                {
                                    "NEV": "SzabóAndrera",
                                    "BEOSZTAS AZONOSITO": "1",
                                    "STATUS AZONOSITO": "1"
                                },
                                {
                                    "NEV": "KissIstván",
                                    "BEOSZTAS AZONOSITO": "1",
                                    "STATUS AZONOSITO": "2"
                                },
                                {
                                    "NEV": "MészárosKriszta",
                                    "BEOSZTAS AZONOSITO": "1",
                                    "STATUS AZONOSITO": "2"
                                },
                                {
                                    "NEV": "RóbertGida",
                                    "BEOSZTAS AZONOSITO": "2",
                                    "STATUS AZONOSITO": "1"
                                },
                                {
                                    "NEV": "VitézJános",
                                    "BEOSZTAS AZONOSITO": "2",
                                    "STATUS AZONOSITO": "1"
                                },
                                {
                                    "NEV": "KissJános",
                                    "BEOSZTAS AZONOSITO": "2",
                                    "STATUS AZONOSITO": "1"
                                },
                                {
                                    "NEV": "PelikánJózsef",
                                    "BEOSZTAS AZONOSITO": "2",
                                    "STATUS AZONOSITO": "3"
                                },
                                {
                                    "NEV": "FarkasosPiroska",
                                    "BEOSZTAS AZONOSITO": "2",
                                    "STATUS AZONOSITO": "3"
                                },
                                {
                                    "NEV": "Szép llonka Dr.",
                                    "BEOSZTAS AZONOSITO": "3",
                                    "STATUS AZONOSITO": "1"
                                },
                                {
                                    "NEV": "Szénásiászló",
                                    "BEOSZTAS AZONOSITO": "3",
                                    "STATUS AZONOSITO": "1"
                                },
                                {
                                    "NEV": "Szentágotai Istvás Dr.",
                                    "BEOSZTAS AZONOSITO": "3",
                                    "STATUS AZONOSITO": "2"
                                },
                                {
                                    "NEV": "SzerbLászló",
                                    "BEOSZTAS AZONOSITO": "4",
                                    "STATUS AZONOSITO": "1"
                                },
                                {
                                    "NEV": "Józsa Gábor Dr.",
                                    "BEOSZTAS AZONOSITO": "4",
                                    "STATUS AZONOSITO": "1"
                                },
                                {
                                    "NEV": "Varga Kata Dr.",
                                    "BEOSZTAS AZONOSITO": "4",
                                    "STATUS AZONOSITO": "1"
                                },
                                {
                                    "NEV": "Balkán András Dr.",
                                    "BEOSZTAS AZONOSITO": "4",
                                    "STATUS AZONOSITO": "2"
                                },
                                {
                                    "NEV": "Kovacs Istvan Dr.",
                                    "BEOSZTAS AZONOSITO": "5",
                                    "STATUS AZONOSITO": "1"
                                },
                                {
                                    "NEV": "Juhász András Dr.",
                                    "BEOSZTAS AZONOSITO": "6",
                                    "STATUS AZONOSITO": "1"
                                },
                                {
                                    "NEV": "Jogrerős Pál Prof.",
                                    "BEOSZTAS AZONOSITO": "6",
                                    "STATUS AZONOSITO": "1"
                                },
                                {
                                    "NEV": "Kovács László Dr.",
                                    "BEOSZTAS AZONOSITO": "6",
                                    "STATUS AZONOSITO": "2"
                                },
                                {
                                    "NEV": "Ujfalussi István Prof, tanszékvezető",
                                    "BEOSZTAS AZONOSITO": "6",
                                    "STATUS AZONOSITO": "2"
                                }
                            ]
                        },
                        "text/html": [
                            "<table>",
                            "<tr><th>NEV</th><th>BEOSZTAS AZONOSITO</th><th>STATUS AZONOSITO</th></tr>",
                            "<tr><td>NógrádiKata</td><td>1</td><td>1</td></tr>",
                            "<tr><td>RáczAndrás</td><td>1</td><td>1</td></tr>",
                            "<tr><td>KovácsAndrás</td><td>1</td><td>1</td></tr>",
                            "<tr><td>LudasMátyás</td><td>1</td><td>1</td></tr>",
                            "<tr><td>AranyiMária</td><td>1</td><td>1</td></tr>",
                            "<tr><td>SzabóAndrera</td><td>1</td><td>1</td></tr>",
                            "<tr><td>KissIstván</td><td>1</td><td>2</td></tr>",
                            "<tr><td>MészárosKriszta</td><td>1</td><td>2</td></tr>",
                            "<tr><td>RóbertGida</td><td>2</td><td>1</td></tr>",
                            "<tr><td>VitézJános</td><td>2</td><td>1</td></tr>",
                            "<tr><td>KissJános</td><td>2</td><td>1</td></tr>",
                            "<tr><td>PelikánJózsef</td><td>2</td><td>3</td></tr>",
                            "<tr><td>FarkasosPiroska</td><td>2</td><td>3</td></tr>",
                            "<tr><td>Szép llonka Dr.</td><td>3</td><td>1</td></tr>",
                            "<tr><td>Szénásiászló</td><td>3</td><td>1</td></tr>",
                            "<tr><td>Szentágotai Istvás Dr.</td><td>3</td><td>2</td></tr>",
                            "<tr><td>SzerbLászló</td><td>4</td><td>1</td></tr>",
                            "<tr><td>Józsa Gábor Dr.</td><td>4</td><td>1</td></tr>",
                            "<tr><td>Varga Kata Dr.</td><td>4</td><td>1</td></tr>",
                            "<tr><td>Balkán András Dr.</td><td>4</td><td>2</td></tr>",
                            "<tr><td>Kovacs Istvan Dr.</td><td>5</td><td>1</td></tr>",
                            "<tr><td>Juhász András Dr.</td><td>6</td><td>1</td></tr>",
                            "<tr><td>Jogrerős Pál Prof.</td><td>6</td><td>1</td></tr>",
                            "<tr><td>Kovács László Dr.</td><td>6</td><td>2</td></tr>",
                            "<tr><td>Ujfalussi István Prof, tanszékvezető</td><td>6</td><td>2</td></tr>",
                            "</table>"
                        ]
                    }
                }
            ],
            "execution_count": 117
        },
        {
            "cell_type": "markdown",
            "source": [
                "<span style=\"color: #09885a;\">12</span>. Készítsünk listát, amely megmutatja, hogy összesen hány tantárgy van kreditenkénti csoportosításban!\n",
                "\n",
                "  \n",
                "\n",
                "A listából hagyjuk ki azokat a tételeket, ahol ez a darabszám <span style=\"color: #09885a;\">1</span>!\n",
                "\n",
                "A Folyami gáttan tantárgyat ne vegyük figyelembe!\n",
                "\n",
                "A listát rendezzük darabszám szerint csökkenő sorrendbe!\n",
                "\n",
                "Az oszlopokat nevezzük el értelemszerűen!"
            ],
            "metadata": {
                "azdata_cell_guid": "a765e9d6-58b3-4171-872a-78f3118fd6e3"
            },
            "attachments": {}
        },
        {
            "cell_type": "code",
            "source": [
                "SELECT Kredit,\n",
                "    COUNT(*) AS 'DB'\n",
                "FROM Tantárgyak\n",
                "WHERE Tantárgynév <> 'Folyami gáttan'\n",
                "GROUP BY Kredit\n",
                "HAVING  COUNT(*) <> 1\n",
                "ORDER BY COUNT(*) DESC"
            ],
            "metadata": {
                "azdata_cell_guid": "422e8127-b652-4d3a-bfd7-9b1637b5781e",
                "language": "sql",
                "tags": []
            },
            "outputs": [
                {
                    "output_type": "display_data",
                    "data": {
                        "text/html": "(4 rows affected)"
                    },
                    "metadata": {}
                },
                {
                    "output_type": "display_data",
                    "data": {
                        "text/html": "Total execution time: 00:00:00.069"
                    },
                    "metadata": {}
                },
                {
                    "output_type": "execute_result",
                    "metadata": {},
                    "execution_count": 111,
                    "data": {
                        "application/vnd.dataresource+json": {
                            "schema": {
                                "fields": [
                                    {
                                        "name": "Kredit"
                                    },
                                    {
                                        "name": "DB"
                                    }
                                ]
                            },
                            "data": [
                                {
                                    "Kredit": "2",
                                    "DB": "3"
                                },
                                {
                                    "Kredit": "3",
                                    "DB": "3"
                                },
                                {
                                    "Kredit": "4",
                                    "DB": "2"
                                },
                                {
                                    "Kredit": "1",
                                    "DB": "2"
                                }
                            ]
                        },
                        "text/html": [
                            "<table>",
                            "<tr><th>Kredit</th><th>DB</th></tr>",
                            "<tr><td>2</td><td>3</td></tr>",
                            "<tr><td>3</td><td>3</td></tr>",
                            "<tr><td>4</td><td>2</td></tr>",
                            "<tr><td>1</td><td>2</td></tr>",
                            "</table>"
                        ]
                    }
                }
            ],
            "execution_count": 111
        },
        {
            "cell_type": "markdown",
            "source": [
                "13. _Készítsünk listát az oktatók nevéről, a beosztásuk alapján elvárt és a tényleges óraszámukról!_\n",
                "\n",
                "1. Az oszlopok neve legyen 'Oktató neve', 'Elvárt óraszám' és 'Tényleges óraszám'\n",
                "2. Szűrjük a listát azokra az oktatókra, ahol az elvárt és a tényleges óraszám azonos"
            ],
            "metadata": {
                "azdata_cell_guid": "3f9237ae-f109-401c-acb9-31d75e73331b"
            },
            "attachments": {}
        },
        {
            "cell_type": "code",
            "source": [
                "SELECT okt.nev AS  'Oktató neve',\n",
                "       elvart AS  'Elvárt óraszám',\n",
                "       COUNT(ora_id) 'Tényleges óraszám'\n",
                "FROM Oktatok okt JOIN Orak o ON okt.oktato_id = o.tanar\n",
                "    JOIN Beosztasok b ON b.beosztas_id = okt.beosztás\n",
                "GROUP BY okt.nev, elvart\n",
                "HAVING elvart =  COUNT(ora_id)"
            ],
            "metadata": {
                "azdata_cell_guid": "4b31bb89-cfbc-46b1-8639-85c462877786",
                "language": "sql",
                "tags": []
            },
            "outputs": [
                {
                    "output_type": "display_data",
                    "data": {
                        "text/html": "(4 rows affected)"
                    },
                    "metadata": {}
                },
                {
                    "output_type": "display_data",
                    "data": {
                        "text/html": "Total execution time: 00:00:00.072"
                    },
                    "metadata": {}
                },
                {
                    "output_type": "execute_result",
                    "metadata": {},
                    "execution_count": 100,
                    "data": {
                        "application/vnd.dataresource+json": {
                            "schema": {
                                "fields": [
                                    {
                                        "name": "Oktató neve"
                                    },
                                    {
                                        "name": "Elvárt óraszám"
                                    },
                                    {
                                        "name": "Tényleges óraszám"
                                    }
                                ]
                            },
                            "data": [
                                {
                                    "Oktató neve": "Jogrerős Pál",
                                    "Elvárt óraszám": "2",
                                    "Tényleges óraszám": "2"
                                },
                                {
                                    "Oktató neve": "Juhász András",
                                    "Elvárt óraszám": "2",
                                    "Tényleges óraszám": "2"
                                },
                                {
                                    "Oktató neve": "Varga Kata",
                                    "Elvárt óraszám": "4",
                                    "Tényleges óraszám": "4"
                                },
                                {
                                    "Oktató neve": "Pelikán József",
                                    "Elvárt óraszám": "6",
                                    "Tényleges óraszám": "6"
                                }
                            ]
                        },
                        "text/html": [
                            "<table>",
                            "<tr><th>Oktató neve</th><th>Elvárt óraszám</th><th>Tényleges óraszám</th></tr>",
                            "<tr><td>Jogrerős Pál</td><td>2</td><td>2</td></tr>",
                            "<tr><td>Juhász András</td><td>2</td><td>2</td></tr>",
                            "<tr><td>Varga Kata</td><td>4</td><td>4</td></tr>",
                            "<tr><td>Pelikán József</td><td>6</td><td>6</td></tr>",
                            "</table>"
                        ]
                    }
                }
            ],
            "execution_count": 100
        },
        {
            "cell_type": "markdown",
            "source": [
                "14. _Készítsünk listát, amely megmutatja, hogy mely tantárgyból nincs óra egyáltalán!_\n",
                "\n",
                "1. Csak a tantárgy neve jelenjen meg!"
            ],
            "metadata": {
                "azdata_cell_guid": "f634e09a-85ef-4e70-8ec6-ef355dfddaa7"
            },
            "attachments": {}
        },
        {
            "cell_type": "code",
            "source": [
                "SELECT t.Tantárgynév\n",
                "FROM Tantárgyak t LEFT JOIN Orak o ON o.targy = t.Tkód\n",
                "WHERE o.ora_id IS NULL"
            ],
            "metadata": {
                "azdata_cell_guid": "88abc55b-2c78-495b-a72f-3f8f4eb5fe70",
                "language": "sql",
                "tags": []
            },
            "outputs": [
                {
                    "output_type": "display_data",
                    "data": {
                        "text/html": "(1 row affected)"
                    },
                    "metadata": {}
                },
                {
                    "output_type": "display_data",
                    "data": {
                        "text/html": "Total execution time: 00:00:00.078"
                    },
                    "metadata": {}
                },
                {
                    "output_type": "execute_result",
                    "metadata": {},
                    "execution_count": 95,
                    "data": {
                        "application/vnd.dataresource+json": {
                            "schema": {
                                "fields": [
                                    {
                                        "name": "Tantárgynév"
                                    }
                                ]
                            },
                            "data": [
                                {
                                    "Tantárgynév": "Folyami gáttan"
                                }
                            ]
                        },
                        "text/html": [
                            "<table>",
                            "<tr><th>Tantárgynév</th></tr>",
                            "<tr><td>Folyami gáttan</td></tr>",
                            "</table>"
                        ]
                    }
                }
            ],
            "execution_count": 95
        },
        {
            "cell_type": "markdown",
            "source": [
                "15. _Hány órájuk van az óraadóknak napi bontásban?_\n",
                "\n",
                "1. Csak a napok nevét és az óraszámot jelenítsük meg!\n",
                "2. Rendezzük a listát óraszám szerint növekvő sorrendbe!"
            ],
            "metadata": {
                "azdata_cell_guid": "4cbf2f0d-a65d-480a-8186-ccdb24498443"
            },
            "attachments": {}
        },
        {
            "cell_type": "code",
            "source": [
                "SELECT n.nap,\n",
                "    COUNT(*) AS 'ora szam'\n",
                "FROM Orak o JOIN Oktatok okt ON o.tanar = okt.oktato_id\n",
                "     JOIN Napok n ON n.nap_id = o.nap\n",
                "     JOIN statusok s ON s.Skod = okt.status\n",
                "WHERE s.Status = 'Óraadó'\n",
                "GROUP BY n.nap\n",
                "ORDER BY 2 ASC"
            ],
            "metadata": {
                "azdata_cell_guid": "c148aee8-bc85-40bf-b80a-a4898a6c05cb",
                "language": "sql",
                "tags": []
            },
            "outputs": [
                {
                    "output_type": "display_data",
                    "data": {
                        "text/html": "(5 rows affected)"
                    },
                    "metadata": {}
                },
                {
                    "output_type": "display_data",
                    "data": {
                        "text/html": "Total execution time: 00:00:00.068"
                    },
                    "metadata": {}
                },
                {
                    "output_type": "execute_result",
                    "metadata": {},
                    "execution_count": 92,
                    "data": {
                        "application/vnd.dataresource+json": {
                            "schema": {
                                "fields": [
                                    {
                                        "name": "nap"
                                    },
                                    {
                                        "name": "ora szam"
                                    }
                                ]
                            },
                            "data": [
                                {
                                    "nap": "Péntek",
                                    "ora szam": "1"
                                },
                                {
                                    "nap": "Szerda",
                                    "ora szam": "1"
                                },
                                {
                                    "nap": "Csütörtök",
                                    "ora szam": "3"
                                },
                                {
                                    "nap": "Kedd",
                                    "ora szam": "3"
                                },
                                {
                                    "nap": "Hétfő",
                                    "ora szam": "5"
                                }
                            ]
                        },
                        "text/html": [
                            "<table>",
                            "<tr><th>nap</th><th>ora szam</th></tr>",
                            "<tr><td>Péntek</td><td>1</td></tr>",
                            "<tr><td>Szerda</td><td>1</td></tr>",
                            "<tr><td>Csütörtök</td><td>3</td></tr>",
                            "<tr><td>Kedd</td><td>3</td></tr>",
                            "<tr><td>Hétfő</td><td>5</td></tr>",
                            "</table>"
                        ]
                    }
                }
            ],
            "execution_count": 92
        },
        {
            "cell_type": "code",
            "source": [
                ""
            ],
            "metadata": {
                "azdata_cell_guid": "95d9a9fa-ba67-4524-815b-042269e45f23",
                "language": "sql"
            },
            "outputs": [
                {
                    "output_type": "display_data",
                    "data": {
                        "text/html": "(7 rows affected)"
                    },
                    "metadata": {}
                },
                {
                    "output_type": "display_data",
                    "data": {
                        "text/html": "Total execution time: 00:00:00.056"
                    },
                    "metadata": {}
                },
                {
                    "output_type": "execute_result",
                    "metadata": {},
                    "execution_count": 85,
                    "data": {
                        "application/vnd.dataresource+json": {
                            "schema": {
                                "fields": [
                                    {
                                        "name": "beosztas_id"
                                    },
                                    {
                                        "name": "beosztasnev"
                                    },
                                    {
                                        "name": "elvart"
                                    }
                                ]
                            },
                            "data": [
                                {
                                    "beosztas_id": "1",
                                    "beosztasnev": "Óraadó",
                                    "elvart": "6"
                                },
                                {
                                    "beosztas_id": "2",
                                    "beosztasnev": "Tanársegéd",
                                    "elvart": "6"
                                },
                                {
                                    "beosztas_id": "3",
                                    "beosztasnev": "Adjunktus",
                                    "elvart": "5"
                                },
                                {
                                    "beosztas_id": "4",
                                    "beosztasnev": "Docens",
                                    "elvart": "4"
                                },
                                {
                                    "beosztas_id": "5",
                                    "beosztasnev": "Professzor",
                                    "elvart": "3"
                                },
                                {
                                    "beosztas_id": "6",
                                    "beosztasnev": "Egyetemi tanár",
                                    "elvart": "2"
                                },
                                {
                                    "beosztas_id": "7",
                                    "beosztasnev": "Tudományos munkatárs",
                                    "elvart": "4"
                                }
                            ]
                        },
                        "text/html": [
                            "<table>",
                            "<tr><th>beosztas_id</th><th>beosztasnev</th><th>elvart</th></tr>",
                            "<tr><td>1</td><td>Óraadó</td><td>6</td></tr>",
                            "<tr><td>2</td><td>Tanársegéd</td><td>6</td></tr>",
                            "<tr><td>3</td><td>Adjunktus</td><td>5</td></tr>",
                            "<tr><td>4</td><td>Docens</td><td>4</td></tr>",
                            "<tr><td>5</td><td>Professzor</td><td>3</td></tr>",
                            "<tr><td>6</td><td>Egyetemi tanár</td><td>2</td></tr>",
                            "<tr><td>7</td><td>Tudományos munkatárs</td><td>4</td></tr>",
                            "</table>"
                        ]
                    }
                }
            ],
            "execution_count": 85
        }
    ]
}