{
    "metadata": {
        "kernelspec": {
            "name": "SQL",
            "display_name": "SQL",
            "language": "sql"
        },
        "language_info": {
            "name": "sql",
            "version": ""
        }
    },
    "nbformat_minor": 2,
    "nbformat": 4,
    "cells": [
        {
            "cell_type": "code",
            "source": [
                "-- Feladat 1\r\n",
                "SELECT szh.SZALLAS_ID As 'Szállás azonosítoja',\r\n",
                "       szh.SZALLAS_NEV AS 'Szállás neve',\r\n",
                "       Count(*) As 'Klimás szobák száma'\r\n",
                "FROM Szallashely szh JOIN Szoba sz ON szh.SZALLAS_ID = sz.SZALLAS_FK\r\n",
                "WHERE sz.KLIMAS = 'i'\r\n",
                "GROUP BY szh.SZALLAS_ID, szh.SZALLAS_NEV\r\n",
                "ORDER BY 3 ASC --nem volt kérve"
            ],
            "metadata": {
                "azdata_cell_guid": "32050b68-62f0-4bb9-8730-fdb0a5d3f3ff",
                "language": "sql"
            },
            "outputs": [
                {
                    "output_type": "display_data",
                    "data": {
                        "text/html": "(20 rows affected)"
                    },
                    "metadata": {}
                },
                {
                    "output_type": "display_data",
                    "data": {
                        "text/html": "Total execution time: 00:00:00.012"
                    },
                    "metadata": {}
                },
                {
                    "output_type": "execute_result",
                    "metadata": {},
                    "execution_count": 9,
                    "data": {
                        "application/vnd.dataresource+json": {
                            "schema": {
                                "fields": [
                                    {
                                        "name": "Szállás azonosítoja"
                                    },
                                    {
                                        "name": "Szállás neve"
                                    },
                                    {
                                        "name": "Klimás szobák száma"
                                    }
                                ]
                            },
                            "data": [
                                {
                                    "Szállás azonosítoja": "9",
                                    "Szállás neve": "Jáde panzió",
                                    "Klimás szobák száma": "2"
                                },
                                {
                                    "Szállás azonosítoja": "18",
                                    "Szállás neve": "Fortuna Apartman",
                                    "Klimás szobák száma": "2"
                                },
                                {
                                    "Szállás azonosítoja": "19",
                                    "Szállás neve": "Nyárfás Vendégház",
                                    "Klimás szobák száma": "2"
                                },
                                {
                                    "Szállás azonosítoja": "14",
                                    "Szállás neve": "Nyárfás Vendégház",
                                    "Klimás szobák száma": "4"
                                },
                                {
                                    "Szállás azonosítoja": "11",
                                    "Szállás neve": "Partiszél Vendégház",
                                    "Klimás szobák száma": "4"
                                },
                                {
                                    "Szállás azonosítoja": "7",
                                    "Szállás neve": "Szieszta Apartmanház",
                                    "Klimás szobák száma": "4"
                                },
                                {
                                    "Szállás azonosítoja": "2",
                                    "Szállás neve": "Családi Ház",
                                    "Klimás szobák száma": "4"
                                },
                                {
                                    "Szállás azonosítoja": "3",
                                    "Szállás neve": "Fortuna Apartman",
                                    "Klimás szobák száma": "5"
                                },
                                {
                                    "Szállás azonosítoja": "5",
                                    "Szállás neve": "Fortuna Panzió",
                                    "Klimás szobák száma": "8"
                                },
                                {
                                    "Szállás azonosítoja": "13",
                                    "Szállás neve": "Riviéra Panzió",
                                    "Klimás szobák száma": "8"
                                },
                                {
                                    "Szállás azonosítoja": "15",
                                    "Szállás neve": "Tímárház Panzió",
                                    "Klimás szobák száma": "9"
                                },
                                {
                                    "Szállás azonosítoja": "20",
                                    "Szállás neve": "Kollégium",
                                    "Klimás szobák száma": "9"
                                },
                                {
                                    "Szállás azonosítoja": "1",
                                    "Szállás neve": "Sába-Ház",
                                    "Klimás szobák száma": "10"
                                },
                                {
                                    "Szállás azonosítoja": "17",
                                    "Szállás neve": "Szarvas Hotel",
                                    "Klimás szobák száma": "11"
                                },
                                {
                                    "Szállás azonosítoja": "4",
                                    "Szállás neve": "Fortuna panzió",
                                    "Klimás szobák száma": "12"
                                },
                                {
                                    "Szállás azonosítoja": "16",
                                    "Szállás neve": "Bagoly Hotel",
                                    "Klimás szobák száma": "14"
                                },
                                {
                                    "Szállás azonosítoja": "10",
                                    "Szállás neve": "Lagúna Hotel",
                                    "Klimás szobák száma": "15"
                                },
                                {
                                    "Szállás azonosítoja": "6",
                                    "Szállás neve": "Kentaur Hotel",
                                    "Klimás szobák száma": "22"
                                },
                                {
                                    "Szállás azonosítoja": "8",
                                    "Szállás neve": "Hotel Három Hattyú",
                                    "Klimás szobák száma": "28"
                                },
                                {
                                    "Szállás azonosítoja": "12",
                                    "Szállás neve": "Gold Hotel",
                                    "Klimás szobák száma": "42"
                                }
                            ]
                        },
                        "text/html": [
                            "<table>",
                            "<tr><th>Szállás azonosítoja</th><th>Szállás neve</th><th>Klimás szobák száma</th></tr>",
                            "<tr><td>9</td><td>Jáde panzió</td><td>2</td></tr>",
                            "<tr><td>18</td><td>Fortuna Apartman</td><td>2</td></tr>",
                            "<tr><td>19</td><td>Nyárfás Vendégház</td><td>2</td></tr>",
                            "<tr><td>14</td><td>Nyárfás Vendégház</td><td>4</td></tr>",
                            "<tr><td>11</td><td>Partiszél Vendégház</td><td>4</td></tr>",
                            "<tr><td>7</td><td>Szieszta Apartmanház</td><td>4</td></tr>",
                            "<tr><td>2</td><td>Családi Ház</td><td>4</td></tr>",
                            "<tr><td>3</td><td>Fortuna Apartman</td><td>5</td></tr>",
                            "<tr><td>5</td><td>Fortuna Panzió</td><td>8</td></tr>",
                            "<tr><td>13</td><td>Riviéra Panzió</td><td>8</td></tr>",
                            "<tr><td>15</td><td>Tímárház Panzió</td><td>9</td></tr>",
                            "<tr><td>20</td><td>Kollégium</td><td>9</td></tr>",
                            "<tr><td>1</td><td>Sába-Ház</td><td>10</td></tr>",
                            "<tr><td>17</td><td>Szarvas Hotel</td><td>11</td></tr>",
                            "<tr><td>4</td><td>Fortuna panzió</td><td>12</td></tr>",
                            "<tr><td>16</td><td>Bagoly Hotel</td><td>14</td></tr>",
                            "<tr><td>10</td><td>Lagúna Hotel</td><td>15</td></tr>",
                            "<tr><td>6</td><td>Kentaur Hotel</td><td>22</td></tr>",
                            "<tr><td>8</td><td>Hotel Három Hattyú</td><td>28</td></tr>",
                            "<tr><td>12</td><td>Gold Hotel</td><td>42</td></tr>",
                            "</table>"
                        ]
                    }
                }
            ],
            "execution_count": 9
        },
        {
            "cell_type": "code",
            "source": [
                "-- Feladat 2\r\n",
                "SELECT  szh.SZALLAS_NEV AS 'Szállás neve',\r\n",
                "        COUNT(*) As 'Foglalások száma'\r\n",
                "FROM Szallashely szh JOIN Szoba sz ON szh.SZALLAS_ID = sz.SZALLAS_FK\r\n",
                "    JOIN Foglalas f ON sz.SZOBA_ID = f.SZOBA_FK\r\n",
                "GROUP BY szh.SZALLAS_NEV\r\n",
                "HAVING COUNT(*) >=0\r\n",
                "ORDER BY 2  ASC --nem volt kérve\r\n",
                ""
            ],
            "metadata": {
                "azdata_cell_guid": "465057c3-8257-47df-818f-1710e9de68d0",
                "language": "sql"
            },
            "outputs": [
                {
                    "output_type": "display_data",
                    "data": {
                        "text/html": "(11 rows affected)"
                    },
                    "metadata": {}
                },
                {
                    "output_type": "display_data",
                    "data": {
                        "text/html": "Total execution time: 00:00:00.009"
                    },
                    "metadata": {}
                },
                {
                    "output_type": "execute_result",
                    "metadata": {},
                    "execution_count": 8,
                    "data": {
                        "application/vnd.dataresource+json": {
                            "schema": {
                                "fields": [
                                    {
                                        "name": "Szállás neve"
                                    },
                                    {
                                        "name": "Foglalások száma"
                                    }
                                ]
                            },
                            "data": [
                                {
                                    "Szállás neve": "Családi Ház",
                                    "Foglalások száma": "18"
                                },
                                {
                                    "Szállás neve": "Partiszél Vendégház",
                                    "Foglalások száma": "26"
                                },
                                {
                                    "Szállás neve": "Jáde panzió",
                                    "Foglalások száma": "29"
                                },
                                {
                                    "Szállás neve": "Szieszta Apartmanház",
                                    "Foglalások száma": "34"
                                },
                                {
                                    "Szállás neve": "Fortuna Apartman",
                                    "Foglalások száma": "39"
                                },
                                {
                                    "Szállás neve": "Sába-Ház",
                                    "Foglalások száma": "70"
                                },
                                {
                                    "Szállás neve": "Lagúna Hotel",
                                    "Foglalások száma": "123"
                                },
                                {
                                    "Szállás neve": "Fortuna Panzió",
                                    "Foglalások száma": "126"
                                },
                                {
                                    "Szállás neve": "Kentaur Hotel",
                                    "Foglalások száma": "179"
                                },
                                {
                                    "Szállás neve": "Gold Hotel",
                                    "Foglalások száma": "179"
                                },
                                {
                                    "Szállás neve": "Hotel Három Hattyú",
                                    "Foglalások száma": "204"
                                }
                            ]
                        },
                        "text/html": [
                            "<table>",
                            "<tr><th>Szállás neve</th><th>Foglalások száma</th></tr>",
                            "<tr><td>Családi Ház</td><td>18</td></tr>",
                            "<tr><td>Partiszél Vendégház</td><td>26</td></tr>",
                            "<tr><td>Jáde panzió</td><td>29</td></tr>",
                            "<tr><td>Szieszta Apartmanház</td><td>34</td></tr>",
                            "<tr><td>Fortuna Apartman</td><td>39</td></tr>",
                            "<tr><td>Sába-Ház</td><td>70</td></tr>",
                            "<tr><td>Lagúna Hotel</td><td>123</td></tr>",
                            "<tr><td>Fortuna Panzió</td><td>126</td></tr>",
                            "<tr><td>Kentaur Hotel</td><td>179</td></tr>",
                            "<tr><td>Gold Hotel</td><td>179</td></tr>",
                            "<tr><td>Hotel Három Hattyú</td><td>204</td></tr>",
                            "</table>"
                        ]
                    }
                }
            ],
            "execution_count": 8
        }
    ]
}