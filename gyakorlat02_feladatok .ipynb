{
    "metadata": {
        "kernelspec": {
            "name": "SQL",
            "display_name": "SQL",
            "language": "sql"
        },
        "language_info": {
            "name": "sql",
            "version": ""
        },
        "extensions": {
            "azuredatastudio": {
                "version": 1,
                "views": []
            }
        }
    },
    "nbformat_minor": 2,
    "nbformat": 4,
    "cells": [
        {
            "cell_type": "markdown",
            "source": [
                "1. <span style=\"color:rgb(36, 41, 47);font-family:-apple-system, BlinkMacSystemFont, &quot;Segoe UI&quot;, Helvetica, Arial, sans-serif, &quot;Apple Color Emoji&quot;, &quot;Segoe UI Emoji&quot;;font-size:16px;\">Készítsünk lekérdezést, amely listázza, hogy mely napokon hány db kölcsönzés történt!</span>\n",
                "\n",
                "<span style=\"font-size: 16px;\">a.&nbsp;</span> Az oszlopok neve legyen 'Dátum' és 'Kölcsönzések száma'  \n",
                "b. A listát rendezzük a kölcsönzés dátuma szerint csökkenő sorrendbe!"
            ],
            "metadata": {
                "azdata_cell_guid": "77f2d5b3-38e9-41cc-893f-f5afd02b97ef"
            },
            "attachments": {}
        },
        {
            "cell_type": "code",
            "source": [
                "SELECT ki_datum AS 'DATUM',\n",
                "     COUNT(ID) AS 'Kölcsönzések'\n",
                "FROM kolcsonzesek\n",
                "GROUP BY ki_datum\n",
                "ORDER BY ki_datum DESC"
            ],
            "metadata": {
                "azdata_cell_guid": "bd3cef1a-4e6e-4ece-9dc3-aaa9d2b5d66d",
                "language": "sql",
                "tags": []
            },
            "outputs": [
                {
                    "output_type": "display_data",
                    "data": {
                        "text/html": "(3 rows affected)"
                    },
                    "metadata": {}
                },
                {
                    "output_type": "display_data",
                    "data": {
                        "text/html": "Total execution time: 00:00:00.026"
                    },
                    "metadata": {}
                },
                {
                    "output_type": "execute_result",
                    "metadata": {},
                    "execution_count": 5,
                    "data": {
                        "application/vnd.dataresource+json": {
                            "schema": {
                                "fields": [
                                    {
                                        "name": "DATUM"
                                    },
                                    {
                                        "name": "Kölcsönzések"
                                    }
                                ]
                            },
                            "data": [
                                {
                                    "DATUM": "2006-10-02",
                                    "Kölcsönzések": "1"
                                },
                                {
                                    "DATUM": "2006-10-01",
                                    "Kölcsönzések": "1"
                                },
                                {
                                    "DATUM": "2003-12-11",
                                    "Kölcsönzések": "3"
                                }
                            ]
                        },
                        "text/html": [
                            "<table>",
                            "<tr><th>DATUM</th><th>Kölcsönzések</th></tr>",
                            "<tr><td>2006-10-02</td><td>1</td></tr>",
                            "<tr><td>2006-10-01</td><td>1</td></tr>",
                            "<tr><td>2003-12-11</td><td>3</td></tr>",
                            "</table>"
                        ]
                    }
                }
            ],
            "execution_count": 5
        },
        {
            "cell_type": "markdown",
            "source": [
                "2. <span style=\"font-weight: 600; color: rgb(36, 41, 47); font-family: -apple-system, BlinkMacSystemFont, &quot;Segoe UI&quot;, Helvetica, Arial, sans-serif, &quot;Apple Color Emoji&quot;, &quot;Segoe UI Emoji&quot;; font-size: 16px;\">Mennyi a dvd-k átlagos ára stílusonkénti bontásban?</span>\n",
                "\n",
                "1. Csak azokat a stílusokat vegyük figyelembe, ahol az átlagos ár 4500 Ft feletti!\n",
                "2. Az oszlopokat nevezzük el értelemszerűen!\n",
                "3. A listát rendezzük átlagos ár szerint csökkenő sorrendbe!"
            ],
            "metadata": {
                "azdata_cell_guid": "88f5b4bb-f4c1-4bad-a0c7-b2592687b422"
            },
            "attachments": {}
        },
        {
            "cell_type": "code",
            "source": [
                "SELECT stilus AS 'Stilus',\n",
                "    AVG(nettoar) AS 'Netto ar'\n",
                "FROM dvd\n",
                "GROUP BY stilus\n",
                "HAVING AVG(nettoar) >4500\n",
                "ORDER BY AVG(nettoar) DESC"
            ],
            "metadata": {
                "azdata_cell_guid": "e9de5726-f036-4fb9-8c33-a873955ed886",
                "language": "sql"
            },
            "outputs": [
                {
                    "output_type": "display_data",
                    "data": {
                        "text/html": "(30 rows affected)"
                    },
                    "metadata": {}
                },
                {
                    "output_type": "display_data",
                    "data": {
                        "text/html": "Total execution time: 00:00:00.016"
                    },
                    "metadata": {}
                },
                {
                    "output_type": "execute_result",
                    "metadata": {},
                    "execution_count": 16,
                    "data": {
                        "application/vnd.dataresource+json": {
                            "schema": {
                                "fields": [
                                    {
                                        "name": "Stilus"
                                    },
                                    {
                                        "name": "Netto ar"
                                    }
                                ]
                            },
                            "data": [
                                {
                                    "Stilus": "ásványtan",
                                    "Netto ar": "5624"
                                },
                                {
                                    "Stilus": "játék (rodeó)",
                                    "Netto ar": "5591"
                                },
                                {
                                    "Stilus": "humor",
                                    "Netto ar": "5573"
                                },
                                {
                                    "Stilus": "környezetvédelem",
                                    "Netto ar": "5508"
                                },
                                {
                                    "Stilus": "kresz",
                                    "Netto ar": "5476"
                                },
                                {
                                    "Stilus": "játék (jégkorong)",
                                    "Netto ar": "5242"
                                },
                                {
                                    "Stilus": "színház",
                                    "Netto ar": "5158"
                                },
                                {
                                    "Stilus": "múvészet",
                                    "Netto ar": "5118"
                                },
                                {
                                    "Stilus": "kémia",
                                    "Netto ar": "5094"
                                },
                                {
                                    "Stilus": "fordító program",
                                    "Netto ar": "5036"
                                },
                                {
                                    "Stilus": "kerttervező",
                                    "Netto ar": "4951"
                                },
                                {
                                    "Stilus": "művészet",
                                    "Netto ar": "4939,25"
                                },
                                {
                                    "Stilus": "festészet",
                                    "Netto ar": "4901"
                                },
                                {
                                    "Stilus": "zene",
                                    "Netto ar": "4855,333333333333"
                                },
                                {
                                    "Stilus": "játék",
                                    "Netto ar": "4850,466666666666"
                                },
                                {
                                    "Stilus": "játék (labdarúgás)",
                                    "Netto ar": "4817,333333333333"
                                },
                                {
                                    "Stilus": "állattan",
                                    "Netto ar": "4783,666666666667"
                                },
                                {
                                    "Stilus": "nyelvtan",
                                    "Netto ar": "4770,666666666667"
                                },
                                {
                                    "Stilus": "fizika",
                                    "Netto ar": "4769"
                                },
                                {
                                    "Stilus": "nyelvtanító",
                                    "Netto ar": "4759,476190476191"
                                },
                                {
                                    "Stilus": "csillagászat",
                                    "Netto ar": "4733,571428571428"
                                },
                                {
                                    "Stilus": "ismeretterjesztő",
                                    "Netto ar": "4726,673913043478"
                                },
                                {
                                    "Stilus": "irodalom, nyelv",
                                    "Netto ar": "4704"
                                },
                                {
                                    "Stilus": "gasztronómia",
                                    "Netto ar": "4691"
                                },
                                {
                                    "Stilus": "történelem",
                                    "Netto ar": "4655,731707317073"
                                },
                                {
                                    "Stilus": "szótár",
                                    "Netto ar": "4624,428571428572"
                                },
                                {
                                    "Stilus": "sport",
                                    "Netto ar": "4607"
                                },
                                {
                                    "Stilus": "földrajz",
                                    "Netto ar": "4580,0625"
                                },
                                {
                                    "Stilus": "matematika",
                                    "Netto ar": "4520,777777777777"
                                },
                                {
                                    "Stilus": "felvételi",
                                    "Netto ar": "4501,333333333333"
                                }
                            ]
                        },
                        "text/html": [
                            "<table>",
                            "<tr><th>Stilus</th><th>Netto ar</th></tr>",
                            "<tr><td>ásványtan</td><td>5624</td></tr>",
                            "<tr><td>játék (rodeó)</td><td>5591</td></tr>",
                            "<tr><td>humor</td><td>5573</td></tr>",
                            "<tr><td>környezetvédelem</td><td>5508</td></tr>",
                            "<tr><td>kresz</td><td>5476</td></tr>",
                            "<tr><td>játék (jégkorong)</td><td>5242</td></tr>",
                            "<tr><td>színház</td><td>5158</td></tr>",
                            "<tr><td>múvészet</td><td>5118</td></tr>",
                            "<tr><td>kémia</td><td>5094</td></tr>",
                            "<tr><td>fordító program</td><td>5036</td></tr>",
                            "<tr><td>kerttervező</td><td>4951</td></tr>",
                            "<tr><td>művészet</td><td>4939,25</td></tr>",
                            "<tr><td>festészet</td><td>4901</td></tr>",
                            "<tr><td>zene</td><td>4855,333333333333</td></tr>",
                            "<tr><td>játék</td><td>4850,466666666666</td></tr>",
                            "<tr><td>játék (labdarúgás)</td><td>4817,333333333333</td></tr>",
                            "<tr><td>állattan</td><td>4783,666666666667</td></tr>",
                            "<tr><td>nyelvtan</td><td>4770,666666666667</td></tr>",
                            "<tr><td>fizika</td><td>4769</td></tr>",
                            "<tr><td>nyelvtanító</td><td>4759,476190476191</td></tr>",
                            "<tr><td>csillagászat</td><td>4733,571428571428</td></tr>",
                            "<tr><td>ismeretterjesztő</td><td>4726,673913043478</td></tr>",
                            "<tr><td>irodalom, nyelv</td><td>4704</td></tr>",
                            "<tr><td>gasztronómia</td><td>4691</td></tr>",
                            "<tr><td>történelem</td><td>4655,731707317073</td></tr>",
                            "<tr><td>szótár</td><td>4624,428571428572</td></tr>",
                            "<tr><td>sport</td><td>4607</td></tr>",
                            "<tr><td>földrajz</td><td>4580,0625</td></tr>",
                            "<tr><td>matematika</td><td>4520,777777777777</td></tr>",
                            "<tr><td>felvételi</td><td>4501,333333333333</td></tr>",
                            "</table>"
                        ]
                    }
                }
            ],
            "execution_count": 16
        },
        {
            "cell_type": "markdown",
            "source": [
                "3. <span style=\"color:rgb(36, 41, 47);font-family:-apple-system, BlinkMacSystemFont, &quot;Segoe UI&quot;, Helvetica, Arial, sans-serif, &quot;Apple Color Emoji&quot;, &quot;Segoe UI Emoji&quot;;font-size:16px;\">Listázzuk nyelvenkénti, azon belül stílusonkénti bontásban, hogy mennyi a dvd-k legkisebb és legnagyobb ára!&nbsp;</span> \n",
                "\n",
                "<span style=\"font-size: 16px;\">a. Az oszlopok neve legyen 'Nyelv', 'Stílus', 'MinÁr' és 'MaxÁr'!<br>b.&nbsp;</span> A listából hagyjuk ki azokat a sorokat, ahol a nyelv vagy a stílus nincs megadva!  \n",
                "c. Szintén hagyjuk ki azokat a csoportokat, ahol a csoport elemszáma 3-nál kisebb!"
            ],
            "metadata": {
                "azdata_cell_guid": "9e7249de-1b59-43d8-84b1-26fa7d81fc5a"
            },
            "attachments": {}
        },
        {
            "cell_type": "code",
            "source": [
                "SELECT lang AS 'Nyelv',\n",
                "     stilus AS 'Stilus',\n",
                "     MIN(nettoar) AS 'MINAR',\n",
                "     MAX(nettoar) AS 'MAXAR'\n",
                "FROM dvd\n",
                "WHERE lang IS NOT NULL and stilus IS NOT NULL\n",
                "GROUP BY lang, stilus\n",
                "HAVING COUNT(*) >=3"
            ],
            "metadata": {
                "azdata_cell_guid": "6405d3e8-a9b1-45d7-aa76-3b1e785ef6cc",
                "language": "sql"
            },
            "outputs": [
                {
                    "output_type": "display_data",
                    "data": {
                        "text/html": "(25 rows affected)"
                    },
                    "metadata": {}
                },
                {
                    "output_type": "display_data",
                    "data": {
                        "text/html": "Total execution time: 00:00:00.017"
                    },
                    "metadata": {}
                },
                {
                    "output_type": "execute_result",
                    "metadata": {},
                    "execution_count": 20,
                    "data": {
                        "application/vnd.dataresource+json": {
                            "schema": {
                                "fields": [
                                    {
                                        "name": "Nyelv"
                                    },
                                    {
                                        "name": "Stilus"
                                    },
                                    {
                                        "name": "MINAR"
                                    },
                                    {
                                        "name": "MAXAR"
                                    }
                                ]
                            },
                            "data": [
                                {
                                    "Nyelv": "1",
                                    "Stilus": "állattan",
                                    "MINAR": "4153",
                                    "MAXAR": "5235"
                                },
                                {
                                    "Nyelv": "1",
                                    "Stilus": "biológia",
                                    "MINAR": "3482",
                                    "MAXAR": "5543"
                                },
                                {
                                    "Nyelv": "1",
                                    "Stilus": "csillagászat",
                                    "MINAR": "3582",
                                    "MAXAR": "5992"
                                },
                                {
                                    "Nyelv": "1",
                                    "Stilus": "felvételi",
                                    "MINAR": "3215",
                                    "MAXAR": "5955"
                                },
                                {
                                    "Nyelv": "1",
                                    "Stilus": "fizika",
                                    "MINAR": "3734",
                                    "MAXAR": "5763"
                                },
                                {
                                    "Nyelv": "1",
                                    "Stilus": "földrajz",
                                    "MINAR": "3123",
                                    "MAXAR": "6065"
                                },
                                {
                                    "Nyelv": "1",
                                    "Stilus": "gasztronómia",
                                    "MINAR": "3258",
                                    "MAXAR": "5706"
                                },
                                {
                                    "Nyelv": "1",
                                    "Stilus": "irodalom",
                                    "MINAR": "3391",
                                    "MAXAR": "5654"
                                },
                                {
                                    "Nyelv": "1",
                                    "Stilus": "ismeretterjesztő",
                                    "MINAR": "3256",
                                    "MAXAR": "6072"
                                },
                                {
                                    "Nyelv": "2",
                                    "Stilus": "ismeretterjesztő",
                                    "MINAR": "5334",
                                    "MAXAR": "5900"
                                },
                                {
                                    "Nyelv": "1",
                                    "Stilus": "játék",
                                    "MINAR": "3110",
                                    "MAXAR": "6078"
                                },
                                {
                                    "Nyelv": "2",
                                    "Stilus": "játék",
                                    "MINAR": "3144",
                                    "MAXAR": "6062"
                                },
                                {
                                    "Nyelv": "2",
                                    "Stilus": "játék (autóverseny)",
                                    "MINAR": "3106",
                                    "MAXAR": "5005"
                                },
                                {
                                    "Nyelv": "1",
                                    "Stilus": "matematika",
                                    "MINAR": "3105",
                                    "MAXAR": "5995"
                                },
                                {
                                    "Nyelv": "1",
                                    "Stilus": "művészet",
                                    "MINAR": "3490",
                                    "MAXAR": "6098"
                                },
                                {
                                    "Nyelv": "1",
                                    "Stilus": "nyelvtan",
                                    "MINAR": "3688",
                                    "MAXAR": "5845"
                                },
                                {
                                    "Nyelv": "2",
                                    "Stilus": "nyelvtanító",
                                    "MINAR": "3115",
                                    "MAXAR": "6068"
                                },
                                {
                                    "Nyelv": "3",
                                    "Stilus": "nyelvtanító",
                                    "MINAR": "3313",
                                    "MAXAR": "5990"
                                },
                                {
                                    "Nyelv": "4",
                                    "Stilus": "nyelvtanító",
                                    "MINAR": "3419",
                                    "MAXAR": "6082"
                                },
                                {
                                    "Nyelv": "6",
                                    "Stilus": "nyelvtanító",
                                    "MINAR": "3775",
                                    "MAXAR": "5882"
                                },
                                {
                                    "Nyelv": "7",
                                    "Stilus": "nyelvtanító",
                                    "MINAR": "3770",
                                    "MAXAR": "5619"
                                },
                                {
                                    "Nyelv": "1",
                                    "Stilus": "számítástechnika",
                                    "MINAR": "3277",
                                    "MAXAR": "5260"
                                },
                                {
                                    "Nyelv": "2",
                                    "Stilus": "szótár",
                                    "MINAR": "3509",
                                    "MAXAR": "5638"
                                },
                                {
                                    "Nyelv": "1",
                                    "Stilus": "történelem",
                                    "MINAR": "3122",
                                    "MAXAR": "6084"
                                },
                                {
                                    "Nyelv": "1",
                                    "Stilus": "zene",
                                    "MINAR": "3391",
                                    "MAXAR": "5730"
                                }
                            ]
                        },
                        "text/html": [
                            "<table>",
                            "<tr><th>Nyelv</th><th>Stilus</th><th>MINAR</th><th>MAXAR</th></tr>",
                            "<tr><td>1</td><td>állattan</td><td>4153</td><td>5235</td></tr>",
                            "<tr><td>1</td><td>biológia</td><td>3482</td><td>5543</td></tr>",
                            "<tr><td>1</td><td>csillagászat</td><td>3582</td><td>5992</td></tr>",
                            "<tr><td>1</td><td>felvételi</td><td>3215</td><td>5955</td></tr>",
                            "<tr><td>1</td><td>fizika</td><td>3734</td><td>5763</td></tr>",
                            "<tr><td>1</td><td>földrajz</td><td>3123</td><td>6065</td></tr>",
                            "<tr><td>1</td><td>gasztronómia</td><td>3258</td><td>5706</td></tr>",
                            "<tr><td>1</td><td>irodalom</td><td>3391</td><td>5654</td></tr>",
                            "<tr><td>1</td><td>ismeretterjesztő</td><td>3256</td><td>6072</td></tr>",
                            "<tr><td>2</td><td>ismeretterjesztő</td><td>5334</td><td>5900</td></tr>",
                            "<tr><td>1</td><td>játék</td><td>3110</td><td>6078</td></tr>",
                            "<tr><td>2</td><td>játék</td><td>3144</td><td>6062</td></tr>",
                            "<tr><td>2</td><td>játék (autóverseny)</td><td>3106</td><td>5005</td></tr>",
                            "<tr><td>1</td><td>matematika</td><td>3105</td><td>5995</td></tr>",
                            "<tr><td>1</td><td>művészet</td><td>3490</td><td>6098</td></tr>",
                            "<tr><td>1</td><td>nyelvtan</td><td>3688</td><td>5845</td></tr>",
                            "<tr><td>2</td><td>nyelvtanító</td><td>3115</td><td>6068</td></tr>",
                            "<tr><td>3</td><td>nyelvtanító</td><td>3313</td><td>5990</td></tr>",
                            "<tr><td>4</td><td>nyelvtanító</td><td>3419</td><td>6082</td></tr>",
                            "<tr><td>6</td><td>nyelvtanító</td><td>3775</td><td>5882</td></tr>",
                            "<tr><td>7</td><td>nyelvtanító</td><td>3770</td><td>5619</td></tr>",
                            "<tr><td>1</td><td>számítástechnika</td><td>3277</td><td>5260</td></tr>",
                            "<tr><td>2</td><td>szótár</td><td>3509</td><td>5638</td></tr>",
                            "<tr><td>1</td><td>történelem</td><td>3122</td><td>6084</td></tr>",
                            "<tr><td>1</td><td>zene</td><td>3391</td><td>5730</td></tr>",
                            "</table>"
                        ]
                    }
                }
            ],
            "execution_count": 20
        },
        {
            "cell_type": "markdown",
            "source": [
                "4. <span style=\"color: rgb(36, 41, 47); font-family: -apple-system, BlinkMacSystemFont, &quot;Segoe UI&quot;, Helvetica, Arial, sans-serif, &quot;Apple Color Emoji&quot;, &quot;Segoe UI Emoji&quot;; font-size: 16px;\">Készítsünk listát, amely a csoportokat hoz létre aszerint, hogy a mai naptól számítva hány nap telt el a kölcsönzés kezdete óta. A lista jelenítse meg csoportonkénti bontásban a kikölcsönzött dvd-k számát!</span>\n",
                "\n",
                "1. Az oszlopokat nevezzük el értelemszerűen!\n",
                "2. A listát rendezzük az eltelt napok száma szerint csökkenő sorrendbe!"
            ],
            "metadata": {
                "azdata_cell_guid": "6478e469-c094-472c-a772-ccd5b5c61516"
            },
            "attachments": {}
        },
        {
            "cell_type": "code",
            "source": [
                "SELECT DATEDIFF(day, ki_datum,GETDATE()) AS 'eltelt napok szama' ,\n",
                "    count(*) AS 'DB'\n",
                "     \n",
                "FROM kolcsonzesek\n",
                "GROUP BY DATEDIFF(day, ki_datum,GETDATE())\n",
                "ORDER BY 2 DESC"
            ],
            "metadata": {
                "azdata_cell_guid": "02031ea2-3838-458d-839c-228e3b362b61",
                "language": "sql"
            },
            "outputs": [
                {
                    "output_type": "display_data",
                    "data": {
                        "text/html": "(3 rows affected)"
                    },
                    "metadata": {}
                },
                {
                    "output_type": "display_data",
                    "data": {
                        "text/html": "Total execution time: 00:00:00.012"
                    },
                    "metadata": {}
                },
                {
                    "output_type": "execute_result",
                    "metadata": {},
                    "execution_count": 31,
                    "data": {
                        "application/vnd.dataresource+json": {
                            "schema": {
                                "fields": [
                                    {
                                        "name": "eltelt napok szama"
                                    },
                                    {
                                        "name": "DB"
                                    }
                                ]
                            },
                            "data": [
                                {
                                    "eltelt napok szama": "7758",
                                    "DB": "3"
                                },
                                {
                                    "eltelt napok szama": "6732",
                                    "DB": "1"
                                },
                                {
                                    "eltelt napok szama": "6733",
                                    "DB": "1"
                                }
                            ]
                        },
                        "text/html": [
                            "<table>",
                            "<tr><th>eltelt napok szama</th><th>DB</th></tr>",
                            "<tr><td>7758</td><td>3</td></tr>",
                            "<tr><td>6732</td><td>1</td></tr>",
                            "<tr><td>6733</td><td>1</td></tr>",
                            "</table>"
                        ]
                    }
                }
            ],
            "execution_count": 31
        },
        {
            "cell_type": "markdown",
            "source": [
                "5. <span style=\"color: rgb(36, 41, 47); font-family: -apple-system, BlinkMacSystemFont, &quot;Segoe UI&quot;, Helvetica, Arial, sans-serif, &quot;Apple Color Emoji&quot;, &quot;Segoe UI Emoji&quot;; font-size: 16px;\">A kölcsönző tulajdonosa elhatározza, hogy ezentúl kerekebb árakat alkalmaz. Ezért minden dvd árát 1000 Ft-ra kerekíti. Készítsünk lekérdezést, amely megmutatja, hogy melyik 1000 Ft-ra kerekített ár szerint, azon belül stílus szerint hány db dvd összesen raktáron! **</span>\n",
                "\n",
                "1. Csak olyan csoportokat listázzunk, ahol a raktárkészlet legalább 30!\n",
                "2. A listát rendezzük kerekített ár szerint, azon belül raktárkészlet szerint növekvő sorrendbe!"
            ],
            "metadata": {
                "azdata_cell_guid": "9edbbaf9-c276-4898-9a01-e1b2993c089f"
            },
            "attachments": {}
        },
        {
            "cell_type": "code",
            "source": [
                "SELECT ROUND(nettoar,-3) AS 'Kerekitett ar',\n",
                "    stilus,\n",
                "    SUM([raktár készlet]) AS 'DB'\n",
                "FROM dvd\n",
                "GROUP BY ROUND(nettoar,-3), stilus\n",
                "HAVING SUM([raktár készlet]) >= 30\n",
                "ORDER BY ROUND(nettoar,-3) ASC,SUM([raktár készlet]) ASC\n",
                ""
            ],
            "metadata": {
                "azdata_cell_guid": "5ad5fdcb-2878-4111-861a-833bcd50e935",
                "language": "sql"
            },
            "outputs": [
                {
                    "output_type": "display_data",
                    "data": {
                        "text/html": "(27 rows affected)"
                    },
                    "metadata": {}
                },
                {
                    "output_type": "display_data",
                    "data": {
                        "text/html": "Total execution time: 00:00:00.014"
                    },
                    "metadata": {}
                },
                {
                    "output_type": "execute_result",
                    "metadata": {},
                    "execution_count": 43,
                    "data": {
                        "application/vnd.dataresource+json": {
                            "schema": {
                                "fields": [
                                    {
                                        "name": "Kerekitett ar"
                                    },
                                    {
                                        "name": "stilus"
                                    },
                                    {
                                        "name": "DB"
                                    }
                                ]
                            },
                            "data": [
                                {
                                    "Kerekitett ar": "3000",
                                    "stilus": "földrajz",
                                    "DB": "30"
                                },
                                {
                                    "Kerekitett ar": "3000",
                                    "stilus": "nyelvtanító",
                                    "DB": "30"
                                },
                                {
                                    "Kerekitett ar": "3000",
                                    "stilus": "játék",
                                    "DB": "40"
                                },
                                {
                                    "Kerekitett ar": "3000",
                                    "stilus": "történelem",
                                    "DB": "40"
                                },
                                {
                                    "Kerekitett ar": "3000",
                                    "stilus": "ismeretterjesztő",
                                    "DB": "70"
                                },
                                {
                                    "Kerekitett ar": "4000",
                                    "stilus": "szótár",
                                    "DB": "30"
                                },
                                {
                                    "Kerekitett ar": "4000",
                                    "stilus": "csillagászat",
                                    "DB": "40"
                                },
                                {
                                    "Kerekitett ar": "4000",
                                    "stilus": "földrajz",
                                    "DB": "50"
                                },
                                {
                                    "Kerekitett ar": "4000",
                                    "stilus": "irodalom",
                                    "DB": "90"
                                },
                                {
                                    "Kerekitett ar": "4000",
                                    "stilus": "ismeretterjesztő",
                                    "DB": "130"
                                },
                                {
                                    "Kerekitett ar": "4000",
                                    "stilus": "nyelvtanító",
                                    "DB": "140"
                                },
                                {
                                    "Kerekitett ar": "4000",
                                    "stilus": "történelem",
                                    "DB": "160"
                                },
                                {
                                    "Kerekitett ar": "4000",
                                    "stilus": "játék",
                                    "DB": "180"
                                },
                                {
                                    "Kerekitett ar": "5000",
                                    "stilus": "irodalom",
                                    "DB": "30"
                                },
                                {
                                    "Kerekitett ar": "5000",
                                    "stilus": "matematika",
                                    "DB": "30"
                                },
                                {
                                    "Kerekitett ar": "5000",
                                    "stilus": "zene",
                                    "DB": "30"
                                },
                                {
                                    "Kerekitett ar": "5000",
                                    "stilus": "földrajz",
                                    "DB": "60"
                                },
                                {
                                    "Kerekitett ar": "5000",
                                    "stilus": "történelem",
                                    "DB": "120"
                                },
                                {
                                    "Kerekitett ar": "5000",
                                    "stilus": "nyelvtanító",
                                    "DB": "140"
                                },
                                {
                                    "Kerekitett ar": "5000",
                                    "stilus": "ismeretterjesztő",
                                    "DB": "170"
                                },
                                {
                                    "Kerekitett ar": "5000",
                                    "stilus": "játék",
                                    "DB": "210"
                                },
                                {
                                    "Kerekitett ar": "6000",
                                    "stilus": "csillagászat",
                                    "DB": "30"
                                },
                                {
                                    "Kerekitett ar": "6000",
                                    "stilus": "irodalom",
                                    "DB": "30"
                                },
                                {
                                    "Kerekitett ar": "6000",
                                    "stilus": "történelem",
                                    "DB": "88"
                                },
                                {
                                    "Kerekitett ar": "6000",
                                    "stilus": "ismeretterjesztő",
                                    "DB": "90"
                                },
                                {
                                    "Kerekitett ar": "6000",
                                    "stilus": "nyelvtanító",
                                    "DB": "110"
                                },
                                {
                                    "Kerekitett ar": "6000",
                                    "stilus": "játék",
                                    "DB": "170"
                                }
                            ]
                        },
                        "text/html": [
                            "<table>",
                            "<tr><th>Kerekitett ar</th><th>stilus</th><th>DB</th></tr>",
                            "<tr><td>3000</td><td>földrajz</td><td>30</td></tr>",
                            "<tr><td>3000</td><td>nyelvtanító</td><td>30</td></tr>",
                            "<tr><td>3000</td><td>játék</td><td>40</td></tr>",
                            "<tr><td>3000</td><td>történelem</td><td>40</td></tr>",
                            "<tr><td>3000</td><td>ismeretterjesztő</td><td>70</td></tr>",
                            "<tr><td>4000</td><td>szótár</td><td>30</td></tr>",
                            "<tr><td>4000</td><td>csillagászat</td><td>40</td></tr>",
                            "<tr><td>4000</td><td>földrajz</td><td>50</td></tr>",
                            "<tr><td>4000</td><td>irodalom</td><td>90</td></tr>",
                            "<tr><td>4000</td><td>ismeretterjesztő</td><td>130</td></tr>",
                            "<tr><td>4000</td><td>nyelvtanító</td><td>140</td></tr>",
                            "<tr><td>4000</td><td>történelem</td><td>160</td></tr>",
                            "<tr><td>4000</td><td>játék</td><td>180</td></tr>",
                            "<tr><td>5000</td><td>irodalom</td><td>30</td></tr>",
                            "<tr><td>5000</td><td>matematika</td><td>30</td></tr>",
                            "<tr><td>5000</td><td>zene</td><td>30</td></tr>",
                            "<tr><td>5000</td><td>földrajz</td><td>60</td></tr>",
                            "<tr><td>5000</td><td>történelem</td><td>120</td></tr>",
                            "<tr><td>5000</td><td>nyelvtanító</td><td>140</td></tr>",
                            "<tr><td>5000</td><td>ismeretterjesztő</td><td>170</td></tr>",
                            "<tr><td>5000</td><td>játék</td><td>210</td></tr>",
                            "<tr><td>6000</td><td>csillagászat</td><td>30</td></tr>",
                            "<tr><td>6000</td><td>irodalom</td><td>30</td></tr>",
                            "<tr><td>6000</td><td>történelem</td><td>88</td></tr>",
                            "<tr><td>6000</td><td>ismeretterjesztő</td><td>90</td></tr>",
                            "<tr><td>6000</td><td>nyelvtanító</td><td>110</td></tr>",
                            "<tr><td>6000</td><td>játék</td><td>170</td></tr>",
                            "</table>"
                        ]
                    }
                }
            ],
            "execution_count": 43
        },
        {
            "cell_type": "markdown",
            "source": [
                "6. <span style=\"font-weight: 600; color: rgb(36, 41, 47); font-family: -apple-system, BlinkMacSystemFont, &quot;Segoe UI&quot;, Helvetica, Arial, sans-serif, &quot;Apple Color Emoji&quot;, &quot;Segoe UI Emoji&quot;; font-size: 16px;\">A dvd-ket csoportosíthatjuk aszerint, hogy milyen hosszú a címük. Amelyiknél a cím hosszúsága 10 karakter alatt van, az legyen Rövid, 10-20-ig Átlagos, 20 felett Hosszú. Hány Rövid, Átlagos, illetve Hosszú dvd-van összesen raktáron?</span>\n",
                "\n",
                "1. Az oszlopok neve legyen 'Cím hosszúság' és 'Darabszám"
            ],
            "metadata": {
                "azdata_cell_guid": "5fe65c1c-2479-45ac-ad03-ec99d12eae21"
            },
            "attachments": {}
        },
        {
            "cell_type": "code",
            "source": [
                "SELECT \n",
                "    CASE \n",
                "        WHEN LEN(cim) < 10 THEN 'Rövid'\n",
                "        WHEN LEN(cim) BETWEEN 10 AND 20 THEN 'Átlagos'\n",
                "        ELSE 'Hosszu'\n",
                "    END AS 'Csoportositas cim hossz szerint',\n",
                "    SUM([raktár készlet]) AS 'DB'\n",
                "\n",
                "FROM dvd\n",
                "GROUP BY  CASE \n",
                "        WHEN LEN(cim) < 10 THEN 'Rövid'\n",
                "        WHEN LEN(cim) BETWEEN 10 AND 20 THEN 'Átlagos'\n",
                "        ELSE 'Hosszu'\n",
                "    END \n",
                "\n",
                ""
            ],
            "metadata": {
                "azdata_cell_guid": "924f2dde-f1c2-4def-a7f9-dbf4bace7735",
                "language": "sql"
            },
            "outputs": [
                {
                    "output_type": "display_data",
                    "data": {
                        "text/html": "(3 rows affected)"
                    },
                    "metadata": {}
                },
                {
                    "output_type": "display_data",
                    "data": {
                        "text/html": "Total execution time: 00:00:00.013"
                    },
                    "metadata": {}
                },
                {
                    "output_type": "execute_result",
                    "metadata": {},
                    "execution_count": 50,
                    "data": {
                        "application/vnd.dataresource+json": {
                            "schema": {
                                "fields": [
                                    {
                                        "name": "Csoportositas cim hossz szerint"
                                    },
                                    {
                                        "name": "DB"
                                    }
                                ]
                            },
                            "data": [
                                {
                                    "Csoportositas cim hossz szerint": "Átlagos",
                                    "DB": "930"
                                },
                                {
                                    "Csoportositas cim hossz szerint": "Hosszu",
                                    "DB": "2128"
                                },
                                {
                                    "Csoportositas cim hossz szerint": "Rövid",
                                    "DB": "120"
                                }
                            ]
                        },
                        "text/html": [
                            "<table>",
                            "<tr><th>Csoportositas cim hossz szerint</th><th>DB</th></tr>",
                            "<tr><td>Átlagos</td><td>930</td></tr>",
                            "<tr><td>Hosszu</td><td>2128</td></tr>",
                            "<tr><td>Rövid</td><td>120</td></tr>",
                            "</table>"
                        ]
                    }
                }
            ],
            "execution_count": 50
        },
        {
            "cell_type": "markdown",
            "source": [
                "7. <span style=\"color: rgb(36, 41, 47); font-family: -apple-system, BlinkMacSystemFont, &quot;Segoe UI&quot;, Helvetica, Arial, sans-serif, &quot;Apple Color Emoji&quot;, &quot;Segoe UI Emoji&quot;; font-size: 16px;\">Készítsünk listát arról, hogy melyik teremben hány óra van!</span>\n",
                "\n",
                "1. Jelenítsük meg a termek azonosítóit és a teremben tartott órák számát!\n",
                "2. Az oszlopokat nevezzük el értelemszerűen!\n",
                "3. Szűrjünk azokra a termekre, ahol az órák száma legalább 3!"
            ],
            "metadata": {
                "azdata_cell_guid": "3aeb6bf5-b111-40d5-92b2-9712ce335696"
            },
            "attachments": {}
        },
        {
            "cell_type": "code",
            "source": [
                "SELECT terem AS 'teremkod',\n",
                "    COUNT(*) AS 'orak szama'\n",
                "FROM Orak\n",
                "GROUP BY terem\n",
                "HAVING COUNT(*) >= 3"
            ],
            "metadata": {
                "azdata_cell_guid": "3e89b651-f56f-4102-af52-30eb2bbe360d",
                "language": "sql"
            },
            "outputs": [
                {
                    "output_type": "display_data",
                    "data": {
                        "text/html": "(11 rows affected)"
                    },
                    "metadata": {}
                },
                {
                    "output_type": "display_data",
                    "data": {
                        "text/html": "Total execution time: 00:00:00.012"
                    },
                    "metadata": {}
                },
                {
                    "output_type": "execute_result",
                    "metadata": {},
                    "execution_count": 60,
                    "data": {
                        "application/vnd.dataresource+json": {
                            "schema": {
                                "fields": [
                                    {
                                        "name": "teremkod"
                                    },
                                    {
                                        "name": "orak szama"
                                    }
                                ]
                            },
                            "data": [
                                {
                                    "teremkod": "2",
                                    "orak szama": "5"
                                },
                                {
                                    "teremkod": "3",
                                    "orak szama": "11"
                                },
                                {
                                    "teremkod": "4",
                                    "orak szama": "8"
                                },
                                {
                                    "teremkod": "5",
                                    "orak szama": "5"
                                },
                                {
                                    "teremkod": "6",
                                    "orak szama": "6"
                                },
                                {
                                    "teremkod": "7",
                                    "orak szama": "6"
                                },
                                {
                                    "teremkod": "8",
                                    "orak szama": "6"
                                },
                                {
                                    "teremkod": "10",
                                    "orak szama": "3"
                                },
                                {
                                    "teremkod": "12",
                                    "orak szama": "3"
                                },
                                {
                                    "teremkod": "13",
                                    "orak szama": "5"
                                },
                                {
                                    "teremkod": "14",
                                    "orak szama": "3"
                                }
                            ]
                        },
                        "text/html": [
                            "<table>",
                            "<tr><th>teremkod</th><th>orak szama</th></tr>",
                            "<tr><td>2</td><td>5</td></tr>",
                            "<tr><td>3</td><td>11</td></tr>",
                            "<tr><td>4</td><td>8</td></tr>",
                            "<tr><td>5</td><td>5</td></tr>",
                            "<tr><td>6</td><td>6</td></tr>",
                            "<tr><td>7</td><td>6</td></tr>",
                            "<tr><td>8</td><td>6</td></tr>",
                            "<tr><td>10</td><td>3</td></tr>",
                            "<tr><td>12</td><td>3</td></tr>",
                            "<tr><td>13</td><td>5</td></tr>",
                            "<tr><td>14</td><td>3</td></tr>",
                            "</table>"
                        ]
                    }
                }
            ],
            "execution_count": 60
        },
        {
            "cell_type": "markdown",
            "source": [
                "8. <span style=\"color: rgb(36, 41, 47); font-family: -apple-system, BlinkMacSystemFont, &quot;Segoe UI&quot;, Helvetica, Arial, sans-serif, &quot;Apple Color Emoji&quot;, &quot;Segoe UI Emoji&quot;; font-size: 16px;\">Készítsünk lekérdezést, amely megadja, hogy minimálian és maximálisan hány kreditet ér egy tantárgy!</span>\n",
                "\n",
                "1. Az oszlopokat nevezzük el értelemszerűen!\n",
                "2. Ne vegyük figyelembe azokat a tantárgyakat, amelyek nevében az „alapjai” szó szerepel, vagy a tantárgy neve 10 karakternél rövidebb!"
            ],
            "metadata": {
                "azdata_cell_guid": "26a504dc-ff6a-439f-94c0-4580eca3eacf"
            },
            "attachments": {}
        },
        {
            "cell_type": "code",
            "source": [
                "SELECT MIN(Kredit) AS 'Min kredit',\n",
                "    MAX(Kredit) AS 'Max kredit'\n",
                "FROM Tantárgyak\n",
                "WHERE Tantárgynév NOT LIKE '%alapjai%' AND LEN(Tantárgynév) >= 10"
            ],
            "metadata": {
                "azdata_cell_guid": "1cbb8aeb-78b5-4350-aa45-e3202fdab85b",
                "language": "sql"
            },
            "outputs": [
                {
                    "output_type": "display_data",
                    "data": {
                        "text/html": "(1 row affected)"
                    },
                    "metadata": {}
                },
                {
                    "output_type": "display_data",
                    "data": {
                        "text/html": "Total execution time: 00:00:00.015"
                    },
                    "metadata": {}
                },
                {
                    "output_type": "execute_result",
                    "metadata": {},
                    "execution_count": 68,
                    "data": {
                        "application/vnd.dataresource+json": {
                            "schema": {
                                "fields": [
                                    {
                                        "name": "Min kredit"
                                    },
                                    {
                                        "name": "Max kredit"
                                    }
                                ]
                            },
                            "data": [
                                {
                                    "Min kredit": "1",
                                    "Max kredit": "5"
                                }
                            ]
                        },
                        "text/html": [
                            "<table>",
                            "<tr><th>Min kredit</th><th>Max kredit</th></tr>",
                            "<tr><td>1</td><td>5</td></tr>",
                            "</table>"
                        ]
                    }
                }
            ],
            "execution_count": 68
        },
        {
            "cell_type": "markdown",
            "source": [
                "9. <span style=\"color: rgb(36, 41, 47); font-family: -apple-system, BlinkMacSystemFont, &quot;Segoe UI&quot;, Helvetica, Arial, sans-serif, &quot;Apple Color Emoji&quot;, &quot;Segoe UI Emoji&quot;; font-size: 16px;\">A tapasztalat alapján a tanársegédeknek 8, az óraadóknak 10 órájuk van egy héten. A többiek annyi órát tartanak, amennyi az elvárt óraszámuk. Készítsünk lekérdezést, amely minden beosztáshoz megjeleníti, hogy hetente hány túlóra tartozik hozzá!</span>\n",
                "\n",
                "1. A lekérdezés csak a beosztások nevét és a heti túlórák számát jelenítse meg!"
            ],
            "metadata": {
                "azdata_cell_guid": "435e2860-2dd5-4877-90f4-34a43baeb53c"
            },
            "attachments": {}
        },
        {
            "cell_type": "code",
            "source": [
                "SELECT beosztasnev,\n",
                "    CASE\n",
                "        WHEN beosztasnev = 'tanársegéd' THEN 8\n",
                "        WHEN beosztasnev = 'óraadó' THEN 10 \n",
                "        ELSE elvart\n",
                "\n",
                "    END - elvart AS 'Tulora'\n",
                "FROM Beosztasok"
            ],
            "metadata": {
                "azdata_cell_guid": "ce846351-ddbe-4d8e-b8fb-2a92c73ac80b",
                "language": "sql"
            },
            "outputs": [
                {
                    "output_type": "display_data",
                    "data": {
                        "text/html": "(7 rows affected)"
                    },
                    "metadata": {}
                },
                {
                    "output_type": "display_data",
                    "data": {
                        "text/html": "Total execution time: 00:00:00.009"
                    },
                    "metadata": {}
                },
                {
                    "output_type": "execute_result",
                    "metadata": {},
                    "execution_count": 70,
                    "data": {
                        "application/vnd.dataresource+json": {
                            "schema": {
                                "fields": [
                                    {
                                        "name": "beosztasnev"
                                    },
                                    {
                                        "name": "Tulora"
                                    }
                                ]
                            },
                            "data": [
                                {
                                    "beosztasnev": "Óraadó",
                                    "Tulora": "4"
                                },
                                {
                                    "beosztasnev": "Tanársegéd",
                                    "Tulora": "2"
                                },
                                {
                                    "beosztasnev": "Adjunktus",
                                    "Tulora": "0"
                                },
                                {
                                    "beosztasnev": "Docens",
                                    "Tulora": "0"
                                },
                                {
                                    "beosztasnev": "Professzor",
                                    "Tulora": "0"
                                },
                                {
                                    "beosztasnev": "Egyetemi tanár",
                                    "Tulora": "0"
                                },
                                {
                                    "beosztasnev": "Tudományos munkatárs",
                                    "Tulora": "0"
                                }
                            ]
                        },
                        "text/html": [
                            "<table>",
                            "<tr><th>beosztasnev</th><th>Tulora</th></tr>",
                            "<tr><td>Óraadó</td><td>4</td></tr>",
                            "<tr><td>Tanársegéd</td><td>2</td></tr>",
                            "<tr><td>Adjunktus</td><td>0</td></tr>",
                            "<tr><td>Docens</td><td>0</td></tr>",
                            "<tr><td>Professzor</td><td>0</td></tr>",
                            "<tr><td>Egyetemi tanár</td><td>0</td></tr>",
                            "<tr><td>Tudományos munkatárs</td><td>0</td></tr>",
                            "</table>"
                        ]
                    }
                }
            ],
            "execution_count": 70
        },
        {
            "cell_type": "markdown",
            "source": [
                "10. <span style=\"font-weight: 600; color: rgb(36, 41, 47); font-family: -apple-system, BlinkMacSystemFont, &quot;Segoe UI&quot;, Helvetica, Arial, sans-serif, &quot;Apple Color Emoji&quot;, &quot;Segoe UI Emoji&quot;; font-size: 16px;\">Melyek azok az oktatók, akiknek nincs órájuk?</span>\n",
                "\n",
                "1. Csak az oktatók neve jelenjen meg!\n",
                "2. ÖTLET: használjunk LEFT JOIN-t, és szűrjünk azokra a rekordokra, ahol NULL érték van a JOIN utáni feltétel jobb oldalán!"
            ],
            "metadata": {
                "azdata_cell_guid": "217c5772-afe2-4a7c-b913-e3a3e09d6411"
            },
            "attachments": {}
        },
        {
            "cell_type": "code",
            "source": [
                "SELECT okt.nev\n",
                "FROM Oktatok okt LEFT JOIN Orak o ON okt.oktato_id = o.tanar\n",
                "WHERE o.tanar IS NULL"
            ],
            "metadata": {
                "azdata_cell_guid": "a9cc0926-3dbd-4ed8-8179-1c39d64a0762",
                "language": "sql"
            },
            "outputs": [
                {
                    "output_type": "display_data",
                    "data": {
                        "text/html": "(5 rows affected)"
                    },
                    "metadata": {}
                },
                {
                    "output_type": "display_data",
                    "data": {
                        "text/html": "Total execution time: 00:00:00.013"
                    },
                    "metadata": {}
                },
                {
                    "output_type": "execute_result",
                    "metadata": {},
                    "execution_count": 75,
                    "data": {
                        "application/vnd.dataresource+json": {
                            "schema": {
                                "fields": [
                                    {
                                        "name": "nev"
                                    },
                                    {
                                        "name": "oktato_id"
                                    },
                                    {
                                        "name": "nev"
                                    },
                                    {
                                        "name": "titulus"
                                    },
                                    {
                                        "name": "beosztás"
                                    },
                                    {
                                        "name": "status"
                                    },
                                    {
                                        "name": "ora_id"
                                    },
                                    {
                                        "name": "tanar"
                                    },
                                    {
                                        "name": "nap"
                                    },
                                    {
                                        "name": "Sav"
                                    },
                                    {
                                        "name": "targy"
                                    },
                                    {
                                        "name": "terem"
                                    }
                                ]
                            },
                            "data": [
                                {
                                    "nev": "Józsa Gábor",
                                    "oktato_id": "11",
                                    "titulus": "Dr.",
                                    "beosztás": "4",
                                    "status": "1",
                                    "ora_id": "NULL",
                                    "tanar": "NULL",
                                    "nap": "NULL",
                                    "Sav": "NULL",
                                    "targy": "NULL",
                                    "terem": "NULL"
                                },
                                {
                                    "nev": "Rácz András",
                                    "oktato_id": "19",
                                    "titulus": "NULL",
                                    "beosztás": "1",
                                    "status": "1",
                                    "ora_id": "NULL",
                                    "tanar": "NULL",
                                    "nap": "NULL",
                                    "Sav": "NULL",
                                    "targy": "NULL",
                                    "terem": "NULL"
                                },
                                {
                                    "nev": "Kiss István",
                                    "oktato_id": "105",
                                    "titulus": "NULL",
                                    "beosztás": "1",
                                    "status": "2",
                                    "ora_id": "NULL",
                                    "tanar": "NULL",
                                    "nap": "NULL",
                                    "Sav": "NULL",
                                    "targy": "NULL",
                                    "terem": "NULL"
                                },
                                {
                                    "nev": "Mészáros Kriszta",
                                    "oktato_id": "107",
                                    "titulus": "NULL",
                                    "beosztás": "1",
                                    "status": "2",
                                    "ora_id": "NULL",
                                    "tanar": "NULL",
                                    "nap": "NULL",
                                    "Sav": "NULL",
                                    "targy": "NULL",
                                    "terem": "NULL"
                                },
                                {
                                    "nev": "Kovacs Istvan",
                                    "oktato_id": "302",
                                    "titulus": "Dr.",
                                    "beosztás": "5",
                                    "status": "1",
                                    "ora_id": "NULL",
                                    "tanar": "NULL",
                                    "nap": "NULL",
                                    "Sav": "NULL",
                                    "targy": "NULL",
                                    "terem": "NULL"
                                }
                            ]
                        },
                        "text/html": [
                            "<table>",
                            "<tr><th>nev</th><th>oktato_id</th><th>nev</th><th>titulus</th><th>beosztás</th><th>status</th><th>ora_id</th><th>tanar</th><th>nap</th><th>Sav</th><th>targy</th><th>terem</th></tr>",
                            "<tr><td>Józsa Gábor</td><td>11</td><td>Józsa Gábor</td><td>Dr.</td><td>4</td><td>1</td><td>NULL</td><td>NULL</td><td>NULL</td><td>NULL</td><td>NULL</td><td>NULL</td></tr>",
                            "<tr><td>Rácz András</td><td>19</td><td>Rácz András</td><td>NULL</td><td>1</td><td>1</td><td>NULL</td><td>NULL</td><td>NULL</td><td>NULL</td><td>NULL</td><td>NULL</td></tr>",
                            "<tr><td>Kiss István</td><td>105</td><td>Kiss István</td><td>NULL</td><td>1</td><td>2</td><td>NULL</td><td>NULL</td><td>NULL</td><td>NULL</td><td>NULL</td><td>NULL</td></tr>",
                            "<tr><td>Mészáros Kriszta</td><td>107</td><td>Mészáros Kriszta</td><td>NULL</td><td>1</td><td>2</td><td>NULL</td><td>NULL</td><td>NULL</td><td>NULL</td><td>NULL</td><td>NULL</td></tr>",
                            "<tr><td>Kovacs Istvan</td><td>302</td><td>Kovacs Istvan</td><td>Dr.</td><td>5</td><td>1</td><td>NULL</td><td>NULL</td><td>NULL</td><td>NULL</td><td>NULL</td><td>NULL</td></tr>",
                            "</table>"
                        ]
                    }
                }
            ],
            "execution_count": 75
        },
        {
            "cell_type": "markdown",
            "source": [
                "11. <span style=\"font-weight: 600; color: rgb(36, 41, 47); font-family: -apple-system, BlinkMacSystemFont, &quot;Segoe UI&quot;, Helvetica, Arial, sans-serif, &quot;Apple Color Emoji&quot;, &quot;Segoe UI Emoji&quot;; font-size: 16px;\">Készítsünk lekérdezést, amely részletesen megjeleníti az egyes órák fontosabb adatait, azaz</span>\n",
                "\n",
                "1. Az órák azonosítóit, a tanár nevét, a tantárgy nevét, a terem nevét és a kezdési időpontot!\n",
                "2. Az oszlopokat nevezzük el értelemszerűen!"
            ],
            "metadata": {
                "azdata_cell_guid": "d2340f5f-1614-473c-b937-85740d67f7c1"
            },
            "attachments": {}
        },
        {
            "cell_type": "code",
            "source": [
                "SELECT o.ora_id AS 'Ora azonosito',\n",
                "       okt.nev AS 'Tanar nev',\n",
                "       t.Tantárgynév AS 'Tantargy nev',\n",
                "       ter.Terem AS 'Terem nev',\n",
                "       s.Időpont AS 'kezdesi idopont'\n",
                "\n",
                "       \n",
                "FROM Orak o JOIN Oktatok okt ON o.tanar = okt.oktato_id\n",
                "    JOIN Tantárgyak t ON o.targy = t.Tkód\n",
                "    JOIN Termek ter ON o.terem = ter.Tkód\n",
                "    JOIN Savok s ON o.Sav = s.Sav_id\n",
                ""
            ],
            "metadata": {
                "azdata_cell_guid": "e99c2c53-898f-4787-b0e6-182d106dc16f",
                "language": "sql",
                "tags": []
            },
            "outputs": [
                {
                    "output_type": "display_data",
                    "data": {
                        "text/html": "(67 rows affected)"
                    },
                    "metadata": {}
                },
                {
                    "output_type": "display_data",
                    "data": {
                        "text/html": "Total execution time: 00:00:00.011"
                    },
                    "metadata": {}
                },
                {
                    "output_type": "execute_result",
                    "metadata": {},
                    "execution_count": 83,
                    "data": {
                        "application/vnd.dataresource+json": {
                            "schema": {
                                "fields": [
                                    {
                                        "name": "Ora azonosito"
                                    },
                                    {
                                        "name": "Tanar nev"
                                    },
                                    {
                                        "name": "Tantargy nev"
                                    },
                                    {
                                        "name": "Terem nev"
                                    },
                                    {
                                        "name": "kezdesi idopont"
                                    }
                                ]
                            },
                            "data": [
                                {
                                    "Ora azonosito": "159",
                                    "Tanar nev": "Ujfalussi István",
                                    "Tantargy nev": "Az ürgeöntés alapjai",
                                    "Terem nev": "117",
                                    "kezdesi idopont": "8.00"
                                },
                                {
                                    "Ora azonosito": "160",
                                    "Tanar nev": "Pelikán József",
                                    "Tantargy nev": "Az ürgeöntés alapjai",
                                    "Terem nev": "118",
                                    "kezdesi idopont": "14.00"
                                },
                                {
                                    "Ora azonosito": "161",
                                    "Tanar nev": "Pelikán József",
                                    "Tantargy nev": "Az ürgeöntés alapjai",
                                    "Terem nev": "118",
                                    "kezdesi idopont": "9.30"
                                },
                                {
                                    "Ora azonosito": "162",
                                    "Tanar nev": "Kovács András",
                                    "Tantargy nev": "Az ürgeöntés alapjai",
                                    "Terem nev": "119",
                                    "kezdesi idopont": "12.30"
                                },
                                {
                                    "Ora azonosito": "163",
                                    "Tanar nev": "Szerb László",
                                    "Tantargy nev": "Az ürgeöntés alapjai",
                                    "Terem nev": "120",
                                    "kezdesi idopont": "9.30"
                                },
                                {
                                    "Ora azonosito": "164",
                                    "Tanar nev": "Kiss János",
                                    "Tantargy nev": "Az ürgeöntés alapjai",
                                    "Terem nev": "119",
                                    "kezdesi idopont": "11.00"
                                },
                                {
                                    "Ora azonosito": "165",
                                    "Tanar nev": "Szerb László",
                                    "Tantargy nev": "Az ürgeöntés alapjai",
                                    "Terem nev": "119",
                                    "kezdesi idopont": "11.00"
                                },
                                {
                                    "Ora azonosito": "166",
                                    "Tanar nev": "Szerb László",
                                    "Tantargy nev": "Az ürgeöntés alapjai",
                                    "Terem nev": "119",
                                    "kezdesi idopont": "12.30"
                                },
                                {
                                    "Ora azonosito": "167",
                                    "Tanar nev": "Szentágotai Istvás",
                                    "Tantargy nev": "Az ürgeöntés alapjai",
                                    "Terem nev": "120",
                                    "kezdesi idopont": "12.30"
                                },
                                {
                                    "Ora azonosito": "168",
                                    "Tanar nev": "Ujfalussi István",
                                    "Tantargy nev": "Az ürgeöntés alapjai",
                                    "Terem nev": "217",
                                    "kezdesi idopont": "11.00"
                                },
                                {
                                    "Ora azonosito": "169",
                                    "Tanar nev": "Kovács András",
                                    "Tantargy nev": "Az ürgeöntés alapjai",
                                    "Terem nev": "218",
                                    "kezdesi idopont": "9.30"
                                },
                                {
                                    "Ora azonosito": "170",
                                    "Tanar nev": "Ludas Mátyás",
                                    "Tantargy nev": "Az ürgeöntés alapjai",
                                    "Terem nev": "120",
                                    "kezdesi idopont": "9.30"
                                },
                                {
                                    "Ora azonosito": "171",
                                    "Tanar nev": "Szénási ászló",
                                    "Tantargy nev": "Az ürgeöntés alapjai",
                                    "Terem nev": "220",
                                    "kezdesi idopont": "9.30"
                                },
                                {
                                    "Ora azonosito": "172",
                                    "Tanar nev": "Kiss János",
                                    "Tantargy nev": "Az ürgeöntés alapjai",
                                    "Terem nev": "119",
                                    "kezdesi idopont": "9.30"
                                },
                                {
                                    "Ora azonosito": "173",
                                    "Tanar nev": "Kovács András",
                                    "Tantargy nev": "Az ürgeöntés alapjai",
                                    "Terem nev": "119",
                                    "kezdesi idopont": "11.00"
                                },
                                {
                                    "Ora azonosito": "174",
                                    "Tanar nev": "Ludas Mátyás",
                                    "Tantargy nev": "Az ürgeöntés alapjai",
                                    "Terem nev": "219",
                                    "kezdesi idopont": "11.00"
                                },
                                {
                                    "Ora azonosito": "175",
                                    "Tanar nev": "Szénási ászló",
                                    "Tantargy nev": "Az ürgeöntés alapjai",
                                    "Terem nev": "120",
                                    "kezdesi idopont": "12.30"
                                },
                                {
                                    "Ora azonosito": "176",
                                    "Tanar nev": "Kovács András",
                                    "Tantargy nev": "Az ürgeöntés alapjai",
                                    "Terem nev": "118",
                                    "kezdesi idopont": "12.30"
                                },
                                {
                                    "Ora azonosito": "177",
                                    "Tanar nev": "Szentágotai Istvás",
                                    "Tantargy nev": "Az ürgeöntés alapjai",
                                    "Terem nev": "119",
                                    "kezdesi idopont": "14.00"
                                },
                                {
                                    "Ora azonosito": "178",
                                    "Tanar nev": "Vitéz János",
                                    "Tantargy nev": "Az ürgeöntés alapjai",
                                    "Terem nev": "220",
                                    "kezdesi idopont": "14.00"
                                },
                                {
                                    "Ora azonosito": "179",
                                    "Tanar nev": "Szentágotai Istvás",
                                    "Tantargy nev": "Az ürgeöntés alapjai",
                                    "Terem nev": "120",
                                    "kezdesi idopont": "15.30"
                                },
                                {
                                    "Ora azonosito": "180",
                                    "Tanar nev": "Vitéz János",
                                    "Tantargy nev": "Az ürgeöntés alapjai",
                                    "Terem nev": "119",
                                    "kezdesi idopont": "15.30"
                                },
                                {
                                    "Ora azonosito": "181",
                                    "Tanar nev": "Szentágotai Istvás",
                                    "Tantargy nev": "Az ürgeöntés alapjai",
                                    "Terem nev": "118",
                                    "kezdesi idopont": "8.00"
                                },
                                {
                                    "Ora azonosito": "182",
                                    "Tanar nev": "Vitéz János",
                                    "Tantargy nev": "Az ürgeöntés alapjai",
                                    "Terem nev": "219",
                                    "kezdesi idopont": "8.00"
                                },
                                {
                                    "Ora azonosito": "183",
                                    "Tanar nev": "Szentágotai Istvás",
                                    "Tantargy nev": "Az ürgeöntés alapjai",
                                    "Terem nev": "220",
                                    "kezdesi idopont": "9.30"
                                },
                                {
                                    "Ora azonosito": "184",
                                    "Tanar nev": "Vitéz János",
                                    "Tantargy nev": "Az ürgeöntés alapjai",
                                    "Terem nev": "218",
                                    "kezdesi idopont": "9.30"
                                },
                                {
                                    "Ora azonosito": "185",
                                    "Tanar nev": "Szentágotai Istvás",
                                    "Tantargy nev": "Az ürgeöntés alapjai",
                                    "Terem nev": "120",
                                    "kezdesi idopont": "11.00"
                                },
                                {
                                    "Ora azonosito": "186",
                                    "Tanar nev": "Nógrádi Kata",
                                    "Tantargy nev": "ü-business",
                                    "Terem nev": "219",
                                    "kezdesi idopont": "12.30"
                                },
                                {
                                    "Ora azonosito": "187",
                                    "Tanar nev": "Balkán András",
                                    "Tantargy nev": "Bevezetés az ürgeöntésbe",
                                    "Terem nev": "217",
                                    "kezdesi idopont": "9.30"
                                },
                                {
                                    "Ora azonosito": "188",
                                    "Tanar nev": "Farkasos Piroska",
                                    "Tantargy nev": "Bevezetés az ürgeöntésbe",
                                    "Terem nev": "VP 203.",
                                    "kezdesi idopont": "15.30"
                                },
                                {
                                    "Ora azonosito": "189",
                                    "Tanar nev": "Farkasos Piroska",
                                    "Tantargy nev": "Bevezetés az ürgeöntésbe",
                                    "Terem nev": "VP 203.",
                                    "kezdesi idopont": "9.30"
                                },
                                {
                                    "Ora azonosito": "190",
                                    "Tanar nev": "Farkasos Piroska",
                                    "Tantargy nev": "Bevezetés az ürgeöntésbe",
                                    "Terem nev": "E.2.238",
                                    "kezdesi idopont": "11.00"
                                },
                                {
                                    "Ora azonosito": "191",
                                    "Tanar nev": "Varga Kata",
                                    "Tantargy nev": "Az ürgeöntés hydrológiai alapjai II.",
                                    "Terem nev": "220",
                                    "kezdesi idopont": "14.00"
                                },
                                {
                                    "Ora azonosito": "192",
                                    "Tanar nev": "Varga Kata",
                                    "Tantargy nev": "Az ürgeöntés hydrológiai alapjai II.",
                                    "Terem nev": "119",
                                    "kezdesi idopont": "15.30"
                                },
                                {
                                    "Ora azonosito": "193",
                                    "Tanar nev": "Farkasos Piroska",
                                    "Tantargy nev": "Az ürgeöntés hydrológiai alapjai II.",
                                    "Terem nev": "217",
                                    "kezdesi idopont": "14.00"
                                },
                                {
                                    "Ora azonosito": "194",
                                    "Tanar nev": "Farkasos Piroska",
                                    "Tantargy nev": "Az ürgeöntés hydrológiai alapjai II.",
                                    "Terem nev": "E.fsz.I",
                                    "kezdesi idopont": "15.30"
                                },
                                {
                                    "Ora azonosito": "195",
                                    "Tanar nev": "Balkán András",
                                    "Tantargy nev": "Az ürgeöntés hydrológiai alapjai II.",
                                    "Terem nev": "116",
                                    "kezdesi idopont": "14.00"
                                },
                                {
                                    "Ora azonosito": "196",
                                    "Tanar nev": "Balkán András",
                                    "Tantargy nev": "Az ürgeöntés hydrológiai alapjai II.",
                                    "Terem nev": "218",
                                    "kezdesi idopont": "15.30"
                                },
                                {
                                    "Ora azonosito": "197",
                                    "Tanar nev": "Farkasos Piroska",
                                    "Tantargy nev": "Az ürgeöntés hydrológiai alapjai II.",
                                    "Terem nev": "116",
                                    "kezdesi idopont": "8.00"
                                },
                                {
                                    "Ora azonosito": "198",
                                    "Tanar nev": "Farkasos Piroska",
                                    "Tantargy nev": "Az ürgeöntés hydrológiai alapjai II.",
                                    "Terem nev": "119",
                                    "kezdesi idopont": "9.30"
                                },
                                {
                                    "Ora azonosito": "199",
                                    "Tanar nev": "Szabó Andrera",
                                    "Tantargy nev": "Az ürgeöntés hydrológiai alapjai II.",
                                    "Terem nev": "218",
                                    "kezdesi idopont": "8.00"
                                },
                                {
                                    "Ora azonosito": "200",
                                    "Tanar nev": "Szabó Andrera",
                                    "Tantargy nev": "Az ürgeöntés hydrológiai alapjai II.",
                                    "Terem nev": "220",
                                    "kezdesi idopont": "9.30"
                                },
                                {
                                    "Ora azonosito": "201",
                                    "Tanar nev": "Juhász András",
                                    "Tantargy nev": "Öntési gyakorlat",
                                    "Terem nev": "E.2.238",
                                    "kezdesi idopont": "12.30"
                                },
                                {
                                    "Ora azonosito": "202",
                                    "Tanar nev": "Juhász András",
                                    "Tantargy nev": "Öntési gyakorlat",
                                    "Terem nev": "E.3.332",
                                    "kezdesi idopont": "14.00"
                                },
                                {
                                    "Ora azonosito": "203",
                                    "Tanar nev": "Aranyi Mária",
                                    "Tantargy nev": "Az ürgeöntés hydrológiai alapjai I.",
                                    "Terem nev": "S.Asor.S3",
                                    "kezdesi idopont": "12.30"
                                },
                                {
                                    "Ora azonosito": "204",
                                    "Tanar nev": "Róbert Gida",
                                    "Tantargy nev": "Az ürgeöntés hydrológiai alapjai I.",
                                    "Terem nev": "120",
                                    "kezdesi idopont": "14.00"
                                },
                                {
                                    "Ora azonosito": "205",
                                    "Tanar nev": "Ujfalussi István",
                                    "Tantargy nev": "Az öntés elmélete",
                                    "Terem nev": "220",
                                    "kezdesi idopont": "12.30"
                                },
                                {
                                    "Ora azonosito": "206",
                                    "Tanar nev": "Varga Kata",
                                    "Tantargy nev": "Az öntés elmélete",
                                    "Terem nev": "S.Asor.S3",
                                    "kezdesi idopont": "8.00"
                                },
                                {
                                    "Ora azonosito": "207",
                                    "Tanar nev": "Varga Kata",
                                    "Tantargy nev": "Az öntés elmélete",
                                    "Terem nev": "219",
                                    "kezdesi idopont": "12.30"
                                },
                                {
                                    "Ora azonosito": "208",
                                    "Tanar nev": "Jogrerős Pál",
                                    "Tantargy nev": "Ürgevitel",
                                    "Terem nev": "VP 203.",
                                    "kezdesi idopont": "8.00"
                                },
                                {
                                    "Ora azonosito": "209",
                                    "Tanar nev": "Jogrerős Pál",
                                    "Tantargy nev": "Ürgevitel",
                                    "Terem nev": "VP 203.",
                                    "kezdesi idopont": "9.30"
                                },
                                {
                                    "Ora azonosito": "210",
                                    "Tanar nev": "Szép llonka",
                                    "Tantargy nev": "Ürgeöntés az EU-ban",
                                    "Terem nev": "E.2.238",
                                    "kezdesi idopont": "15.30"
                                },
                                {
                                    "Ora azonosito": "211",
                                    "Tanar nev": "Szép llonka",
                                    "Tantargy nev": "Ürgeöntés az EU-ban",
                                    "Terem nev": "217",
                                    "kezdesi idopont": "17.00"
                                },
                                {
                                    "Ora azonosito": "212",
                                    "Tanar nev": "Kiss János",
                                    "Tantargy nev": "Ürgeöntés az EU-ban",
                                    "Terem nev": "120",
                                    "kezdesi idopont": "18.30"
                                },
                                {
                                    "Ora azonosito": "213",
                                    "Tanar nev": "Kiss János",
                                    "Tantargy nev": "Ürgeöntés az EU-ban",
                                    "Terem nev": "218",
                                    "kezdesi idopont": "20.00"
                                },
                                {
                                    "Ora azonosito": "214",
                                    "Tanar nev": "Pelikán József",
                                    "Tantargy nev": "Az ürge anatómiája",
                                    "Terem nev": "219",
                                    "kezdesi idopont": "11.00"
                                },
                                {
                                    "Ora azonosito": "215",
                                    "Tanar nev": "Pelikán József",
                                    "Tantargy nev": "Az ürge anatómiája",
                                    "Terem nev": "E.fsz.IV.",
                                    "kezdesi idopont": "12.30"
                                },
                                {
                                    "Ora azonosito": "216",
                                    "Tanar nev": "Szép llonka",
                                    "Tantargy nev": "Az ürge anatómiája",
                                    "Terem nev": "218",
                                    "kezdesi idopont": "11.00"
                                },
                                {
                                    "Ora azonosito": "217",
                                    "Tanar nev": "Szép llonka",
                                    "Tantargy nev": "Az ürge anatómiája",
                                    "Terem nev": "217",
                                    "kezdesi idopont": "12.30"
                                },
                                {
                                    "Ora azonosito": "218",
                                    "Tanar nev": "Pelikán József",
                                    "Tantargy nev": "Az ürge anatómiája",
                                    "Terem nev": "118",
                                    "kezdesi idopont": "15.30"
                                },
                                {
                                    "Ora azonosito": "219",
                                    "Tanar nev": "Pelikán József",
                                    "Tantargy nev": "Az ürge anatómiája",
                                    "Terem nev": "219",
                                    "kezdesi idopont": "17.00"
                                },
                                {
                                    "Ora azonosito": "220",
                                    "Tanar nev": "Kovács László",
                                    "Tantargy nev": "Fejezetek az ürgék jogaiból",
                                    "Terem nev": "119",
                                    "kezdesi idopont": "11.00"
                                },
                                {
                                    "Ora azonosito": "221",
                                    "Tanar nev": "Kovács László",
                                    "Tantargy nev": "Fejezetek az ürgék jogaiból",
                                    "Terem nev": "VP 203.",
                                    "kezdesi idopont": "11.00"
                                },
                                {
                                    "Ora azonosito": "222",
                                    "Tanar nev": "Kovács László",
                                    "Tantargy nev": "Fejezetek az ürgék jogaiból",
                                    "Terem nev": "116",
                                    "kezdesi idopont": "14.00"
                                },
                                {
                                    "Ora azonosito": "223",
                                    "Tanar nev": "Kovács László",
                                    "Tantargy nev": "Fejezetek az ürgék jogaiból",
                                    "Terem nev": "S.Asor.S3",
                                    "kezdesi idopont": "8.00"
                                },
                                {
                                    "Ora azonosito": "226",
                                    "Tanar nev": "Szentágotai Istvás",
                                    "Tantargy nev": "ürgefőzés",
                                    "Terem nev": "117",
                                    "kezdesi idopont": "11.00"
                                },
                                {
                                    "Ora azonosito": "227",
                                    "Tanar nev": "Szentágotai Istvás",
                                    "Tantargy nev": "Az ürgeöntés hydrológiai alapjai I.",
                                    "Terem nev": "116",
                                    "kezdesi idopont": "14.00"
                                }
                            ]
                        },
                        "text/html": [
                            "<table>",
                            "<tr><th>Ora azonosito</th><th>Tanar nev</th><th>Tantargy nev</th><th>Terem nev</th><th>kezdesi idopont</th></tr>",
                            "<tr><td>159</td><td>Ujfalussi István</td><td>Az ürgeöntés alapjai</td><td>117</td><td>8.00</td></tr>",
                            "<tr><td>160</td><td>Pelikán József</td><td>Az ürgeöntés alapjai</td><td>118</td><td>14.00</td></tr>",
                            "<tr><td>161</td><td>Pelikán József</td><td>Az ürgeöntés alapjai</td><td>118</td><td>9.30</td></tr>",
                            "<tr><td>162</td><td>Kovács András</td><td>Az ürgeöntés alapjai</td><td>119</td><td>12.30</td></tr>",
                            "<tr><td>163</td><td>Szerb László</td><td>Az ürgeöntés alapjai</td><td>120</td><td>9.30</td></tr>",
                            "<tr><td>164</td><td>Kiss János</td><td>Az ürgeöntés alapjai</td><td>119</td><td>11.00</td></tr>",
                            "<tr><td>165</td><td>Szerb László</td><td>Az ürgeöntés alapjai</td><td>119</td><td>11.00</td></tr>",
                            "<tr><td>166</td><td>Szerb László</td><td>Az ürgeöntés alapjai</td><td>119</td><td>12.30</td></tr>",
                            "<tr><td>167</td><td>Szentágotai Istvás</td><td>Az ürgeöntés alapjai</td><td>120</td><td>12.30</td></tr>",
                            "<tr><td>168</td><td>Ujfalussi István</td><td>Az ürgeöntés alapjai</td><td>217</td><td>11.00</td></tr>",
                            "<tr><td>169</td><td>Kovács András</td><td>Az ürgeöntés alapjai</td><td>218</td><td>9.30</td></tr>",
                            "<tr><td>170</td><td>Ludas Mátyás</td><td>Az ürgeöntés alapjai</td><td>120</td><td>9.30</td></tr>",
                            "<tr><td>171</td><td>Szénási ászló</td><td>Az ürgeöntés alapjai</td><td>220</td><td>9.30</td></tr>",
                            "<tr><td>172</td><td>Kiss János</td><td>Az ürgeöntés alapjai</td><td>119</td><td>9.30</td></tr>",
                            "<tr><td>173</td><td>Kovács András</td><td>Az ürgeöntés alapjai</td><td>119</td><td>11.00</td></tr>",
                            "<tr><td>174</td><td>Ludas Mátyás</td><td>Az ürgeöntés alapjai</td><td>219</td><td>11.00</td></tr>",
                            "<tr><td>175</td><td>Szénási ászló</td><td>Az ürgeöntés alapjai</td><td>120</td><td>12.30</td></tr>",
                            "<tr><td>176</td><td>Kovács András</td><td>Az ürgeöntés alapjai</td><td>118</td><td>12.30</td></tr>",
                            "<tr><td>177</td><td>Szentágotai Istvás</td><td>Az ürgeöntés alapjai</td><td>119</td><td>14.00</td></tr>",
                            "<tr><td>178</td><td>Vitéz János</td><td>Az ürgeöntés alapjai</td><td>220</td><td>14.00</td></tr>",
                            "<tr><td>179</td><td>Szentágotai Istvás</td><td>Az ürgeöntés alapjai</td><td>120</td><td>15.30</td></tr>",
                            "<tr><td>180</td><td>Vitéz János</td><td>Az ürgeöntés alapjai</td><td>119</td><td>15.30</td></tr>",
                            "<tr><td>181</td><td>Szentágotai Istvás</td><td>Az ürgeöntés alapjai</td><td>118</td><td>8.00</td></tr>",
                            "<tr><td>182</td><td>Vitéz János</td><td>Az ürgeöntés alapjai</td><td>219</td><td>8.00</td></tr>",
                            "<tr><td>183</td><td>Szentágotai Istvás</td><td>Az ürgeöntés alapjai</td><td>220</td><td>9.30</td></tr>",
                            "<tr><td>184</td><td>Vitéz János</td><td>Az ürgeöntés alapjai</td><td>218</td><td>9.30</td></tr>",
                            "<tr><td>185</td><td>Szentágotai Istvás</td><td>Az ürgeöntés alapjai</td><td>120</td><td>11.00</td></tr>",
                            "<tr><td>186</td><td>Nógrádi Kata</td><td>ü-business</td><td>219</td><td>12.30</td></tr>",
                            "<tr><td>187</td><td>Balkán András</td><td>Bevezetés az ürgeöntésbe</td><td>217</td><td>9.30</td></tr>",
                            "<tr><td>188</td><td>Farkasos Piroska</td><td>Bevezetés az ürgeöntésbe</td><td>VP 203.</td><td>15.30</td></tr>",
                            "<tr><td>189</td><td>Farkasos Piroska</td><td>Bevezetés az ürgeöntésbe</td><td>VP 203.</td><td>9.30</td></tr>",
                            "<tr><td>190</td><td>Farkasos Piroska</td><td>Bevezetés az ürgeöntésbe</td><td>E.2.238</td><td>11.00</td></tr>",
                            "<tr><td>191</td><td>Varga Kata</td><td>Az ürgeöntés hydrológiai alapjai II.</td><td>220</td><td>14.00</td></tr>",
                            "<tr><td>192</td><td>Varga Kata</td><td>Az ürgeöntés hydrológiai alapjai II.</td><td>119</td><td>15.30</td></tr>",
                            "<tr><td>193</td><td>Farkasos Piroska</td><td>Az ürgeöntés hydrológiai alapjai II.</td><td>217</td><td>14.00</td></tr>",
                            "<tr><td>194</td><td>Farkasos Piroska</td><td>Az ürgeöntés hydrológiai alapjai II.</td><td>E.fsz.I</td><td>15.30</td></tr>",
                            "<tr><td>195</td><td>Balkán András</td><td>Az ürgeöntés hydrológiai alapjai II.</td><td>116</td><td>14.00</td></tr>",
                            "<tr><td>196</td><td>Balkán András</td><td>Az ürgeöntés hydrológiai alapjai II.</td><td>218</td><td>15.30</td></tr>",
                            "<tr><td>197</td><td>Farkasos Piroska</td><td>Az ürgeöntés hydrológiai alapjai II.</td><td>116</td><td>8.00</td></tr>",
                            "<tr><td>198</td><td>Farkasos Piroska</td><td>Az ürgeöntés hydrológiai alapjai II.</td><td>119</td><td>9.30</td></tr>",
                            "<tr><td>199</td><td>Szabó Andrera</td><td>Az ürgeöntés hydrológiai alapjai II.</td><td>218</td><td>8.00</td></tr>",
                            "<tr><td>200</td><td>Szabó Andrera</td><td>Az ürgeöntés hydrológiai alapjai II.</td><td>220</td><td>9.30</td></tr>",
                            "<tr><td>201</td><td>Juhász András</td><td>Öntési gyakorlat</td><td>E.2.238</td><td>12.30</td></tr>",
                            "<tr><td>202</td><td>Juhász András</td><td>Öntési gyakorlat</td><td>E.3.332</td><td>14.00</td></tr>",
                            "<tr><td>203</td><td>Aranyi Mária</td><td>Az ürgeöntés hydrológiai alapjai I.</td><td>S.Asor.S3</td><td>12.30</td></tr>",
                            "<tr><td>204</td><td>Róbert Gida</td><td>Az ürgeöntés hydrológiai alapjai I.</td><td>120</td><td>14.00</td></tr>",
                            "<tr><td>205</td><td>Ujfalussi István</td><td>Az öntés elmélete</td><td>220</td><td>12.30</td></tr>",
                            "<tr><td>206</td><td>Varga Kata</td><td>Az öntés elmélete</td><td>S.Asor.S3</td><td>8.00</td></tr>",
                            "<tr><td>207</td><td>Varga Kata</td><td>Az öntés elmélete</td><td>219</td><td>12.30</td></tr>",
                            "<tr><td>208</td><td>Jogrerős Pál</td><td>Ürgevitel</td><td>VP 203.</td><td>8.00</td></tr>",
                            "<tr><td>209</td><td>Jogrerős Pál</td><td>Ürgevitel</td><td>VP 203.</td><td>9.30</td></tr>",
                            "<tr><td>210</td><td>Szép llonka</td><td>Ürgeöntés az EU-ban</td><td>E.2.238</td><td>15.30</td></tr>",
                            "<tr><td>211</td><td>Szép llonka</td><td>Ürgeöntés az EU-ban</td><td>217</td><td>17.00</td></tr>",
                            "<tr><td>212</td><td>Kiss János</td><td>Ürgeöntés az EU-ban</td><td>120</td><td>18.30</td></tr>",
                            "<tr><td>213</td><td>Kiss János</td><td>Ürgeöntés az EU-ban</td><td>218</td><td>20.00</td></tr>",
                            "<tr><td>214</td><td>Pelikán József</td><td>Az ürge anatómiája</td><td>219</td><td>11.00</td></tr>",
                            "<tr><td>215</td><td>Pelikán József</td><td>Az ürge anatómiája</td><td>E.fsz.IV.</td><td>12.30</td></tr>",
                            "<tr><td>216</td><td>Szép llonka</td><td>Az ürge anatómiája</td><td>218</td><td>11.00</td></tr>",
                            "<tr><td>217</td><td>Szép llonka</td><td>Az ürge anatómiája</td><td>217</td><td>12.30</td></tr>",
                            "<tr><td>218</td><td>Pelikán József</td><td>Az ürge anatómiája</td><td>118</td><td>15.30</td></tr>",
                            "<tr><td>219</td><td>Pelikán József</td><td>Az ürge anatómiája</td><td>219</td><td>17.00</td></tr>",
                            "<tr><td>220</td><td>Kovács László</td><td>Fejezetek az ürgék jogaiból</td><td>119</td><td>11.00</td></tr>",
                            "<tr><td>221</td><td>Kovács László</td><td>Fejezetek az ürgék jogaiból</td><td>VP 203.</td><td>11.00</td></tr>",
                            "<tr><td>222</td><td>Kovács László</td><td>Fejezetek az ürgék jogaiból</td><td>116</td><td>14.00</td></tr>",
                            "<tr><td>223</td><td>Kovács László</td><td>Fejezetek az ürgék jogaiból</td><td>S.Asor.S3</td><td>8.00</td></tr>",
                            "<tr><td>226</td><td>Szentágotai Istvás</td><td>ürgefőzés</td><td>117</td><td>11.00</td></tr>",
                            "<tr><td>227</td><td>Szentágotai Istvás</td><td>Az ürgeöntés hydrológiai alapjai I.</td><td>116</td><td>14.00</td></tr>",
                            "</table>"
                        ]
                    }
                }
            ],
            "execution_count": 83
        },
        {
            "cell_type": "markdown",
            "source": [
                "12. <span style=\"color: rgb(36, 41, 47); font-family: -apple-system, BlinkMacSystemFont, &quot;Segoe UI&quot;, Helvetica, Arial, sans-serif, &quot;Apple Color Emoji&quot;, &quot;Segoe UI Emoji&quot;; font-size: 16px;\">Készítsünk listát, amely tartalmazza az egyes órák azonosítóit, és az órán oktatott tantárgy felelősének nevét!</span>\n",
                "\n",
                "1. Rendezzük a listát a tantárgyfelelős neve szerint csökkenő sorrendbe!"
            ],
            "metadata": {
                "azdata_cell_guid": "a765e9d6-58b3-4171-872a-78f3118fd6e3"
            },
            "attachments": {}
        },
        {
            "cell_type": "code",
            "source": [
                "SELECT o.ora_id AS 'Ora azonosito',\n",
                "       okt.nev AS 'Targyfelelos'\n",
                "FROM Orak o JOIN Tantárgyak t ON o.targy = t.Tkód\n",
                "            JOIN Oktatok okt ON  t.Tantárgyfelelős = oktato_id\n",
                "ORDER BY 2 DESC"
            ],
            "metadata": {
                "azdata_cell_guid": "422e8127-b652-4d3a-bfd7-9b1637b5781e",
                "language": "sql",
                "tags": []
            },
            "outputs": [
                {
                    "output_type": "display_data",
                    "data": {
                        "text/html": "(67 rows affected)"
                    },
                    "metadata": {}
                },
                {
                    "output_type": "display_data",
                    "data": {
                        "text/html": "Total execution time: 00:00:00.018"
                    },
                    "metadata": {}
                },
                {
                    "output_type": "execute_result",
                    "metadata": {},
                    "execution_count": 96,
                    "data": {
                        "application/vnd.dataresource+json": {
                            "schema": {
                                "fields": [
                                    {
                                        "name": "Ora azonosito"
                                    },
                                    {
                                        "name": "Targyfelelos"
                                    }
                                ]
                            },
                            "data": [
                                {
                                    "Ora azonosito": "203",
                                    "Targyfelelos": "Ujfalussi István"
                                },
                                {
                                    "Ora azonosito": "204",
                                    "Targyfelelos": "Ujfalussi István"
                                },
                                {
                                    "Ora azonosito": "227",
                                    "Targyfelelos": "Ujfalussi István"
                                },
                                {
                                    "Ora azonosito": "210",
                                    "Targyfelelos": "Pelikán József"
                                },
                                {
                                    "Ora azonosito": "211",
                                    "Targyfelelos": "Pelikán József"
                                },
                                {
                                    "Ora azonosito": "212",
                                    "Targyfelelos": "Pelikán József"
                                },
                                {
                                    "Ora azonosito": "213",
                                    "Targyfelelos": "Pelikán József"
                                },
                                {
                                    "Ora azonosito": "214",
                                    "Targyfelelos": "Pelikán József"
                                },
                                {
                                    "Ora azonosito": "215",
                                    "Targyfelelos": "Pelikán József"
                                },
                                {
                                    "Ora azonosito": "216",
                                    "Targyfelelos": "Pelikán József"
                                },
                                {
                                    "Ora azonosito": "217",
                                    "Targyfelelos": "Pelikán József"
                                },
                                {
                                    "Ora azonosito": "218",
                                    "Targyfelelos": "Pelikán József"
                                },
                                {
                                    "Ora azonosito": "219",
                                    "Targyfelelos": "Pelikán József"
                                },
                                {
                                    "Ora azonosito": "201",
                                    "Targyfelelos": "Pelikán József"
                                },
                                {
                                    "Ora azonosito": "202",
                                    "Targyfelelos": "Pelikán József"
                                },
                                {
                                    "Ora azonosito": "205",
                                    "Targyfelelos": "Kovács László"
                                },
                                {
                                    "Ora azonosito": "206",
                                    "Targyfelelos": "Kovács László"
                                },
                                {
                                    "Ora azonosito": "207",
                                    "Targyfelelos": "Kovács László"
                                },
                                {
                                    "Ora azonosito": "226",
                                    "Targyfelelos": "Kovács László"
                                },
                                {
                                    "Ora azonosito": "186",
                                    "Targyfelelos": "Kovács László"
                                },
                                {
                                    "Ora azonosito": "220",
                                    "Targyfelelos": "Kovács László"
                                },
                                {
                                    "Ora azonosito": "221",
                                    "Targyfelelos": "Kovács László"
                                },
                                {
                                    "Ora azonosito": "222",
                                    "Targyfelelos": "Kovács László"
                                },
                                {
                                    "Ora azonosito": "223",
                                    "Targyfelelos": "Kovács László"
                                },
                                {
                                    "Ora azonosito": "208",
                                    "Targyfelelos": "Jogrerős Pál"
                                },
                                {
                                    "Ora azonosito": "209",
                                    "Targyfelelos": "Jogrerős Pál"
                                },
                                {
                                    "Ora azonosito": "191",
                                    "Targyfelelos": "Balkán András"
                                },
                                {
                                    "Ora azonosito": "192",
                                    "Targyfelelos": "Balkán András"
                                },
                                {
                                    "Ora azonosito": "193",
                                    "Targyfelelos": "Balkán András"
                                },
                                {
                                    "Ora azonosito": "194",
                                    "Targyfelelos": "Balkán András"
                                },
                                {
                                    "Ora azonosito": "195",
                                    "Targyfelelos": "Balkán András"
                                },
                                {
                                    "Ora azonosito": "196",
                                    "Targyfelelos": "Balkán András"
                                },
                                {
                                    "Ora azonosito": "197",
                                    "Targyfelelos": "Balkán András"
                                },
                                {
                                    "Ora azonosito": "198",
                                    "Targyfelelos": "Balkán András"
                                },
                                {
                                    "Ora azonosito": "199",
                                    "Targyfelelos": "Balkán András"
                                },
                                {
                                    "Ora azonosito": "200",
                                    "Targyfelelos": "Balkán András"
                                },
                                {
                                    "Ora azonosito": "159",
                                    "Targyfelelos": "Balkán András"
                                },
                                {
                                    "Ora azonosito": "160",
                                    "Targyfelelos": "Balkán András"
                                },
                                {
                                    "Ora azonosito": "161",
                                    "Targyfelelos": "Balkán András"
                                },
                                {
                                    "Ora azonosito": "162",
                                    "Targyfelelos": "Balkán András"
                                },
                                {
                                    "Ora azonosito": "163",
                                    "Targyfelelos": "Balkán András"
                                },
                                {
                                    "Ora azonosito": "164",
                                    "Targyfelelos": "Balkán András"
                                },
                                {
                                    "Ora azonosito": "165",
                                    "Targyfelelos": "Balkán András"
                                },
                                {
                                    "Ora azonosito": "166",
                                    "Targyfelelos": "Balkán András"
                                },
                                {
                                    "Ora azonosito": "167",
                                    "Targyfelelos": "Balkán András"
                                },
                                {
                                    "Ora azonosito": "168",
                                    "Targyfelelos": "Balkán András"
                                },
                                {
                                    "Ora azonosito": "169",
                                    "Targyfelelos": "Balkán András"
                                },
                                {
                                    "Ora azonosito": "170",
                                    "Targyfelelos": "Balkán András"
                                },
                                {
                                    "Ora azonosito": "171",
                                    "Targyfelelos": "Balkán András"
                                },
                                {
                                    "Ora azonosito": "172",
                                    "Targyfelelos": "Balkán András"
                                },
                                {
                                    "Ora azonosito": "173",
                                    "Targyfelelos": "Balkán András"
                                },
                                {
                                    "Ora azonosito": "174",
                                    "Targyfelelos": "Balkán András"
                                },
                                {
                                    "Ora azonosito": "175",
                                    "Targyfelelos": "Balkán András"
                                },
                                {
                                    "Ora azonosito": "176",
                                    "Targyfelelos": "Balkán András"
                                },
                                {
                                    "Ora azonosito": "177",
                                    "Targyfelelos": "Balkán András"
                                },
                                {
                                    "Ora azonosito": "178",
                                    "Targyfelelos": "Balkán András"
                                },
                                {
                                    "Ora azonosito": "179",
                                    "Targyfelelos": "Balkán András"
                                },
                                {
                                    "Ora azonosito": "180",
                                    "Targyfelelos": "Balkán András"
                                },
                                {
                                    "Ora azonosito": "181",
                                    "Targyfelelos": "Balkán András"
                                },
                                {
                                    "Ora azonosito": "182",
                                    "Targyfelelos": "Balkán András"
                                },
                                {
                                    "Ora azonosito": "183",
                                    "Targyfelelos": "Balkán András"
                                },
                                {
                                    "Ora azonosito": "184",
                                    "Targyfelelos": "Balkán András"
                                },
                                {
                                    "Ora azonosito": "185",
                                    "Targyfelelos": "Balkán András"
                                },
                                {
                                    "Ora azonosito": "187",
                                    "Targyfelelos": "Balkán András"
                                },
                                {
                                    "Ora azonosito": "188",
                                    "Targyfelelos": "Balkán András"
                                },
                                {
                                    "Ora azonosito": "189",
                                    "Targyfelelos": "Balkán András"
                                },
                                {
                                    "Ora azonosito": "190",
                                    "Targyfelelos": "Balkán András"
                                }
                            ]
                        },
                        "text/html": [
                            "<table>",
                            "<tr><th>Ora azonosito</th><th>Targyfelelos</th></tr>",
                            "<tr><td>203</td><td>Ujfalussi István</td></tr>",
                            "<tr><td>204</td><td>Ujfalussi István</td></tr>",
                            "<tr><td>227</td><td>Ujfalussi István</td></tr>",
                            "<tr><td>210</td><td>Pelikán József</td></tr>",
                            "<tr><td>211</td><td>Pelikán József</td></tr>",
                            "<tr><td>212</td><td>Pelikán József</td></tr>",
                            "<tr><td>213</td><td>Pelikán József</td></tr>",
                            "<tr><td>214</td><td>Pelikán József</td></tr>",
                            "<tr><td>215</td><td>Pelikán József</td></tr>",
                            "<tr><td>216</td><td>Pelikán József</td></tr>",
                            "<tr><td>217</td><td>Pelikán József</td></tr>",
                            "<tr><td>218</td><td>Pelikán József</td></tr>",
                            "<tr><td>219</td><td>Pelikán József</td></tr>",
                            "<tr><td>201</td><td>Pelikán József</td></tr>",
                            "<tr><td>202</td><td>Pelikán József</td></tr>",
                            "<tr><td>205</td><td>Kovács László</td></tr>",
                            "<tr><td>206</td><td>Kovács László</td></tr>",
                            "<tr><td>207</td><td>Kovács László</td></tr>",
                            "<tr><td>226</td><td>Kovács László</td></tr>",
                            "<tr><td>186</td><td>Kovács László</td></tr>",
                            "<tr><td>220</td><td>Kovács László</td></tr>",
                            "<tr><td>221</td><td>Kovács László</td></tr>",
                            "<tr><td>222</td><td>Kovács László</td></tr>",
                            "<tr><td>223</td><td>Kovács László</td></tr>",
                            "<tr><td>208</td><td>Jogrerős Pál</td></tr>",
                            "<tr><td>209</td><td>Jogrerős Pál</td></tr>",
                            "<tr><td>191</td><td>Balkán András</td></tr>",
                            "<tr><td>192</td><td>Balkán András</td></tr>",
                            "<tr><td>193</td><td>Balkán András</td></tr>",
                            "<tr><td>194</td><td>Balkán András</td></tr>",
                            "<tr><td>195</td><td>Balkán András</td></tr>",
                            "<tr><td>196</td><td>Balkán András</td></tr>",
                            "<tr><td>197</td><td>Balkán András</td></tr>",
                            "<tr><td>198</td><td>Balkán András</td></tr>",
                            "<tr><td>199</td><td>Balkán András</td></tr>",
                            "<tr><td>200</td><td>Balkán András</td></tr>",
                            "<tr><td>159</td><td>Balkán András</td></tr>",
                            "<tr><td>160</td><td>Balkán András</td></tr>",
                            "<tr><td>161</td><td>Balkán András</td></tr>",
                            "<tr><td>162</td><td>Balkán András</td></tr>",
                            "<tr><td>163</td><td>Balkán András</td></tr>",
                            "<tr><td>164</td><td>Balkán András</td></tr>",
                            "<tr><td>165</td><td>Balkán András</td></tr>",
                            "<tr><td>166</td><td>Balkán András</td></tr>",
                            "<tr><td>167</td><td>Balkán András</td></tr>",
                            "<tr><td>168</td><td>Balkán András</td></tr>",
                            "<tr><td>169</td><td>Balkán András</td></tr>",
                            "<tr><td>170</td><td>Balkán András</td></tr>",
                            "<tr><td>171</td><td>Balkán András</td></tr>",
                            "<tr><td>172</td><td>Balkán András</td></tr>",
                            "<tr><td>173</td><td>Balkán András</td></tr>",
                            "<tr><td>174</td><td>Balkán András</td></tr>",
                            "<tr><td>175</td><td>Balkán András</td></tr>",
                            "<tr><td>176</td><td>Balkán András</td></tr>",
                            "<tr><td>177</td><td>Balkán András</td></tr>",
                            "<tr><td>178</td><td>Balkán András</td></tr>",
                            "<tr><td>179</td><td>Balkán András</td></tr>",
                            "<tr><td>180</td><td>Balkán András</td></tr>",
                            "<tr><td>181</td><td>Balkán András</td></tr>",
                            "<tr><td>182</td><td>Balkán András</td></tr>",
                            "<tr><td>183</td><td>Balkán András</td></tr>",
                            "<tr><td>184</td><td>Balkán András</td></tr>",
                            "<tr><td>185</td><td>Balkán András</td></tr>",
                            "<tr><td>187</td><td>Balkán András</td></tr>",
                            "<tr><td>188</td><td>Balkán András</td></tr>",
                            "<tr><td>189</td><td>Balkán András</td></tr>",
                            "<tr><td>190</td><td>Balkán András</td></tr>",
                            "</table>"
                        ]
                    }
                }
            ],
            "execution_count": 96
        },
        {
            "cell_type": "markdown",
            "source": [
                "13. <span style=\"color: rgb(36, 41, 47); font-family: -apple-system, BlinkMacSystemFont, &quot;Segoe UI&quot;, Helvetica, Arial, sans-serif, &quot;Apple Color Emoji&quot;, &quot;Segoe UI Emoji&quot;; font-size: 16px;\">Készítsünk listát, amely megjeleníti, hogy az Orak táblában lévő órák közül hányat tart Dr., illetve nem Dr. titulusú tanár!</span>\n",
                "\n",
                "1. Az oszlopokat nevezzük el értelemszerűen!"
            ],
            "metadata": {
                "azdata_cell_guid": "3f9237ae-f109-401c-acb9-31d75e73331b"
            },
            "attachments": {}
        },
        {
            "cell_type": "code",
            "source": [
                "SELECT \n",
                "    CASE \n",
                "        WHEN titulus = 'Dr.' THEN 'Dr'\n",
                "        ELSE 'Nem Dr.'\n",
                "    END AS 'Dr.-e',\n",
                "    count(*) AS 'orak szama'\n",
                "FROM Orak o JOIN Oktatok okt ON o.tanar = okt.oktato_id\n",
                "GROUP BY  CASE \n",
                "        WHEN titulus = 'Dr.' THEN 'Dr'\n",
                "        ELSE 'Nem Dr.'\n",
                "    END\n",
                "\n",
                ""
            ],
            "metadata": {
                "azdata_cell_guid": "4b31bb89-cfbc-46b1-8639-85c462877786",
                "language": "sql"
            },
            "outputs": [
                {
                    "output_type": "display_data",
                    "data": {
                        "text/html": "(2 rows affected)"
                    },
                    "metadata": {}
                },
                {
                    "output_type": "display_data",
                    "data": {
                        "text/html": "Total execution time: 00:00:00.012"
                    },
                    "metadata": {}
                },
                {
                    "output_type": "execute_result",
                    "metadata": {},
                    "execution_count": 101,
                    "data": {
                        "application/vnd.dataresource+json": {
                            "schema": {
                                "fields": [
                                    {
                                        "name": "Dr.-e"
                                    },
                                    {
                                        "name": "orak szama"
                                    }
                                ]
                            },
                            "data": [
                                {
                                    "Dr.-e": "Dr",
                                    "orak szama": "25"
                                },
                                {
                                    "Dr.-e": "Nem Dr.",
                                    "orak szama": "42"
                                }
                            ]
                        },
                        "text/html": [
                            "<table>",
                            "<tr><th>Dr.-e</th><th>orak szama</th></tr>",
                            "<tr><td>Dr</td><td>25</td></tr>",
                            "<tr><td>Nem Dr.</td><td>42</td></tr>",
                            "</table>"
                        ]
                    }
                }
            ],
            "execution_count": 101
        },
        {
            "cell_type": "markdown",
            "source": [
                "14. <span style=\"color: rgb(36, 41, 47); font-family: -apple-system, BlinkMacSystemFont, &quot;Segoe UI&quot;, Helvetica, Arial, sans-serif, &quot;Apple Color Emoji&quot;, &quot;Segoe UI Emoji&quot;; font-size: 16px;\">Készítsünk listát arról, hogy beosztásonként hány óra szerepel az Orak táblában!</span>\n",
                "\n",
                "1. Jelenítsük meg a beosztások nevét és az órák számát!\n",
                "2. A listát szűrjük azokra a beosztásokra, ahol ez az óraszám 10 feletti!"
            ],
            "metadata": {
                "azdata_cell_guid": "f634e09a-85ef-4e70-8ec6-ef355dfddaa7"
            },
            "attachments": {}
        },
        {
            "cell_type": "code",
            "source": [
                "SELECT b.beosztasnev,\n",
                "    COUNT(*) AS 'orak szama'\n",
                "FROM Orak o JOIN Oktatok okt  ON o.tanar = okt.oktato_id\n",
                "            JOIN Beosztasok b ON b.beosztas_id = okt.beosztás\n",
                "GROUP BY b.beosztasnev\n",
                "HAVING COUNT(*) > 10"
            ],
            "metadata": {
                "azdata_cell_guid": "88abc55b-2c78-495b-a72f-3f8f4eb5fe70",
                "language": "sql"
            },
            "outputs": [
                {
                    "output_type": "display_data",
                    "data": {
                        "text/html": "(3 rows affected)"
                    },
                    "metadata": {}
                },
                {
                    "output_type": "display_data",
                    "data": {
                        "text/html": "Total execution time: 00:00:00.014"
                    },
                    "metadata": {}
                },
                {
                    "output_type": "execute_result",
                    "metadata": {},
                    "execution_count": 111,
                    "data": {
                        "application/vnd.dataresource+json": {
                            "schema": {
                                "fields": [
                                    {
                                        "name": "beosztasnev"
                                    },
                                    {
                                        "name": "orak szama"
                                    }
                                ]
                            },
                            "data": [
                                {
                                    "beosztasnev": "Adjunktus",
                                    "orak szama": "14"
                                },
                                {
                                    "beosztasnev": "Egyetemi tanár",
                                    "orak szama": "11"
                                },
                                {
                                    "beosztasnev": "Tanársegéd",
                                    "orak szama": "22"
                                }
                            ]
                        },
                        "text/html": [
                            "<table>",
                            "<tr><th>beosztasnev</th><th>orak szama</th></tr>",
                            "<tr><td>Adjunktus</td><td>14</td></tr>",
                            "<tr><td>Egyetemi tanár</td><td>11</td></tr>",
                            "<tr><td>Tanársegéd</td><td>22</td></tr>",
                            "</table>"
                        ]
                    }
                }
            ],
            "execution_count": 111
        },
        {
            "cell_type": "markdown",
            "source": [
                "15. <span style=\"color: rgb(36, 41, 47); font-family: -apple-system, BlinkMacSystemFont, &quot;Segoe UI&quot;, Helvetica, Arial, sans-serif, &quot;Apple Color Emoji&quot;, &quot;Segoe UI Emoji&quot;; font-size: 16px;\">Melyek azok az órák, amelyek kezdési időpontja olyan sávba esik, amely a mostani időpont (óra:perc) után van?</span>\n",
                "\n",
                "1. Listázzuk az órák azonosítóit, valamint az órakezdés napját és időpontját!\n",
                "2. A listát rendezzük az időpont szerint növekvő sorrendbe!"
            ],
            "metadata": {
                "azdata_cell_guid": "4cbf2f0d-a65d-480a-8186-ccdb24498443"
            },
            "attachments": {}
        },
        {
            "cell_type": "code",
            "source": [
                "SELECT o.ora_id,\n",
                "       n.nap,\n",
                "       s.Időpont\n",
                "       \n",
                "FROM Orak o JOIN Savok s ON o.Sav = s.Sav_id\n",
                "            JOIN Napok n ON o.nap = n.nap_id\n",
                "WHERE CAST(LEFT(s.Időpont, CHARINDEX('.',s.Időpont)-1)+ ':' +RIGHT(s.Időpont,LEN(s.Időpont) - CHARINDEX('.',s.Időpont)) AS time)\n",
                "        > CAST(GETDATE() AS TIME)\n",
                "ORDER BY CAST(LEFT(s.Időpont, CHARINDEX('.',s.Időpont)-1)+ ':' +RIGHT(s.Időpont,LEN(s.Időpont) - CHARINDEX('.',s.Időpont)) AS time) ASC"
            ],
            "metadata": {
                "azdata_cell_guid": "c148aee8-bc85-40bf-b80a-a4898a6c05cb",
                "language": "sql",
                "tags": []
            },
            "outputs": [
                {
                    "output_type": "display_data",
                    "data": {
                        "text/html": "(46 rows affected)"
                    },
                    "metadata": {}
                },
                {
                    "output_type": "display_data",
                    "data": {
                        "text/html": "Total execution time: 00:00:00.015"
                    },
                    "metadata": {}
                },
                {
                    "output_type": "execute_result",
                    "metadata": {},
                    "execution_count": 135,
                    "data": {
                        "application/vnd.dataresource+json": {
                            "schema": {
                                "fields": [
                                    {
                                        "name": "ora_id"
                                    },
                                    {
                                        "name": "nap"
                                    },
                                    {
                                        "name": "Időpont"
                                    }
                                ]
                            },
                            "data": [
                                {
                                    "ora_id": "164",
                                    "nap": "Kedd",
                                    "Időpont": "11.00"
                                },
                                {
                                    "ora_id": "165",
                                    "nap": "Kedd",
                                    "Időpont": "11.00"
                                },
                                {
                                    "ora_id": "168",
                                    "nap": "Csütörtök",
                                    "Időpont": "11.00"
                                },
                                {
                                    "ora_id": "173",
                                    "nap": "Csütörtök",
                                    "Időpont": "11.00"
                                },
                                {
                                    "ora_id": "174",
                                    "nap": "Csütörtök",
                                    "Időpont": "11.00"
                                },
                                {
                                    "ora_id": "185",
                                    "nap": "Csütörtök",
                                    "Időpont": "11.00"
                                },
                                {
                                    "ora_id": "190",
                                    "nap": "Péntek",
                                    "Időpont": "11.00"
                                },
                                {
                                    "ora_id": "214",
                                    "nap": "Hétfő",
                                    "Időpont": "11.00"
                                },
                                {
                                    "ora_id": "216",
                                    "nap": "Hétfő",
                                    "Időpont": "11.00"
                                },
                                {
                                    "ora_id": "220",
                                    "nap": "Kedd",
                                    "Időpont": "11.00"
                                },
                                {
                                    "ora_id": "221",
                                    "nap": "Szerda",
                                    "Időpont": "11.00"
                                },
                                {
                                    "ora_id": "226",
                                    "nap": "Szerda",
                                    "Időpont": "11.00"
                                },
                                {
                                    "ora_id": "162",
                                    "nap": "Hétfő",
                                    "Időpont": "12.30"
                                },
                                {
                                    "ora_id": "166",
                                    "nap": "Kedd",
                                    "Időpont": "12.30"
                                },
                                {
                                    "ora_id": "167",
                                    "nap": "Hétfő",
                                    "Időpont": "12.30"
                                },
                                {
                                    "ora_id": "175",
                                    "nap": "Csütörtök",
                                    "Időpont": "12.30"
                                },
                                {
                                    "ora_id": "176",
                                    "nap": "Csütörtök",
                                    "Időpont": "12.30"
                                },
                                {
                                    "ora_id": "186",
                                    "nap": "Kedd",
                                    "Időpont": "12.30"
                                },
                                {
                                    "ora_id": "201",
                                    "nap": "Csütörtök",
                                    "Időpont": "12.30"
                                },
                                {
                                    "ora_id": "203",
                                    "nap": "Hétfő",
                                    "Időpont": "12.30"
                                },
                                {
                                    "ora_id": "205",
                                    "nap": "Hétfő",
                                    "Időpont": "12.30"
                                },
                                {
                                    "ora_id": "207",
                                    "nap": "Csütörtök",
                                    "Időpont": "12.30"
                                },
                                {
                                    "ora_id": "215",
                                    "nap": "Hétfő",
                                    "Időpont": "12.30"
                                },
                                {
                                    "ora_id": "217",
                                    "nap": "Hétfő",
                                    "Időpont": "12.30"
                                },
                                {
                                    "ora_id": "160",
                                    "nap": "Kedd",
                                    "Időpont": "14.00"
                                },
                                {
                                    "ora_id": "177",
                                    "nap": "Csütörtök",
                                    "Időpont": "14.00"
                                },
                                {
                                    "ora_id": "178",
                                    "nap": "Csütörtök",
                                    "Időpont": "14.00"
                                },
                                {
                                    "ora_id": "191",
                                    "nap": "Hétfő",
                                    "Időpont": "14.00"
                                },
                                {
                                    "ora_id": "193",
                                    "nap": "Hétfő",
                                    "Időpont": "14.00"
                                },
                                {
                                    "ora_id": "195",
                                    "nap": "Hétfő",
                                    "Időpont": "14.00"
                                },
                                {
                                    "ora_id": "202",
                                    "nap": "Csütörtök",
                                    "Időpont": "14.00"
                                },
                                {
                                    "ora_id": "204",
                                    "nap": "Kedd",
                                    "Időpont": "14.00"
                                },
                                {
                                    "ora_id": "222",
                                    "nap": "Csütörtök",
                                    "Időpont": "14.00"
                                },
                                {
                                    "ora_id": "227",
                                    "nap": "Kedd",
                                    "Időpont": "14.00"
                                },
                                {
                                    "ora_id": "179",
                                    "nap": "Csütörtök",
                                    "Időpont": "15.30"
                                },
                                {
                                    "ora_id": "180",
                                    "nap": "Csütörtök",
                                    "Időpont": "15.30"
                                },
                                {
                                    "ora_id": "188",
                                    "nap": "Csütörtök",
                                    "Időpont": "15.30"
                                },
                                {
                                    "ora_id": "192",
                                    "nap": "Hétfő",
                                    "Időpont": "15.30"
                                },
                                {
                                    "ora_id": "194",
                                    "nap": "Hétfő",
                                    "Időpont": "15.30"
                                },
                                {
                                    "ora_id": "196",
                                    "nap": "Hétfő",
                                    "Időpont": "15.30"
                                },
                                {
                                    "ora_id": "210",
                                    "nap": "Hétfő",
                                    "Időpont": "15.30"
                                },
                                {
                                    "ora_id": "218",
                                    "nap": "Kedd",
                                    "Időpont": "15.30"
                                },
                                {
                                    "ora_id": "211",
                                    "nap": "Hétfő",
                                    "Időpont": "17.00"
                                },
                                {
                                    "ora_id": "219",
                                    "nap": "Kedd",
                                    "Időpont": "17.00"
                                },
                                {
                                    "ora_id": "212",
                                    "nap": "Hétfő",
                                    "Időpont": "18.30"
                                },
                                {
                                    "ora_id": "213",
                                    "nap": "Hétfő",
                                    "Időpont": "20.00"
                                }
                            ]
                        },
                        "text/html": [
                            "<table>",
                            "<tr><th>ora_id</th><th>nap</th><th>Időpont</th></tr>",
                            "<tr><td>164</td><td>Kedd</td><td>11.00</td></tr>",
                            "<tr><td>165</td><td>Kedd</td><td>11.00</td></tr>",
                            "<tr><td>168</td><td>Csütörtök</td><td>11.00</td></tr>",
                            "<tr><td>173</td><td>Csütörtök</td><td>11.00</td></tr>",
                            "<tr><td>174</td><td>Csütörtök</td><td>11.00</td></tr>",
                            "<tr><td>185</td><td>Csütörtök</td><td>11.00</td></tr>",
                            "<tr><td>190</td><td>Péntek</td><td>11.00</td></tr>",
                            "<tr><td>214</td><td>Hétfő</td><td>11.00</td></tr>",
                            "<tr><td>216</td><td>Hétfő</td><td>11.00</td></tr>",
                            "<tr><td>220</td><td>Kedd</td><td>11.00</td></tr>",
                            "<tr><td>221</td><td>Szerda</td><td>11.00</td></tr>",
                            "<tr><td>226</td><td>Szerda</td><td>11.00</td></tr>",
                            "<tr><td>162</td><td>Hétfő</td><td>12.30</td></tr>",
                            "<tr><td>166</td><td>Kedd</td><td>12.30</td></tr>",
                            "<tr><td>167</td><td>Hétfő</td><td>12.30</td></tr>",
                            "<tr><td>175</td><td>Csütörtök</td><td>12.30</td></tr>",
                            "<tr><td>176</td><td>Csütörtök</td><td>12.30</td></tr>",
                            "<tr><td>186</td><td>Kedd</td><td>12.30</td></tr>",
                            "<tr><td>201</td><td>Csütörtök</td><td>12.30</td></tr>",
                            "<tr><td>203</td><td>Hétfő</td><td>12.30</td></tr>",
                            "<tr><td>205</td><td>Hétfő</td><td>12.30</td></tr>",
                            "<tr><td>207</td><td>Csütörtök</td><td>12.30</td></tr>",
                            "<tr><td>215</td><td>Hétfő</td><td>12.30</td></tr>",
                            "<tr><td>217</td><td>Hétfő</td><td>12.30</td></tr>",
                            "<tr><td>160</td><td>Kedd</td><td>14.00</td></tr>",
                            "<tr><td>177</td><td>Csütörtök</td><td>14.00</td></tr>",
                            "<tr><td>178</td><td>Csütörtök</td><td>14.00</td></tr>",
                            "<tr><td>191</td><td>Hétfő</td><td>14.00</td></tr>",
                            "<tr><td>193</td><td>Hétfő</td><td>14.00</td></tr>",
                            "<tr><td>195</td><td>Hétfő</td><td>14.00</td></tr>",
                            "<tr><td>202</td><td>Csütörtök</td><td>14.00</td></tr>",
                            "<tr><td>204</td><td>Kedd</td><td>14.00</td></tr>",
                            "<tr><td>222</td><td>Csütörtök</td><td>14.00</td></tr>",
                            "<tr><td>227</td><td>Kedd</td><td>14.00</td></tr>",
                            "<tr><td>179</td><td>Csütörtök</td><td>15.30</td></tr>",
                            "<tr><td>180</td><td>Csütörtök</td><td>15.30</td></tr>",
                            "<tr><td>188</td><td>Csütörtök</td><td>15.30</td></tr>",
                            "<tr><td>192</td><td>Hétfő</td><td>15.30</td></tr>",
                            "<tr><td>194</td><td>Hétfő</td><td>15.30</td></tr>",
                            "<tr><td>196</td><td>Hétfő</td><td>15.30</td></tr>",
                            "<tr><td>210</td><td>Hétfő</td><td>15.30</td></tr>",
                            "<tr><td>218</td><td>Kedd</td><td>15.30</td></tr>",
                            "<tr><td>211</td><td>Hétfő</td><td>17.00</td></tr>",
                            "<tr><td>219</td><td>Kedd</td><td>17.00</td></tr>",
                            "<tr><td>212</td><td>Hétfő</td><td>18.30</td></tr>",
                            "<tr><td>213</td><td>Hétfő</td><td>20.00</td></tr>",
                            "</table>"
                        ]
                    }
                }
            ],
            "execution_count": 135
        },
        {
            "cell_type": "code",
            "source": [
                ""
            ],
            "metadata": {
                "azdata_cell_guid": "b837c839-e270-43e2-b688-8458f4a2d082",
                "language": "sql"
            },
            "outputs": [
                {
                    "output_type": "display_data",
                    "data": {
                        "text/html": "(9 rows affected)"
                    },
                    "metadata": {}
                },
                {
                    "output_type": "display_data",
                    "data": {
                        "text/html": "Total execution time: 00:00:00.008"
                    },
                    "metadata": {}
                },
                {
                    "output_type": "execute_result",
                    "metadata": {},
                    "execution_count": 121,
                    "data": {
                        "application/vnd.dataresource+json": {
                            "schema": {
                                "fields": [
                                    {
                                        "name": "Sav_id"
                                    },
                                    {
                                        "name": "Sav"
                                    },
                                    {
                                        "name": "Időpont"
                                    }
                                ]
                            },
                            "data": [
                                {
                                    "Sav_id": "1",
                                    "Sav": "1",
                                    "Időpont": "8.00"
                                },
                                {
                                    "Sav_id": "2",
                                    "Sav": "2",
                                    "Időpont": "9.30"
                                },
                                {
                                    "Sav_id": "3",
                                    "Sav": "3",
                                    "Időpont": "11.00"
                                },
                                {
                                    "Sav_id": "4",
                                    "Sav": "4",
                                    "Időpont": "12.30"
                                },
                                {
                                    "Sav_id": "5",
                                    "Sav": "5",
                                    "Időpont": "14.00"
                                },
                                {
                                    "Sav_id": "7",
                                    "Sav": "6",
                                    "Időpont": "15.30"
                                },
                                {
                                    "Sav_id": "8",
                                    "Sav": "7",
                                    "Időpont": "17.00"
                                },
                                {
                                    "Sav_id": "9",
                                    "Sav": "8",
                                    "Időpont": "18.30"
                                },
                                {
                                    "Sav_id": "10",
                                    "Sav": "8",
                                    "Időpont": "20.00"
                                }
                            ]
                        },
                        "text/html": [
                            "<table>",
                            "<tr><th>Sav_id</th><th>Sav</th><th>Időpont</th></tr>",
                            "<tr><td>1</td><td>1</td><td>8.00</td></tr>",
                            "<tr><td>2</td><td>2</td><td>9.30</td></tr>",
                            "<tr><td>3</td><td>3</td><td>11.00</td></tr>",
                            "<tr><td>4</td><td>4</td><td>12.30</td></tr>",
                            "<tr><td>5</td><td>5</td><td>14.00</td></tr>",
                            "<tr><td>7</td><td>6</td><td>15.30</td></tr>",
                            "<tr><td>8</td><td>7</td><td>17.00</td></tr>",
                            "<tr><td>9</td><td>8</td><td>18.30</td></tr>",
                            "<tr><td>10</td><td>8</td><td>20.00</td></tr>",
                            "</table>"
                        ]
                    }
                }
            ],
            "execution_count": 121
        }
    ]
}