{
    "metadata": {
        "kernelspec": {
            "name": "SQL",
            "display_name": "SQL",
            "language": "sql"
        },
        "language_info": {
            "name": "sql",
            "version": ""
        }
    },
    "nbformat_minor": 2,
    "nbformat": 4,
    "cells": [
        {
            "cell_type": "code",
            "source": [
                "-- 1 feladat\r\n",
                "Select sz.SZOBA_SZAMA,\r\n",
                "       sz.FEROHELY,\r\n",
                "       RANK() OVER(PARTITION BY  sz.SZOBA_SZAMA ORDER BY sz.FEROHELY DESC) \r\n",
                "FROM Szoba sz  LEFT JOIN Foglalas f ON sz.SZOBA_ID = f.SZOBA_FK"
            ],
            "metadata": {
                "azdata_cell_guid": "258144eb-738f-4ffd-8057-7a1f28b95565",
                "language": "sql",
                "tags": []
            },
            "outputs": [
                {
                    "output_type": "display_data",
                    "data": {
                        "text/html": "(1124 rows affected)"
                    },
                    "metadata": {}
                },
                {
                    "output_type": "display_data",
                    "data": {
                        "text/html": "Total execution time: 00:00:00.062"
                    },
                    "metadata": {}
                },
                {
                    "output_type": "execute_result",
                    "metadata": {},
                    "execution_count": 11,
                    "data": {
                        "application/vnd.dataresource+json": {
                            "schema": {
                                "fields": [
                                    {
                                        "name": "SZOBA_SZAMA"
                                    },
                                    {
                                        "name": "FEROHELY"
                                    },
                                    {
                                        "name": "(No column name)"
                                    }
                                ]
                            },
                            "data": [
                                {
                                    "SZOBA_SZAMA": "1",
                                    "FEROHELY": "3",
                                    "(No column name)": "1"
                                },
                                {
                                    "SZOBA_SZAMA": "1",
                                    "FEROHELY": "3",
                                    "(No column name)": "1"
                                },
                                {
                                    "SZOBA_SZAMA": "1",
                                    "FEROHELY": "3",
                                    "(No column name)": "1"
                                },
                                {
                                    "SZOBA_SZAMA": "1",
                                    "FEROHELY": "3",
                                    "(No column name)": "1"
                                },
                                {
                                    "SZOBA_SZAMA": "1",
                                    "FEROHELY": "3",
                                    "(No column name)": "1"
                                },
                                {
                                    "SZOBA_SZAMA": "1",
                                    "FEROHELY": "3",
                                    "(No column name)": "1"
                                },
                                {
                                    "SZOBA_SZAMA": "1",
                                    "FEROHELY": "3",
                                    "(No column name)": "1"
                                },
                                {
                                    "SZOBA_SZAMA": "1",
                                    "FEROHELY": "3",
                                    "(No column name)": "1"
                                },
                                {
                                    "SZOBA_SZAMA": "1",
                                    "FEROHELY": "3",
                                    "(No column name)": "1"
                                },
                                {
                                    "SZOBA_SZAMA": "1",
                                    "FEROHELY": "3",
                                    "(No column name)": "1"
                                },
                                {
                                    "SZOBA_SZAMA": "1",
                                    "FEROHELY": "3",
                                    "(No column name)": "1"
                                },
                                {
                                    "SZOBA_SZAMA": "1",
                                    "FEROHELY": "3",
                                    "(No column name)": "1"
                                },
                                {
                                    "SZOBA_SZAMA": "1",
                                    "FEROHELY": "3",
                                    "(No column name)": "1"
                                },
                                {
                                    "SZOBA_SZAMA": "1",
                                    "FEROHELY": "3",
                                    "(No column name)": "1"
                                },
                                {
                                    "SZOBA_SZAMA": "1",
                                    "FEROHELY": "3",
                                    "(No column name)": "1"
                                },
                                {
                                    "SZOBA_SZAMA": "1",
                                    "FEROHELY": "3",
                                    "(No column name)": "1"
                                },
                                {
                                    "SZOBA_SZAMA": "1",
                                    "FEROHELY": "3",
                                    "(No column name)": "1"
                                },
                                {
                                    "SZOBA_SZAMA": "1",
                                    "FEROHELY": "3",
                                    "(No column name)": "1"
                                },
                                {
                                    "SZOBA_SZAMA": "1",
                                    "FEROHELY": "3",
                                    "(No column name)": "1"
                                },
                                {
                                    "SZOBA_SZAMA": "1",
                                    "FEROHELY": "3",
                                    "(No column name)": "1"
                                },
                                {
                                    "SZOBA_SZAMA": "1",
                                    "FEROHELY": "3",
                                    "(No column name)": "1"
                                },
                                {
                                    "SZOBA_SZAMA": "1",
                                    "FEROHELY": "3",
                                    "(No column name)": "1"
                                },
                                {
                                    "SZOBA_SZAMA": "1",
                                    "FEROHELY": "3",
                                    "(No column name)": "1"
                                },
                                {
                                    "SZOBA_SZAMA": "1",
                                    "FEROHELY": "3",
                                    "(No column name)": "1"
                                },
                                {
                                    "SZOBA_SZAMA": "1",
                                    "FEROHELY": "3",
                                    "(No column name)": "1"
                                },
                                {
                                    "SZOBA_SZAMA": "1",
                                    "FEROHELY": "3",
                                    "(No column name)": "1"
                                },
                                {
                                    "SZOBA_SZAMA": "1",
                                    "FEROHELY": "3",
                                    "(No column name)": "1"
                                },
                                {
                                    "SZOBA_SZAMA": "1",
                                    "FEROHELY": "3",
                                    "(No column name)": "1"
                                },
                                {
                                    "SZOBA_SZAMA": "1",
                                    "FEROHELY": "3",
                                    "(No column name)": "1"
                                },
                                {
                                    "SZOBA_SZAMA": "1",
                                    "FEROHELY": "3",
                                    "(No column name)": "1"
                                },
                                {
                                    "SZOBA_SZAMA": "1",
                                    "FEROHELY": "3",
                                    "(No column name)": "1"
                                },
                                {
                                    "SZOBA_SZAMA": "1",
                                    "FEROHELY": "3",
                                    "(No column name)": "1"
                                },
                                {
                                    "SZOBA_SZAMA": "1",
                                    "FEROHELY": "3",
                                    "(No column name)": "1"
                                },
                                {
                                    "SZOBA_SZAMA": "1",
                                    "FEROHELY": "2",
                                    "(No column name)": "34"
                                },
                                {
                                    "SZOBA_SZAMA": "1",
                                    "FEROHELY": "2",
                                    "(No column name)": "34"
                                },
                                {
                                    "SZOBA_SZAMA": "1",
                                    "FEROHELY": "2",
                                    "(No column name)": "34"
                                },
                                {
                                    "SZOBA_SZAMA": "1",
                                    "FEROHELY": "2",
                                    "(No column name)": "34"
                                },
                                {
                                    "SZOBA_SZAMA": "1",
                                    "FEROHELY": "2",
                                    "(No column name)": "34"
                                },
                                {
                                    "SZOBA_SZAMA": "1",
                                    "FEROHELY": "2",
                                    "(No column name)": "34"
                                },
                                {
                                    "SZOBA_SZAMA": "1",
                                    "FEROHELY": "2",
                                    "(No column name)": "34"
                                },
                                {
                                    "SZOBA_SZAMA": "1",
                                    "FEROHELY": "2",
                                    "(No column name)": "34"
                                },
                                {
                                    "SZOBA_SZAMA": "1",
                                    "FEROHELY": "2",
                                    "(No column name)": "34"
                                },
                                {
                                    "SZOBA_SZAMA": "1",
                                    "FEROHELY": "2",
                                    "(No column name)": "34"
                                },
                                {
                                    "SZOBA_SZAMA": "1",
                                    "FEROHELY": "2",
                                    "(No column name)": "34"
                                },
                                {
                                    "SZOBA_SZAMA": "1",
                                    "FEROHELY": "2",
                                    "(No column name)": "34"
                                },
                                {
                                    "SZOBA_SZAMA": "1",
                                    "FEROHELY": "2",
                                    "(No column name)": "34"
                                },
                                {
                                    "SZOBA_SZAMA": "1",
                                    "FEROHELY": "2",
                                    "(No column name)": "34"
                                },
                                {
                                    "SZOBA_SZAMA": "1",
                                    "FEROHELY": "2",
                                    "(No column name)": "34"
                                },
                                {
                                    "SZOBA_SZAMA": "1",
                                    "FEROHELY": "2",
                                    "(No column name)": "34"
                                },
                                {
                                    "SZOBA_SZAMA": "1",
                                    "FEROHELY": "2",
                                    "(No column name)": "34"
                                },
                                {
                                    "SZOBA_SZAMA": "1",
                                    "FEROHELY": "2",
                                    "(No column name)": "34"
                                },
                                {
                                    "SZOBA_SZAMA": "1",
                                    "FEROHELY": "2",
                                    "(No column name)": "34"
                                },
                                {
                                    "SZOBA_SZAMA": "1",
                                    "FEROHELY": "2",
                                    "(No column name)": "34"
                                },
                                {
                                    "SZOBA_SZAMA": "1",
                                    "FEROHELY": "2",
                                    "(No column name)": "34"
                                },
                                {
                                    "SZOBA_SZAMA": "1",
                                    "FEROHELY": "2",
                                    "(No column name)": "34"
                                },
                                {
                                    "SZOBA_SZAMA": "1",
                                    "FEROHELY": "2",
                                    "(No column name)": "34"
                                },
                                {
                                    "SZOBA_SZAMA": "1",
                                    "FEROHELY": "2",
                                    "(No column name)": "34"
                                },
                                {
                                    "SZOBA_SZAMA": "1",
                                    "FEROHELY": "2",
                                    "(No column name)": "34"
                                },
                                {
                                    "SZOBA_SZAMA": "1",
                                    "FEROHELY": "2",
                                    "(No column name)": "34"
                                },
                                {
                                    "SZOBA_SZAMA": "1",
                                    "FEROHELY": "2",
                                    "(No column name)": "34"
                                },
                                {
                                    "SZOBA_SZAMA": "1",
                                    "FEROHELY": "2",
                                    "(No column name)": "34"
                                },
                                {
                                    "SZOBA_SZAMA": "1",
                                    "FEROHELY": "2",
                                    "(No column name)": "34"
                                },
                                {
                                    "SZOBA_SZAMA": "1",
                                    "FEROHELY": "2",
                                    "(No column name)": "34"
                                },
                                {
                                    "SZOBA_SZAMA": "1",
                                    "FEROHELY": "2",
                                    "(No column name)": "34"
                                },
                                {
                                    "SZOBA_SZAMA": "1",
                                    "FEROHELY": "2",
                                    "(No column name)": "34"
                                },
                                {
                                    "SZOBA_SZAMA": "10",
                                    "FEROHELY": "3",
                                    "(No column name)": "1"
                                },
                                {
                                    "SZOBA_SZAMA": "10",
                                    "FEROHELY": "3",
                                    "(No column name)": "1"
                                },
                                {
                                    "SZOBA_SZAMA": "10",
                                    "FEROHELY": "3",
                                    "(No column name)": "1"
                                },
                                {
                                    "SZOBA_SZAMA": "10",
                                    "FEROHELY": "3",
                                    "(No column name)": "1"
                                },
                                {
                                    "SZOBA_SZAMA": "10",
                                    "FEROHELY": "3",
                                    "(No column name)": "1"
                                },
                                {
                                    "SZOBA_SZAMA": "10",
                                    "FEROHELY": "3",
                                    "(No column name)": "1"
                                },
                                {
                                    "SZOBA_SZAMA": "10",
                                    "FEROHELY": "3",
                                    "(No column name)": "1"
                                },
                                {
                                    "SZOBA_SZAMA": "10",
                                    "FEROHELY": "3",
                                    "(No column name)": "1"
                                },
                                {
                                    "SZOBA_SZAMA": "10",
                                    "FEROHELY": "3",
                                    "(No column name)": "1"
                                },
                                {
                                    "SZOBA_SZAMA": "10",
                                    "FEROHELY": "3",
                                    "(No column name)": "1"
                                },
                                {
                                    "SZOBA_SZAMA": "10",
                                    "FEROHELY": "3",
                                    "(No column name)": "1"
                                },
                                {
                                    "SZOBA_SZAMA": "10",
                                    "FEROHELY": "3",
                                    "(No column name)": "1"
                                },
                                {
                                    "SZOBA_SZAMA": "10",
                                    "FEROHELY": "3",
                                    "(No column name)": "1"
                                },
                                {
                                    "SZOBA_SZAMA": "10",
                                    "FEROHELY": "3",
                                    "(No column name)": "1"
                                },
                                {
                                    "SZOBA_SZAMA": "10",
                                    "FEROHELY": "3",
                                    "(No column name)": "1"
                                },
                                {
                                    "SZOBA_SZAMA": "10",
                                    "FEROHELY": "3",
                                    "(No column name)": "1"
                                },
                                {
                                    "SZOBA_SZAMA": "10",
                                    "FEROHELY": "3",
                                    "(No column name)": "1"
                                },
                                {
                                    "SZOBA_SZAMA": "10",
                                    "FEROHELY": "3",
                                    "(No column name)": "1"
                                },
                                {
                                    "SZOBA_SZAMA": "10",
                                    "FEROHELY": "3",
                                    "(No column name)": "1"
                                },
                                {
                                    "SZOBA_SZAMA": "10",
                                    "FEROHELY": "3",
                                    "(No column name)": "1"
                                },
                                {
                                    "SZOBA_SZAMA": "10",
                                    "FEROHELY": "3",
                                    "(No column name)": "1"
                                },
                                {
                                    "SZOBA_SZAMA": "10",
                                    "FEROHELY": "3",
                                    "(No column name)": "1"
                                },
                                {
                                    "SZOBA_SZAMA": "10",
                                    "FEROHELY": "3",
                                    "(No column name)": "1"
                                },
                                {
                                    "SZOBA_SZAMA": "10",
                                    "FEROHELY": "3",
                                    "(No column name)": "1"
                                },
                                {
                                    "SZOBA_SZAMA": "10",
                                    "FEROHELY": "2",
                                    "(No column name)": "25"
                                },
                                {
                                    "SZOBA_SZAMA": "10",
                                    "FEROHELY": "2",
                                    "(No column name)": "25"
                                },
                                {
                                    "SZOBA_SZAMA": "10",
                                    "FEROHELY": "2",
                                    "(No column name)": "25"
                                },
                                {
                                    "SZOBA_SZAMA": "10",
                                    "FEROHELY": "2",
                                    "(No column name)": "25"
                                },
                                {
                                    "SZOBA_SZAMA": "10",
                                    "FEROHELY": "2",
                                    "(No column name)": "25"
                                },
                                {
                                    "SZOBA_SZAMA": "10",
                                    "FEROHELY": "2",
                                    "(No column name)": "25"
                                },
                                {
                                    "SZOBA_SZAMA": "10",
                                    "FEROHELY": "2",
                                    "(No column name)": "25"
                                },
                                {
                                    "SZOBA_SZAMA": "10",
                                    "FEROHELY": "2",
                                    "(No column name)": "25"
                                },
                                {
                                    "SZOBA_SZAMA": "10",
                                    "FEROHELY": "2",
                                    "(No column name)": "25"
                                },
                                {
                                    "SZOBA_SZAMA": "10",
                                    "FEROHELY": "2",
                                    "(No column name)": "25"
                                },
                                {
                                    "SZOBA_SZAMA": "10",
                                    "FEROHELY": "2",
                                    "(No column name)": "25"
                                },
                                {
                                    "SZOBA_SZAMA": "10",
                                    "FEROHELY": "2",
                                    "(No column name)": "25"
                                },
                                {
                                    "SZOBA_SZAMA": "10",
                                    "FEROHELY": "2",
                                    "(No column name)": "25"
                                },
                                {
                                    "SZOBA_SZAMA": "10",
                                    "FEROHELY": "2",
                                    "(No column name)": "25"
                                },
                                {
                                    "SZOBA_SZAMA": "10",
                                    "FEROHELY": "2",
                                    "(No column name)": "25"
                                },
                                {
                                    "SZOBA_SZAMA": "10",
                                    "FEROHELY": "2",
                                    "(No column name)": "25"
                                },
                                {
                                    "SZOBA_SZAMA": "11",
                                    "FEROHELY": "3",
                                    "(No column name)": "1"
                                },
                                {
                                    "SZOBA_SZAMA": "11",
                                    "FEROHELY": "3",
                                    "(No column name)": "1"
                                },
                                {
                                    "SZOBA_SZAMA": "11",
                                    "FEROHELY": "3",
                                    "(No column name)": "1"
                                },
                                {
                                    "SZOBA_SZAMA": "11",
                                    "FEROHELY": "3",
                                    "(No column name)": "1"
                                },
                                {
                                    "SZOBA_SZAMA": "11",
                                    "FEROHELY": "3",
                                    "(No column name)": "1"
                                },
                                {
                                    "SZOBA_SZAMA": "11",
                                    "FEROHELY": "3",
                                    "(No column name)": "1"
                                },
                                {
                                    "SZOBA_SZAMA": "11",
                                    "FEROHELY": "3",
                                    "(No column name)": "1"
                                },
                                {
                                    "SZOBA_SZAMA": "11",
                                    "FEROHELY": "3",
                                    "(No column name)": "1"
                                },
                                {
                                    "SZOBA_SZAMA": "11",
                                    "FEROHELY": "3",
                                    "(No column name)": "1"
                                },
                                {
                                    "SZOBA_SZAMA": "11",
                                    "FEROHELY": "3",
                                    "(No column name)": "1"
                                },
                                {
                                    "SZOBA_SZAMA": "11",
                                    "FEROHELY": "2",
                                    "(No column name)": "11"
                                },
                                {
                                    "SZOBA_SZAMA": "11",
                                    "FEROHELY": "2",
                                    "(No column name)": "11"
                                },
                                {
                                    "SZOBA_SZAMA": "11",
                                    "FEROHELY": "2",
                                    "(No column name)": "11"
                                },
                                {
                                    "SZOBA_SZAMA": "11",
                                    "FEROHELY": "2",
                                    "(No column name)": "11"
                                },
                                {
                                    "SZOBA_SZAMA": "11",
                                    "FEROHELY": "2",
                                    "(No column name)": "11"
                                },
                                {
                                    "SZOBA_SZAMA": "11",
                                    "FEROHELY": "2",
                                    "(No column name)": "11"
                                },
                                {
                                    "SZOBA_SZAMA": "11",
                                    "FEROHELY": "2",
                                    "(No column name)": "11"
                                },
                                {
                                    "SZOBA_SZAMA": "11",
                                    "FEROHELY": "2",
                                    "(No column name)": "11"
                                },
                                {
                                    "SZOBA_SZAMA": "11",
                                    "FEROHELY": "2",
                                    "(No column name)": "11"
                                },
                                {
                                    "SZOBA_SZAMA": "11",
                                    "FEROHELY": "2",
                                    "(No column name)": "11"
                                },
                                {
                                    "SZOBA_SZAMA": "11",
                                    "FEROHELY": "2",
                                    "(No column name)": "11"
                                },
                                {
                                    "SZOBA_SZAMA": "11",
                                    "FEROHELY": "2",
                                    "(No column name)": "11"
                                },
                                {
                                    "SZOBA_SZAMA": "11",
                                    "FEROHELY": "2",
                                    "(No column name)": "11"
                                },
                                {
                                    "SZOBA_SZAMA": "11",
                                    "FEROHELY": "2",
                                    "(No column name)": "11"
                                },
                                {
                                    "SZOBA_SZAMA": "11",
                                    "FEROHELY": "2",
                                    "(No column name)": "11"
                                },
                                {
                                    "SZOBA_SZAMA": "11",
                                    "FEROHELY": "2",
                                    "(No column name)": "11"
                                },
                                {
                                    "SZOBA_SZAMA": "11",
                                    "FEROHELY": "2",
                                    "(No column name)": "11"
                                },
                                {
                                    "SZOBA_SZAMA": "11",
                                    "FEROHELY": "2",
                                    "(No column name)": "11"
                                },
                                {
                                    "SZOBA_SZAMA": "11",
                                    "FEROHELY": "2",
                                    "(No column name)": "11"
                                },
                                {
                                    "SZOBA_SZAMA": "11",
                                    "FEROHELY": "2",
                                    "(No column name)": "11"
                                },
                                {
                                    "SZOBA_SZAMA": "11",
                                    "FEROHELY": "2",
                                    "(No column name)": "11"
                                },
                                {
                                    "SZOBA_SZAMA": "11",
                                    "FEROHELY": "2",
                                    "(No column name)": "11"
                                },
                                {
                                    "SZOBA_SZAMA": "12",
                                    "FEROHELY": "3",
                                    "(No column name)": "1"
                                },
                                {
                                    "SZOBA_SZAMA": "12",
                                    "FEROHELY": "3",
                                    "(No column name)": "1"
                                },
                                {
                                    "SZOBA_SZAMA": "12",
                                    "FEROHELY": "3",
                                    "(No column name)": "1"
                                },
                                {
                                    "SZOBA_SZAMA": "12",
                                    "FEROHELY": "3",
                                    "(No column name)": "1"
                                },
                                {
                                    "SZOBA_SZAMA": "12",
                                    "FEROHELY": "3",
                                    "(No column name)": "1"
                                },
                                {
                                    "SZOBA_SZAMA": "12",
                                    "FEROHELY": "3",
                                    "(No column name)": "1"
                                },
                                {
                                    "SZOBA_SZAMA": "12",
                                    "FEROHELY": "3",
                                    "(No column name)": "1"
                                },
                                {
                                    "SZOBA_SZAMA": "12",
                                    "FEROHELY": "3",
                                    "(No column name)": "1"
                                },
                                {
                                    "SZOBA_SZAMA": "12",
                                    "FEROHELY": "3",
                                    "(No column name)": "1"
                                },
                                {
                                    "SZOBA_SZAMA": "12",
                                    "FEROHELY": "3",
                                    "(No column name)": "1"
                                },
                                {
                                    "SZOBA_SZAMA": "12",
                                    "FEROHELY": "3",
                                    "(No column name)": "1"
                                },
                                {
                                    "SZOBA_SZAMA": "12",
                                    "FEROHELY": "3",
                                    "(No column name)": "1"
                                },
                                {
                                    "SZOBA_SZAMA": "12",
                                    "FEROHELY": "3",
                                    "(No column name)": "1"
                                },
                                {
                                    "SZOBA_SZAMA": "12",
                                    "FEROHELY": "3",
                                    "(No column name)": "1"
                                },
                                {
                                    "SZOBA_SZAMA": "12",
                                    "FEROHELY": "3",
                                    "(No column name)": "1"
                                },
                                {
                                    "SZOBA_SZAMA": "12",
                                    "FEROHELY": "3",
                                    "(No column name)": "1"
                                },
                                {
                                    "SZOBA_SZAMA": "12",
                                    "FEROHELY": "3",
                                    "(No column name)": "1"
                                },
                                {
                                    "SZOBA_SZAMA": "12",
                                    "FEROHELY": "3",
                                    "(No column name)": "1"
                                },
                                {
                                    "SZOBA_SZAMA": "12",
                                    "FEROHELY": "3",
                                    "(No column name)": "1"
                                },
                                {
                                    "SZOBA_SZAMA": "12",
                                    "FEROHELY": "3",
                                    "(No column name)": "1"
                                },
                                {
                                    "SZOBA_SZAMA": "12",
                                    "FEROHELY": "3",
                                    "(No column name)": "1"
                                },
                                {
                                    "SZOBA_SZAMA": "12",
                                    "FEROHELY": "3",
                                    "(No column name)": "1"
                                },
                                {
                                    "SZOBA_SZAMA": "12",
                                    "FEROHELY": "3",
                                    "(No column name)": "1"
                                },
                                {
                                    "SZOBA_SZAMA": "12",
                                    "FEROHELY": "3",
                                    "(No column name)": "1"
                                },
                                {
                                    "SZOBA_SZAMA": "12",
                                    "FEROHELY": "3",
                                    "(No column name)": "1"
                                },
                                {
                                    "SZOBA_SZAMA": "12",
                                    "FEROHELY": "2",
                                    "(No column name)": "26"
                                },
                                {
                                    "SZOBA_SZAMA": "12",
                                    "FEROHELY": "2",
                                    "(No column name)": "26"
                                },
                                {
                                    "SZOBA_SZAMA": "12",
                                    "FEROHELY": "2",
                                    "(No column name)": "26"
                                },
                                {
                                    "SZOBA_SZAMA": "12",
                                    "FEROHELY": "2",
                                    "(No column name)": "26"
                                },
                                {
                                    "SZOBA_SZAMA": "12",
                                    "FEROHELY": "2",
                                    "(No column name)": "26"
                                },
                                {
                                    "SZOBA_SZAMA": "12",
                                    "FEROHELY": "2",
                                    "(No column name)": "26"
                                },
                                {
                                    "SZOBA_SZAMA": "12",
                                    "FEROHELY": "2",
                                    "(No column name)": "26"
                                },
                                {
                                    "SZOBA_SZAMA": "12",
                                    "FEROHELY": "2",
                                    "(No column name)": "26"
                                },
                                {
                                    "SZOBA_SZAMA": "12",
                                    "FEROHELY": "2",
                                    "(No column name)": "26"
                                },
                                {
                                    "SZOBA_SZAMA": "12",
                                    "FEROHELY": "2",
                                    "(No column name)": "26"
                                },
                                {
                                    "SZOBA_SZAMA": "12",
                                    "FEROHELY": "2",
                                    "(No column name)": "26"
                                },
                                {
                                    "SZOBA_SZAMA": "12",
                                    "FEROHELY": "2",
                                    "(No column name)": "26"
                                },
                                {
                                    "SZOBA_SZAMA": "12",
                                    "FEROHELY": "2",
                                    "(No column name)": "26"
                                },
                                {
                                    "SZOBA_SZAMA": "13",
                                    "FEROHELY": "3",
                                    "(No column name)": "1"
                                },
                                {
                                    "SZOBA_SZAMA": "13",
                                    "FEROHELY": "3",
                                    "(No column name)": "1"
                                },
                                {
                                    "SZOBA_SZAMA": "13",
                                    "FEROHELY": "3",
                                    "(No column name)": "1"
                                },
                                {
                                    "SZOBA_SZAMA": "13",
                                    "FEROHELY": "3",
                                    "(No column name)": "1"
                                },
                                {
                                    "SZOBA_SZAMA": "13",
                                    "FEROHELY": "3",
                                    "(No column name)": "1"
                                },
                                {
                                    "SZOBA_SZAMA": "13",
                                    "FEROHELY": "2",
                                    "(No column name)": "6"
                                },
                                {
                                    "SZOBA_SZAMA": "13",
                                    "FEROHELY": "2",
                                    "(No column name)": "6"
                                },
                                {
                                    "SZOBA_SZAMA": "13",
                                    "FEROHELY": "2",
                                    "(No column name)": "6"
                                },
                                {
                                    "SZOBA_SZAMA": "13",
                                    "FEROHELY": "2",
                                    "(No column name)": "6"
                                },
                                {
                                    "SZOBA_SZAMA": "13",
                                    "FEROHELY": "2",
                                    "(No column name)": "6"
                                },
                                {
                                    "SZOBA_SZAMA": "13",
                                    "FEROHELY": "2",
                                    "(No column name)": "6"
                                },
                                {
                                    "SZOBA_SZAMA": "13",
                                    "FEROHELY": "2",
                                    "(No column name)": "6"
                                },
                                {
                                    "SZOBA_SZAMA": "13",
                                    "FEROHELY": "2",
                                    "(No column name)": "6"
                                },
                                {
                                    "SZOBA_SZAMA": "13",
                                    "FEROHELY": "2",
                                    "(No column name)": "6"
                                },
                                {
                                    "SZOBA_SZAMA": "13",
                                    "FEROHELY": "2",
                                    "(No column name)": "6"
                                },
                                {
                                    "SZOBA_SZAMA": "13",
                                    "FEROHELY": "2",
                                    "(No column name)": "6"
                                },
                                {
                                    "SZOBA_SZAMA": "13",
                                    "FEROHELY": "2",
                                    "(No column name)": "6"
                                },
                                {
                                    "SZOBA_SZAMA": "13",
                                    "FEROHELY": "2",
                                    "(No column name)": "6"
                                },
                                {
                                    "SZOBA_SZAMA": "13",
                                    "FEROHELY": "2",
                                    "(No column name)": "6"
                                },
                                {
                                    "SZOBA_SZAMA": "14",
                                    "FEROHELY": "3",
                                    "(No column name)": "1"
                                },
                                {
                                    "SZOBA_SZAMA": "14",
                                    "FEROHELY": "3",
                                    "(No column name)": "1"
                                },
                                {
                                    "SZOBA_SZAMA": "14",
                                    "FEROHELY": "3",
                                    "(No column name)": "1"
                                },
                                {
                                    "SZOBA_SZAMA": "14",
                                    "FEROHELY": "3",
                                    "(No column name)": "1"
                                },
                                {
                                    "SZOBA_SZAMA": "14",
                                    "FEROHELY": "3",
                                    "(No column name)": "1"
                                },
                                {
                                    "SZOBA_SZAMA": "14",
                                    "FEROHELY": "3",
                                    "(No column name)": "1"
                                },
                                {
                                    "SZOBA_SZAMA": "14",
                                    "FEROHELY": "3",
                                    "(No column name)": "1"
                                },
                                {
                                    "SZOBA_SZAMA": "14",
                                    "FEROHELY": "3",
                                    "(No column name)": "1"
                                },
                                {
                                    "SZOBA_SZAMA": "14",
                                    "FEROHELY": "3",
                                    "(No column name)": "1"
                                },
                                {
                                    "SZOBA_SZAMA": "14",
                                    "FEROHELY": "2",
                                    "(No column name)": "10"
                                },
                                {
                                    "SZOBA_SZAMA": "14",
                                    "FEROHELY": "2",
                                    "(No column name)": "10"
                                },
                                {
                                    "SZOBA_SZAMA": "14",
                                    "FEROHELY": "2",
                                    "(No column name)": "10"
                                },
                                {
                                    "SZOBA_SZAMA": "14",
                                    "FEROHELY": "2",
                                    "(No column name)": "10"
                                },
                                {
                                    "SZOBA_SZAMA": "14",
                                    "FEROHELY": "2",
                                    "(No column name)": "10"
                                },
                                {
                                    "SZOBA_SZAMA": "14",
                                    "FEROHELY": "2",
                                    "(No column name)": "10"
                                },
                                {
                                    "SZOBA_SZAMA": "14",
                                    "FEROHELY": "2",
                                    "(No column name)": "10"
                                },
                                {
                                    "SZOBA_SZAMA": "14",
                                    "FEROHELY": "2",
                                    "(No column name)": "10"
                                },
                                {
                                    "SZOBA_SZAMA": "14",
                                    "FEROHELY": "2",
                                    "(No column name)": "10"
                                },
                                {
                                    "SZOBA_SZAMA": "14",
                                    "FEROHELY": "2",
                                    "(No column name)": "10"
                                },
                                {
                                    "SZOBA_SZAMA": "14",
                                    "FEROHELY": "2",
                                    "(No column name)": "10"
                                },
                                {
                                    "SZOBA_SZAMA": "14",
                                    "FEROHELY": "2",
                                    "(No column name)": "10"
                                },
                                {
                                    "SZOBA_SZAMA": "14",
                                    "FEROHELY": "2",
                                    "(No column name)": "10"
                                },
                                {
                                    "SZOBA_SZAMA": "14",
                                    "FEROHELY": "2",
                                    "(No column name)": "10"
                                },
                                {
                                    "SZOBA_SZAMA": "14",
                                    "FEROHELY": "2",
                                    "(No column name)": "10"
                                },
                                {
                                    "SZOBA_SZAMA": "14",
                                    "FEROHELY": "2",
                                    "(No column name)": "10"
                                },
                                {
                                    "SZOBA_SZAMA": "14",
                                    "FEROHELY": "2",
                                    "(No column name)": "10"
                                },
                                {
                                    "SZOBA_SZAMA": "14",
                                    "FEROHELY": "2",
                                    "(No column name)": "10"
                                },
                                {
                                    "SZOBA_SZAMA": "14",
                                    "FEROHELY": "2",
                                    "(No column name)": "10"
                                },
                                {
                                    "SZOBA_SZAMA": "15",
                                    "FEROHELY": "3",
                                    "(No column name)": "1"
                                },
                                {
                                    "SZOBA_SZAMA": "15",
                                    "FEROHELY": "3",
                                    "(No column name)": "1"
                                },
                                {
                                    "SZOBA_SZAMA": "15",
                                    "FEROHELY": "3",
                                    "(No column name)": "1"
                                },
                                {
                                    "SZOBA_SZAMA": "15",
                                    "FEROHELY": "2",
                                    "(No column name)": "4"
                                },
                                {
                                    "SZOBA_SZAMA": "15",
                                    "FEROHELY": "2",
                                    "(No column name)": "4"
                                },
                                {
                                    "SZOBA_SZAMA": "15",
                                    "FEROHELY": "2",
                                    "(No column name)": "4"
                                },
                                {
                                    "SZOBA_SZAMA": "15",
                                    "FEROHELY": "2",
                                    "(No column name)": "4"
                                },
                                {
                                    "SZOBA_SZAMA": "15",
                                    "FEROHELY": "2",
                                    "(No column name)": "4"
                                },
                                {
                                    "SZOBA_SZAMA": "15",
                                    "FEROHELY": "2",
                                    "(No column name)": "4"
                                },
                                {
                                    "SZOBA_SZAMA": "15",
                                    "FEROHELY": "2",
                                    "(No column name)": "4"
                                },
                                {
                                    "SZOBA_SZAMA": "15",
                                    "FEROHELY": "2",
                                    "(No column name)": "4"
                                },
                                {
                                    "SZOBA_SZAMA": "15",
                                    "FEROHELY": "2",
                                    "(No column name)": "4"
                                },
                                {
                                    "SZOBA_SZAMA": "15",
                                    "FEROHELY": "2",
                                    "(No column name)": "4"
                                },
                                {
                                    "SZOBA_SZAMA": "15",
                                    "FEROHELY": "2",
                                    "(No column name)": "4"
                                },
                                {
                                    "SZOBA_SZAMA": "15",
                                    "FEROHELY": "2",
                                    "(No column name)": "4"
                                },
                                {
                                    "SZOBA_SZAMA": "15",
                                    "FEROHELY": "2",
                                    "(No column name)": "4"
                                },
                                {
                                    "SZOBA_SZAMA": "15",
                                    "FEROHELY": "2",
                                    "(No column name)": "4"
                                },
                                {
                                    "SZOBA_SZAMA": "15",
                                    "FEROHELY": "2",
                                    "(No column name)": "4"
                                },
                                {
                                    "SZOBA_SZAMA": "15",
                                    "FEROHELY": "2",
                                    "(No column name)": "4"
                                },
                                {
                                    "SZOBA_SZAMA": "15",
                                    "FEROHELY": "2",
                                    "(No column name)": "4"
                                },
                                {
                                    "SZOBA_SZAMA": "15",
                                    "FEROHELY": "2",
                                    "(No column name)": "4"
                                },
                                {
                                    "SZOBA_SZAMA": "15",
                                    "FEROHELY": "2",
                                    "(No column name)": "4"
                                },
                                {
                                    "SZOBA_SZAMA": "15",
                                    "FEROHELY": "2",
                                    "(No column name)": "4"
                                },
                                {
                                    "SZOBA_SZAMA": "15",
                                    "FEROHELY": "2",
                                    "(No column name)": "4"
                                },
                                {
                                    "SZOBA_SZAMA": "15",
                                    "FEROHELY": "2",
                                    "(No column name)": "4"
                                },
                                {
                                    "SZOBA_SZAMA": "15",
                                    "FEROHELY": "2",
                                    "(No column name)": "4"
                                },
                                {
                                    "SZOBA_SZAMA": "15",
                                    "FEROHELY": "2",
                                    "(No column name)": "4"
                                },
                                {
                                    "SZOBA_SZAMA": "16",
                                    "FEROHELY": "2",
                                    "(No column name)": "1"
                                },
                                {
                                    "SZOBA_SZAMA": "16",
                                    "FEROHELY": "2",
                                    "(No column name)": "1"
                                },
                                {
                                    "SZOBA_SZAMA": "16",
                                    "FEROHELY": "2",
                                    "(No column name)": "1"
                                },
                                {
                                    "SZOBA_SZAMA": "16",
                                    "FEROHELY": "2",
                                    "(No column name)": "1"
                                },
                                {
                                    "SZOBA_SZAMA": "16",
                                    "FEROHELY": "2",
                                    "(No column name)": "1"
                                },
                                {
                                    "SZOBA_SZAMA": "16",
                                    "FEROHELY": "2",
                                    "(No column name)": "1"
                                },
                                {
                                    "SZOBA_SZAMA": "16",
                                    "FEROHELY": "2",
                                    "(No column name)": "1"
                                },
                                {
                                    "SZOBA_SZAMA": "16",
                                    "FEROHELY": "2",
                                    "(No column name)": "1"
                                },
                                {
                                    "SZOBA_SZAMA": "16",
                                    "FEROHELY": "2",
                                    "(No column name)": "1"
                                },
                                {
                                    "SZOBA_SZAMA": "16",
                                    "FEROHELY": "2",
                                    "(No column name)": "1"
                                },
                                {
                                    "SZOBA_SZAMA": "16",
                                    "FEROHELY": "2",
                                    "(No column name)": "1"
                                },
                                {
                                    "SZOBA_SZAMA": "16",
                                    "FEROHELY": "2",
                                    "(No column name)": "1"
                                },
                                {
                                    "SZOBA_SZAMA": "16",
                                    "FEROHELY": "2",
                                    "(No column name)": "1"
                                },
                                {
                                    "SZOBA_SZAMA": "16",
                                    "FEROHELY": "2",
                                    "(No column name)": "1"
                                },
                                {
                                    "SZOBA_SZAMA": "16",
                                    "FEROHELY": "2",
                                    "(No column name)": "1"
                                },
                                {
                                    "SZOBA_SZAMA": "16",
                                    "FEROHELY": "2",
                                    "(No column name)": "1"
                                },
                                {
                                    "SZOBA_SZAMA": "16",
                                    "FEROHELY": "2",
                                    "(No column name)": "1"
                                },
                                {
                                    "SZOBA_SZAMA": "17",
                                    "FEROHELY": "3",
                                    "(No column name)": "1"
                                },
                                {
                                    "SZOBA_SZAMA": "17",
                                    "FEROHELY": "3",
                                    "(No column name)": "1"
                                },
                                {
                                    "SZOBA_SZAMA": "17",
                                    "FEROHELY": "3",
                                    "(No column name)": "1"
                                },
                                {
                                    "SZOBA_SZAMA": "17",
                                    "FEROHELY": "3",
                                    "(No column name)": "1"
                                },
                                {
                                    "SZOBA_SZAMA": "17",
                                    "FEROHELY": "3",
                                    "(No column name)": "1"
                                },
                                {
                                    "SZOBA_SZAMA": "17",
                                    "FEROHELY": "3",
                                    "(No column name)": "1"
                                },
                                {
                                    "SZOBA_SZAMA": "17",
                                    "FEROHELY": "3",
                                    "(No column name)": "1"
                                },
                                {
                                    "SZOBA_SZAMA": "17",
                                    "FEROHELY": "3",
                                    "(No column name)": "1"
                                },
                                {
                                    "SZOBA_SZAMA": "17",
                                    "FEROHELY": "3",
                                    "(No column name)": "1"
                                },
                                {
                                    "SZOBA_SZAMA": "17",
                                    "FEROHELY": "3",
                                    "(No column name)": "1"
                                },
                                {
                                    "SZOBA_SZAMA": "17",
                                    "FEROHELY": "2",
                                    "(No column name)": "11"
                                },
                                {
                                    "SZOBA_SZAMA": "17",
                                    "FEROHELY": "2",
                                    "(No column name)": "11"
                                },
                                {
                                    "SZOBA_SZAMA": "17",
                                    "FEROHELY": "2",
                                    "(No column name)": "11"
                                },
                                {
                                    "SZOBA_SZAMA": "17",
                                    "FEROHELY": "2",
                                    "(No column name)": "11"
                                },
                                {
                                    "SZOBA_SZAMA": "17",
                                    "FEROHELY": "2",
                                    "(No column name)": "11"
                                },
                                {
                                    "SZOBA_SZAMA": "17",
                                    "FEROHELY": "2",
                                    "(No column name)": "11"
                                },
                                {
                                    "SZOBA_SZAMA": "17",
                                    "FEROHELY": "2",
                                    "(No column name)": "11"
                                },
                                {
                                    "SZOBA_SZAMA": "17",
                                    "FEROHELY": "2",
                                    "(No column name)": "11"
                                },
                                {
                                    "SZOBA_SZAMA": "17",
                                    "FEROHELY": "2",
                                    "(No column name)": "11"
                                },
                                {
                                    "SZOBA_SZAMA": "18",
                                    "FEROHELY": "2",
                                    "(No column name)": "1"
                                },
                                {
                                    "SZOBA_SZAMA": "18",
                                    "FEROHELY": "2",
                                    "(No column name)": "1"
                                },
                                {
                                    "SZOBA_SZAMA": "18",
                                    "FEROHELY": "2",
                                    "(No column name)": "1"
                                },
                                {
                                    "SZOBA_SZAMA": "18",
                                    "FEROHELY": "2",
                                    "(No column name)": "1"
                                },
                                {
                                    "SZOBA_SZAMA": "18",
                                    "FEROHELY": "2",
                                    "(No column name)": "1"
                                },
                                {
                                    "SZOBA_SZAMA": "18",
                                    "FEROHELY": "2",
                                    "(No column name)": "1"
                                },
                                {
                                    "SZOBA_SZAMA": "18",
                                    "FEROHELY": "2",
                                    "(No column name)": "1"
                                },
                                {
                                    "SZOBA_SZAMA": "18",
                                    "FEROHELY": "2",
                                    "(No column name)": "1"
                                },
                                {
                                    "SZOBA_SZAMA": "18",
                                    "FEROHELY": "2",
                                    "(No column name)": "1"
                                },
                                {
                                    "SZOBA_SZAMA": "18",
                                    "FEROHELY": "2",
                                    "(No column name)": "1"
                                },
                                {
                                    "SZOBA_SZAMA": "18",
                                    "FEROHELY": "2",
                                    "(No column name)": "1"
                                },
                                {
                                    "SZOBA_SZAMA": "18",
                                    "FEROHELY": "2",
                                    "(No column name)": "1"
                                },
                                {
                                    "SZOBA_SZAMA": "18",
                                    "FEROHELY": "2",
                                    "(No column name)": "1"
                                },
                                {
                                    "SZOBA_SZAMA": "18",
                                    "FEROHELY": "2",
                                    "(No column name)": "1"
                                },
                                {
                                    "SZOBA_SZAMA": "18",
                                    "FEROHELY": "2",
                                    "(No column name)": "1"
                                },
                                {
                                    "SZOBA_SZAMA": "18",
                                    "FEROHELY": "2",
                                    "(No column name)": "1"
                                },
                                {
                                    "SZOBA_SZAMA": "18",
                                    "FEROHELY": "2",
                                    "(No column name)": "1"
                                },
                                {
                                    "SZOBA_SZAMA": "18",
                                    "FEROHELY": "2",
                                    "(No column name)": "1"
                                },
                                {
                                    "SZOBA_SZAMA": "18",
                                    "FEROHELY": "2",
                                    "(No column name)": "1"
                                },
                                {
                                    "SZOBA_SZAMA": "18",
                                    "FEROHELY": "2",
                                    "(No column name)": "1"
                                },
                                {
                                    "SZOBA_SZAMA": "18",
                                    "FEROHELY": "2",
                                    "(No column name)": "1"
                                },
                                {
                                    "SZOBA_SZAMA": "18",
                                    "FEROHELY": "2",
                                    "(No column name)": "1"
                                },
                                {
                                    "SZOBA_SZAMA": "18",
                                    "FEROHELY": "2",
                                    "(No column name)": "1"
                                },
                                {
                                    "SZOBA_SZAMA": "18",
                                    "FEROHELY": "2",
                                    "(No column name)": "1"
                                },
                                {
                                    "SZOBA_SZAMA": "18",
                                    "FEROHELY": "2",
                                    "(No column name)": "1"
                                },
                                {
                                    "SZOBA_SZAMA": "19",
                                    "FEROHELY": "3",
                                    "(No column name)": "1"
                                },
                                {
                                    "SZOBA_SZAMA": "19",
                                    "FEROHELY": "3",
                                    "(No column name)": "1"
                                },
                                {
                                    "SZOBA_SZAMA": "19",
                                    "FEROHELY": "3",
                                    "(No column name)": "1"
                                },
                                {
                                    "SZOBA_SZAMA": "19",
                                    "FEROHELY": "3",
                                    "(No column name)": "1"
                                },
                                {
                                    "SZOBA_SZAMA": "19",
                                    "FEROHELY": "3",
                                    "(No column name)": "1"
                                },
                                {
                                    "SZOBA_SZAMA": "19",
                                    "FEROHELY": "3",
                                    "(No column name)": "1"
                                },
                                {
                                    "SZOBA_SZAMA": "19",
                                    "FEROHELY": "3",
                                    "(No column name)": "1"
                                },
                                {
                                    "SZOBA_SZAMA": "19",
                                    "FEROHELY": "3",
                                    "(No column name)": "1"
                                },
                                {
                                    "SZOBA_SZAMA": "19",
                                    "FEROHELY": "3",
                                    "(No column name)": "1"
                                },
                                {
                                    "SZOBA_SZAMA": "19",
                                    "FEROHELY": "2",
                                    "(No column name)": "10"
                                },
                                {
                                    "SZOBA_SZAMA": "19",
                                    "FEROHELY": "2",
                                    "(No column name)": "10"
                                },
                                {
                                    "SZOBA_SZAMA": "19",
                                    "FEROHELY": "2",
                                    "(No column name)": "10"
                                },
                                {
                                    "SZOBA_SZAMA": "19",
                                    "FEROHELY": "2",
                                    "(No column name)": "10"
                                },
                                {
                                    "SZOBA_SZAMA": "19",
                                    "FEROHELY": "2",
                                    "(No column name)": "10"
                                },
                                {
                                    "SZOBA_SZAMA": "19",
                                    "FEROHELY": "2",
                                    "(No column name)": "10"
                                },
                                {
                                    "SZOBA_SZAMA": "19",
                                    "FEROHELY": "2",
                                    "(No column name)": "10"
                                },
                                {
                                    "SZOBA_SZAMA": "19",
                                    "FEROHELY": "2",
                                    "(No column name)": "10"
                                },
                                {
                                    "SZOBA_SZAMA": "19",
                                    "FEROHELY": "2",
                                    "(No column name)": "10"
                                },
                                {
                                    "SZOBA_SZAMA": "19",
                                    "FEROHELY": "2",
                                    "(No column name)": "10"
                                },
                                {
                                    "SZOBA_SZAMA": "19",
                                    "FEROHELY": "1",
                                    "(No column name)": "20"
                                },
                                {
                                    "SZOBA_SZAMA": "2",
                                    "FEROHELY": "3",
                                    "(No column name)": "1"
                                },
                                {
                                    "SZOBA_SZAMA": "2",
                                    "FEROHELY": "3",
                                    "(No column name)": "1"
                                },
                                {
                                    "SZOBA_SZAMA": "2",
                                    "FEROHELY": "3",
                                    "(No column name)": "1"
                                },
                                {
                                    "SZOBA_SZAMA": "2",
                                    "FEROHELY": "3",
                                    "(No column name)": "1"
                                },
                                {
                                    "SZOBA_SZAMA": "2",
                                    "FEROHELY": "3",
                                    "(No column name)": "1"
                                },
                                {
                                    "SZOBA_SZAMA": "2",
                                    "FEROHELY": "3",
                                    "(No column name)": "1"
                                },
                                {
                                    "SZOBA_SZAMA": "2",
                                    "FEROHELY": "3",
                                    "(No column name)": "1"
                                },
                                {
                                    "SZOBA_SZAMA": "2",
                                    "FEROHELY": "3",
                                    "(No column name)": "1"
                                },
                                {
                                    "SZOBA_SZAMA": "2",
                                    "FEROHELY": "3",
                                    "(No column name)": "1"
                                },
                                {
                                    "SZOBA_SZAMA": "2",
                                    "FEROHELY": "3",
                                    "(No column name)": "1"
                                },
                                {
                                    "SZOBA_SZAMA": "2",
                                    "FEROHELY": "3",
                                    "(No column name)": "1"
                                },
                                {
                                    "SZOBA_SZAMA": "2",
                                    "FEROHELY": "3",
                                    "(No column name)": "1"
                                },
                                {
                                    "SZOBA_SZAMA": "2",
                                    "FEROHELY": "3",
                                    "(No column name)": "1"
                                },
                                {
                                    "SZOBA_SZAMA": "2",
                                    "FEROHELY": "3",
                                    "(No column name)": "1"
                                },
                                {
                                    "SZOBA_SZAMA": "2",
                                    "FEROHELY": "3",
                                    "(No column name)": "1"
                                },
                                {
                                    "SZOBA_SZAMA": "2",
                                    "FEROHELY": "3",
                                    "(No column name)": "1"
                                },
                                {
                                    "SZOBA_SZAMA": "2",
                                    "FEROHELY": "3",
                                    "(No column name)": "1"
                                },
                                {
                                    "SZOBA_SZAMA": "2",
                                    "FEROHELY": "3",
                                    "(No column name)": "1"
                                },
                                {
                                    "SZOBA_SZAMA": "2",
                                    "FEROHELY": "3",
                                    "(No column name)": "1"
                                },
                                {
                                    "SZOBA_SZAMA": "2",
                                    "FEROHELY": "3",
                                    "(No column name)": "1"
                                },
                                {
                                    "SZOBA_SZAMA": "2",
                                    "FEROHELY": "3",
                                    "(No column name)": "1"
                                },
                                {
                                    "SZOBA_SZAMA": "2",
                                    "FEROHELY": "3",
                                    "(No column name)": "1"
                                },
                                {
                                    "SZOBA_SZAMA": "2",
                                    "FEROHELY": "3",
                                    "(No column name)": "1"
                                },
                                {
                                    "SZOBA_SZAMA": "2",
                                    "FEROHELY": "3",
                                    "(No column name)": "1"
                                },
                                {
                                    "SZOBA_SZAMA": "2",
                                    "FEROHELY": "3",
                                    "(No column name)": "1"
                                },
                                {
                                    "SZOBA_SZAMA": "2",
                                    "FEROHELY": "3",
                                    "(No column name)": "1"
                                },
                                {
                                    "SZOBA_SZAMA": "2",
                                    "FEROHELY": "3",
                                    "(No column name)": "1"
                                },
                                {
                                    "SZOBA_SZAMA": "2",
                                    "FEROHELY": "3",
                                    "(No column name)": "1"
                                },
                                {
                                    "SZOBA_SZAMA": "2",
                                    "FEROHELY": "3",
                                    "(No column name)": "1"
                                },
                                {
                                    "SZOBA_SZAMA": "2",
                                    "FEROHELY": "3",
                                    "(No column name)": "1"
                                },
                                {
                                    "SZOBA_SZAMA": "2",
                                    "FEROHELY": "2",
                                    "(No column name)": "31"
                                },
                                {
                                    "SZOBA_SZAMA": "2",
                                    "FEROHELY": "2",
                                    "(No column name)": "31"
                                },
                                {
                                    "SZOBA_SZAMA": "2",
                                    "FEROHELY": "2",
                                    "(No column name)": "31"
                                },
                                {
                                    "SZOBA_SZAMA": "2",
                                    "FEROHELY": "2",
                                    "(No column name)": "31"
                                },
                                {
                                    "SZOBA_SZAMA": "2",
                                    "FEROHELY": "2",
                                    "(No column name)": "31"
                                },
                                {
                                    "SZOBA_SZAMA": "2",
                                    "FEROHELY": "2",
                                    "(No column name)": "31"
                                },
                                {
                                    "SZOBA_SZAMA": "2",
                                    "FEROHELY": "2",
                                    "(No column name)": "31"
                                },
                                {
                                    "SZOBA_SZAMA": "2",
                                    "FEROHELY": "2",
                                    "(No column name)": "31"
                                },
                                {
                                    "SZOBA_SZAMA": "2",
                                    "FEROHELY": "2",
                                    "(No column name)": "31"
                                },
                                {
                                    "SZOBA_SZAMA": "2",
                                    "FEROHELY": "2",
                                    "(No column name)": "31"
                                },
                                {
                                    "SZOBA_SZAMA": "2",
                                    "FEROHELY": "2",
                                    "(No column name)": "31"
                                },
                                {
                                    "SZOBA_SZAMA": "2",
                                    "FEROHELY": "2",
                                    "(No column name)": "31"
                                },
                                {
                                    "SZOBA_SZAMA": "2",
                                    "FEROHELY": "2",
                                    "(No column name)": "31"
                                },
                                {
                                    "SZOBA_SZAMA": "2",
                                    "FEROHELY": "2",
                                    "(No column name)": "31"
                                },
                                {
                                    "SZOBA_SZAMA": "2",
                                    "FEROHELY": "2",
                                    "(No column name)": "31"
                                },
                                {
                                    "SZOBA_SZAMA": "2",
                                    "FEROHELY": "2",
                                    "(No column name)": "31"
                                },
                                {
                                    "SZOBA_SZAMA": "2",
                                    "FEROHELY": "2",
                                    "(No column name)": "31"
                                },
                                {
                                    "SZOBA_SZAMA": "2",
                                    "FEROHELY": "2",
                                    "(No column name)": "31"
                                },
                                {
                                    "SZOBA_SZAMA": "2",
                                    "FEROHELY": "2",
                                    "(No column name)": "31"
                                },
                                {
                                    "SZOBA_SZAMA": "2",
                                    "FEROHELY": "2",
                                    "(No column name)": "31"
                                },
                                {
                                    "SZOBA_SZAMA": "2",
                                    "FEROHELY": "2",
                                    "(No column name)": "31"
                                },
                                {
                                    "SZOBA_SZAMA": "2",
                                    "FEROHELY": "2",
                                    "(No column name)": "31"
                                },
                                {
                                    "SZOBA_SZAMA": "2",
                                    "FEROHELY": "2",
                                    "(No column name)": "31"
                                },
                                {
                                    "SZOBA_SZAMA": "2",
                                    "FEROHELY": "2",
                                    "(No column name)": "31"
                                },
                                {
                                    "SZOBA_SZAMA": "2",
                                    "FEROHELY": "2",
                                    "(No column name)": "31"
                                },
                                {
                                    "SZOBA_SZAMA": "2",
                                    "FEROHELY": "2",
                                    "(No column name)": "31"
                                },
                                {
                                    "SZOBA_SZAMA": "2",
                                    "FEROHELY": "2",
                                    "(No column name)": "31"
                                },
                                {
                                    "SZOBA_SZAMA": "2",
                                    "FEROHELY": "2",
                                    "(No column name)": "31"
                                },
                                {
                                    "SZOBA_SZAMA": "20",
                                    "FEROHELY": "3",
                                    "(No column name)": "1"
                                },
                                {
                                    "SZOBA_SZAMA": "20",
                                    "FEROHELY": "3",
                                    "(No column name)": "1"
                                },
                                {
                                    "SZOBA_SZAMA": "20",
                                    "FEROHELY": "3",
                                    "(No column name)": "1"
                                },
                                {
                                    "SZOBA_SZAMA": "20",
                                    "FEROHELY": "3",
                                    "(No column name)": "1"
                                },
                                {
                                    "SZOBA_SZAMA": "20",
                                    "FEROHELY": "2",
                                    "(No column name)": "5"
                                },
                                {
                                    "SZOBA_SZAMA": "20",
                                    "FEROHELY": "2",
                                    "(No column name)": "5"
                                },
                                {
                                    "SZOBA_SZAMA": "20",
                                    "FEROHELY": "2",
                                    "(No column name)": "5"
                                },
                                {
                                    "SZOBA_SZAMA": "20",
                                    "FEROHELY": "2",
                                    "(No column name)": "5"
                                },
                                {
                                    "SZOBA_SZAMA": "20",
                                    "FEROHELY": "2",
                                    "(No column name)": "5"
                                },
                                {
                                    "SZOBA_SZAMA": "20",
                                    "FEROHELY": "2",
                                    "(No column name)": "5"
                                },
                                {
                                    "SZOBA_SZAMA": "20",
                                    "FEROHELY": "2",
                                    "(No column name)": "5"
                                },
                                {
                                    "SZOBA_SZAMA": "20",
                                    "FEROHELY": "2",
                                    "(No column name)": "5"
                                },
                                {
                                    "SZOBA_SZAMA": "20",
                                    "FEROHELY": "2",
                                    "(No column name)": "5"
                                },
                                {
                                    "SZOBA_SZAMA": "20",
                                    "FEROHELY": "2",
                                    "(No column name)": "5"
                                },
                                {
                                    "SZOBA_SZAMA": "20",
                                    "FEROHELY": "2",
                                    "(No column name)": "5"
                                },
                                {
                                    "SZOBA_SZAMA": "20",
                                    "FEROHELY": "2",
                                    "(No column name)": "5"
                                },
                                {
                                    "SZOBA_SZAMA": "20",
                                    "FEROHELY": "2",
                                    "(No column name)": "5"
                                },
                                {
                                    "SZOBA_SZAMA": "20",
                                    "FEROHELY": "2",
                                    "(No column name)": "5"
                                },
                                {
                                    "SZOBA_SZAMA": "20",
                                    "FEROHELY": "2",
                                    "(No column name)": "5"
                                },
                                {
                                    "SZOBA_SZAMA": "20",
                                    "FEROHELY": "2",
                                    "(No column name)": "5"
                                },
                                {
                                    "SZOBA_SZAMA": "20",
                                    "FEROHELY": "2",
                                    "(No column name)": "5"
                                },
                                {
                                    "SZOBA_SZAMA": "20",
                                    "FEROHELY": "1",
                                    "(No column name)": "22"
                                },
                                {
                                    "SZOBA_SZAMA": "21",
                                    "FEROHELY": "3",
                                    "(No column name)": "1"
                                },
                                {
                                    "SZOBA_SZAMA": "21",
                                    "FEROHELY": "3",
                                    "(No column name)": "1"
                                },
                                {
                                    "SZOBA_SZAMA": "21",
                                    "FEROHELY": "3",
                                    "(No column name)": "1"
                                },
                                {
                                    "SZOBA_SZAMA": "21",
                                    "FEROHELY": "3",
                                    "(No column name)": "1"
                                },
                                {
                                    "SZOBA_SZAMA": "21",
                                    "FEROHELY": "3",
                                    "(No column name)": "1"
                                },
                                {
                                    "SZOBA_SZAMA": "21",
                                    "FEROHELY": "3",
                                    "(No column name)": "1"
                                },
                                {
                                    "SZOBA_SZAMA": "21",
                                    "FEROHELY": "3",
                                    "(No column name)": "1"
                                },
                                {
                                    "SZOBA_SZAMA": "21",
                                    "FEROHELY": "3",
                                    "(No column name)": "1"
                                },
                                {
                                    "SZOBA_SZAMA": "21",
                                    "FEROHELY": "3",
                                    "(No column name)": "1"
                                },
                                {
                                    "SZOBA_SZAMA": "21",
                                    "FEROHELY": "3",
                                    "(No column name)": "1"
                                },
                                {
                                    "SZOBA_SZAMA": "21",
                                    "FEROHELY": "3",
                                    "(No column name)": "1"
                                },
                                {
                                    "SZOBA_SZAMA": "21",
                                    "FEROHELY": "3",
                                    "(No column name)": "1"
                                },
                                {
                                    "SZOBA_SZAMA": "21",
                                    "FEROHELY": "3",
                                    "(No column name)": "1"
                                },
                                {
                                    "SZOBA_SZAMA": "21",
                                    "FEROHELY": "3",
                                    "(No column name)": "1"
                                },
                                {
                                    "SZOBA_SZAMA": "21",
                                    "FEROHELY": "3",
                                    "(No column name)": "1"
                                },
                                {
                                    "SZOBA_SZAMA": "21",
                                    "FEROHELY": "3",
                                    "(No column name)": "1"
                                },
                                {
                                    "SZOBA_SZAMA": "21",
                                    "FEROHELY": "3",
                                    "(No column name)": "1"
                                },
                                {
                                    "SZOBA_SZAMA": "21",
                                    "FEROHELY": "2",
                                    "(No column name)": "18"
                                },
                                {
                                    "SZOBA_SZAMA": "21",
                                    "FEROHELY": "2",
                                    "(No column name)": "18"
                                },
                                {
                                    "SZOBA_SZAMA": "21",
                                    "FEROHELY": "2",
                                    "(No column name)": "18"
                                },
                                {
                                    "SZOBA_SZAMA": "21",
                                    "FEROHELY": "2",
                                    "(No column name)": "18"
                                },
                                {
                                    "SZOBA_SZAMA": "21",
                                    "FEROHELY": "2",
                                    "(No column name)": "18"
                                },
                                {
                                    "SZOBA_SZAMA": "21",
                                    "FEROHELY": "2",
                                    "(No column name)": "18"
                                },
                                {
                                    "SZOBA_SZAMA": "21",
                                    "FEROHELY": "2",
                                    "(No column name)": "18"
                                },
                                {
                                    "SZOBA_SZAMA": "21",
                                    "FEROHELY": "2",
                                    "(No column name)": "18"
                                },
                                {
                                    "SZOBA_SZAMA": "21",
                                    "FEROHELY": "2",
                                    "(No column name)": "18"
                                },
                                {
                                    "SZOBA_SZAMA": "21",
                                    "FEROHELY": "2",
                                    "(No column name)": "18"
                                },
                                {
                                    "SZOBA_SZAMA": "21",
                                    "FEROHELY": "2",
                                    "(No column name)": "18"
                                },
                                {
                                    "SZOBA_SZAMA": "21",
                                    "FEROHELY": "2",
                                    "(No column name)": "18"
                                },
                                {
                                    "SZOBA_SZAMA": "21",
                                    "FEROHELY": "2",
                                    "(No column name)": "18"
                                },
                                {
                                    "SZOBA_SZAMA": "21",
                                    "FEROHELY": "2",
                                    "(No column name)": "18"
                                },
                                {
                                    "SZOBA_SZAMA": "21",
                                    "FEROHELY": "2",
                                    "(No column name)": "18"
                                },
                                {
                                    "SZOBA_SZAMA": "21",
                                    "FEROHELY": "2",
                                    "(No column name)": "18"
                                },
                                {
                                    "SZOBA_SZAMA": "22",
                                    "FEROHELY": "3",
                                    "(No column name)": "1"
                                },
                                {
                                    "SZOBA_SZAMA": "22",
                                    "FEROHELY": "3",
                                    "(No column name)": "1"
                                },
                                {
                                    "SZOBA_SZAMA": "22",
                                    "FEROHELY": "3",
                                    "(No column name)": "1"
                                },
                                {
                                    "SZOBA_SZAMA": "22",
                                    "FEROHELY": "3",
                                    "(No column name)": "1"
                                },
                                {
                                    "SZOBA_SZAMA": "22",
                                    "FEROHELY": "3",
                                    "(No column name)": "1"
                                },
                                {
                                    "SZOBA_SZAMA": "22",
                                    "FEROHELY": "3",
                                    "(No column name)": "1"
                                },
                                {
                                    "SZOBA_SZAMA": "22",
                                    "FEROHELY": "3",
                                    "(No column name)": "1"
                                },
                                {
                                    "SZOBA_SZAMA": "22",
                                    "FEROHELY": "3",
                                    "(No column name)": "1"
                                },
                                {
                                    "SZOBA_SZAMA": "22",
                                    "FEROHELY": "2",
                                    "(No column name)": "9"
                                },
                                {
                                    "SZOBA_SZAMA": "22",
                                    "FEROHELY": "2",
                                    "(No column name)": "9"
                                },
                                {
                                    "SZOBA_SZAMA": "22",
                                    "FEROHELY": "2",
                                    "(No column name)": "9"
                                },
                                {
                                    "SZOBA_SZAMA": "22",
                                    "FEROHELY": "2",
                                    "(No column name)": "9"
                                },
                                {
                                    "SZOBA_SZAMA": "22",
                                    "FEROHELY": "2",
                                    "(No column name)": "9"
                                },
                                {
                                    "SZOBA_SZAMA": "22",
                                    "FEROHELY": "2",
                                    "(No column name)": "9"
                                },
                                {
                                    "SZOBA_SZAMA": "22",
                                    "FEROHELY": "2",
                                    "(No column name)": "9"
                                },
                                {
                                    "SZOBA_SZAMA": "22",
                                    "FEROHELY": "2",
                                    "(No column name)": "9"
                                },
                                {
                                    "SZOBA_SZAMA": "22",
                                    "FEROHELY": "2",
                                    "(No column name)": "9"
                                },
                                {
                                    "SZOBA_SZAMA": "22",
                                    "FEROHELY": "2",
                                    "(No column name)": "9"
                                },
                                {
                                    "SZOBA_SZAMA": "22",
                                    "FEROHELY": "2",
                                    "(No column name)": "9"
                                },
                                {
                                    "SZOBA_SZAMA": "23",
                                    "FEROHELY": "3",
                                    "(No column name)": "1"
                                },
                                {
                                    "SZOBA_SZAMA": "23",
                                    "FEROHELY": "3",
                                    "(No column name)": "1"
                                },
                                {
                                    "SZOBA_SZAMA": "23",
                                    "FEROHELY": "3",
                                    "(No column name)": "1"
                                },
                                {
                                    "SZOBA_SZAMA": "23",
                                    "FEROHELY": "3",
                                    "(No column name)": "1"
                                },
                                {
                                    "SZOBA_SZAMA": "23",
                                    "FEROHELY": "3",
                                    "(No column name)": "1"
                                },
                                {
                                    "SZOBA_SZAMA": "23",
                                    "FEROHELY": "3",
                                    "(No column name)": "1"
                                },
                                {
                                    "SZOBA_SZAMA": "23",
                                    "FEROHELY": "3",
                                    "(No column name)": "1"
                                },
                                {
                                    "SZOBA_SZAMA": "23",
                                    "FEROHELY": "3",
                                    "(No column name)": "1"
                                },
                                {
                                    "SZOBA_SZAMA": "23",
                                    "FEROHELY": "3",
                                    "(No column name)": "1"
                                },
                                {
                                    "SZOBA_SZAMA": "23",
                                    "FEROHELY": "3",
                                    "(No column name)": "1"
                                },
                                {
                                    "SZOBA_SZAMA": "23",
                                    "FEROHELY": "3",
                                    "(No column name)": "1"
                                },
                                {
                                    "SZOBA_SZAMA": "23",
                                    "FEROHELY": "3",
                                    "(No column name)": "1"
                                },
                                {
                                    "SZOBA_SZAMA": "23",
                                    "FEROHELY": "2",
                                    "(No column name)": "13"
                                },
                                {
                                    "SZOBA_SZAMA": "23",
                                    "FEROHELY": "2",
                                    "(No column name)": "13"
                                },
                                {
                                    "SZOBA_SZAMA": "23",
                                    "FEROHELY": "2",
                                    "(No column name)": "13"
                                },
                                {
                                    "SZOBA_SZAMA": "23",
                                    "FEROHELY": "2",
                                    "(No column name)": "13"
                                },
                                {
                                    "SZOBA_SZAMA": "23",
                                    "FEROHELY": "2",
                                    "(No column name)": "13"
                                },
                                {
                                    "SZOBA_SZAMA": "23",
                                    "FEROHELY": "2",
                                    "(No column name)": "13"
                                },
                                {
                                    "SZOBA_SZAMA": "23",
                                    "FEROHELY": "2",
                                    "(No column name)": "13"
                                },
                                {
                                    "SZOBA_SZAMA": "23",
                                    "FEROHELY": "2",
                                    "(No column name)": "13"
                                },
                                {
                                    "SZOBA_SZAMA": "23",
                                    "FEROHELY": "2",
                                    "(No column name)": "13"
                                },
                                {
                                    "SZOBA_SZAMA": "24",
                                    "FEROHELY": "3",
                                    "(No column name)": "1"
                                },
                                {
                                    "SZOBA_SZAMA": "24",
                                    "FEROHELY": "3",
                                    "(No column name)": "1"
                                },
                                {
                                    "SZOBA_SZAMA": "24",
                                    "FEROHELY": "3",
                                    "(No column name)": "1"
                                },
                                {
                                    "SZOBA_SZAMA": "24",
                                    "FEROHELY": "3",
                                    "(No column name)": "1"
                                },
                                {
                                    "SZOBA_SZAMA": "24",
                                    "FEROHELY": "3",
                                    "(No column name)": "1"
                                },
                                {
                                    "SZOBA_SZAMA": "24",
                                    "FEROHELY": "3",
                                    "(No column name)": "1"
                                },
                                {
                                    "SZOBA_SZAMA": "24",
                                    "FEROHELY": "2",
                                    "(No column name)": "7"
                                },
                                {
                                    "SZOBA_SZAMA": "24",
                                    "FEROHELY": "2",
                                    "(No column name)": "7"
                                },
                                {
                                    "SZOBA_SZAMA": "24",
                                    "FEROHELY": "2",
                                    "(No column name)": "7"
                                },
                                {
                                    "SZOBA_SZAMA": "24",
                                    "FEROHELY": "2",
                                    "(No column name)": "7"
                                },
                                {
                                    "SZOBA_SZAMA": "24",
                                    "FEROHELY": "2",
                                    "(No column name)": "7"
                                },
                                {
                                    "SZOBA_SZAMA": "24",
                                    "FEROHELY": "2",
                                    "(No column name)": "7"
                                },
                                {
                                    "SZOBA_SZAMA": "24",
                                    "FEROHELY": "2",
                                    "(No column name)": "7"
                                },
                                {
                                    "SZOBA_SZAMA": "24",
                                    "FEROHELY": "2",
                                    "(No column name)": "7"
                                },
                                {
                                    "SZOBA_SZAMA": "24",
                                    "FEROHELY": "2",
                                    "(No column name)": "7"
                                },
                                {
                                    "SZOBA_SZAMA": "24",
                                    "FEROHELY": "2",
                                    "(No column name)": "7"
                                },
                                {
                                    "SZOBA_SZAMA": "24",
                                    "FEROHELY": "2",
                                    "(No column name)": "7"
                                },
                                {
                                    "SZOBA_SZAMA": "25",
                                    "FEROHELY": "3",
                                    "(No column name)": "1"
                                },
                                {
                                    "SZOBA_SZAMA": "25",
                                    "FEROHELY": "3",
                                    "(No column name)": "1"
                                },
                                {
                                    "SZOBA_SZAMA": "25",
                                    "FEROHELY": "3",
                                    "(No column name)": "1"
                                },
                                {
                                    "SZOBA_SZAMA": "25",
                                    "FEROHELY": "3",
                                    "(No column name)": "1"
                                },
                                {
                                    "SZOBA_SZAMA": "25",
                                    "FEROHELY": "3",
                                    "(No column name)": "1"
                                },
                                {
                                    "SZOBA_SZAMA": "25",
                                    "FEROHELY": "3",
                                    "(No column name)": "1"
                                },
                                {
                                    "SZOBA_SZAMA": "25",
                                    "FEROHELY": "3",
                                    "(No column name)": "1"
                                },
                                {
                                    "SZOBA_SZAMA": "25",
                                    "FEROHELY": "3",
                                    "(No column name)": "1"
                                },
                                {
                                    "SZOBA_SZAMA": "25",
                                    "FEROHELY": "3",
                                    "(No column name)": "1"
                                },
                                {
                                    "SZOBA_SZAMA": "25",
                                    "FEROHELY": "3",
                                    "(No column name)": "1"
                                },
                                {
                                    "SZOBA_SZAMA": "25",
                                    "FEROHELY": "3",
                                    "(No column name)": "1"
                                },
                                {
                                    "SZOBA_SZAMA": "25",
                                    "FEROHELY": "3",
                                    "(No column name)": "1"
                                },
                                {
                                    "SZOBA_SZAMA": "25",
                                    "FEROHELY": "3",
                                    "(No column name)": "1"
                                },
                                {
                                    "SZOBA_SZAMA": "25",
                                    "FEROHELY": "3",
                                    "(No column name)": "1"
                                },
                                {
                                    "SZOBA_SZAMA": "25",
                                    "FEROHELY": "3",
                                    "(No column name)": "1"
                                },
                                {
                                    "SZOBA_SZAMA": "25",
                                    "FEROHELY": "3",
                                    "(No column name)": "1"
                                },
                                {
                                    "SZOBA_SZAMA": "25",
                                    "FEROHELY": "3",
                                    "(No column name)": "1"
                                },
                                {
                                    "SZOBA_SZAMA": "25",
                                    "FEROHELY": "2",
                                    "(No column name)": "18"
                                },
                                {
                                    "SZOBA_SZAMA": "25",
                                    "FEROHELY": "2",
                                    "(No column name)": "18"
                                },
                                {
                                    "SZOBA_SZAMA": "25",
                                    "FEROHELY": "2",
                                    "(No column name)": "18"
                                },
                                {
                                    "SZOBA_SZAMA": "25",
                                    "FEROHELY": "2",
                                    "(No column name)": "18"
                                },
                                {
                                    "SZOBA_SZAMA": "25",
                                    "FEROHELY": "2",
                                    "(No column name)": "18"
                                },
                                {
                                    "SZOBA_SZAMA": "26",
                                    "FEROHELY": "3",
                                    "(No column name)": "1"
                                },
                                {
                                    "SZOBA_SZAMA": "26",
                                    "FEROHELY": "3",
                                    "(No column name)": "1"
                                },
                                {
                                    "SZOBA_SZAMA": "26",
                                    "FEROHELY": "2",
                                    "(No column name)": "3"
                                },
                                {
                                    "SZOBA_SZAMA": "26",
                                    "FEROHELY": "2",
                                    "(No column name)": "3"
                                },
                                {
                                    "SZOBA_SZAMA": "26",
                                    "FEROHELY": "2",
                                    "(No column name)": "3"
                                },
                                {
                                    "SZOBA_SZAMA": "26",
                                    "FEROHELY": "2",
                                    "(No column name)": "3"
                                },
                                {
                                    "SZOBA_SZAMA": "26",
                                    "FEROHELY": "2",
                                    "(No column name)": "3"
                                },
                                {
                                    "SZOBA_SZAMA": "26",
                                    "FEROHELY": "2",
                                    "(No column name)": "3"
                                },
                                {
                                    "SZOBA_SZAMA": "26",
                                    "FEROHELY": "2",
                                    "(No column name)": "3"
                                },
                                {
                                    "SZOBA_SZAMA": "26",
                                    "FEROHELY": "2",
                                    "(No column name)": "3"
                                },
                                {
                                    "SZOBA_SZAMA": "27",
                                    "FEROHELY": "3",
                                    "(No column name)": "1"
                                },
                                {
                                    "SZOBA_SZAMA": "27",
                                    "FEROHELY": "3",
                                    "(No column name)": "1"
                                },
                                {
                                    "SZOBA_SZAMA": "27",
                                    "FEROHELY": "3",
                                    "(No column name)": "1"
                                },
                                {
                                    "SZOBA_SZAMA": "27",
                                    "FEROHELY": "3",
                                    "(No column name)": "1"
                                },
                                {
                                    "SZOBA_SZAMA": "27",
                                    "FEROHELY": "3",
                                    "(No column name)": "1"
                                },
                                {
                                    "SZOBA_SZAMA": "27",
                                    "FEROHELY": "3",
                                    "(No column name)": "1"
                                },
                                {
                                    "SZOBA_SZAMA": "27",
                                    "FEROHELY": "3",
                                    "(No column name)": "1"
                                },
                                {
                                    "SZOBA_SZAMA": "27",
                                    "FEROHELY": "3",
                                    "(No column name)": "1"
                                },
                                {
                                    "SZOBA_SZAMA": "27",
                                    "FEROHELY": "2",
                                    "(No column name)": "9"
                                },
                                {
                                    "SZOBA_SZAMA": "27",
                                    "FEROHELY": "2",
                                    "(No column name)": "9"
                                },
                                {
                                    "SZOBA_SZAMA": "27",
                                    "FEROHELY": "2",
                                    "(No column name)": "9"
                                },
                                {
                                    "SZOBA_SZAMA": "27",
                                    "FEROHELY": "2",
                                    "(No column name)": "9"
                                },
                                {
                                    "SZOBA_SZAMA": "27",
                                    "FEROHELY": "2",
                                    "(No column name)": "9"
                                },
                                {
                                    "SZOBA_SZAMA": "27",
                                    "FEROHELY": "2",
                                    "(No column name)": "9"
                                },
                                {
                                    "SZOBA_SZAMA": "27",
                                    "FEROHELY": "2",
                                    "(No column name)": "9"
                                },
                                {
                                    "SZOBA_SZAMA": "27",
                                    "FEROHELY": "2",
                                    "(No column name)": "9"
                                },
                                {
                                    "SZOBA_SZAMA": "28",
                                    "FEROHELY": "3",
                                    "(No column name)": "1"
                                },
                                {
                                    "SZOBA_SZAMA": "28",
                                    "FEROHELY": "3",
                                    "(No column name)": "1"
                                },
                                {
                                    "SZOBA_SZAMA": "28",
                                    "FEROHELY": "3",
                                    "(No column name)": "1"
                                },
                                {
                                    "SZOBA_SZAMA": "28",
                                    "FEROHELY": "3",
                                    "(No column name)": "1"
                                },
                                {
                                    "SZOBA_SZAMA": "28",
                                    "FEROHELY": "3",
                                    "(No column name)": "1"
                                },
                                {
                                    "SZOBA_SZAMA": "28",
                                    "FEROHELY": "3",
                                    "(No column name)": "1"
                                },
                                {
                                    "SZOBA_SZAMA": "28",
                                    "FEROHELY": "2",
                                    "(No column name)": "7"
                                },
                                {
                                    "SZOBA_SZAMA": "28",
                                    "FEROHELY": "2",
                                    "(No column name)": "7"
                                },
                                {
                                    "SZOBA_SZAMA": "28",
                                    "FEROHELY": "2",
                                    "(No column name)": "7"
                                },
                                {
                                    "SZOBA_SZAMA": "28",
                                    "FEROHELY": "2",
                                    "(No column name)": "7"
                                },
                                {
                                    "SZOBA_SZAMA": "28",
                                    "FEROHELY": "2",
                                    "(No column name)": "7"
                                },
                                {
                                    "SZOBA_SZAMA": "28",
                                    "FEROHELY": "2",
                                    "(No column name)": "7"
                                },
                                {
                                    "SZOBA_SZAMA": "28",
                                    "FEROHELY": "2",
                                    "(No column name)": "7"
                                },
                                {
                                    "SZOBA_SZAMA": "28",
                                    "FEROHELY": "2",
                                    "(No column name)": "7"
                                },
                                {
                                    "SZOBA_SZAMA": "28",
                                    "FEROHELY": "2",
                                    "(No column name)": "7"
                                },
                                {
                                    "SZOBA_SZAMA": "29",
                                    "FEROHELY": "3",
                                    "(No column name)": "1"
                                },
                                {
                                    "SZOBA_SZAMA": "29",
                                    "FEROHELY": "3",
                                    "(No column name)": "1"
                                },
                                {
                                    "SZOBA_SZAMA": "29",
                                    "FEROHELY": "3",
                                    "(No column name)": "1"
                                },
                                {
                                    "SZOBA_SZAMA": "29",
                                    "FEROHELY": "3",
                                    "(No column name)": "1"
                                },
                                {
                                    "SZOBA_SZAMA": "29",
                                    "FEROHELY": "3",
                                    "(No column name)": "1"
                                },
                                {
                                    "SZOBA_SZAMA": "29",
                                    "FEROHELY": "3",
                                    "(No column name)": "1"
                                },
                                {
                                    "SZOBA_SZAMA": "29",
                                    "FEROHELY": "3",
                                    "(No column name)": "1"
                                },
                                {
                                    "SZOBA_SZAMA": "29",
                                    "FEROHELY": "2",
                                    "(No column name)": "8"
                                },
                                {
                                    "SZOBA_SZAMA": "29",
                                    "FEROHELY": "2",
                                    "(No column name)": "8"
                                },
                                {
                                    "SZOBA_SZAMA": "29",
                                    "FEROHELY": "2",
                                    "(No column name)": "8"
                                },
                                {
                                    "SZOBA_SZAMA": "29",
                                    "FEROHELY": "2",
                                    "(No column name)": "8"
                                },
                                {
                                    "SZOBA_SZAMA": "29",
                                    "FEROHELY": "2",
                                    "(No column name)": "8"
                                },
                                {
                                    "SZOBA_SZAMA": "29",
                                    "FEROHELY": "2",
                                    "(No column name)": "8"
                                },
                                {
                                    "SZOBA_SZAMA": "29",
                                    "FEROHELY": "2",
                                    "(No column name)": "8"
                                },
                                {
                                    "SZOBA_SZAMA": "29",
                                    "FEROHELY": "2",
                                    "(No column name)": "8"
                                },
                                {
                                    "SZOBA_SZAMA": "29",
                                    "FEROHELY": "2",
                                    "(No column name)": "8"
                                },
                                {
                                    "SZOBA_SZAMA": "29",
                                    "FEROHELY": "2",
                                    "(No column name)": "8"
                                },
                                {
                                    "SZOBA_SZAMA": "29",
                                    "FEROHELY": "2",
                                    "(No column name)": "8"
                                },
                                {
                                    "SZOBA_SZAMA": "3",
                                    "FEROHELY": "3",
                                    "(No column name)": "1"
                                },
                                {
                                    "SZOBA_SZAMA": "3",
                                    "FEROHELY": "3",
                                    "(No column name)": "1"
                                },
                                {
                                    "SZOBA_SZAMA": "3",
                                    "FEROHELY": "3",
                                    "(No column name)": "1"
                                },
                                {
                                    "SZOBA_SZAMA": "3",
                                    "FEROHELY": "3",
                                    "(No column name)": "1"
                                },
                                {
                                    "SZOBA_SZAMA": "3",
                                    "FEROHELY": "3",
                                    "(No column name)": "1"
                                },
                                {
                                    "SZOBA_SZAMA": "3",
                                    "FEROHELY": "3",
                                    "(No column name)": "1"
                                },
                                {
                                    "SZOBA_SZAMA": "3",
                                    "FEROHELY": "3",
                                    "(No column name)": "1"
                                },
                                {
                                    "SZOBA_SZAMA": "3",
                                    "FEROHELY": "3",
                                    "(No column name)": "1"
                                },
                                {
                                    "SZOBA_SZAMA": "3",
                                    "FEROHELY": "3",
                                    "(No column name)": "1"
                                },
                                {
                                    "SZOBA_SZAMA": "3",
                                    "FEROHELY": "3",
                                    "(No column name)": "1"
                                },
                                {
                                    "SZOBA_SZAMA": "3",
                                    "FEROHELY": "3",
                                    "(No column name)": "1"
                                },
                                {
                                    "SZOBA_SZAMA": "3",
                                    "FEROHELY": "3",
                                    "(No column name)": "1"
                                },
                                {
                                    "SZOBA_SZAMA": "3",
                                    "FEROHELY": "3",
                                    "(No column name)": "1"
                                },
                                {
                                    "SZOBA_SZAMA": "3",
                                    "FEROHELY": "3",
                                    "(No column name)": "1"
                                },
                                {
                                    "SZOBA_SZAMA": "3",
                                    "FEROHELY": "3",
                                    "(No column name)": "1"
                                },
                                {
                                    "SZOBA_SZAMA": "3",
                                    "FEROHELY": "3",
                                    "(No column name)": "1"
                                },
                                {
                                    "SZOBA_SZAMA": "3",
                                    "FEROHELY": "3",
                                    "(No column name)": "1"
                                },
                                {
                                    "SZOBA_SZAMA": "3",
                                    "FEROHELY": "3",
                                    "(No column name)": "1"
                                },
                                {
                                    "SZOBA_SZAMA": "3",
                                    "FEROHELY": "3",
                                    "(No column name)": "1"
                                },
                                {
                                    "SZOBA_SZAMA": "3",
                                    "FEROHELY": "3",
                                    "(No column name)": "1"
                                },
                                {
                                    "SZOBA_SZAMA": "3",
                                    "FEROHELY": "3",
                                    "(No column name)": "1"
                                },
                                {
                                    "SZOBA_SZAMA": "3",
                                    "FEROHELY": "3",
                                    "(No column name)": "1"
                                },
                                {
                                    "SZOBA_SZAMA": "3",
                                    "FEROHELY": "3",
                                    "(No column name)": "1"
                                },
                                {
                                    "SZOBA_SZAMA": "3",
                                    "FEROHELY": "3",
                                    "(No column name)": "1"
                                },
                                {
                                    "SZOBA_SZAMA": "3",
                                    "FEROHELY": "3",
                                    "(No column name)": "1"
                                },
                                {
                                    "SZOBA_SZAMA": "3",
                                    "FEROHELY": "3",
                                    "(No column name)": "1"
                                },
                                {
                                    "SZOBA_SZAMA": "3",
                                    "FEROHELY": "3",
                                    "(No column name)": "1"
                                },
                                {
                                    "SZOBA_SZAMA": "3",
                                    "FEROHELY": "3",
                                    "(No column name)": "1"
                                },
                                {
                                    "SZOBA_SZAMA": "3",
                                    "FEROHELY": "3",
                                    "(No column name)": "1"
                                },
                                {
                                    "SZOBA_SZAMA": "3",
                                    "FEROHELY": "3",
                                    "(No column name)": "1"
                                },
                                {
                                    "SZOBA_SZAMA": "3",
                                    "FEROHELY": "3",
                                    "(No column name)": "1"
                                },
                                {
                                    "SZOBA_SZAMA": "3",
                                    "FEROHELY": "3",
                                    "(No column name)": "1"
                                },
                                {
                                    "SZOBA_SZAMA": "3",
                                    "FEROHELY": "3",
                                    "(No column name)": "1"
                                },
                                {
                                    "SZOBA_SZAMA": "3",
                                    "FEROHELY": "3",
                                    "(No column name)": "1"
                                },
                                {
                                    "SZOBA_SZAMA": "3",
                                    "FEROHELY": "3",
                                    "(No column name)": "1"
                                },
                                {
                                    "SZOBA_SZAMA": "3",
                                    "FEROHELY": "3",
                                    "(No column name)": "1"
                                },
                                {
                                    "SZOBA_SZAMA": "3",
                                    "FEROHELY": "3",
                                    "(No column name)": "1"
                                },
                                {
                                    "SZOBA_SZAMA": "3",
                                    "FEROHELY": "3",
                                    "(No column name)": "1"
                                },
                                {
                                    "SZOBA_SZAMA": "3",
                                    "FEROHELY": "3",
                                    "(No column name)": "1"
                                },
                                {
                                    "SZOBA_SZAMA": "3",
                                    "FEROHELY": "3",
                                    "(No column name)": "1"
                                },
                                {
                                    "SZOBA_SZAMA": "3",
                                    "FEROHELY": "2",
                                    "(No column name)": "41"
                                },
                                {
                                    "SZOBA_SZAMA": "3",
                                    "FEROHELY": "2",
                                    "(No column name)": "41"
                                },
                                {
                                    "SZOBA_SZAMA": "3",
                                    "FEROHELY": "2",
                                    "(No column name)": "41"
                                },
                                {
                                    "SZOBA_SZAMA": "3",
                                    "FEROHELY": "2",
                                    "(No column name)": "41"
                                },
                                {
                                    "SZOBA_SZAMA": "3",
                                    "FEROHELY": "2",
                                    "(No column name)": "41"
                                },
                                {
                                    "SZOBA_SZAMA": "3",
                                    "FEROHELY": "2",
                                    "(No column name)": "41"
                                },
                                {
                                    "SZOBA_SZAMA": "3",
                                    "FEROHELY": "2",
                                    "(No column name)": "41"
                                },
                                {
                                    "SZOBA_SZAMA": "3",
                                    "FEROHELY": "2",
                                    "(No column name)": "41"
                                },
                                {
                                    "SZOBA_SZAMA": "3",
                                    "FEROHELY": "2",
                                    "(No column name)": "41"
                                },
                                {
                                    "SZOBA_SZAMA": "3",
                                    "FEROHELY": "2",
                                    "(No column name)": "41"
                                },
                                {
                                    "SZOBA_SZAMA": "3",
                                    "FEROHELY": "2",
                                    "(No column name)": "41"
                                },
                                {
                                    "SZOBA_SZAMA": "3",
                                    "FEROHELY": "2",
                                    "(No column name)": "41"
                                },
                                {
                                    "SZOBA_SZAMA": "3",
                                    "FEROHELY": "2",
                                    "(No column name)": "41"
                                },
                                {
                                    "SZOBA_SZAMA": "3",
                                    "FEROHELY": "2",
                                    "(No column name)": "41"
                                },
                                {
                                    "SZOBA_SZAMA": "3",
                                    "FEROHELY": "2",
                                    "(No column name)": "41"
                                },
                                {
                                    "SZOBA_SZAMA": "3",
                                    "FEROHELY": "2",
                                    "(No column name)": "41"
                                },
                                {
                                    "SZOBA_SZAMA": "3",
                                    "FEROHELY": "2",
                                    "(No column name)": "41"
                                },
                                {
                                    "SZOBA_SZAMA": "3",
                                    "FEROHELY": "2",
                                    "(No column name)": "41"
                                },
                                {
                                    "SZOBA_SZAMA": "3",
                                    "FEROHELY": "2",
                                    "(No column name)": "41"
                                },
                                {
                                    "SZOBA_SZAMA": "3",
                                    "FEROHELY": "2",
                                    "(No column name)": "41"
                                },
                                {
                                    "SZOBA_SZAMA": "3",
                                    "FEROHELY": "2",
                                    "(No column name)": "41"
                                },
                                {
                                    "SZOBA_SZAMA": "3",
                                    "FEROHELY": "2",
                                    "(No column name)": "41"
                                },
                                {
                                    "SZOBA_SZAMA": "3",
                                    "FEROHELY": "2",
                                    "(No column name)": "41"
                                },
                                {
                                    "SZOBA_SZAMA": "3",
                                    "FEROHELY": "2",
                                    "(No column name)": "41"
                                },
                                {
                                    "SZOBA_SZAMA": "3",
                                    "FEROHELY": "2",
                                    "(No column name)": "41"
                                },
                                {
                                    "SZOBA_SZAMA": "3",
                                    "FEROHELY": "2",
                                    "(No column name)": "41"
                                },
                                {
                                    "SZOBA_SZAMA": "3",
                                    "FEROHELY": "2",
                                    "(No column name)": "41"
                                },
                                {
                                    "SZOBA_SZAMA": "3",
                                    "FEROHELY": "2",
                                    "(No column name)": "41"
                                },
                                {
                                    "SZOBA_SZAMA": "3",
                                    "FEROHELY": "2",
                                    "(No column name)": "41"
                                },
                                {
                                    "SZOBA_SZAMA": "3",
                                    "FEROHELY": "2",
                                    "(No column name)": "41"
                                },
                                {
                                    "SZOBA_SZAMA": "3",
                                    "FEROHELY": "2",
                                    "(No column name)": "41"
                                },
                                {
                                    "SZOBA_SZAMA": "3",
                                    "FEROHELY": "2",
                                    "(No column name)": "41"
                                },
                                {
                                    "SZOBA_SZAMA": "3",
                                    "FEROHELY": "2",
                                    "(No column name)": "41"
                                },
                                {
                                    "SZOBA_SZAMA": "30",
                                    "FEROHELY": "3",
                                    "(No column name)": "1"
                                },
                                {
                                    "SZOBA_SZAMA": "30",
                                    "FEROHELY": "3",
                                    "(No column name)": "1"
                                },
                                {
                                    "SZOBA_SZAMA": "30",
                                    "FEROHELY": "3",
                                    "(No column name)": "1"
                                },
                                {
                                    "SZOBA_SZAMA": "30",
                                    "FEROHELY": "3",
                                    "(No column name)": "1"
                                },
                                {
                                    "SZOBA_SZAMA": "30",
                                    "FEROHELY": "3",
                                    "(No column name)": "1"
                                },
                                {
                                    "SZOBA_SZAMA": "30",
                                    "FEROHELY": "3",
                                    "(No column name)": "1"
                                },
                                {
                                    "SZOBA_SZAMA": "30",
                                    "FEROHELY": "3",
                                    "(No column name)": "1"
                                },
                                {
                                    "SZOBA_SZAMA": "30",
                                    "FEROHELY": "3",
                                    "(No column name)": "1"
                                },
                                {
                                    "SZOBA_SZAMA": "30",
                                    "FEROHELY": "3",
                                    "(No column name)": "1"
                                },
                                {
                                    "SZOBA_SZAMA": "30",
                                    "FEROHELY": "3",
                                    "(No column name)": "1"
                                },
                                {
                                    "SZOBA_SZAMA": "30",
                                    "FEROHELY": "3",
                                    "(No column name)": "1"
                                },
                                {
                                    "SZOBA_SZAMA": "30",
                                    "FEROHELY": "2",
                                    "(No column name)": "12"
                                },
                                {
                                    "SZOBA_SZAMA": "31",
                                    "FEROHELY": "2",
                                    "(No column name)": "1"
                                },
                                {
                                    "SZOBA_SZAMA": "31",
                                    "FEROHELY": "2",
                                    "(No column name)": "1"
                                },
                                {
                                    "SZOBA_SZAMA": "31",
                                    "FEROHELY": "2",
                                    "(No column name)": "1"
                                },
                                {
                                    "SZOBA_SZAMA": "31",
                                    "FEROHELY": "2",
                                    "(No column name)": "1"
                                },
                                {
                                    "SZOBA_SZAMA": "31",
                                    "FEROHELY": "2",
                                    "(No column name)": "1"
                                },
                                {
                                    "SZOBA_SZAMA": "31",
                                    "FEROHELY": "2",
                                    "(No column name)": "1"
                                },
                                {
                                    "SZOBA_SZAMA": "31",
                                    "FEROHELY": "2",
                                    "(No column name)": "1"
                                },
                                {
                                    "SZOBA_SZAMA": "31",
                                    "FEROHELY": "2",
                                    "(No column name)": "1"
                                },
                                {
                                    "SZOBA_SZAMA": "31",
                                    "FEROHELY": "2",
                                    "(No column name)": "1"
                                },
                                {
                                    "SZOBA_SZAMA": "31",
                                    "FEROHELY": "2",
                                    "(No column name)": "1"
                                },
                                {
                                    "SZOBA_SZAMA": "31",
                                    "FEROHELY": "2",
                                    "(No column name)": "1"
                                },
                                {
                                    "SZOBA_SZAMA": "31",
                                    "FEROHELY": "2",
                                    "(No column name)": "1"
                                },
                                {
                                    "SZOBA_SZAMA": "31",
                                    "FEROHELY": "2",
                                    "(No column name)": "1"
                                },
                                {
                                    "SZOBA_SZAMA": "31",
                                    "FEROHELY": "2",
                                    "(No column name)": "1"
                                },
                                {
                                    "SZOBA_SZAMA": "31",
                                    "FEROHELY": "2",
                                    "(No column name)": "1"
                                },
                                {
                                    "SZOBA_SZAMA": "31",
                                    "FEROHELY": "2",
                                    "(No column name)": "1"
                                },
                                {
                                    "SZOBA_SZAMA": "31",
                                    "FEROHELY": "2",
                                    "(No column name)": "1"
                                },
                                {
                                    "SZOBA_SZAMA": "31",
                                    "FEROHELY": "2",
                                    "(No column name)": "1"
                                },
                                {
                                    "SZOBA_SZAMA": "31",
                                    "FEROHELY": "2",
                                    "(No column name)": "1"
                                },
                                {
                                    "SZOBA_SZAMA": "31",
                                    "FEROHELY": "2",
                                    "(No column name)": "1"
                                },
                                {
                                    "SZOBA_SZAMA": "31",
                                    "FEROHELY": "2",
                                    "(No column name)": "1"
                                },
                                {
                                    "SZOBA_SZAMA": "32",
                                    "FEROHELY": "3",
                                    "(No column name)": "1"
                                },
                                {
                                    "SZOBA_SZAMA": "32",
                                    "FEROHELY": "3",
                                    "(No column name)": "1"
                                },
                                {
                                    "SZOBA_SZAMA": "32",
                                    "FEROHELY": "3",
                                    "(No column name)": "1"
                                },
                                {
                                    "SZOBA_SZAMA": "32",
                                    "FEROHELY": "3",
                                    "(No column name)": "1"
                                },
                                {
                                    "SZOBA_SZAMA": "32",
                                    "FEROHELY": "3",
                                    "(No column name)": "1"
                                },
                                {
                                    "SZOBA_SZAMA": "32",
                                    "FEROHELY": "3",
                                    "(No column name)": "1"
                                },
                                {
                                    "SZOBA_SZAMA": "32",
                                    "FEROHELY": "3",
                                    "(No column name)": "1"
                                },
                                {
                                    "SZOBA_SZAMA": "32",
                                    "FEROHELY": "3",
                                    "(No column name)": "1"
                                },
                                {
                                    "SZOBA_SZAMA": "32",
                                    "FEROHELY": "3",
                                    "(No column name)": "1"
                                },
                                {
                                    "SZOBA_SZAMA": "32",
                                    "FEROHELY": "2",
                                    "(No column name)": "10"
                                },
                                {
                                    "SZOBA_SZAMA": "32",
                                    "FEROHELY": "2",
                                    "(No column name)": "10"
                                },
                                {
                                    "SZOBA_SZAMA": "32",
                                    "FEROHELY": "2",
                                    "(No column name)": "10"
                                },
                                {
                                    "SZOBA_SZAMA": "32",
                                    "FEROHELY": "2",
                                    "(No column name)": "10"
                                },
                                {
                                    "SZOBA_SZAMA": "32",
                                    "FEROHELY": "2",
                                    "(No column name)": "10"
                                },
                                {
                                    "SZOBA_SZAMA": "32",
                                    "FEROHELY": "2",
                                    "(No column name)": "10"
                                },
                                {
                                    "SZOBA_SZAMA": "32",
                                    "FEROHELY": "2",
                                    "(No column name)": "10"
                                },
                                {
                                    "SZOBA_SZAMA": "32",
                                    "FEROHELY": "2",
                                    "(No column name)": "10"
                                },
                                {
                                    "SZOBA_SZAMA": "32",
                                    "FEROHELY": "2",
                                    "(No column name)": "10"
                                },
                                {
                                    "SZOBA_SZAMA": "33",
                                    "FEROHELY": "3",
                                    "(No column name)": "1"
                                },
                                {
                                    "SZOBA_SZAMA": "33",
                                    "FEROHELY": "3",
                                    "(No column name)": "1"
                                },
                                {
                                    "SZOBA_SZAMA": "33",
                                    "FEROHELY": "3",
                                    "(No column name)": "1"
                                },
                                {
                                    "SZOBA_SZAMA": "33",
                                    "FEROHELY": "3",
                                    "(No column name)": "1"
                                },
                                {
                                    "SZOBA_SZAMA": "33",
                                    "FEROHELY": "3",
                                    "(No column name)": "1"
                                },
                                {
                                    "SZOBA_SZAMA": "33",
                                    "FEROHELY": "3",
                                    "(No column name)": "1"
                                },
                                {
                                    "SZOBA_SZAMA": "33",
                                    "FEROHELY": "3",
                                    "(No column name)": "1"
                                },
                                {
                                    "SZOBA_SZAMA": "33",
                                    "FEROHELY": "3",
                                    "(No column name)": "1"
                                },
                                {
                                    "SZOBA_SZAMA": "33",
                                    "FEROHELY": "3",
                                    "(No column name)": "1"
                                },
                                {
                                    "SZOBA_SZAMA": "33",
                                    "FEROHELY": "3",
                                    "(No column name)": "1"
                                },
                                {
                                    "SZOBA_SZAMA": "33",
                                    "FEROHELY": "3",
                                    "(No column name)": "1"
                                },
                                {
                                    "SZOBA_SZAMA": "33",
                                    "FEROHELY": "3",
                                    "(No column name)": "1"
                                },
                                {
                                    "SZOBA_SZAMA": "33",
                                    "FEROHELY": "3",
                                    "(No column name)": "1"
                                },
                                {
                                    "SZOBA_SZAMA": "33",
                                    "FEROHELY": "3",
                                    "(No column name)": "1"
                                },
                                {
                                    "SZOBA_SZAMA": "33",
                                    "FEROHELY": "3",
                                    "(No column name)": "1"
                                },
                                {
                                    "SZOBA_SZAMA": "33",
                                    "FEROHELY": "3",
                                    "(No column name)": "1"
                                },
                                {
                                    "SZOBA_SZAMA": "33",
                                    "FEROHELY": "3",
                                    "(No column name)": "1"
                                },
                                {
                                    "SZOBA_SZAMA": "34",
                                    "FEROHELY": "3",
                                    "(No column name)": "1"
                                },
                                {
                                    "SZOBA_SZAMA": "34",
                                    "FEROHELY": "3",
                                    "(No column name)": "1"
                                },
                                {
                                    "SZOBA_SZAMA": "34",
                                    "FEROHELY": "3",
                                    "(No column name)": "1"
                                },
                                {
                                    "SZOBA_SZAMA": "34",
                                    "FEROHELY": "3",
                                    "(No column name)": "1"
                                },
                                {
                                    "SZOBA_SZAMA": "34",
                                    "FEROHELY": "3",
                                    "(No column name)": "1"
                                },
                                {
                                    "SZOBA_SZAMA": "34",
                                    "FEROHELY": "3",
                                    "(No column name)": "1"
                                },
                                {
                                    "SZOBA_SZAMA": "34",
                                    "FEROHELY": "3",
                                    "(No column name)": "1"
                                },
                                {
                                    "SZOBA_SZAMA": "34",
                                    "FEROHELY": "3",
                                    "(No column name)": "1"
                                },
                                {
                                    "SZOBA_SZAMA": "34",
                                    "FEROHELY": "3",
                                    "(No column name)": "1"
                                },
                                {
                                    "SZOBA_SZAMA": "34",
                                    "FEROHELY": "3",
                                    "(No column name)": "1"
                                },
                                {
                                    "SZOBA_SZAMA": "34",
                                    "FEROHELY": "3",
                                    "(No column name)": "1"
                                },
                                {
                                    "SZOBA_SZAMA": "34",
                                    "FEROHELY": "3",
                                    "(No column name)": "1"
                                },
                                {
                                    "SZOBA_SZAMA": "34",
                                    "FEROHELY": "3",
                                    "(No column name)": "1"
                                },
                                {
                                    "SZOBA_SZAMA": "34",
                                    "FEROHELY": "3",
                                    "(No column name)": "1"
                                },
                                {
                                    "SZOBA_SZAMA": "34",
                                    "FEROHELY": "3",
                                    "(No column name)": "1"
                                },
                                {
                                    "SZOBA_SZAMA": "34",
                                    "FEROHELY": "3",
                                    "(No column name)": "1"
                                },
                                {
                                    "SZOBA_SZAMA": "34",
                                    "FEROHELY": "3",
                                    "(No column name)": "1"
                                },
                                {
                                    "SZOBA_SZAMA": "34",
                                    "FEROHELY": "3",
                                    "(No column name)": "1"
                                },
                                {
                                    "SZOBA_SZAMA": "34",
                                    "FEROHELY": "3",
                                    "(No column name)": "1"
                                },
                                {
                                    "SZOBA_SZAMA": "34",
                                    "FEROHELY": "3",
                                    "(No column name)": "1"
                                },
                                {
                                    "SZOBA_SZAMA": "34",
                                    "FEROHELY": "3",
                                    "(No column name)": "1"
                                },
                                {
                                    "SZOBA_SZAMA": "34",
                                    "FEROHELY": "3",
                                    "(No column name)": "1"
                                },
                                {
                                    "SZOBA_SZAMA": "35",
                                    "FEROHELY": "3",
                                    "(No column name)": "1"
                                },
                                {
                                    "SZOBA_SZAMA": "35",
                                    "FEROHELY": "3",
                                    "(No column name)": "1"
                                },
                                {
                                    "SZOBA_SZAMA": "35",
                                    "FEROHELY": "3",
                                    "(No column name)": "1"
                                },
                                {
                                    "SZOBA_SZAMA": "35",
                                    "FEROHELY": "3",
                                    "(No column name)": "1"
                                },
                                {
                                    "SZOBA_SZAMA": "35",
                                    "FEROHELY": "3",
                                    "(No column name)": "1"
                                },
                                {
                                    "SZOBA_SZAMA": "35",
                                    "FEROHELY": "2",
                                    "(No column name)": "6"
                                },
                                {
                                    "SZOBA_SZAMA": "36",
                                    "FEROHELY": "2",
                                    "(No column name)": "1"
                                },
                                {
                                    "SZOBA_SZAMA": "36",
                                    "FEROHELY": "2",
                                    "(No column name)": "1"
                                },
                                {
                                    "SZOBA_SZAMA": "36",
                                    "FEROHELY": "2",
                                    "(No column name)": "1"
                                },
                                {
                                    "SZOBA_SZAMA": "36",
                                    "FEROHELY": "2",
                                    "(No column name)": "1"
                                },
                                {
                                    "SZOBA_SZAMA": "36",
                                    "FEROHELY": "2",
                                    "(No column name)": "1"
                                },
                                {
                                    "SZOBA_SZAMA": "36",
                                    "FEROHELY": "2",
                                    "(No column name)": "1"
                                },
                                {
                                    "SZOBA_SZAMA": "36",
                                    "FEROHELY": "2",
                                    "(No column name)": "1"
                                },
                                {
                                    "SZOBA_SZAMA": "37",
                                    "FEROHELY": "3",
                                    "(No column name)": "1"
                                },
                                {
                                    "SZOBA_SZAMA": "37",
                                    "FEROHELY": "2",
                                    "(No column name)": "2"
                                },
                                {
                                    "SZOBA_SZAMA": "37",
                                    "FEROHELY": "2",
                                    "(No column name)": "2"
                                },
                                {
                                    "SZOBA_SZAMA": "37",
                                    "FEROHELY": "2",
                                    "(No column name)": "2"
                                },
                                {
                                    "SZOBA_SZAMA": "37",
                                    "FEROHELY": "2",
                                    "(No column name)": "2"
                                },
                                {
                                    "SZOBA_SZAMA": "37",
                                    "FEROHELY": "2",
                                    "(No column name)": "2"
                                },
                                {
                                    "SZOBA_SZAMA": "37",
                                    "FEROHELY": "2",
                                    "(No column name)": "2"
                                },
                                {
                                    "SZOBA_SZAMA": "37",
                                    "FEROHELY": "2",
                                    "(No column name)": "2"
                                },
                                {
                                    "SZOBA_SZAMA": "38",
                                    "FEROHELY": "3",
                                    "(No column name)": "1"
                                },
                                {
                                    "SZOBA_SZAMA": "38",
                                    "FEROHELY": "2",
                                    "(No column name)": "2"
                                },
                                {
                                    "SZOBA_SZAMA": "38",
                                    "FEROHELY": "2",
                                    "(No column name)": "2"
                                },
                                {
                                    "SZOBA_SZAMA": "38",
                                    "FEROHELY": "2",
                                    "(No column name)": "2"
                                },
                                {
                                    "SZOBA_SZAMA": "38",
                                    "FEROHELY": "2",
                                    "(No column name)": "2"
                                },
                                {
                                    "SZOBA_SZAMA": "38",
                                    "FEROHELY": "2",
                                    "(No column name)": "2"
                                },
                                {
                                    "SZOBA_SZAMA": "39",
                                    "FEROHELY": "3",
                                    "(No column name)": "1"
                                },
                                {
                                    "SZOBA_SZAMA": "39",
                                    "FEROHELY": "2",
                                    "(No column name)": "2"
                                },
                                {
                                    "SZOBA_SZAMA": "39",
                                    "FEROHELY": "2",
                                    "(No column name)": "2"
                                },
                                {
                                    "SZOBA_SZAMA": "39",
                                    "FEROHELY": "2",
                                    "(No column name)": "2"
                                },
                                {
                                    "SZOBA_SZAMA": "39",
                                    "FEROHELY": "2",
                                    "(No column name)": "2"
                                },
                                {
                                    "SZOBA_SZAMA": "4",
                                    "FEROHELY": "3",
                                    "(No column name)": "1"
                                },
                                {
                                    "SZOBA_SZAMA": "4",
                                    "FEROHELY": "3",
                                    "(No column name)": "1"
                                },
                                {
                                    "SZOBA_SZAMA": "4",
                                    "FEROHELY": "3",
                                    "(No column name)": "1"
                                },
                                {
                                    "SZOBA_SZAMA": "4",
                                    "FEROHELY": "3",
                                    "(No column name)": "1"
                                },
                                {
                                    "SZOBA_SZAMA": "4",
                                    "FEROHELY": "3",
                                    "(No column name)": "1"
                                },
                                {
                                    "SZOBA_SZAMA": "4",
                                    "FEROHELY": "3",
                                    "(No column name)": "1"
                                },
                                {
                                    "SZOBA_SZAMA": "4",
                                    "FEROHELY": "3",
                                    "(No column name)": "1"
                                },
                                {
                                    "SZOBA_SZAMA": "4",
                                    "FEROHELY": "3",
                                    "(No column name)": "1"
                                },
                                {
                                    "SZOBA_SZAMA": "4",
                                    "FEROHELY": "3",
                                    "(No column name)": "1"
                                },
                                {
                                    "SZOBA_SZAMA": "4",
                                    "FEROHELY": "3",
                                    "(No column name)": "1"
                                },
                                {
                                    "SZOBA_SZAMA": "4",
                                    "FEROHELY": "3",
                                    "(No column name)": "1"
                                },
                                {
                                    "SZOBA_SZAMA": "4",
                                    "FEROHELY": "3",
                                    "(No column name)": "1"
                                },
                                {
                                    "SZOBA_SZAMA": "4",
                                    "FEROHELY": "3",
                                    "(No column name)": "1"
                                },
                                {
                                    "SZOBA_SZAMA": "4",
                                    "FEROHELY": "3",
                                    "(No column name)": "1"
                                },
                                {
                                    "SZOBA_SZAMA": "4",
                                    "FEROHELY": "3",
                                    "(No column name)": "1"
                                },
                                {
                                    "SZOBA_SZAMA": "4",
                                    "FEROHELY": "3",
                                    "(No column name)": "1"
                                },
                                {
                                    "SZOBA_SZAMA": "4",
                                    "FEROHELY": "3",
                                    "(No column name)": "1"
                                },
                                {
                                    "SZOBA_SZAMA": "4",
                                    "FEROHELY": "3",
                                    "(No column name)": "1"
                                },
                                {
                                    "SZOBA_SZAMA": "4",
                                    "FEROHELY": "3",
                                    "(No column name)": "1"
                                },
                                {
                                    "SZOBA_SZAMA": "4",
                                    "FEROHELY": "3",
                                    "(No column name)": "1"
                                },
                                {
                                    "SZOBA_SZAMA": "4",
                                    "FEROHELY": "3",
                                    "(No column name)": "1"
                                },
                                {
                                    "SZOBA_SZAMA": "4",
                                    "FEROHELY": "3",
                                    "(No column name)": "1"
                                },
                                {
                                    "SZOBA_SZAMA": "4",
                                    "FEROHELY": "3",
                                    "(No column name)": "1"
                                },
                                {
                                    "SZOBA_SZAMA": "4",
                                    "FEROHELY": "3",
                                    "(No column name)": "1"
                                },
                                {
                                    "SZOBA_SZAMA": "4",
                                    "FEROHELY": "3",
                                    "(No column name)": "1"
                                },
                                {
                                    "SZOBA_SZAMA": "4",
                                    "FEROHELY": "3",
                                    "(No column name)": "1"
                                },
                                {
                                    "SZOBA_SZAMA": "4",
                                    "FEROHELY": "3",
                                    "(No column name)": "1"
                                },
                                {
                                    "SZOBA_SZAMA": "4",
                                    "FEROHELY": "3",
                                    "(No column name)": "1"
                                },
                                {
                                    "SZOBA_SZAMA": "4",
                                    "FEROHELY": "3",
                                    "(No column name)": "1"
                                },
                                {
                                    "SZOBA_SZAMA": "4",
                                    "FEROHELY": "3",
                                    "(No column name)": "1"
                                },
                                {
                                    "SZOBA_SZAMA": "4",
                                    "FEROHELY": "3",
                                    "(No column name)": "1"
                                },
                                {
                                    "SZOBA_SZAMA": "4",
                                    "FEROHELY": "3",
                                    "(No column name)": "1"
                                },
                                {
                                    "SZOBA_SZAMA": "4",
                                    "FEROHELY": "3",
                                    "(No column name)": "1"
                                },
                                {
                                    "SZOBA_SZAMA": "4",
                                    "FEROHELY": "3",
                                    "(No column name)": "1"
                                },
                                {
                                    "SZOBA_SZAMA": "4",
                                    "FEROHELY": "3",
                                    "(No column name)": "1"
                                },
                                {
                                    "SZOBA_SZAMA": "4",
                                    "FEROHELY": "3",
                                    "(No column name)": "1"
                                },
                                {
                                    "SZOBA_SZAMA": "4",
                                    "FEROHELY": "3",
                                    "(No column name)": "1"
                                },
                                {
                                    "SZOBA_SZAMA": "4",
                                    "FEROHELY": "3",
                                    "(No column name)": "1"
                                },
                                {
                                    "SZOBA_SZAMA": "4",
                                    "FEROHELY": "3",
                                    "(No column name)": "1"
                                },
                                {
                                    "SZOBA_SZAMA": "4",
                                    "FEROHELY": "3",
                                    "(No column name)": "1"
                                },
                                {
                                    "SZOBA_SZAMA": "4",
                                    "FEROHELY": "3",
                                    "(No column name)": "1"
                                },
                                {
                                    "SZOBA_SZAMA": "4",
                                    "FEROHELY": "3",
                                    "(No column name)": "1"
                                },
                                {
                                    "SZOBA_SZAMA": "4",
                                    "FEROHELY": "2",
                                    "(No column name)": "43"
                                },
                                {
                                    "SZOBA_SZAMA": "4",
                                    "FEROHELY": "2",
                                    "(No column name)": "43"
                                },
                                {
                                    "SZOBA_SZAMA": "4",
                                    "FEROHELY": "2",
                                    "(No column name)": "43"
                                },
                                {
                                    "SZOBA_SZAMA": "4",
                                    "FEROHELY": "2",
                                    "(No column name)": "43"
                                },
                                {
                                    "SZOBA_SZAMA": "4",
                                    "FEROHELY": "2",
                                    "(No column name)": "43"
                                },
                                {
                                    "SZOBA_SZAMA": "4",
                                    "FEROHELY": "2",
                                    "(No column name)": "43"
                                },
                                {
                                    "SZOBA_SZAMA": "4",
                                    "FEROHELY": "2",
                                    "(No column name)": "43"
                                },
                                {
                                    "SZOBA_SZAMA": "4",
                                    "FEROHELY": "2",
                                    "(No column name)": "43"
                                },
                                {
                                    "SZOBA_SZAMA": "4",
                                    "FEROHELY": "2",
                                    "(No column name)": "43"
                                },
                                {
                                    "SZOBA_SZAMA": "4",
                                    "FEROHELY": "2",
                                    "(No column name)": "43"
                                },
                                {
                                    "SZOBA_SZAMA": "4",
                                    "FEROHELY": "2",
                                    "(No column name)": "43"
                                },
                                {
                                    "SZOBA_SZAMA": "4",
                                    "FEROHELY": "2",
                                    "(No column name)": "43"
                                },
                                {
                                    "SZOBA_SZAMA": "4",
                                    "FEROHELY": "2",
                                    "(No column name)": "43"
                                },
                                {
                                    "SZOBA_SZAMA": "4",
                                    "FEROHELY": "2",
                                    "(No column name)": "43"
                                },
                                {
                                    "SZOBA_SZAMA": "4",
                                    "FEROHELY": "2",
                                    "(No column name)": "43"
                                },
                                {
                                    "SZOBA_SZAMA": "4",
                                    "FEROHELY": "2",
                                    "(No column name)": "43"
                                },
                                {
                                    "SZOBA_SZAMA": "4",
                                    "FEROHELY": "2",
                                    "(No column name)": "43"
                                },
                                {
                                    "SZOBA_SZAMA": "4",
                                    "FEROHELY": "2",
                                    "(No column name)": "43"
                                },
                                {
                                    "SZOBA_SZAMA": "4",
                                    "FEROHELY": "2",
                                    "(No column name)": "43"
                                },
                                {
                                    "SZOBA_SZAMA": "4",
                                    "FEROHELY": "2",
                                    "(No column name)": "43"
                                },
                                {
                                    "SZOBA_SZAMA": "4",
                                    "FEROHELY": "2",
                                    "(No column name)": "43"
                                },
                                {
                                    "SZOBA_SZAMA": "4",
                                    "FEROHELY": "2",
                                    "(No column name)": "43"
                                },
                                {
                                    "SZOBA_SZAMA": "4",
                                    "FEROHELY": "2",
                                    "(No column name)": "43"
                                },
                                {
                                    "SZOBA_SZAMA": "4",
                                    "FEROHELY": "2",
                                    "(No column name)": "43"
                                },
                                {
                                    "SZOBA_SZAMA": "4",
                                    "FEROHELY": "2",
                                    "(No column name)": "43"
                                },
                                {
                                    "SZOBA_SZAMA": "4",
                                    "FEROHELY": "2",
                                    "(No column name)": "43"
                                },
                                {
                                    "SZOBA_SZAMA": "4",
                                    "FEROHELY": "2",
                                    "(No column name)": "43"
                                },
                                {
                                    "SZOBA_SZAMA": "4",
                                    "FEROHELY": "2",
                                    "(No column name)": "43"
                                },
                                {
                                    "SZOBA_SZAMA": "4",
                                    "FEROHELY": "2",
                                    "(No column name)": "43"
                                },
                                {
                                    "SZOBA_SZAMA": "4",
                                    "FEROHELY": "2",
                                    "(No column name)": "43"
                                },
                                {
                                    "SZOBA_SZAMA": "4",
                                    "FEROHELY": "2",
                                    "(No column name)": "43"
                                },
                                {
                                    "SZOBA_SZAMA": "4",
                                    "FEROHELY": "2",
                                    "(No column name)": "43"
                                },
                                {
                                    "SZOBA_SZAMA": "4",
                                    "FEROHELY": "2",
                                    "(No column name)": "43"
                                },
                                {
                                    "SZOBA_SZAMA": "4",
                                    "FEROHELY": "2",
                                    "(No column name)": "43"
                                },
                                {
                                    "SZOBA_SZAMA": "4",
                                    "FEROHELY": "2",
                                    "(No column name)": "43"
                                },
                                {
                                    "SZOBA_SZAMA": "4",
                                    "FEROHELY": "2",
                                    "(No column name)": "43"
                                },
                                {
                                    "SZOBA_SZAMA": "4",
                                    "FEROHELY": "2",
                                    "(No column name)": "43"
                                },
                                {
                                    "SZOBA_SZAMA": "4",
                                    "FEROHELY": "2",
                                    "(No column name)": "43"
                                },
                                {
                                    "SZOBA_SZAMA": "4",
                                    "FEROHELY": "2",
                                    "(No column name)": "43"
                                },
                                {
                                    "SZOBA_SZAMA": "4",
                                    "FEROHELY": "2",
                                    "(No column name)": "43"
                                },
                                {
                                    "SZOBA_SZAMA": "40",
                                    "FEROHELY": "3",
                                    "(No column name)": "1"
                                },
                                {
                                    "SZOBA_SZAMA": "41",
                                    "FEROHELY": "3",
                                    "(No column name)": "1"
                                },
                                {
                                    "SZOBA_SZAMA": "42",
                                    "FEROHELY": "2",
                                    "(No column name)": "1"
                                },
                                {
                                    "SZOBA_SZAMA": "43",
                                    "FEROHELY": "2",
                                    "(No column name)": "1"
                                },
                                {
                                    "SZOBA_SZAMA": "44",
                                    "FEROHELY": "2",
                                    "(No column name)": "1"
                                },
                                {
                                    "SZOBA_SZAMA": "45",
                                    "FEROHELY": "3",
                                    "(No column name)": "1"
                                },
                                {
                                    "SZOBA_SZAMA": "46",
                                    "FEROHELY": "2",
                                    "(No column name)": "1"
                                },
                                {
                                    "SZOBA_SZAMA": "47",
                                    "FEROHELY": "2",
                                    "(No column name)": "1"
                                },
                                {
                                    "SZOBA_SZAMA": "48",
                                    "FEROHELY": "3",
                                    "(No column name)": "1"
                                },
                                {
                                    "SZOBA_SZAMA": "49",
                                    "FEROHELY": "3",
                                    "(No column name)": "1"
                                },
                                {
                                    "SZOBA_SZAMA": "5",
                                    "FEROHELY": "3",
                                    "(No column name)": "1"
                                },
                                {
                                    "SZOBA_SZAMA": "5",
                                    "FEROHELY": "3",
                                    "(No column name)": "1"
                                },
                                {
                                    "SZOBA_SZAMA": "5",
                                    "FEROHELY": "3",
                                    "(No column name)": "1"
                                },
                                {
                                    "SZOBA_SZAMA": "5",
                                    "FEROHELY": "3",
                                    "(No column name)": "1"
                                },
                                {
                                    "SZOBA_SZAMA": "5",
                                    "FEROHELY": "3",
                                    "(No column name)": "1"
                                },
                                {
                                    "SZOBA_SZAMA": "5",
                                    "FEROHELY": "3",
                                    "(No column name)": "1"
                                },
                                {
                                    "SZOBA_SZAMA": "5",
                                    "FEROHELY": "3",
                                    "(No column name)": "1"
                                },
                                {
                                    "SZOBA_SZAMA": "5",
                                    "FEROHELY": "3",
                                    "(No column name)": "1"
                                },
                                {
                                    "SZOBA_SZAMA": "5",
                                    "FEROHELY": "3",
                                    "(No column name)": "1"
                                },
                                {
                                    "SZOBA_SZAMA": "5",
                                    "FEROHELY": "3",
                                    "(No column name)": "1"
                                },
                                {
                                    "SZOBA_SZAMA": "5",
                                    "FEROHELY": "3",
                                    "(No column name)": "1"
                                },
                                {
                                    "SZOBA_SZAMA": "5",
                                    "FEROHELY": "3",
                                    "(No column name)": "1"
                                },
                                {
                                    "SZOBA_SZAMA": "5",
                                    "FEROHELY": "3",
                                    "(No column name)": "1"
                                },
                                {
                                    "SZOBA_SZAMA": "5",
                                    "FEROHELY": "3",
                                    "(No column name)": "1"
                                },
                                {
                                    "SZOBA_SZAMA": "5",
                                    "FEROHELY": "3",
                                    "(No column name)": "1"
                                },
                                {
                                    "SZOBA_SZAMA": "5",
                                    "FEROHELY": "3",
                                    "(No column name)": "1"
                                },
                                {
                                    "SZOBA_SZAMA": "5",
                                    "FEROHELY": "3",
                                    "(No column name)": "1"
                                },
                                {
                                    "SZOBA_SZAMA": "5",
                                    "FEROHELY": "3",
                                    "(No column name)": "1"
                                },
                                {
                                    "SZOBA_SZAMA": "5",
                                    "FEROHELY": "3",
                                    "(No column name)": "1"
                                },
                                {
                                    "SZOBA_SZAMA": "5",
                                    "FEROHELY": "3",
                                    "(No column name)": "1"
                                },
                                {
                                    "SZOBA_SZAMA": "5",
                                    "FEROHELY": "3",
                                    "(No column name)": "1"
                                },
                                {
                                    "SZOBA_SZAMA": "5",
                                    "FEROHELY": "3",
                                    "(No column name)": "1"
                                },
                                {
                                    "SZOBA_SZAMA": "5",
                                    "FEROHELY": "3",
                                    "(No column name)": "1"
                                },
                                {
                                    "SZOBA_SZAMA": "5",
                                    "FEROHELY": "3",
                                    "(No column name)": "1"
                                },
                                {
                                    "SZOBA_SZAMA": "5",
                                    "FEROHELY": "3",
                                    "(No column name)": "1"
                                },
                                {
                                    "SZOBA_SZAMA": "5",
                                    "FEROHELY": "3",
                                    "(No column name)": "1"
                                },
                                {
                                    "SZOBA_SZAMA": "5",
                                    "FEROHELY": "3",
                                    "(No column name)": "1"
                                },
                                {
                                    "SZOBA_SZAMA": "5",
                                    "FEROHELY": "3",
                                    "(No column name)": "1"
                                },
                                {
                                    "SZOBA_SZAMA": "5",
                                    "FEROHELY": "3",
                                    "(No column name)": "1"
                                },
                                {
                                    "SZOBA_SZAMA": "5",
                                    "FEROHELY": "3",
                                    "(No column name)": "1"
                                },
                                {
                                    "SZOBA_SZAMA": "5",
                                    "FEROHELY": "3",
                                    "(No column name)": "1"
                                },
                                {
                                    "SZOBA_SZAMA": "5",
                                    "FEROHELY": "3",
                                    "(No column name)": "1"
                                },
                                {
                                    "SZOBA_SZAMA": "5",
                                    "FEROHELY": "2",
                                    "(No column name)": "33"
                                },
                                {
                                    "SZOBA_SZAMA": "5",
                                    "FEROHELY": "2",
                                    "(No column name)": "33"
                                },
                                {
                                    "SZOBA_SZAMA": "5",
                                    "FEROHELY": "2",
                                    "(No column name)": "33"
                                },
                                {
                                    "SZOBA_SZAMA": "5",
                                    "FEROHELY": "2",
                                    "(No column name)": "33"
                                },
                                {
                                    "SZOBA_SZAMA": "5",
                                    "FEROHELY": "2",
                                    "(No column name)": "33"
                                },
                                {
                                    "SZOBA_SZAMA": "5",
                                    "FEROHELY": "2",
                                    "(No column name)": "33"
                                },
                                {
                                    "SZOBA_SZAMA": "5",
                                    "FEROHELY": "2",
                                    "(No column name)": "33"
                                },
                                {
                                    "SZOBA_SZAMA": "5",
                                    "FEROHELY": "2",
                                    "(No column name)": "33"
                                },
                                {
                                    "SZOBA_SZAMA": "5",
                                    "FEROHELY": "2",
                                    "(No column name)": "33"
                                },
                                {
                                    "SZOBA_SZAMA": "5",
                                    "FEROHELY": "2",
                                    "(No column name)": "33"
                                },
                                {
                                    "SZOBA_SZAMA": "5",
                                    "FEROHELY": "2",
                                    "(No column name)": "33"
                                },
                                {
                                    "SZOBA_SZAMA": "5",
                                    "FEROHELY": "2",
                                    "(No column name)": "33"
                                },
                                {
                                    "SZOBA_SZAMA": "5",
                                    "FEROHELY": "2",
                                    "(No column name)": "33"
                                },
                                {
                                    "SZOBA_SZAMA": "5",
                                    "FEROHELY": "2",
                                    "(No column name)": "33"
                                },
                                {
                                    "SZOBA_SZAMA": "5",
                                    "FEROHELY": "2",
                                    "(No column name)": "33"
                                },
                                {
                                    "SZOBA_SZAMA": "5",
                                    "FEROHELY": "2",
                                    "(No column name)": "33"
                                },
                                {
                                    "SZOBA_SZAMA": "5",
                                    "FEROHELY": "2",
                                    "(No column name)": "33"
                                },
                                {
                                    "SZOBA_SZAMA": "5",
                                    "FEROHELY": "2",
                                    "(No column name)": "33"
                                },
                                {
                                    "SZOBA_SZAMA": "5",
                                    "FEROHELY": "2",
                                    "(No column name)": "33"
                                },
                                {
                                    "SZOBA_SZAMA": "5",
                                    "FEROHELY": "2",
                                    "(No column name)": "33"
                                },
                                {
                                    "SZOBA_SZAMA": "5",
                                    "FEROHELY": "2",
                                    "(No column name)": "33"
                                },
                                {
                                    "SZOBA_SZAMA": "5",
                                    "FEROHELY": "2",
                                    "(No column name)": "33"
                                },
                                {
                                    "SZOBA_SZAMA": "5",
                                    "FEROHELY": "2",
                                    "(No column name)": "33"
                                },
                                {
                                    "SZOBA_SZAMA": "5",
                                    "FEROHELY": "2",
                                    "(No column name)": "33"
                                },
                                {
                                    "SZOBA_SZAMA": "5",
                                    "FEROHELY": "2",
                                    "(No column name)": "33"
                                },
                                {
                                    "SZOBA_SZAMA": "5",
                                    "FEROHELY": "2",
                                    "(No column name)": "33"
                                },
                                {
                                    "SZOBA_SZAMA": "5",
                                    "FEROHELY": "2",
                                    "(No column name)": "33"
                                },
                                {
                                    "SZOBA_SZAMA": "5",
                                    "FEROHELY": "2",
                                    "(No column name)": "33"
                                },
                                {
                                    "SZOBA_SZAMA": "5",
                                    "FEROHELY": "2",
                                    "(No column name)": "33"
                                },
                                {
                                    "SZOBA_SZAMA": "5",
                                    "FEROHELY": "2",
                                    "(No column name)": "33"
                                },
                                {
                                    "SZOBA_SZAMA": "5",
                                    "FEROHELY": "2",
                                    "(No column name)": "33"
                                },
                                {
                                    "SZOBA_SZAMA": "5",
                                    "FEROHELY": "2",
                                    "(No column name)": "33"
                                },
                                {
                                    "SZOBA_SZAMA": "5",
                                    "FEROHELY": "2",
                                    "(No column name)": "33"
                                },
                                {
                                    "SZOBA_SZAMA": "5",
                                    "FEROHELY": "2",
                                    "(No column name)": "33"
                                },
                                {
                                    "SZOBA_SZAMA": "5",
                                    "FEROHELY": "2",
                                    "(No column name)": "33"
                                },
                                {
                                    "SZOBA_SZAMA": "50",
                                    "FEROHELY": "3",
                                    "(No column name)": "1"
                                },
                                {
                                    "SZOBA_SZAMA": "6",
                                    "FEROHELY": "3",
                                    "(No column name)": "1"
                                },
                                {
                                    "SZOBA_SZAMA": "6",
                                    "FEROHELY": "3",
                                    "(No column name)": "1"
                                },
                                {
                                    "SZOBA_SZAMA": "6",
                                    "FEROHELY": "3",
                                    "(No column name)": "1"
                                },
                                {
                                    "SZOBA_SZAMA": "6",
                                    "FEROHELY": "3",
                                    "(No column name)": "1"
                                },
                                {
                                    "SZOBA_SZAMA": "6",
                                    "FEROHELY": "3",
                                    "(No column name)": "1"
                                },
                                {
                                    "SZOBA_SZAMA": "6",
                                    "FEROHELY": "3",
                                    "(No column name)": "1"
                                },
                                {
                                    "SZOBA_SZAMA": "6",
                                    "FEROHELY": "3",
                                    "(No column name)": "1"
                                },
                                {
                                    "SZOBA_SZAMA": "6",
                                    "FEROHELY": "3",
                                    "(No column name)": "1"
                                },
                                {
                                    "SZOBA_SZAMA": "6",
                                    "FEROHELY": "3",
                                    "(No column name)": "1"
                                },
                                {
                                    "SZOBA_SZAMA": "6",
                                    "FEROHELY": "3",
                                    "(No column name)": "1"
                                },
                                {
                                    "SZOBA_SZAMA": "6",
                                    "FEROHELY": "3",
                                    "(No column name)": "1"
                                },
                                {
                                    "SZOBA_SZAMA": "6",
                                    "FEROHELY": "3",
                                    "(No column name)": "1"
                                },
                                {
                                    "SZOBA_SZAMA": "6",
                                    "FEROHELY": "3",
                                    "(No column name)": "1"
                                },
                                {
                                    "SZOBA_SZAMA": "6",
                                    "FEROHELY": "3",
                                    "(No column name)": "1"
                                },
                                {
                                    "SZOBA_SZAMA": "6",
                                    "FEROHELY": "3",
                                    "(No column name)": "1"
                                },
                                {
                                    "SZOBA_SZAMA": "6",
                                    "FEROHELY": "3",
                                    "(No column name)": "1"
                                },
                                {
                                    "SZOBA_SZAMA": "6",
                                    "FEROHELY": "3",
                                    "(No column name)": "1"
                                },
                                {
                                    "SZOBA_SZAMA": "6",
                                    "FEROHELY": "3",
                                    "(No column name)": "1"
                                },
                                {
                                    "SZOBA_SZAMA": "6",
                                    "FEROHELY": "3",
                                    "(No column name)": "1"
                                },
                                {
                                    "SZOBA_SZAMA": "6",
                                    "FEROHELY": "3",
                                    "(No column name)": "1"
                                },
                                {
                                    "SZOBA_SZAMA": "6",
                                    "FEROHELY": "3",
                                    "(No column name)": "1"
                                },
                                {
                                    "SZOBA_SZAMA": "6",
                                    "FEROHELY": "3",
                                    "(No column name)": "1"
                                },
                                {
                                    "SZOBA_SZAMA": "6",
                                    "FEROHELY": "3",
                                    "(No column name)": "1"
                                },
                                {
                                    "SZOBA_SZAMA": "6",
                                    "FEROHELY": "3",
                                    "(No column name)": "1"
                                },
                                {
                                    "SZOBA_SZAMA": "6",
                                    "FEROHELY": "3",
                                    "(No column name)": "1"
                                },
                                {
                                    "SZOBA_SZAMA": "6",
                                    "FEROHELY": "3",
                                    "(No column name)": "1"
                                },
                                {
                                    "SZOBA_SZAMA": "6",
                                    "FEROHELY": "3",
                                    "(No column name)": "1"
                                },
                                {
                                    "SZOBA_SZAMA": "6",
                                    "FEROHELY": "3",
                                    "(No column name)": "1"
                                },
                                {
                                    "SZOBA_SZAMA": "6",
                                    "FEROHELY": "2",
                                    "(No column name)": "29"
                                },
                                {
                                    "SZOBA_SZAMA": "6",
                                    "FEROHELY": "2",
                                    "(No column name)": "29"
                                },
                                {
                                    "SZOBA_SZAMA": "6",
                                    "FEROHELY": "2",
                                    "(No column name)": "29"
                                },
                                {
                                    "SZOBA_SZAMA": "6",
                                    "FEROHELY": "2",
                                    "(No column name)": "29"
                                },
                                {
                                    "SZOBA_SZAMA": "6",
                                    "FEROHELY": "2",
                                    "(No column name)": "29"
                                },
                                {
                                    "SZOBA_SZAMA": "6",
                                    "FEROHELY": "2",
                                    "(No column name)": "29"
                                },
                                {
                                    "SZOBA_SZAMA": "6",
                                    "FEROHELY": "2",
                                    "(No column name)": "29"
                                },
                                {
                                    "SZOBA_SZAMA": "6",
                                    "FEROHELY": "2",
                                    "(No column name)": "29"
                                },
                                {
                                    "SZOBA_SZAMA": "6",
                                    "FEROHELY": "2",
                                    "(No column name)": "29"
                                },
                                {
                                    "SZOBA_SZAMA": "6",
                                    "FEROHELY": "2",
                                    "(No column name)": "29"
                                },
                                {
                                    "SZOBA_SZAMA": "6",
                                    "FEROHELY": "2",
                                    "(No column name)": "29"
                                },
                                {
                                    "SZOBA_SZAMA": "6",
                                    "FEROHELY": "2",
                                    "(No column name)": "29"
                                },
                                {
                                    "SZOBA_SZAMA": "6",
                                    "FEROHELY": "2",
                                    "(No column name)": "29"
                                },
                                {
                                    "SZOBA_SZAMA": "6",
                                    "FEROHELY": "2",
                                    "(No column name)": "29"
                                },
                                {
                                    "SZOBA_SZAMA": "6",
                                    "FEROHELY": "2",
                                    "(No column name)": "29"
                                },
                                {
                                    "SZOBA_SZAMA": "6",
                                    "FEROHELY": "2",
                                    "(No column name)": "29"
                                },
                                {
                                    "SZOBA_SZAMA": "6",
                                    "FEROHELY": "2",
                                    "(No column name)": "29"
                                },
                                {
                                    "SZOBA_SZAMA": "6",
                                    "FEROHELY": "2",
                                    "(No column name)": "29"
                                },
                                {
                                    "SZOBA_SZAMA": "6",
                                    "FEROHELY": "2",
                                    "(No column name)": "29"
                                },
                                {
                                    "SZOBA_SZAMA": "6",
                                    "FEROHELY": "2",
                                    "(No column name)": "29"
                                },
                                {
                                    "SZOBA_SZAMA": "6",
                                    "FEROHELY": "2",
                                    "(No column name)": "29"
                                },
                                {
                                    "SZOBA_SZAMA": "6",
                                    "FEROHELY": "2",
                                    "(No column name)": "29"
                                },
                                {
                                    "SZOBA_SZAMA": "6",
                                    "FEROHELY": "2",
                                    "(No column name)": "29"
                                },
                                {
                                    "SZOBA_SZAMA": "6",
                                    "FEROHELY": "2",
                                    "(No column name)": "29"
                                },
                                {
                                    "SZOBA_SZAMA": "6",
                                    "FEROHELY": "2",
                                    "(No column name)": "29"
                                },
                                {
                                    "SZOBA_SZAMA": "6",
                                    "FEROHELY": "2",
                                    "(No column name)": "29"
                                },
                                {
                                    "SZOBA_SZAMA": "6",
                                    "FEROHELY": "2",
                                    "(No column name)": "29"
                                },
                                {
                                    "SZOBA_SZAMA": "6",
                                    "FEROHELY": "2",
                                    "(No column name)": "29"
                                },
                                {
                                    "SZOBA_SZAMA": "6",
                                    "FEROHELY": "2",
                                    "(No column name)": "29"
                                },
                                {
                                    "SZOBA_SZAMA": "7",
                                    "FEROHELY": "3",
                                    "(No column name)": "1"
                                },
                                {
                                    "SZOBA_SZAMA": "7",
                                    "FEROHELY": "3",
                                    "(No column name)": "1"
                                },
                                {
                                    "SZOBA_SZAMA": "7",
                                    "FEROHELY": "3",
                                    "(No column name)": "1"
                                },
                                {
                                    "SZOBA_SZAMA": "7",
                                    "FEROHELY": "3",
                                    "(No column name)": "1"
                                },
                                {
                                    "SZOBA_SZAMA": "7",
                                    "FEROHELY": "3",
                                    "(No column name)": "1"
                                },
                                {
                                    "SZOBA_SZAMA": "7",
                                    "FEROHELY": "3",
                                    "(No column name)": "1"
                                },
                                {
                                    "SZOBA_SZAMA": "7",
                                    "FEROHELY": "3",
                                    "(No column name)": "1"
                                },
                                {
                                    "SZOBA_SZAMA": "7",
                                    "FEROHELY": "3",
                                    "(No column name)": "1"
                                },
                                {
                                    "SZOBA_SZAMA": "7",
                                    "FEROHELY": "3",
                                    "(No column name)": "1"
                                },
                                {
                                    "SZOBA_SZAMA": "7",
                                    "FEROHELY": "3",
                                    "(No column name)": "1"
                                },
                                {
                                    "SZOBA_SZAMA": "7",
                                    "FEROHELY": "3",
                                    "(No column name)": "1"
                                },
                                {
                                    "SZOBA_SZAMA": "7",
                                    "FEROHELY": "3",
                                    "(No column name)": "1"
                                },
                                {
                                    "SZOBA_SZAMA": "7",
                                    "FEROHELY": "3",
                                    "(No column name)": "1"
                                },
                                {
                                    "SZOBA_SZAMA": "7",
                                    "FEROHELY": "3",
                                    "(No column name)": "1"
                                },
                                {
                                    "SZOBA_SZAMA": "7",
                                    "FEROHELY": "3",
                                    "(No column name)": "1"
                                },
                                {
                                    "SZOBA_SZAMA": "7",
                                    "FEROHELY": "2",
                                    "(No column name)": "16"
                                },
                                {
                                    "SZOBA_SZAMA": "7",
                                    "FEROHELY": "2",
                                    "(No column name)": "16"
                                },
                                {
                                    "SZOBA_SZAMA": "7",
                                    "FEROHELY": "2",
                                    "(No column name)": "16"
                                },
                                {
                                    "SZOBA_SZAMA": "7",
                                    "FEROHELY": "2",
                                    "(No column name)": "16"
                                },
                                {
                                    "SZOBA_SZAMA": "7",
                                    "FEROHELY": "2",
                                    "(No column name)": "16"
                                },
                                {
                                    "SZOBA_SZAMA": "7",
                                    "FEROHELY": "2",
                                    "(No column name)": "16"
                                },
                                {
                                    "SZOBA_SZAMA": "7",
                                    "FEROHELY": "2",
                                    "(No column name)": "16"
                                },
                                {
                                    "SZOBA_SZAMA": "7",
                                    "FEROHELY": "2",
                                    "(No column name)": "16"
                                },
                                {
                                    "SZOBA_SZAMA": "7",
                                    "FEROHELY": "2",
                                    "(No column name)": "16"
                                },
                                {
                                    "SZOBA_SZAMA": "7",
                                    "FEROHELY": "2",
                                    "(No column name)": "16"
                                },
                                {
                                    "SZOBA_SZAMA": "7",
                                    "FEROHELY": "2",
                                    "(No column name)": "16"
                                },
                                {
                                    "SZOBA_SZAMA": "7",
                                    "FEROHELY": "2",
                                    "(No column name)": "16"
                                },
                                {
                                    "SZOBA_SZAMA": "7",
                                    "FEROHELY": "2",
                                    "(No column name)": "16"
                                },
                                {
                                    "SZOBA_SZAMA": "7",
                                    "FEROHELY": "2",
                                    "(No column name)": "16"
                                },
                                {
                                    "SZOBA_SZAMA": "7",
                                    "FEROHELY": "2",
                                    "(No column name)": "16"
                                },
                                {
                                    "SZOBA_SZAMA": "7",
                                    "FEROHELY": "2",
                                    "(No column name)": "16"
                                },
                                {
                                    "SZOBA_SZAMA": "7",
                                    "FEROHELY": "2",
                                    "(No column name)": "16"
                                },
                                {
                                    "SZOBA_SZAMA": "7",
                                    "FEROHELY": "2",
                                    "(No column name)": "16"
                                },
                                {
                                    "SZOBA_SZAMA": "7",
                                    "FEROHELY": "2",
                                    "(No column name)": "16"
                                },
                                {
                                    "SZOBA_SZAMA": "7",
                                    "FEROHELY": "2",
                                    "(No column name)": "16"
                                },
                                {
                                    "SZOBA_SZAMA": "7",
                                    "FEROHELY": "2",
                                    "(No column name)": "16"
                                },
                                {
                                    "SZOBA_SZAMA": "7",
                                    "FEROHELY": "2",
                                    "(No column name)": "16"
                                },
                                {
                                    "SZOBA_SZAMA": "7",
                                    "FEROHELY": "2",
                                    "(No column name)": "16"
                                },
                                {
                                    "SZOBA_SZAMA": "7",
                                    "FEROHELY": "2",
                                    "(No column name)": "16"
                                },
                                {
                                    "SZOBA_SZAMA": "7",
                                    "FEROHELY": "2",
                                    "(No column name)": "16"
                                },
                                {
                                    "SZOBA_SZAMA": "7",
                                    "FEROHELY": "2",
                                    "(No column name)": "16"
                                },
                                {
                                    "SZOBA_SZAMA": "8",
                                    "FEROHELY": "4",
                                    "(No column name)": "1"
                                },
                                {
                                    "SZOBA_SZAMA": "8",
                                    "FEROHELY": "4",
                                    "(No column name)": "1"
                                },
                                {
                                    "SZOBA_SZAMA": "8",
                                    "FEROHELY": "4",
                                    "(No column name)": "1"
                                },
                                {
                                    "SZOBA_SZAMA": "8",
                                    "FEROHELY": "3",
                                    "(No column name)": "4"
                                },
                                {
                                    "SZOBA_SZAMA": "8",
                                    "FEROHELY": "3",
                                    "(No column name)": "4"
                                },
                                {
                                    "SZOBA_SZAMA": "8",
                                    "FEROHELY": "3",
                                    "(No column name)": "4"
                                },
                                {
                                    "SZOBA_SZAMA": "8",
                                    "FEROHELY": "3",
                                    "(No column name)": "4"
                                },
                                {
                                    "SZOBA_SZAMA": "8",
                                    "FEROHELY": "3",
                                    "(No column name)": "4"
                                },
                                {
                                    "SZOBA_SZAMA": "8",
                                    "FEROHELY": "3",
                                    "(No column name)": "4"
                                },
                                {
                                    "SZOBA_SZAMA": "8",
                                    "FEROHELY": "3",
                                    "(No column name)": "4"
                                },
                                {
                                    "SZOBA_SZAMA": "8",
                                    "FEROHELY": "3",
                                    "(No column name)": "4"
                                },
                                {
                                    "SZOBA_SZAMA": "8",
                                    "FEROHELY": "3",
                                    "(No column name)": "4"
                                },
                                {
                                    "SZOBA_SZAMA": "8",
                                    "FEROHELY": "3",
                                    "(No column name)": "4"
                                },
                                {
                                    "SZOBA_SZAMA": "8",
                                    "FEROHELY": "2",
                                    "(No column name)": "14"
                                },
                                {
                                    "SZOBA_SZAMA": "8",
                                    "FEROHELY": "2",
                                    "(No column name)": "14"
                                },
                                {
                                    "SZOBA_SZAMA": "8",
                                    "FEROHELY": "2",
                                    "(No column name)": "14"
                                },
                                {
                                    "SZOBA_SZAMA": "8",
                                    "FEROHELY": "2",
                                    "(No column name)": "14"
                                },
                                {
                                    "SZOBA_SZAMA": "8",
                                    "FEROHELY": "2",
                                    "(No column name)": "14"
                                },
                                {
                                    "SZOBA_SZAMA": "8",
                                    "FEROHELY": "2",
                                    "(No column name)": "14"
                                },
                                {
                                    "SZOBA_SZAMA": "8",
                                    "FEROHELY": "2",
                                    "(No column name)": "14"
                                },
                                {
                                    "SZOBA_SZAMA": "8",
                                    "FEROHELY": "2",
                                    "(No column name)": "14"
                                },
                                {
                                    "SZOBA_SZAMA": "8",
                                    "FEROHELY": "2",
                                    "(No column name)": "14"
                                },
                                {
                                    "SZOBA_SZAMA": "8",
                                    "FEROHELY": "2",
                                    "(No column name)": "14"
                                },
                                {
                                    "SZOBA_SZAMA": "8",
                                    "FEROHELY": "2",
                                    "(No column name)": "14"
                                },
                                {
                                    "SZOBA_SZAMA": "8",
                                    "FEROHELY": "2",
                                    "(No column name)": "14"
                                },
                                {
                                    "SZOBA_SZAMA": "8",
                                    "FEROHELY": "2",
                                    "(No column name)": "14"
                                },
                                {
                                    "SZOBA_SZAMA": "8",
                                    "FEROHELY": "2",
                                    "(No column name)": "14"
                                },
                                {
                                    "SZOBA_SZAMA": "8",
                                    "FEROHELY": "2",
                                    "(No column name)": "14"
                                },
                                {
                                    "SZOBA_SZAMA": "8",
                                    "FEROHELY": "2",
                                    "(No column name)": "14"
                                },
                                {
                                    "SZOBA_SZAMA": "8",
                                    "FEROHELY": "2",
                                    "(No column name)": "14"
                                },
                                {
                                    "SZOBA_SZAMA": "8",
                                    "FEROHELY": "2",
                                    "(No column name)": "14"
                                },
                                {
                                    "SZOBA_SZAMA": "8",
                                    "FEROHELY": "2",
                                    "(No column name)": "14"
                                },
                                {
                                    "SZOBA_SZAMA": "8",
                                    "FEROHELY": "2",
                                    "(No column name)": "14"
                                },
                                {
                                    "SZOBA_SZAMA": "8",
                                    "FEROHELY": "2",
                                    "(No column name)": "14"
                                },
                                {
                                    "SZOBA_SZAMA": "8",
                                    "FEROHELY": "2",
                                    "(No column name)": "14"
                                },
                                {
                                    "SZOBA_SZAMA": "9",
                                    "FEROHELY": "3",
                                    "(No column name)": "1"
                                },
                                {
                                    "SZOBA_SZAMA": "9",
                                    "FEROHELY": "3",
                                    "(No column name)": "1"
                                },
                                {
                                    "SZOBA_SZAMA": "9",
                                    "FEROHELY": "3",
                                    "(No column name)": "1"
                                },
                                {
                                    "SZOBA_SZAMA": "9",
                                    "FEROHELY": "3",
                                    "(No column name)": "1"
                                },
                                {
                                    "SZOBA_SZAMA": "9",
                                    "FEROHELY": "3",
                                    "(No column name)": "1"
                                },
                                {
                                    "SZOBA_SZAMA": "9",
                                    "FEROHELY": "3",
                                    "(No column name)": "1"
                                },
                                {
                                    "SZOBA_SZAMA": "9",
                                    "FEROHELY": "3",
                                    "(No column name)": "1"
                                },
                                {
                                    "SZOBA_SZAMA": "9",
                                    "FEROHELY": "3",
                                    "(No column name)": "1"
                                },
                                {
                                    "SZOBA_SZAMA": "9",
                                    "FEROHELY": "3",
                                    "(No column name)": "1"
                                },
                                {
                                    "SZOBA_SZAMA": "9",
                                    "FEROHELY": "3",
                                    "(No column name)": "1"
                                },
                                {
                                    "SZOBA_SZAMA": "9",
                                    "FEROHELY": "3",
                                    "(No column name)": "1"
                                },
                                {
                                    "SZOBA_SZAMA": "9",
                                    "FEROHELY": "3",
                                    "(No column name)": "1"
                                },
                                {
                                    "SZOBA_SZAMA": "9",
                                    "FEROHELY": "3",
                                    "(No column name)": "1"
                                },
                                {
                                    "SZOBA_SZAMA": "9",
                                    "FEROHELY": "3",
                                    "(No column name)": "1"
                                },
                                {
                                    "SZOBA_SZAMA": "9",
                                    "FEROHELY": "3",
                                    "(No column name)": "1"
                                },
                                {
                                    "SZOBA_SZAMA": "9",
                                    "FEROHELY": "3",
                                    "(No column name)": "1"
                                },
                                {
                                    "SZOBA_SZAMA": "9",
                                    "FEROHELY": "3",
                                    "(No column name)": "1"
                                },
                                {
                                    "SZOBA_SZAMA": "9",
                                    "FEROHELY": "3",
                                    "(No column name)": "1"
                                },
                                {
                                    "SZOBA_SZAMA": "9",
                                    "FEROHELY": "3",
                                    "(No column name)": "1"
                                },
                                {
                                    "SZOBA_SZAMA": "9",
                                    "FEROHELY": "3",
                                    "(No column name)": "1"
                                },
                                {
                                    "SZOBA_SZAMA": "9",
                                    "FEROHELY": "3",
                                    "(No column name)": "1"
                                },
                                {
                                    "SZOBA_SZAMA": "9",
                                    "FEROHELY": "3",
                                    "(No column name)": "1"
                                },
                                {
                                    "SZOBA_SZAMA": "9",
                                    "FEROHELY": "3",
                                    "(No column name)": "1"
                                },
                                {
                                    "SZOBA_SZAMA": "9",
                                    "FEROHELY": "3",
                                    "(No column name)": "1"
                                },
                                {
                                    "SZOBA_SZAMA": "9",
                                    "FEROHELY": "2",
                                    "(No column name)": "25"
                                },
                                {
                                    "SZOBA_SZAMA": "9",
                                    "FEROHELY": "2",
                                    "(No column name)": "25"
                                },
                                {
                                    "SZOBA_SZAMA": "9",
                                    "FEROHELY": "2",
                                    "(No column name)": "25"
                                },
                                {
                                    "SZOBA_SZAMA": "9",
                                    "FEROHELY": "2",
                                    "(No column name)": "25"
                                },
                                {
                                    "SZOBA_SZAMA": "9",
                                    "FEROHELY": "2",
                                    "(No column name)": "25"
                                },
                                {
                                    "SZOBA_SZAMA": "9",
                                    "FEROHELY": "2",
                                    "(No column name)": "25"
                                },
                                {
                                    "SZOBA_SZAMA": "9",
                                    "FEROHELY": "2",
                                    "(No column name)": "25"
                                },
                                {
                                    "SZOBA_SZAMA": "9",
                                    "FEROHELY": "2",
                                    "(No column name)": "25"
                                },
                                {
                                    "SZOBA_SZAMA": "9",
                                    "FEROHELY": "2",
                                    "(No column name)": "25"
                                },
                                {
                                    "SZOBA_SZAMA": "9",
                                    "FEROHELY": "2",
                                    "(No column name)": "25"
                                },
                                {
                                    "SZOBA_SZAMA": "9",
                                    "FEROHELY": "2",
                                    "(No column name)": "25"
                                },
                                {
                                    "SZOBA_SZAMA": "9",
                                    "FEROHELY": "2",
                                    "(No column name)": "25"
                                },
                                {
                                    "SZOBA_SZAMA": "9",
                                    "FEROHELY": "2",
                                    "(No column name)": "25"
                                },
                                {
                                    "SZOBA_SZAMA": "9",
                                    "FEROHELY": "2",
                                    "(No column name)": "25"
                                },
                                {
                                    "SZOBA_SZAMA": "9",
                                    "FEROHELY": "2",
                                    "(No column name)": "25"
                                },
                                {
                                    "SZOBA_SZAMA": "9",
                                    "FEROHELY": "2",
                                    "(No column name)": "25"
                                },
                                {
                                    "SZOBA_SZAMA": "9",
                                    "FEROHELY": "2",
                                    "(No column name)": "25"
                                },
                                {
                                    "SZOBA_SZAMA": "9",
                                    "FEROHELY": "2",
                                    "(No column name)": "25"
                                },
                                {
                                    "SZOBA_SZAMA": "9",
                                    "FEROHELY": "2",
                                    "(No column name)": "25"
                                },
                                {
                                    "SZOBA_SZAMA": "9",
                                    "FEROHELY": "2",
                                    "(No column name)": "25"
                                },
                                {
                                    "SZOBA_SZAMA": "9",
                                    "FEROHELY": "2",
                                    "(No column name)": "25"
                                },
                                {
                                    "SZOBA_SZAMA": "9",
                                    "FEROHELY": "2",
                                    "(No column name)": "25"
                                },
                                {
                                    "SZOBA_SZAMA": "9",
                                    "FEROHELY": "2",
                                    "(No column name)": "25"
                                },
                                {
                                    "SZOBA_SZAMA": "9",
                                    "FEROHELY": "2",
                                    "(No column name)": "25"
                                },
                                {
                                    "SZOBA_SZAMA": "9",
                                    "FEROHELY": "2",
                                    "(No column name)": "25"
                                },
                                {
                                    "SZOBA_SZAMA": "9",
                                    "FEROHELY": "2",
                                    "(No column name)": "25"
                                },
                                {
                                    "SZOBA_SZAMA": "9",
                                    "FEROHELY": "2",
                                    "(No column name)": "25"
                                },
                                {
                                    "SZOBA_SZAMA": "9",
                                    "FEROHELY": "2",
                                    "(No column name)": "25"
                                },
                                {
                                    "SZOBA_SZAMA": "9",
                                    "FEROHELY": "2",
                                    "(No column name)": "25"
                                },
                                {
                                    "SZOBA_SZAMA": "9",
                                    "FEROHELY": "2",
                                    "(No column name)": "25"
                                },
                                {
                                    "SZOBA_SZAMA": "9",
                                    "FEROHELY": "2",
                                    "(No column name)": "25"
                                }
                            ]
                        },
                        "text/html": [
                            "<table>",
                            "<tr><th>SZOBA_SZAMA</th><th>FEROHELY</th><th>(No column name)</th></tr>",
                            "<tr><td>1</td><td>3</td><td>1</td></tr>",
                            "<tr><td>1</td><td>3</td><td>1</td></tr>",
                            "<tr><td>1</td><td>3</td><td>1</td></tr>",
                            "<tr><td>1</td><td>3</td><td>1</td></tr>",
                            "<tr><td>1</td><td>3</td><td>1</td></tr>",
                            "<tr><td>1</td><td>3</td><td>1</td></tr>",
                            "<tr><td>1</td><td>3</td><td>1</td></tr>",
                            "<tr><td>1</td><td>3</td><td>1</td></tr>",
                            "<tr><td>1</td><td>3</td><td>1</td></tr>",
                            "<tr><td>1</td><td>3</td><td>1</td></tr>",
                            "<tr><td>1</td><td>3</td><td>1</td></tr>",
                            "<tr><td>1</td><td>3</td><td>1</td></tr>",
                            "<tr><td>1</td><td>3</td><td>1</td></tr>",
                            "<tr><td>1</td><td>3</td><td>1</td></tr>",
                            "<tr><td>1</td><td>3</td><td>1</td></tr>",
                            "<tr><td>1</td><td>3</td><td>1</td></tr>",
                            "<tr><td>1</td><td>3</td><td>1</td></tr>",
                            "<tr><td>1</td><td>3</td><td>1</td></tr>",
                            "<tr><td>1</td><td>3</td><td>1</td></tr>",
                            "<tr><td>1</td><td>3</td><td>1</td></tr>",
                            "<tr><td>1</td><td>3</td><td>1</td></tr>",
                            "<tr><td>1</td><td>3</td><td>1</td></tr>",
                            "<tr><td>1</td><td>3</td><td>1</td></tr>",
                            "<tr><td>1</td><td>3</td><td>1</td></tr>",
                            "<tr><td>1</td><td>3</td><td>1</td></tr>",
                            "<tr><td>1</td><td>3</td><td>1</td></tr>",
                            "<tr><td>1</td><td>3</td><td>1</td></tr>",
                            "<tr><td>1</td><td>3</td><td>1</td></tr>",
                            "<tr><td>1</td><td>3</td><td>1</td></tr>",
                            "<tr><td>1</td><td>3</td><td>1</td></tr>",
                            "<tr><td>1</td><td>3</td><td>1</td></tr>",
                            "<tr><td>1</td><td>3</td><td>1</td></tr>",
                            "<tr><td>1</td><td>3</td><td>1</td></tr>",
                            "<tr><td>1</td><td>2</td><td>34</td></tr>",
                            "<tr><td>1</td><td>2</td><td>34</td></tr>",
                            "<tr><td>1</td><td>2</td><td>34</td></tr>",
                            "<tr><td>1</td><td>2</td><td>34</td></tr>",
                            "<tr><td>1</td><td>2</td><td>34</td></tr>",
                            "<tr><td>1</td><td>2</td><td>34</td></tr>",
                            "<tr><td>1</td><td>2</td><td>34</td></tr>",
                            "<tr><td>1</td><td>2</td><td>34</td></tr>",
                            "<tr><td>1</td><td>2</td><td>34</td></tr>",
                            "<tr><td>1</td><td>2</td><td>34</td></tr>",
                            "<tr><td>1</td><td>2</td><td>34</td></tr>",
                            "<tr><td>1</td><td>2</td><td>34</td></tr>",
                            "<tr><td>1</td><td>2</td><td>34</td></tr>",
                            "<tr><td>1</td><td>2</td><td>34</td></tr>",
                            "<tr><td>1</td><td>2</td><td>34</td></tr>",
                            "<tr><td>1</td><td>2</td><td>34</td></tr>",
                            "<tr><td>1</td><td>2</td><td>34</td></tr>",
                            "<tr><td>1</td><td>2</td><td>34</td></tr>",
                            "<tr><td>1</td><td>2</td><td>34</td></tr>",
                            "<tr><td>1</td><td>2</td><td>34</td></tr>",
                            "<tr><td>1</td><td>2</td><td>34</td></tr>",
                            "<tr><td>1</td><td>2</td><td>34</td></tr>",
                            "<tr><td>1</td><td>2</td><td>34</td></tr>",
                            "<tr><td>1</td><td>2</td><td>34</td></tr>",
                            "<tr><td>1</td><td>2</td><td>34</td></tr>",
                            "<tr><td>1</td><td>2</td><td>34</td></tr>",
                            "<tr><td>1</td><td>2</td><td>34</td></tr>",
                            "<tr><td>1</td><td>2</td><td>34</td></tr>",
                            "<tr><td>1</td><td>2</td><td>34</td></tr>",
                            "<tr><td>1</td><td>2</td><td>34</td></tr>",
                            "<tr><td>1</td><td>2</td><td>34</td></tr>",
                            "<tr><td>1</td><td>2</td><td>34</td></tr>",
                            "<tr><td>10</td><td>3</td><td>1</td></tr>",
                            "<tr><td>10</td><td>3</td><td>1</td></tr>",
                            "<tr><td>10</td><td>3</td><td>1</td></tr>",
                            "<tr><td>10</td><td>3</td><td>1</td></tr>",
                            "<tr><td>10</td><td>3</td><td>1</td></tr>",
                            "<tr><td>10</td><td>3</td><td>1</td></tr>",
                            "<tr><td>10</td><td>3</td><td>1</td></tr>",
                            "<tr><td>10</td><td>3</td><td>1</td></tr>",
                            "<tr><td>10</td><td>3</td><td>1</td></tr>",
                            "<tr><td>10</td><td>3</td><td>1</td></tr>",
                            "<tr><td>10</td><td>3</td><td>1</td></tr>",
                            "<tr><td>10</td><td>3</td><td>1</td></tr>",
                            "<tr><td>10</td><td>3</td><td>1</td></tr>",
                            "<tr><td>10</td><td>3</td><td>1</td></tr>",
                            "<tr><td>10</td><td>3</td><td>1</td></tr>",
                            "<tr><td>10</td><td>3</td><td>1</td></tr>",
                            "<tr><td>10</td><td>3</td><td>1</td></tr>",
                            "<tr><td>10</td><td>3</td><td>1</td></tr>",
                            "<tr><td>10</td><td>3</td><td>1</td></tr>",
                            "<tr><td>10</td><td>3</td><td>1</td></tr>",
                            "<tr><td>10</td><td>3</td><td>1</td></tr>",
                            "<tr><td>10</td><td>3</td><td>1</td></tr>",
                            "<tr><td>10</td><td>3</td><td>1</td></tr>",
                            "<tr><td>10</td><td>3</td><td>1</td></tr>",
                            "<tr><td>10</td><td>2</td><td>25</td></tr>",
                            "<tr><td>10</td><td>2</td><td>25</td></tr>",
                            "<tr><td>10</td><td>2</td><td>25</td></tr>",
                            "<tr><td>10</td><td>2</td><td>25</td></tr>",
                            "<tr><td>10</td><td>2</td><td>25</td></tr>",
                            "<tr><td>10</td><td>2</td><td>25</td></tr>",
                            "<tr><td>10</td><td>2</td><td>25</td></tr>",
                            "<tr><td>10</td><td>2</td><td>25</td></tr>",
                            "<tr><td>10</td><td>2</td><td>25</td></tr>",
                            "<tr><td>10</td><td>2</td><td>25</td></tr>",
                            "<tr><td>10</td><td>2</td><td>25</td></tr>",
                            "<tr><td>10</td><td>2</td><td>25</td></tr>",
                            "<tr><td>10</td><td>2</td><td>25</td></tr>",
                            "<tr><td>10</td><td>2</td><td>25</td></tr>",
                            "<tr><td>10</td><td>2</td><td>25</td></tr>",
                            "<tr><td>10</td><td>2</td><td>25</td></tr>",
                            "<tr><td>11</td><td>3</td><td>1</td></tr>",
                            "<tr><td>11</td><td>3</td><td>1</td></tr>",
                            "<tr><td>11</td><td>3</td><td>1</td></tr>",
                            "<tr><td>11</td><td>3</td><td>1</td></tr>",
                            "<tr><td>11</td><td>3</td><td>1</td></tr>",
                            "<tr><td>11</td><td>3</td><td>1</td></tr>",
                            "<tr><td>11</td><td>3</td><td>1</td></tr>",
                            "<tr><td>11</td><td>3</td><td>1</td></tr>",
                            "<tr><td>11</td><td>3</td><td>1</td></tr>",
                            "<tr><td>11</td><td>3</td><td>1</td></tr>",
                            "<tr><td>11</td><td>2</td><td>11</td></tr>",
                            "<tr><td>11</td><td>2</td><td>11</td></tr>",
                            "<tr><td>11</td><td>2</td><td>11</td></tr>",
                            "<tr><td>11</td><td>2</td><td>11</td></tr>",
                            "<tr><td>11</td><td>2</td><td>11</td></tr>",
                            "<tr><td>11</td><td>2</td><td>11</td></tr>",
                            "<tr><td>11</td><td>2</td><td>11</td></tr>",
                            "<tr><td>11</td><td>2</td><td>11</td></tr>",
                            "<tr><td>11</td><td>2</td><td>11</td></tr>",
                            "<tr><td>11</td><td>2</td><td>11</td></tr>",
                            "<tr><td>11</td><td>2</td><td>11</td></tr>",
                            "<tr><td>11</td><td>2</td><td>11</td></tr>",
                            "<tr><td>11</td><td>2</td><td>11</td></tr>",
                            "<tr><td>11</td><td>2</td><td>11</td></tr>",
                            "<tr><td>11</td><td>2</td><td>11</td></tr>",
                            "<tr><td>11</td><td>2</td><td>11</td></tr>",
                            "<tr><td>11</td><td>2</td><td>11</td></tr>",
                            "<tr><td>11</td><td>2</td><td>11</td></tr>",
                            "<tr><td>11</td><td>2</td><td>11</td></tr>",
                            "<tr><td>11</td><td>2</td><td>11</td></tr>",
                            "<tr><td>11</td><td>2</td><td>11</td></tr>",
                            "<tr><td>11</td><td>2</td><td>11</td></tr>",
                            "<tr><td>12</td><td>3</td><td>1</td></tr>",
                            "<tr><td>12</td><td>3</td><td>1</td></tr>",
                            "<tr><td>12</td><td>3</td><td>1</td></tr>",
                            "<tr><td>12</td><td>3</td><td>1</td></tr>",
                            "<tr><td>12</td><td>3</td><td>1</td></tr>",
                            "<tr><td>12</td><td>3</td><td>1</td></tr>",
                            "<tr><td>12</td><td>3</td><td>1</td></tr>",
                            "<tr><td>12</td><td>3</td><td>1</td></tr>",
                            "<tr><td>12</td><td>3</td><td>1</td></tr>",
                            "<tr><td>12</td><td>3</td><td>1</td></tr>",
                            "<tr><td>12</td><td>3</td><td>1</td></tr>",
                            "<tr><td>12</td><td>3</td><td>1</td></tr>",
                            "<tr><td>12</td><td>3</td><td>1</td></tr>",
                            "<tr><td>12</td><td>3</td><td>1</td></tr>",
                            "<tr><td>12</td><td>3</td><td>1</td></tr>",
                            "<tr><td>12</td><td>3</td><td>1</td></tr>",
                            "<tr><td>12</td><td>3</td><td>1</td></tr>",
                            "<tr><td>12</td><td>3</td><td>1</td></tr>",
                            "<tr><td>12</td><td>3</td><td>1</td></tr>",
                            "<tr><td>12</td><td>3</td><td>1</td></tr>",
                            "<tr><td>12</td><td>3</td><td>1</td></tr>",
                            "<tr><td>12</td><td>3</td><td>1</td></tr>",
                            "<tr><td>12</td><td>3</td><td>1</td></tr>",
                            "<tr><td>12</td><td>3</td><td>1</td></tr>",
                            "<tr><td>12</td><td>3</td><td>1</td></tr>",
                            "<tr><td>12</td><td>2</td><td>26</td></tr>",
                            "<tr><td>12</td><td>2</td><td>26</td></tr>",
                            "<tr><td>12</td><td>2</td><td>26</td></tr>",
                            "<tr><td>12</td><td>2</td><td>26</td></tr>",
                            "<tr><td>12</td><td>2</td><td>26</td></tr>",
                            "<tr><td>12</td><td>2</td><td>26</td></tr>",
                            "<tr><td>12</td><td>2</td><td>26</td></tr>",
                            "<tr><td>12</td><td>2</td><td>26</td></tr>",
                            "<tr><td>12</td><td>2</td><td>26</td></tr>",
                            "<tr><td>12</td><td>2</td><td>26</td></tr>",
                            "<tr><td>12</td><td>2</td><td>26</td></tr>",
                            "<tr><td>12</td><td>2</td><td>26</td></tr>",
                            "<tr><td>12</td><td>2</td><td>26</td></tr>",
                            "<tr><td>13</td><td>3</td><td>1</td></tr>",
                            "<tr><td>13</td><td>3</td><td>1</td></tr>",
                            "<tr><td>13</td><td>3</td><td>1</td></tr>",
                            "<tr><td>13</td><td>3</td><td>1</td></tr>",
                            "<tr><td>13</td><td>3</td><td>1</td></tr>",
                            "<tr><td>13</td><td>2</td><td>6</td></tr>",
                            "<tr><td>13</td><td>2</td><td>6</td></tr>",
                            "<tr><td>13</td><td>2</td><td>6</td></tr>",
                            "<tr><td>13</td><td>2</td><td>6</td></tr>",
                            "<tr><td>13</td><td>2</td><td>6</td></tr>",
                            "<tr><td>13</td><td>2</td><td>6</td></tr>",
                            "<tr><td>13</td><td>2</td><td>6</td></tr>",
                            "<tr><td>13</td><td>2</td><td>6</td></tr>",
                            "<tr><td>13</td><td>2</td><td>6</td></tr>",
                            "<tr><td>13</td><td>2</td><td>6</td></tr>",
                            "<tr><td>13</td><td>2</td><td>6</td></tr>",
                            "<tr><td>13</td><td>2</td><td>6</td></tr>",
                            "<tr><td>13</td><td>2</td><td>6</td></tr>",
                            "<tr><td>13</td><td>2</td><td>6</td></tr>",
                            "<tr><td>14</td><td>3</td><td>1</td></tr>",
                            "<tr><td>14</td><td>3</td><td>1</td></tr>",
                            "<tr><td>14</td><td>3</td><td>1</td></tr>",
                            "<tr><td>14</td><td>3</td><td>1</td></tr>",
                            "<tr><td>14</td><td>3</td><td>1</td></tr>",
                            "<tr><td>14</td><td>3</td><td>1</td></tr>",
                            "<tr><td>14</td><td>3</td><td>1</td></tr>",
                            "<tr><td>14</td><td>3</td><td>1</td></tr>",
                            "<tr><td>14</td><td>3</td><td>1</td></tr>",
                            "<tr><td>14</td><td>2</td><td>10</td></tr>",
                            "<tr><td>14</td><td>2</td><td>10</td></tr>",
                            "<tr><td>14</td><td>2</td><td>10</td></tr>",
                            "<tr><td>14</td><td>2</td><td>10</td></tr>",
                            "<tr><td>14</td><td>2</td><td>10</td></tr>",
                            "<tr><td>14</td><td>2</td><td>10</td></tr>",
                            "<tr><td>14</td><td>2</td><td>10</td></tr>",
                            "<tr><td>14</td><td>2</td><td>10</td></tr>",
                            "<tr><td>14</td><td>2</td><td>10</td></tr>",
                            "<tr><td>14</td><td>2</td><td>10</td></tr>",
                            "<tr><td>14</td><td>2</td><td>10</td></tr>",
                            "<tr><td>14</td><td>2</td><td>10</td></tr>",
                            "<tr><td>14</td><td>2</td><td>10</td></tr>",
                            "<tr><td>14</td><td>2</td><td>10</td></tr>",
                            "<tr><td>14</td><td>2</td><td>10</td></tr>",
                            "<tr><td>14</td><td>2</td><td>10</td></tr>",
                            "<tr><td>14</td><td>2</td><td>10</td></tr>",
                            "<tr><td>14</td><td>2</td><td>10</td></tr>",
                            "<tr><td>14</td><td>2</td><td>10</td></tr>",
                            "<tr><td>15</td><td>3</td><td>1</td></tr>",
                            "<tr><td>15</td><td>3</td><td>1</td></tr>",
                            "<tr><td>15</td><td>3</td><td>1</td></tr>",
                            "<tr><td>15</td><td>2</td><td>4</td></tr>",
                            "<tr><td>15</td><td>2</td><td>4</td></tr>",
                            "<tr><td>15</td><td>2</td><td>4</td></tr>",
                            "<tr><td>15</td><td>2</td><td>4</td></tr>",
                            "<tr><td>15</td><td>2</td><td>4</td></tr>",
                            "<tr><td>15</td><td>2</td><td>4</td></tr>",
                            "<tr><td>15</td><td>2</td><td>4</td></tr>",
                            "<tr><td>15</td><td>2</td><td>4</td></tr>",
                            "<tr><td>15</td><td>2</td><td>4</td></tr>",
                            "<tr><td>15</td><td>2</td><td>4</td></tr>",
                            "<tr><td>15</td><td>2</td><td>4</td></tr>",
                            "<tr><td>15</td><td>2</td><td>4</td></tr>",
                            "<tr><td>15</td><td>2</td><td>4</td></tr>",
                            "<tr><td>15</td><td>2</td><td>4</td></tr>",
                            "<tr><td>15</td><td>2</td><td>4</td></tr>",
                            "<tr><td>15</td><td>2</td><td>4</td></tr>",
                            "<tr><td>15</td><td>2</td><td>4</td></tr>",
                            "<tr><td>15</td><td>2</td><td>4</td></tr>",
                            "<tr><td>15</td><td>2</td><td>4</td></tr>",
                            "<tr><td>15</td><td>2</td><td>4</td></tr>",
                            "<tr><td>15</td><td>2</td><td>4</td></tr>",
                            "<tr><td>15</td><td>2</td><td>4</td></tr>",
                            "<tr><td>15</td><td>2</td><td>4</td></tr>",
                            "<tr><td>15</td><td>2</td><td>4</td></tr>",
                            "<tr><td>16</td><td>2</td><td>1</td></tr>",
                            "<tr><td>16</td><td>2</td><td>1</td></tr>",
                            "<tr><td>16</td><td>2</td><td>1</td></tr>",
                            "<tr><td>16</td><td>2</td><td>1</td></tr>",
                            "<tr><td>16</td><td>2</td><td>1</td></tr>",
                            "<tr><td>16</td><td>2</td><td>1</td></tr>",
                            "<tr><td>16</td><td>2</td><td>1</td></tr>",
                            "<tr><td>16</td><td>2</td><td>1</td></tr>",
                            "<tr><td>16</td><td>2</td><td>1</td></tr>",
                            "<tr><td>16</td><td>2</td><td>1</td></tr>",
                            "<tr><td>16</td><td>2</td><td>1</td></tr>",
                            "<tr><td>16</td><td>2</td><td>1</td></tr>",
                            "<tr><td>16</td><td>2</td><td>1</td></tr>",
                            "<tr><td>16</td><td>2</td><td>1</td></tr>",
                            "<tr><td>16</td><td>2</td><td>1</td></tr>",
                            "<tr><td>16</td><td>2</td><td>1</td></tr>",
                            "<tr><td>16</td><td>2</td><td>1</td></tr>",
                            "<tr><td>17</td><td>3</td><td>1</td></tr>",
                            "<tr><td>17</td><td>3</td><td>1</td></tr>",
                            "<tr><td>17</td><td>3</td><td>1</td></tr>",
                            "<tr><td>17</td><td>3</td><td>1</td></tr>",
                            "<tr><td>17</td><td>3</td><td>1</td></tr>",
                            "<tr><td>17</td><td>3</td><td>1</td></tr>",
                            "<tr><td>17</td><td>3</td><td>1</td></tr>",
                            "<tr><td>17</td><td>3</td><td>1</td></tr>",
                            "<tr><td>17</td><td>3</td><td>1</td></tr>",
                            "<tr><td>17</td><td>3</td><td>1</td></tr>",
                            "<tr><td>17</td><td>2</td><td>11</td></tr>",
                            "<tr><td>17</td><td>2</td><td>11</td></tr>",
                            "<tr><td>17</td><td>2</td><td>11</td></tr>",
                            "<tr><td>17</td><td>2</td><td>11</td></tr>",
                            "<tr><td>17</td><td>2</td><td>11</td></tr>",
                            "<tr><td>17</td><td>2</td><td>11</td></tr>",
                            "<tr><td>17</td><td>2</td><td>11</td></tr>",
                            "<tr><td>17</td><td>2</td><td>11</td></tr>",
                            "<tr><td>17</td><td>2</td><td>11</td></tr>",
                            "<tr><td>18</td><td>2</td><td>1</td></tr>",
                            "<tr><td>18</td><td>2</td><td>1</td></tr>",
                            "<tr><td>18</td><td>2</td><td>1</td></tr>",
                            "<tr><td>18</td><td>2</td><td>1</td></tr>",
                            "<tr><td>18</td><td>2</td><td>1</td></tr>",
                            "<tr><td>18</td><td>2</td><td>1</td></tr>",
                            "<tr><td>18</td><td>2</td><td>1</td></tr>",
                            "<tr><td>18</td><td>2</td><td>1</td></tr>",
                            "<tr><td>18</td><td>2</td><td>1</td></tr>",
                            "<tr><td>18</td><td>2</td><td>1</td></tr>",
                            "<tr><td>18</td><td>2</td><td>1</td></tr>",
                            "<tr><td>18</td><td>2</td><td>1</td></tr>",
                            "<tr><td>18</td><td>2</td><td>1</td></tr>",
                            "<tr><td>18</td><td>2</td><td>1</td></tr>",
                            "<tr><td>18</td><td>2</td><td>1</td></tr>",
                            "<tr><td>18</td><td>2</td><td>1</td></tr>",
                            "<tr><td>18</td><td>2</td><td>1</td></tr>",
                            "<tr><td>18</td><td>2</td><td>1</td></tr>",
                            "<tr><td>18</td><td>2</td><td>1</td></tr>",
                            "<tr><td>18</td><td>2</td><td>1</td></tr>",
                            "<tr><td>18</td><td>2</td><td>1</td></tr>",
                            "<tr><td>18</td><td>2</td><td>1</td></tr>",
                            "<tr><td>18</td><td>2</td><td>1</td></tr>",
                            "<tr><td>18</td><td>2</td><td>1</td></tr>",
                            "<tr><td>18</td><td>2</td><td>1</td></tr>",
                            "<tr><td>19</td><td>3</td><td>1</td></tr>",
                            "<tr><td>19</td><td>3</td><td>1</td></tr>",
                            "<tr><td>19</td><td>3</td><td>1</td></tr>",
                            "<tr><td>19</td><td>3</td><td>1</td></tr>",
                            "<tr><td>19</td><td>3</td><td>1</td></tr>",
                            "<tr><td>19</td><td>3</td><td>1</td></tr>",
                            "<tr><td>19</td><td>3</td><td>1</td></tr>",
                            "<tr><td>19</td><td>3</td><td>1</td></tr>",
                            "<tr><td>19</td><td>3</td><td>1</td></tr>",
                            "<tr><td>19</td><td>2</td><td>10</td></tr>",
                            "<tr><td>19</td><td>2</td><td>10</td></tr>",
                            "<tr><td>19</td><td>2</td><td>10</td></tr>",
                            "<tr><td>19</td><td>2</td><td>10</td></tr>",
                            "<tr><td>19</td><td>2</td><td>10</td></tr>",
                            "<tr><td>19</td><td>2</td><td>10</td></tr>",
                            "<tr><td>19</td><td>2</td><td>10</td></tr>",
                            "<tr><td>19</td><td>2</td><td>10</td></tr>",
                            "<tr><td>19</td><td>2</td><td>10</td></tr>",
                            "<tr><td>19</td><td>2</td><td>10</td></tr>",
                            "<tr><td>19</td><td>1</td><td>20</td></tr>",
                            "<tr><td>2</td><td>3</td><td>1</td></tr>",
                            "<tr><td>2</td><td>3</td><td>1</td></tr>",
                            "<tr><td>2</td><td>3</td><td>1</td></tr>",
                            "<tr><td>2</td><td>3</td><td>1</td></tr>",
                            "<tr><td>2</td><td>3</td><td>1</td></tr>",
                            "<tr><td>2</td><td>3</td><td>1</td></tr>",
                            "<tr><td>2</td><td>3</td><td>1</td></tr>",
                            "<tr><td>2</td><td>3</td><td>1</td></tr>",
                            "<tr><td>2</td><td>3</td><td>1</td></tr>",
                            "<tr><td>2</td><td>3</td><td>1</td></tr>",
                            "<tr><td>2</td><td>3</td><td>1</td></tr>",
                            "<tr><td>2</td><td>3</td><td>1</td></tr>",
                            "<tr><td>2</td><td>3</td><td>1</td></tr>",
                            "<tr><td>2</td><td>3</td><td>1</td></tr>",
                            "<tr><td>2</td><td>3</td><td>1</td></tr>",
                            "<tr><td>2</td><td>3</td><td>1</td></tr>",
                            "<tr><td>2</td><td>3</td><td>1</td></tr>",
                            "<tr><td>2</td><td>3</td><td>1</td></tr>",
                            "<tr><td>2</td><td>3</td><td>1</td></tr>",
                            "<tr><td>2</td><td>3</td><td>1</td></tr>",
                            "<tr><td>2</td><td>3</td><td>1</td></tr>",
                            "<tr><td>2</td><td>3</td><td>1</td></tr>",
                            "<tr><td>2</td><td>3</td><td>1</td></tr>",
                            "<tr><td>2</td><td>3</td><td>1</td></tr>",
                            "<tr><td>2</td><td>3</td><td>1</td></tr>",
                            "<tr><td>2</td><td>3</td><td>1</td></tr>",
                            "<tr><td>2</td><td>3</td><td>1</td></tr>",
                            "<tr><td>2</td><td>3</td><td>1</td></tr>",
                            "<tr><td>2</td><td>3</td><td>1</td></tr>",
                            "<tr><td>2</td><td>3</td><td>1</td></tr>",
                            "<tr><td>2</td><td>2</td><td>31</td></tr>",
                            "<tr><td>2</td><td>2</td><td>31</td></tr>",
                            "<tr><td>2</td><td>2</td><td>31</td></tr>",
                            "<tr><td>2</td><td>2</td><td>31</td></tr>",
                            "<tr><td>2</td><td>2</td><td>31</td></tr>",
                            "<tr><td>2</td><td>2</td><td>31</td></tr>",
                            "<tr><td>2</td><td>2</td><td>31</td></tr>",
                            "<tr><td>2</td><td>2</td><td>31</td></tr>",
                            "<tr><td>2</td><td>2</td><td>31</td></tr>",
                            "<tr><td>2</td><td>2</td><td>31</td></tr>",
                            "<tr><td>2</td><td>2</td><td>31</td></tr>",
                            "<tr><td>2</td><td>2</td><td>31</td></tr>",
                            "<tr><td>2</td><td>2</td><td>31</td></tr>",
                            "<tr><td>2</td><td>2</td><td>31</td></tr>",
                            "<tr><td>2</td><td>2</td><td>31</td></tr>",
                            "<tr><td>2</td><td>2</td><td>31</td></tr>",
                            "<tr><td>2</td><td>2</td><td>31</td></tr>",
                            "<tr><td>2</td><td>2</td><td>31</td></tr>",
                            "<tr><td>2</td><td>2</td><td>31</td></tr>",
                            "<tr><td>2</td><td>2</td><td>31</td></tr>",
                            "<tr><td>2</td><td>2</td><td>31</td></tr>",
                            "<tr><td>2</td><td>2</td><td>31</td></tr>",
                            "<tr><td>2</td><td>2</td><td>31</td></tr>",
                            "<tr><td>2</td><td>2</td><td>31</td></tr>",
                            "<tr><td>2</td><td>2</td><td>31</td></tr>",
                            "<tr><td>2</td><td>2</td><td>31</td></tr>",
                            "<tr><td>2</td><td>2</td><td>31</td></tr>",
                            "<tr><td>2</td><td>2</td><td>31</td></tr>",
                            "<tr><td>20</td><td>3</td><td>1</td></tr>",
                            "<tr><td>20</td><td>3</td><td>1</td></tr>",
                            "<tr><td>20</td><td>3</td><td>1</td></tr>",
                            "<tr><td>20</td><td>3</td><td>1</td></tr>",
                            "<tr><td>20</td><td>2</td><td>5</td></tr>",
                            "<tr><td>20</td><td>2</td><td>5</td></tr>",
                            "<tr><td>20</td><td>2</td><td>5</td></tr>",
                            "<tr><td>20</td><td>2</td><td>5</td></tr>",
                            "<tr><td>20</td><td>2</td><td>5</td></tr>",
                            "<tr><td>20</td><td>2</td><td>5</td></tr>",
                            "<tr><td>20</td><td>2</td><td>5</td></tr>",
                            "<tr><td>20</td><td>2</td><td>5</td></tr>",
                            "<tr><td>20</td><td>2</td><td>5</td></tr>",
                            "<tr><td>20</td><td>2</td><td>5</td></tr>",
                            "<tr><td>20</td><td>2</td><td>5</td></tr>",
                            "<tr><td>20</td><td>2</td><td>5</td></tr>",
                            "<tr><td>20</td><td>2</td><td>5</td></tr>",
                            "<tr><td>20</td><td>2</td><td>5</td></tr>",
                            "<tr><td>20</td><td>2</td><td>5</td></tr>",
                            "<tr><td>20</td><td>2</td><td>5</td></tr>",
                            "<tr><td>20</td><td>2</td><td>5</td></tr>",
                            "<tr><td>20</td><td>1</td><td>22</td></tr>",
                            "<tr><td>21</td><td>3</td><td>1</td></tr>",
                            "<tr><td>21</td><td>3</td><td>1</td></tr>",
                            "<tr><td>21</td><td>3</td><td>1</td></tr>",
                            "<tr><td>21</td><td>3</td><td>1</td></tr>",
                            "<tr><td>21</td><td>3</td><td>1</td></tr>",
                            "<tr><td>21</td><td>3</td><td>1</td></tr>",
                            "<tr><td>21</td><td>3</td><td>1</td></tr>",
                            "<tr><td>21</td><td>3</td><td>1</td></tr>",
                            "<tr><td>21</td><td>3</td><td>1</td></tr>",
                            "<tr><td>21</td><td>3</td><td>1</td></tr>",
                            "<tr><td>21</td><td>3</td><td>1</td></tr>",
                            "<tr><td>21</td><td>3</td><td>1</td></tr>",
                            "<tr><td>21</td><td>3</td><td>1</td></tr>",
                            "<tr><td>21</td><td>3</td><td>1</td></tr>",
                            "<tr><td>21</td><td>3</td><td>1</td></tr>",
                            "<tr><td>21</td><td>3</td><td>1</td></tr>",
                            "<tr><td>21</td><td>3</td><td>1</td></tr>",
                            "<tr><td>21</td><td>2</td><td>18</td></tr>",
                            "<tr><td>21</td><td>2</td><td>18</td></tr>",
                            "<tr><td>21</td><td>2</td><td>18</td></tr>",
                            "<tr><td>21</td><td>2</td><td>18</td></tr>",
                            "<tr><td>21</td><td>2</td><td>18</td></tr>",
                            "<tr><td>21</td><td>2</td><td>18</td></tr>",
                            "<tr><td>21</td><td>2</td><td>18</td></tr>",
                            "<tr><td>21</td><td>2</td><td>18</td></tr>",
                            "<tr><td>21</td><td>2</td><td>18</td></tr>",
                            "<tr><td>21</td><td>2</td><td>18</td></tr>",
                            "<tr><td>21</td><td>2</td><td>18</td></tr>",
                            "<tr><td>21</td><td>2</td><td>18</td></tr>",
                            "<tr><td>21</td><td>2</td><td>18</td></tr>",
                            "<tr><td>21</td><td>2</td><td>18</td></tr>",
                            "<tr><td>21</td><td>2</td><td>18</td></tr>",
                            "<tr><td>21</td><td>2</td><td>18</td></tr>",
                            "<tr><td>22</td><td>3</td><td>1</td></tr>",
                            "<tr><td>22</td><td>3</td><td>1</td></tr>",
                            "<tr><td>22</td><td>3</td><td>1</td></tr>",
                            "<tr><td>22</td><td>3</td><td>1</td></tr>",
                            "<tr><td>22</td><td>3</td><td>1</td></tr>",
                            "<tr><td>22</td><td>3</td><td>1</td></tr>",
                            "<tr><td>22</td><td>3</td><td>1</td></tr>",
                            "<tr><td>22</td><td>3</td><td>1</td></tr>",
                            "<tr><td>22</td><td>2</td><td>9</td></tr>",
                            "<tr><td>22</td><td>2</td><td>9</td></tr>",
                            "<tr><td>22</td><td>2</td><td>9</td></tr>",
                            "<tr><td>22</td><td>2</td><td>9</td></tr>",
                            "<tr><td>22</td><td>2</td><td>9</td></tr>",
                            "<tr><td>22</td><td>2</td><td>9</td></tr>",
                            "<tr><td>22</td><td>2</td><td>9</td></tr>",
                            "<tr><td>22</td><td>2</td><td>9</td></tr>",
                            "<tr><td>22</td><td>2</td><td>9</td></tr>",
                            "<tr><td>22</td><td>2</td><td>9</td></tr>",
                            "<tr><td>22</td><td>2</td><td>9</td></tr>",
                            "<tr><td>23</td><td>3</td><td>1</td></tr>",
                            "<tr><td>23</td><td>3</td><td>1</td></tr>",
                            "<tr><td>23</td><td>3</td><td>1</td></tr>",
                            "<tr><td>23</td><td>3</td><td>1</td></tr>",
                            "<tr><td>23</td><td>3</td><td>1</td></tr>",
                            "<tr><td>23</td><td>3</td><td>1</td></tr>",
                            "<tr><td>23</td><td>3</td><td>1</td></tr>",
                            "<tr><td>23</td><td>3</td><td>1</td></tr>",
                            "<tr><td>23</td><td>3</td><td>1</td></tr>",
                            "<tr><td>23</td><td>3</td><td>1</td></tr>",
                            "<tr><td>23</td><td>3</td><td>1</td></tr>",
                            "<tr><td>23</td><td>3</td><td>1</td></tr>",
                            "<tr><td>23</td><td>2</td><td>13</td></tr>",
                            "<tr><td>23</td><td>2</td><td>13</td></tr>",
                            "<tr><td>23</td><td>2</td><td>13</td></tr>",
                            "<tr><td>23</td><td>2</td><td>13</td></tr>",
                            "<tr><td>23</td><td>2</td><td>13</td></tr>",
                            "<tr><td>23</td><td>2</td><td>13</td></tr>",
                            "<tr><td>23</td><td>2</td><td>13</td></tr>",
                            "<tr><td>23</td><td>2</td><td>13</td></tr>",
                            "<tr><td>23</td><td>2</td><td>13</td></tr>",
                            "<tr><td>24</td><td>3</td><td>1</td></tr>",
                            "<tr><td>24</td><td>3</td><td>1</td></tr>",
                            "<tr><td>24</td><td>3</td><td>1</td></tr>",
                            "<tr><td>24</td><td>3</td><td>1</td></tr>",
                            "<tr><td>24</td><td>3</td><td>1</td></tr>",
                            "<tr><td>24</td><td>3</td><td>1</td></tr>",
                            "<tr><td>24</td><td>2</td><td>7</td></tr>",
                            "<tr><td>24</td><td>2</td><td>7</td></tr>",
                            "<tr><td>24</td><td>2</td><td>7</td></tr>",
                            "<tr><td>24</td><td>2</td><td>7</td></tr>",
                            "<tr><td>24</td><td>2</td><td>7</td></tr>",
                            "<tr><td>24</td><td>2</td><td>7</td></tr>",
                            "<tr><td>24</td><td>2</td><td>7</td></tr>",
                            "<tr><td>24</td><td>2</td><td>7</td></tr>",
                            "<tr><td>24</td><td>2</td><td>7</td></tr>",
                            "<tr><td>24</td><td>2</td><td>7</td></tr>",
                            "<tr><td>24</td><td>2</td><td>7</td></tr>",
                            "<tr><td>25</td><td>3</td><td>1</td></tr>",
                            "<tr><td>25</td><td>3</td><td>1</td></tr>",
                            "<tr><td>25</td><td>3</td><td>1</td></tr>",
                            "<tr><td>25</td><td>3</td><td>1</td></tr>",
                            "<tr><td>25</td><td>3</td><td>1</td></tr>",
                            "<tr><td>25</td><td>3</td><td>1</td></tr>",
                            "<tr><td>25</td><td>3</td><td>1</td></tr>",
                            "<tr><td>25</td><td>3</td><td>1</td></tr>",
                            "<tr><td>25</td><td>3</td><td>1</td></tr>",
                            "<tr><td>25</td><td>3</td><td>1</td></tr>",
                            "<tr><td>25</td><td>3</td><td>1</td></tr>",
                            "<tr><td>25</td><td>3</td><td>1</td></tr>",
                            "<tr><td>25</td><td>3</td><td>1</td></tr>",
                            "<tr><td>25</td><td>3</td><td>1</td></tr>",
                            "<tr><td>25</td><td>3</td><td>1</td></tr>",
                            "<tr><td>25</td><td>3</td><td>1</td></tr>",
                            "<tr><td>25</td><td>3</td><td>1</td></tr>",
                            "<tr><td>25</td><td>2</td><td>18</td></tr>",
                            "<tr><td>25</td><td>2</td><td>18</td></tr>",
                            "<tr><td>25</td><td>2</td><td>18</td></tr>",
                            "<tr><td>25</td><td>2</td><td>18</td></tr>",
                            "<tr><td>25</td><td>2</td><td>18</td></tr>",
                            "<tr><td>26</td><td>3</td><td>1</td></tr>",
                            "<tr><td>26</td><td>3</td><td>1</td></tr>",
                            "<tr><td>26</td><td>2</td><td>3</td></tr>",
                            "<tr><td>26</td><td>2</td><td>3</td></tr>",
                            "<tr><td>26</td><td>2</td><td>3</td></tr>",
                            "<tr><td>26</td><td>2</td><td>3</td></tr>",
                            "<tr><td>26</td><td>2</td><td>3</td></tr>",
                            "<tr><td>26</td><td>2</td><td>3</td></tr>",
                            "<tr><td>26</td><td>2</td><td>3</td></tr>",
                            "<tr><td>26</td><td>2</td><td>3</td></tr>",
                            "<tr><td>27</td><td>3</td><td>1</td></tr>",
                            "<tr><td>27</td><td>3</td><td>1</td></tr>",
                            "<tr><td>27</td><td>3</td><td>1</td></tr>",
                            "<tr><td>27</td><td>3</td><td>1</td></tr>",
                            "<tr><td>27</td><td>3</td><td>1</td></tr>",
                            "<tr><td>27</td><td>3</td><td>1</td></tr>",
                            "<tr><td>27</td><td>3</td><td>1</td></tr>",
                            "<tr><td>27</td><td>3</td><td>1</td></tr>",
                            "<tr><td>27</td><td>2</td><td>9</td></tr>",
                            "<tr><td>27</td><td>2</td><td>9</td></tr>",
                            "<tr><td>27</td><td>2</td><td>9</td></tr>",
                            "<tr><td>27</td><td>2</td><td>9</td></tr>",
                            "<tr><td>27</td><td>2</td><td>9</td></tr>",
                            "<tr><td>27</td><td>2</td><td>9</td></tr>",
                            "<tr><td>27</td><td>2</td><td>9</td></tr>",
                            "<tr><td>27</td><td>2</td><td>9</td></tr>",
                            "<tr><td>28</td><td>3</td><td>1</td></tr>",
                            "<tr><td>28</td><td>3</td><td>1</td></tr>",
                            "<tr><td>28</td><td>3</td><td>1</td></tr>",
                            "<tr><td>28</td><td>3</td><td>1</td></tr>",
                            "<tr><td>28</td><td>3</td><td>1</td></tr>",
                            "<tr><td>28</td><td>3</td><td>1</td></tr>",
                            "<tr><td>28</td><td>2</td><td>7</td></tr>",
                            "<tr><td>28</td><td>2</td><td>7</td></tr>",
                            "<tr><td>28</td><td>2</td><td>7</td></tr>",
                            "<tr><td>28</td><td>2</td><td>7</td></tr>",
                            "<tr><td>28</td><td>2</td><td>7</td></tr>",
                            "<tr><td>28</td><td>2</td><td>7</td></tr>",
                            "<tr><td>28</td><td>2</td><td>7</td></tr>",
                            "<tr><td>28</td><td>2</td><td>7</td></tr>",
                            "<tr><td>28</td><td>2</td><td>7</td></tr>",
                            "<tr><td>29</td><td>3</td><td>1</td></tr>",
                            "<tr><td>29</td><td>3</td><td>1</td></tr>",
                            "<tr><td>29</td><td>3</td><td>1</td></tr>",
                            "<tr><td>29</td><td>3</td><td>1</td></tr>",
                            "<tr><td>29</td><td>3</td><td>1</td></tr>",
                            "<tr><td>29</td><td>3</td><td>1</td></tr>",
                            "<tr><td>29</td><td>3</td><td>1</td></tr>",
                            "<tr><td>29</td><td>2</td><td>8</td></tr>",
                            "<tr><td>29</td><td>2</td><td>8</td></tr>",
                            "<tr><td>29</td><td>2</td><td>8</td></tr>",
                            "<tr><td>29</td><td>2</td><td>8</td></tr>",
                            "<tr><td>29</td><td>2</td><td>8</td></tr>",
                            "<tr><td>29</td><td>2</td><td>8</td></tr>",
                            "<tr><td>29</td><td>2</td><td>8</td></tr>",
                            "<tr><td>29</td><td>2</td><td>8</td></tr>",
                            "<tr><td>29</td><td>2</td><td>8</td></tr>",
                            "<tr><td>29</td><td>2</td><td>8</td></tr>",
                            "<tr><td>29</td><td>2</td><td>8</td></tr>",
                            "<tr><td>3</td><td>3</td><td>1</td></tr>",
                            "<tr><td>3</td><td>3</td><td>1</td></tr>",
                            "<tr><td>3</td><td>3</td><td>1</td></tr>",
                            "<tr><td>3</td><td>3</td><td>1</td></tr>",
                            "<tr><td>3</td><td>3</td><td>1</td></tr>",
                            "<tr><td>3</td><td>3</td><td>1</td></tr>",
                            "<tr><td>3</td><td>3</td><td>1</td></tr>",
                            "<tr><td>3</td><td>3</td><td>1</td></tr>",
                            "<tr><td>3</td><td>3</td><td>1</td></tr>",
                            "<tr><td>3</td><td>3</td><td>1</td></tr>",
                            "<tr><td>3</td><td>3</td><td>1</td></tr>",
                            "<tr><td>3</td><td>3</td><td>1</td></tr>",
                            "<tr><td>3</td><td>3</td><td>1</td></tr>",
                            "<tr><td>3</td><td>3</td><td>1</td></tr>",
                            "<tr><td>3</td><td>3</td><td>1</td></tr>",
                            "<tr><td>3</td><td>3</td><td>1</td></tr>",
                            "<tr><td>3</td><td>3</td><td>1</td></tr>",
                            "<tr><td>3</td><td>3</td><td>1</td></tr>",
                            "<tr><td>3</td><td>3</td><td>1</td></tr>",
                            "<tr><td>3</td><td>3</td><td>1</td></tr>",
                            "<tr><td>3</td><td>3</td><td>1</td></tr>",
                            "<tr><td>3</td><td>3</td><td>1</td></tr>",
                            "<tr><td>3</td><td>3</td><td>1</td></tr>",
                            "<tr><td>3</td><td>3</td><td>1</td></tr>",
                            "<tr><td>3</td><td>3</td><td>1</td></tr>",
                            "<tr><td>3</td><td>3</td><td>1</td></tr>",
                            "<tr><td>3</td><td>3</td><td>1</td></tr>",
                            "<tr><td>3</td><td>3</td><td>1</td></tr>",
                            "<tr><td>3</td><td>3</td><td>1</td></tr>",
                            "<tr><td>3</td><td>3</td><td>1</td></tr>",
                            "<tr><td>3</td><td>3</td><td>1</td></tr>",
                            "<tr><td>3</td><td>3</td><td>1</td></tr>",
                            "<tr><td>3</td><td>3</td><td>1</td></tr>",
                            "<tr><td>3</td><td>3</td><td>1</td></tr>",
                            "<tr><td>3</td><td>3</td><td>1</td></tr>",
                            "<tr><td>3</td><td>3</td><td>1</td></tr>",
                            "<tr><td>3</td><td>3</td><td>1</td></tr>",
                            "<tr><td>3</td><td>3</td><td>1</td></tr>",
                            "<tr><td>3</td><td>3</td><td>1</td></tr>",
                            "<tr><td>3</td><td>3</td><td>1</td></tr>",
                            "<tr><td>3</td><td>2</td><td>41</td></tr>",
                            "<tr><td>3</td><td>2</td><td>41</td></tr>",
                            "<tr><td>3</td><td>2</td><td>41</td></tr>",
                            "<tr><td>3</td><td>2</td><td>41</td></tr>",
                            "<tr><td>3</td><td>2</td><td>41</td></tr>",
                            "<tr><td>3</td><td>2</td><td>41</td></tr>",
                            "<tr><td>3</td><td>2</td><td>41</td></tr>",
                            "<tr><td>3</td><td>2</td><td>41</td></tr>",
                            "<tr><td>3</td><td>2</td><td>41</td></tr>",
                            "<tr><td>3</td><td>2</td><td>41</td></tr>",
                            "<tr><td>3</td><td>2</td><td>41</td></tr>",
                            "<tr><td>3</td><td>2</td><td>41</td></tr>",
                            "<tr><td>3</td><td>2</td><td>41</td></tr>",
                            "<tr><td>3</td><td>2</td><td>41</td></tr>",
                            "<tr><td>3</td><td>2</td><td>41</td></tr>",
                            "<tr><td>3</td><td>2</td><td>41</td></tr>",
                            "<tr><td>3</td><td>2</td><td>41</td></tr>",
                            "<tr><td>3</td><td>2</td><td>41</td></tr>",
                            "<tr><td>3</td><td>2</td><td>41</td></tr>",
                            "<tr><td>3</td><td>2</td><td>41</td></tr>",
                            "<tr><td>3</td><td>2</td><td>41</td></tr>",
                            "<tr><td>3</td><td>2</td><td>41</td></tr>",
                            "<tr><td>3</td><td>2</td><td>41</td></tr>",
                            "<tr><td>3</td><td>2</td><td>41</td></tr>",
                            "<tr><td>3</td><td>2</td><td>41</td></tr>",
                            "<tr><td>3</td><td>2</td><td>41</td></tr>",
                            "<tr><td>3</td><td>2</td><td>41</td></tr>",
                            "<tr><td>3</td><td>2</td><td>41</td></tr>",
                            "<tr><td>3</td><td>2</td><td>41</td></tr>",
                            "<tr><td>3</td><td>2</td><td>41</td></tr>",
                            "<tr><td>3</td><td>2</td><td>41</td></tr>",
                            "<tr><td>3</td><td>2</td><td>41</td></tr>",
                            "<tr><td>3</td><td>2</td><td>41</td></tr>",
                            "<tr><td>30</td><td>3</td><td>1</td></tr>",
                            "<tr><td>30</td><td>3</td><td>1</td></tr>",
                            "<tr><td>30</td><td>3</td><td>1</td></tr>",
                            "<tr><td>30</td><td>3</td><td>1</td></tr>",
                            "<tr><td>30</td><td>3</td><td>1</td></tr>",
                            "<tr><td>30</td><td>3</td><td>1</td></tr>",
                            "<tr><td>30</td><td>3</td><td>1</td></tr>",
                            "<tr><td>30</td><td>3</td><td>1</td></tr>",
                            "<tr><td>30</td><td>3</td><td>1</td></tr>",
                            "<tr><td>30</td><td>3</td><td>1</td></tr>",
                            "<tr><td>30</td><td>3</td><td>1</td></tr>",
                            "<tr><td>30</td><td>2</td><td>12</td></tr>",
                            "<tr><td>31</td><td>2</td><td>1</td></tr>",
                            "<tr><td>31</td><td>2</td><td>1</td></tr>",
                            "<tr><td>31</td><td>2</td><td>1</td></tr>",
                            "<tr><td>31</td><td>2</td><td>1</td></tr>",
                            "<tr><td>31</td><td>2</td><td>1</td></tr>",
                            "<tr><td>31</td><td>2</td><td>1</td></tr>",
                            "<tr><td>31</td><td>2</td><td>1</td></tr>",
                            "<tr><td>31</td><td>2</td><td>1</td></tr>",
                            "<tr><td>31</td><td>2</td><td>1</td></tr>",
                            "<tr><td>31</td><td>2</td><td>1</td></tr>",
                            "<tr><td>31</td><td>2</td><td>1</td></tr>",
                            "<tr><td>31</td><td>2</td><td>1</td></tr>",
                            "<tr><td>31</td><td>2</td><td>1</td></tr>",
                            "<tr><td>31</td><td>2</td><td>1</td></tr>",
                            "<tr><td>31</td><td>2</td><td>1</td></tr>",
                            "<tr><td>31</td><td>2</td><td>1</td></tr>",
                            "<tr><td>31</td><td>2</td><td>1</td></tr>",
                            "<tr><td>31</td><td>2</td><td>1</td></tr>",
                            "<tr><td>31</td><td>2</td><td>1</td></tr>",
                            "<tr><td>31</td><td>2</td><td>1</td></tr>",
                            "<tr><td>31</td><td>2</td><td>1</td></tr>",
                            "<tr><td>32</td><td>3</td><td>1</td></tr>",
                            "<tr><td>32</td><td>3</td><td>1</td></tr>",
                            "<tr><td>32</td><td>3</td><td>1</td></tr>",
                            "<tr><td>32</td><td>3</td><td>1</td></tr>",
                            "<tr><td>32</td><td>3</td><td>1</td></tr>",
                            "<tr><td>32</td><td>3</td><td>1</td></tr>",
                            "<tr><td>32</td><td>3</td><td>1</td></tr>",
                            "<tr><td>32</td><td>3</td><td>1</td></tr>",
                            "<tr><td>32</td><td>3</td><td>1</td></tr>",
                            "<tr><td>32</td><td>2</td><td>10</td></tr>",
                            "<tr><td>32</td><td>2</td><td>10</td></tr>",
                            "<tr><td>32</td><td>2</td><td>10</td></tr>",
                            "<tr><td>32</td><td>2</td><td>10</td></tr>",
                            "<tr><td>32</td><td>2</td><td>10</td></tr>",
                            "<tr><td>32</td><td>2</td><td>10</td></tr>",
                            "<tr><td>32</td><td>2</td><td>10</td></tr>",
                            "<tr><td>32</td><td>2</td><td>10</td></tr>",
                            "<tr><td>32</td><td>2</td><td>10</td></tr>",
                            "<tr><td>33</td><td>3</td><td>1</td></tr>",
                            "<tr><td>33</td><td>3</td><td>1</td></tr>",
                            "<tr><td>33</td><td>3</td><td>1</td></tr>",
                            "<tr><td>33</td><td>3</td><td>1</td></tr>",
                            "<tr><td>33</td><td>3</td><td>1</td></tr>",
                            "<tr><td>33</td><td>3</td><td>1</td></tr>",
                            "<tr><td>33</td><td>3</td><td>1</td></tr>",
                            "<tr><td>33</td><td>3</td><td>1</td></tr>",
                            "<tr><td>33</td><td>3</td><td>1</td></tr>",
                            "<tr><td>33</td><td>3</td><td>1</td></tr>",
                            "<tr><td>33</td><td>3</td><td>1</td></tr>",
                            "<tr><td>33</td><td>3</td><td>1</td></tr>",
                            "<tr><td>33</td><td>3</td><td>1</td></tr>",
                            "<tr><td>33</td><td>3</td><td>1</td></tr>",
                            "<tr><td>33</td><td>3</td><td>1</td></tr>",
                            "<tr><td>33</td><td>3</td><td>1</td></tr>",
                            "<tr><td>33</td><td>3</td><td>1</td></tr>",
                            "<tr><td>34</td><td>3</td><td>1</td></tr>",
                            "<tr><td>34</td><td>3</td><td>1</td></tr>",
                            "<tr><td>34</td><td>3</td><td>1</td></tr>",
                            "<tr><td>34</td><td>3</td><td>1</td></tr>",
                            "<tr><td>34</td><td>3</td><td>1</td></tr>",
                            "<tr><td>34</td><td>3</td><td>1</td></tr>",
                            "<tr><td>34</td><td>3</td><td>1</td></tr>",
                            "<tr><td>34</td><td>3</td><td>1</td></tr>",
                            "<tr><td>34</td><td>3</td><td>1</td></tr>",
                            "<tr><td>34</td><td>3</td><td>1</td></tr>",
                            "<tr><td>34</td><td>3</td><td>1</td></tr>",
                            "<tr><td>34</td><td>3</td><td>1</td></tr>",
                            "<tr><td>34</td><td>3</td><td>1</td></tr>",
                            "<tr><td>34</td><td>3</td><td>1</td></tr>",
                            "<tr><td>34</td><td>3</td><td>1</td></tr>",
                            "<tr><td>34</td><td>3</td><td>1</td></tr>",
                            "<tr><td>34</td><td>3</td><td>1</td></tr>",
                            "<tr><td>34</td><td>3</td><td>1</td></tr>",
                            "<tr><td>34</td><td>3</td><td>1</td></tr>",
                            "<tr><td>34</td><td>3</td><td>1</td></tr>",
                            "<tr><td>34</td><td>3</td><td>1</td></tr>",
                            "<tr><td>34</td><td>3</td><td>1</td></tr>",
                            "<tr><td>35</td><td>3</td><td>1</td></tr>",
                            "<tr><td>35</td><td>3</td><td>1</td></tr>",
                            "<tr><td>35</td><td>3</td><td>1</td></tr>",
                            "<tr><td>35</td><td>3</td><td>1</td></tr>",
                            "<tr><td>35</td><td>3</td><td>1</td></tr>",
                            "<tr><td>35</td><td>2</td><td>6</td></tr>",
                            "<tr><td>36</td><td>2</td><td>1</td></tr>",
                            "<tr><td>36</td><td>2</td><td>1</td></tr>",
                            "<tr><td>36</td><td>2</td><td>1</td></tr>",
                            "<tr><td>36</td><td>2</td><td>1</td></tr>",
                            "<tr><td>36</td><td>2</td><td>1</td></tr>",
                            "<tr><td>36</td><td>2</td><td>1</td></tr>",
                            "<tr><td>36</td><td>2</td><td>1</td></tr>",
                            "<tr><td>37</td><td>3</td><td>1</td></tr>",
                            "<tr><td>37</td><td>2</td><td>2</td></tr>",
                            "<tr><td>37</td><td>2</td><td>2</td></tr>",
                            "<tr><td>37</td><td>2</td><td>2</td></tr>",
                            "<tr><td>37</td><td>2</td><td>2</td></tr>",
                            "<tr><td>37</td><td>2</td><td>2</td></tr>",
                            "<tr><td>37</td><td>2</td><td>2</td></tr>",
                            "<tr><td>37</td><td>2</td><td>2</td></tr>",
                            "<tr><td>38</td><td>3</td><td>1</td></tr>",
                            "<tr><td>38</td><td>2</td><td>2</td></tr>",
                            "<tr><td>38</td><td>2</td><td>2</td></tr>",
                            "<tr><td>38</td><td>2</td><td>2</td></tr>",
                            "<tr><td>38</td><td>2</td><td>2</td></tr>",
                            "<tr><td>38</td><td>2</td><td>2</td></tr>",
                            "<tr><td>39</td><td>3</td><td>1</td></tr>",
                            "<tr><td>39</td><td>2</td><td>2</td></tr>",
                            "<tr><td>39</td><td>2</td><td>2</td></tr>",
                            "<tr><td>39</td><td>2</td><td>2</td></tr>",
                            "<tr><td>39</td><td>2</td><td>2</td></tr>",
                            "<tr><td>4</td><td>3</td><td>1</td></tr>",
                            "<tr><td>4</td><td>3</td><td>1</td></tr>",
                            "<tr><td>4</td><td>3</td><td>1</td></tr>",
                            "<tr><td>4</td><td>3</td><td>1</td></tr>",
                            "<tr><td>4</td><td>3</td><td>1</td></tr>",
                            "<tr><td>4</td><td>3</td><td>1</td></tr>",
                            "<tr><td>4</td><td>3</td><td>1</td></tr>",
                            "<tr><td>4</td><td>3</td><td>1</td></tr>",
                            "<tr><td>4</td><td>3</td><td>1</td></tr>",
                            "<tr><td>4</td><td>3</td><td>1</td></tr>",
                            "<tr><td>4</td><td>3</td><td>1</td></tr>",
                            "<tr><td>4</td><td>3</td><td>1</td></tr>",
                            "<tr><td>4</td><td>3</td><td>1</td></tr>",
                            "<tr><td>4</td><td>3</td><td>1</td></tr>",
                            "<tr><td>4</td><td>3</td><td>1</td></tr>",
                            "<tr><td>4</td><td>3</td><td>1</td></tr>",
                            "<tr><td>4</td><td>3</td><td>1</td></tr>",
                            "<tr><td>4</td><td>3</td><td>1</td></tr>",
                            "<tr><td>4</td><td>3</td><td>1</td></tr>",
                            "<tr><td>4</td><td>3</td><td>1</td></tr>",
                            "<tr><td>4</td><td>3</td><td>1</td></tr>",
                            "<tr><td>4</td><td>3</td><td>1</td></tr>",
                            "<tr><td>4</td><td>3</td><td>1</td></tr>",
                            "<tr><td>4</td><td>3</td><td>1</td></tr>",
                            "<tr><td>4</td><td>3</td><td>1</td></tr>",
                            "<tr><td>4</td><td>3</td><td>1</td></tr>",
                            "<tr><td>4</td><td>3</td><td>1</td></tr>",
                            "<tr><td>4</td><td>3</td><td>1</td></tr>",
                            "<tr><td>4</td><td>3</td><td>1</td></tr>",
                            "<tr><td>4</td><td>3</td><td>1</td></tr>",
                            "<tr><td>4</td><td>3</td><td>1</td></tr>",
                            "<tr><td>4</td><td>3</td><td>1</td></tr>",
                            "<tr><td>4</td><td>3</td><td>1</td></tr>",
                            "<tr><td>4</td><td>3</td><td>1</td></tr>",
                            "<tr><td>4</td><td>3</td><td>1</td></tr>",
                            "<tr><td>4</td><td>3</td><td>1</td></tr>",
                            "<tr><td>4</td><td>3</td><td>1</td></tr>",
                            "<tr><td>4</td><td>3</td><td>1</td></tr>",
                            "<tr><td>4</td><td>3</td><td>1</td></tr>",
                            "<tr><td>4</td><td>3</td><td>1</td></tr>",
                            "<tr><td>4</td><td>3</td><td>1</td></tr>",
                            "<tr><td>4</td><td>3</td><td>1</td></tr>",
                            "<tr><td>4</td><td>2</td><td>43</td></tr>",
                            "<tr><td>4</td><td>2</td><td>43</td></tr>",
                            "<tr><td>4</td><td>2</td><td>43</td></tr>",
                            "<tr><td>4</td><td>2</td><td>43</td></tr>",
                            "<tr><td>4</td><td>2</td><td>43</td></tr>",
                            "<tr><td>4</td><td>2</td><td>43</td></tr>",
                            "<tr><td>4</td><td>2</td><td>43</td></tr>",
                            "<tr><td>4</td><td>2</td><td>43</td></tr>",
                            "<tr><td>4</td><td>2</td><td>43</td></tr>",
                            "<tr><td>4</td><td>2</td><td>43</td></tr>",
                            "<tr><td>4</td><td>2</td><td>43</td></tr>",
                            "<tr><td>4</td><td>2</td><td>43</td></tr>",
                            "<tr><td>4</td><td>2</td><td>43</td></tr>",
                            "<tr><td>4</td><td>2</td><td>43</td></tr>",
                            "<tr><td>4</td><td>2</td><td>43</td></tr>",
                            "<tr><td>4</td><td>2</td><td>43</td></tr>",
                            "<tr><td>4</td><td>2</td><td>43</td></tr>",
                            "<tr><td>4</td><td>2</td><td>43</td></tr>",
                            "<tr><td>4</td><td>2</td><td>43</td></tr>",
                            "<tr><td>4</td><td>2</td><td>43</td></tr>",
                            "<tr><td>4</td><td>2</td><td>43</td></tr>",
                            "<tr><td>4</td><td>2</td><td>43</td></tr>",
                            "<tr><td>4</td><td>2</td><td>43</td></tr>",
                            "<tr><td>4</td><td>2</td><td>43</td></tr>",
                            "<tr><td>4</td><td>2</td><td>43</td></tr>",
                            "<tr><td>4</td><td>2</td><td>43</td></tr>",
                            "<tr><td>4</td><td>2</td><td>43</td></tr>",
                            "<tr><td>4</td><td>2</td><td>43</td></tr>",
                            "<tr><td>4</td><td>2</td><td>43</td></tr>",
                            "<tr><td>4</td><td>2</td><td>43</td></tr>",
                            "<tr><td>4</td><td>2</td><td>43</td></tr>",
                            "<tr><td>4</td><td>2</td><td>43</td></tr>",
                            "<tr><td>4</td><td>2</td><td>43</td></tr>",
                            "<tr><td>4</td><td>2</td><td>43</td></tr>",
                            "<tr><td>4</td><td>2</td><td>43</td></tr>",
                            "<tr><td>4</td><td>2</td><td>43</td></tr>",
                            "<tr><td>4</td><td>2</td><td>43</td></tr>",
                            "<tr><td>4</td><td>2</td><td>43</td></tr>",
                            "<tr><td>4</td><td>2</td><td>43</td></tr>",
                            "<tr><td>4</td><td>2</td><td>43</td></tr>",
                            "<tr><td>40</td><td>3</td><td>1</td></tr>",
                            "<tr><td>41</td><td>3</td><td>1</td></tr>",
                            "<tr><td>42</td><td>2</td><td>1</td></tr>",
                            "<tr><td>43</td><td>2</td><td>1</td></tr>",
                            "<tr><td>44</td><td>2</td><td>1</td></tr>",
                            "<tr><td>45</td><td>3</td><td>1</td></tr>",
                            "<tr><td>46</td><td>2</td><td>1</td></tr>",
                            "<tr><td>47</td><td>2</td><td>1</td></tr>",
                            "<tr><td>48</td><td>3</td><td>1</td></tr>",
                            "<tr><td>49</td><td>3</td><td>1</td></tr>",
                            "<tr><td>5</td><td>3</td><td>1</td></tr>",
                            "<tr><td>5</td><td>3</td><td>1</td></tr>",
                            "<tr><td>5</td><td>3</td><td>1</td></tr>",
                            "<tr><td>5</td><td>3</td><td>1</td></tr>",
                            "<tr><td>5</td><td>3</td><td>1</td></tr>",
                            "<tr><td>5</td><td>3</td><td>1</td></tr>",
                            "<tr><td>5</td><td>3</td><td>1</td></tr>",
                            "<tr><td>5</td><td>3</td><td>1</td></tr>",
                            "<tr><td>5</td><td>3</td><td>1</td></tr>",
                            "<tr><td>5</td><td>3</td><td>1</td></tr>",
                            "<tr><td>5</td><td>3</td><td>1</td></tr>",
                            "<tr><td>5</td><td>3</td><td>1</td></tr>",
                            "<tr><td>5</td><td>3</td><td>1</td></tr>",
                            "<tr><td>5</td><td>3</td><td>1</td></tr>",
                            "<tr><td>5</td><td>3</td><td>1</td></tr>",
                            "<tr><td>5</td><td>3</td><td>1</td></tr>",
                            "<tr><td>5</td><td>3</td><td>1</td></tr>",
                            "<tr><td>5</td><td>3</td><td>1</td></tr>",
                            "<tr><td>5</td><td>3</td><td>1</td></tr>",
                            "<tr><td>5</td><td>3</td><td>1</td></tr>",
                            "<tr><td>5</td><td>3</td><td>1</td></tr>",
                            "<tr><td>5</td><td>3</td><td>1</td></tr>",
                            "<tr><td>5</td><td>3</td><td>1</td></tr>",
                            "<tr><td>5</td><td>3</td><td>1</td></tr>",
                            "<tr><td>5</td><td>3</td><td>1</td></tr>",
                            "<tr><td>5</td><td>3</td><td>1</td></tr>",
                            "<tr><td>5</td><td>3</td><td>1</td></tr>",
                            "<tr><td>5</td><td>3</td><td>1</td></tr>",
                            "<tr><td>5</td><td>3</td><td>1</td></tr>",
                            "<tr><td>5</td><td>3</td><td>1</td></tr>",
                            "<tr><td>5</td><td>3</td><td>1</td></tr>",
                            "<tr><td>5</td><td>3</td><td>1</td></tr>",
                            "<tr><td>5</td><td>2</td><td>33</td></tr>",
                            "<tr><td>5</td><td>2</td><td>33</td></tr>",
                            "<tr><td>5</td><td>2</td><td>33</td></tr>",
                            "<tr><td>5</td><td>2</td><td>33</td></tr>",
                            "<tr><td>5</td><td>2</td><td>33</td></tr>",
                            "<tr><td>5</td><td>2</td><td>33</td></tr>",
                            "<tr><td>5</td><td>2</td><td>33</td></tr>",
                            "<tr><td>5</td><td>2</td><td>33</td></tr>",
                            "<tr><td>5</td><td>2</td><td>33</td></tr>",
                            "<tr><td>5</td><td>2</td><td>33</td></tr>",
                            "<tr><td>5</td><td>2</td><td>33</td></tr>",
                            "<tr><td>5</td><td>2</td><td>33</td></tr>",
                            "<tr><td>5</td><td>2</td><td>33</td></tr>",
                            "<tr><td>5</td><td>2</td><td>33</td></tr>",
                            "<tr><td>5</td><td>2</td><td>33</td></tr>",
                            "<tr><td>5</td><td>2</td><td>33</td></tr>",
                            "<tr><td>5</td><td>2</td><td>33</td></tr>",
                            "<tr><td>5</td><td>2</td><td>33</td></tr>",
                            "<tr><td>5</td><td>2</td><td>33</td></tr>",
                            "<tr><td>5</td><td>2</td><td>33</td></tr>",
                            "<tr><td>5</td><td>2</td><td>33</td></tr>",
                            "<tr><td>5</td><td>2</td><td>33</td></tr>",
                            "<tr><td>5</td><td>2</td><td>33</td></tr>",
                            "<tr><td>5</td><td>2</td><td>33</td></tr>",
                            "<tr><td>5</td><td>2</td><td>33</td></tr>",
                            "<tr><td>5</td><td>2</td><td>33</td></tr>",
                            "<tr><td>5</td><td>2</td><td>33</td></tr>",
                            "<tr><td>5</td><td>2</td><td>33</td></tr>",
                            "<tr><td>5</td><td>2</td><td>33</td></tr>",
                            "<tr><td>5</td><td>2</td><td>33</td></tr>",
                            "<tr><td>5</td><td>2</td><td>33</td></tr>",
                            "<tr><td>5</td><td>2</td><td>33</td></tr>",
                            "<tr><td>5</td><td>2</td><td>33</td></tr>",
                            "<tr><td>5</td><td>2</td><td>33</td></tr>",
                            "<tr><td>5</td><td>2</td><td>33</td></tr>",
                            "<tr><td>50</td><td>3</td><td>1</td></tr>",
                            "<tr><td>6</td><td>3</td><td>1</td></tr>",
                            "<tr><td>6</td><td>3</td><td>1</td></tr>",
                            "<tr><td>6</td><td>3</td><td>1</td></tr>",
                            "<tr><td>6</td><td>3</td><td>1</td></tr>",
                            "<tr><td>6</td><td>3</td><td>1</td></tr>",
                            "<tr><td>6</td><td>3</td><td>1</td></tr>",
                            "<tr><td>6</td><td>3</td><td>1</td></tr>",
                            "<tr><td>6</td><td>3</td><td>1</td></tr>",
                            "<tr><td>6</td><td>3</td><td>1</td></tr>",
                            "<tr><td>6</td><td>3</td><td>1</td></tr>",
                            "<tr><td>6</td><td>3</td><td>1</td></tr>",
                            "<tr><td>6</td><td>3</td><td>1</td></tr>",
                            "<tr><td>6</td><td>3</td><td>1</td></tr>",
                            "<tr><td>6</td><td>3</td><td>1</td></tr>",
                            "<tr><td>6</td><td>3</td><td>1</td></tr>",
                            "<tr><td>6</td><td>3</td><td>1</td></tr>",
                            "<tr><td>6</td><td>3</td><td>1</td></tr>",
                            "<tr><td>6</td><td>3</td><td>1</td></tr>",
                            "<tr><td>6</td><td>3</td><td>1</td></tr>",
                            "<tr><td>6</td><td>3</td><td>1</td></tr>",
                            "<tr><td>6</td><td>3</td><td>1</td></tr>",
                            "<tr><td>6</td><td>3</td><td>1</td></tr>",
                            "<tr><td>6</td><td>3</td><td>1</td></tr>",
                            "<tr><td>6</td><td>3</td><td>1</td></tr>",
                            "<tr><td>6</td><td>3</td><td>1</td></tr>",
                            "<tr><td>6</td><td>3</td><td>1</td></tr>",
                            "<tr><td>6</td><td>3</td><td>1</td></tr>",
                            "<tr><td>6</td><td>3</td><td>1</td></tr>",
                            "<tr><td>6</td><td>2</td><td>29</td></tr>",
                            "<tr><td>6</td><td>2</td><td>29</td></tr>",
                            "<tr><td>6</td><td>2</td><td>29</td></tr>",
                            "<tr><td>6</td><td>2</td><td>29</td></tr>",
                            "<tr><td>6</td><td>2</td><td>29</td></tr>",
                            "<tr><td>6</td><td>2</td><td>29</td></tr>",
                            "<tr><td>6</td><td>2</td><td>29</td></tr>",
                            "<tr><td>6</td><td>2</td><td>29</td></tr>",
                            "<tr><td>6</td><td>2</td><td>29</td></tr>",
                            "<tr><td>6</td><td>2</td><td>29</td></tr>",
                            "<tr><td>6</td><td>2</td><td>29</td></tr>",
                            "<tr><td>6</td><td>2</td><td>29</td></tr>",
                            "<tr><td>6</td><td>2</td><td>29</td></tr>",
                            "<tr><td>6</td><td>2</td><td>29</td></tr>",
                            "<tr><td>6</td><td>2</td><td>29</td></tr>",
                            "<tr><td>6</td><td>2</td><td>29</td></tr>",
                            "<tr><td>6</td><td>2</td><td>29</td></tr>",
                            "<tr><td>6</td><td>2</td><td>29</td></tr>",
                            "<tr><td>6</td><td>2</td><td>29</td></tr>",
                            "<tr><td>6</td><td>2</td><td>29</td></tr>",
                            "<tr><td>6</td><td>2</td><td>29</td></tr>",
                            "<tr><td>6</td><td>2</td><td>29</td></tr>",
                            "<tr><td>6</td><td>2</td><td>29</td></tr>",
                            "<tr><td>6</td><td>2</td><td>29</td></tr>",
                            "<tr><td>6</td><td>2</td><td>29</td></tr>",
                            "<tr><td>6</td><td>2</td><td>29</td></tr>",
                            "<tr><td>6</td><td>2</td><td>29</td></tr>",
                            "<tr><td>6</td><td>2</td><td>29</td></tr>",
                            "<tr><td>6</td><td>2</td><td>29</td></tr>",
                            "<tr><td>7</td><td>3</td><td>1</td></tr>",
                            "<tr><td>7</td><td>3</td><td>1</td></tr>",
                            "<tr><td>7</td><td>3</td><td>1</td></tr>",
                            "<tr><td>7</td><td>3</td><td>1</td></tr>",
                            "<tr><td>7</td><td>3</td><td>1</td></tr>",
                            "<tr><td>7</td><td>3</td><td>1</td></tr>",
                            "<tr><td>7</td><td>3</td><td>1</td></tr>",
                            "<tr><td>7</td><td>3</td><td>1</td></tr>",
                            "<tr><td>7</td><td>3</td><td>1</td></tr>",
                            "<tr><td>7</td><td>3</td><td>1</td></tr>",
                            "<tr><td>7</td><td>3</td><td>1</td></tr>",
                            "<tr><td>7</td><td>3</td><td>1</td></tr>",
                            "<tr><td>7</td><td>3</td><td>1</td></tr>",
                            "<tr><td>7</td><td>3</td><td>1</td></tr>",
                            "<tr><td>7</td><td>3</td><td>1</td></tr>",
                            "<tr><td>7</td><td>2</td><td>16</td></tr>",
                            "<tr><td>7</td><td>2</td><td>16</td></tr>",
                            "<tr><td>7</td><td>2</td><td>16</td></tr>",
                            "<tr><td>7</td><td>2</td><td>16</td></tr>",
                            "<tr><td>7</td><td>2</td><td>16</td></tr>",
                            "<tr><td>7</td><td>2</td><td>16</td></tr>",
                            "<tr><td>7</td><td>2</td><td>16</td></tr>",
                            "<tr><td>7</td><td>2</td><td>16</td></tr>",
                            "<tr><td>7</td><td>2</td><td>16</td></tr>",
                            "<tr><td>7</td><td>2</td><td>16</td></tr>",
                            "<tr><td>7</td><td>2</td><td>16</td></tr>",
                            "<tr><td>7</td><td>2</td><td>16</td></tr>",
                            "<tr><td>7</td><td>2</td><td>16</td></tr>",
                            "<tr><td>7</td><td>2</td><td>16</td></tr>",
                            "<tr><td>7</td><td>2</td><td>16</td></tr>",
                            "<tr><td>7</td><td>2</td><td>16</td></tr>",
                            "<tr><td>7</td><td>2</td><td>16</td></tr>",
                            "<tr><td>7</td><td>2</td><td>16</td></tr>",
                            "<tr><td>7</td><td>2</td><td>16</td></tr>",
                            "<tr><td>7</td><td>2</td><td>16</td></tr>",
                            "<tr><td>7</td><td>2</td><td>16</td></tr>",
                            "<tr><td>7</td><td>2</td><td>16</td></tr>",
                            "<tr><td>7</td><td>2</td><td>16</td></tr>",
                            "<tr><td>7</td><td>2</td><td>16</td></tr>",
                            "<tr><td>7</td><td>2</td><td>16</td></tr>",
                            "<tr><td>7</td><td>2</td><td>16</td></tr>",
                            "<tr><td>8</td><td>4</td><td>1</td></tr>",
                            "<tr><td>8</td><td>4</td><td>1</td></tr>",
                            "<tr><td>8</td><td>4</td><td>1</td></tr>",
                            "<tr><td>8</td><td>3</td><td>4</td></tr>",
                            "<tr><td>8</td><td>3</td><td>4</td></tr>",
                            "<tr><td>8</td><td>3</td><td>4</td></tr>",
                            "<tr><td>8</td><td>3</td><td>4</td></tr>",
                            "<tr><td>8</td><td>3</td><td>4</td></tr>",
                            "<tr><td>8</td><td>3</td><td>4</td></tr>",
                            "<tr><td>8</td><td>3</td><td>4</td></tr>",
                            "<tr><td>8</td><td>3</td><td>4</td></tr>",
                            "<tr><td>8</td><td>3</td><td>4</td></tr>",
                            "<tr><td>8</td><td>3</td><td>4</td></tr>",
                            "<tr><td>8</td><td>2</td><td>14</td></tr>",
                            "<tr><td>8</td><td>2</td><td>14</td></tr>",
                            "<tr><td>8</td><td>2</td><td>14</td></tr>",
                            "<tr><td>8</td><td>2</td><td>14</td></tr>",
                            "<tr><td>8</td><td>2</td><td>14</td></tr>",
                            "<tr><td>8</td><td>2</td><td>14</td></tr>",
                            "<tr><td>8</td><td>2</td><td>14</td></tr>",
                            "<tr><td>8</td><td>2</td><td>14</td></tr>",
                            "<tr><td>8</td><td>2</td><td>14</td></tr>",
                            "<tr><td>8</td><td>2</td><td>14</td></tr>",
                            "<tr><td>8</td><td>2</td><td>14</td></tr>",
                            "<tr><td>8</td><td>2</td><td>14</td></tr>",
                            "<tr><td>8</td><td>2</td><td>14</td></tr>",
                            "<tr><td>8</td><td>2</td><td>14</td></tr>",
                            "<tr><td>8</td><td>2</td><td>14</td></tr>",
                            "<tr><td>8</td><td>2</td><td>14</td></tr>",
                            "<tr><td>8</td><td>2</td><td>14</td></tr>",
                            "<tr><td>8</td><td>2</td><td>14</td></tr>",
                            "<tr><td>8</td><td>2</td><td>14</td></tr>",
                            "<tr><td>8</td><td>2</td><td>14</td></tr>",
                            "<tr><td>8</td><td>2</td><td>14</td></tr>",
                            "<tr><td>8</td><td>2</td><td>14</td></tr>",
                            "<tr><td>9</td><td>3</td><td>1</td></tr>",
                            "<tr><td>9</td><td>3</td><td>1</td></tr>",
                            "<tr><td>9</td><td>3</td><td>1</td></tr>",
                            "<tr><td>9</td><td>3</td><td>1</td></tr>",
                            "<tr><td>9</td><td>3</td><td>1</td></tr>",
                            "<tr><td>9</td><td>3</td><td>1</td></tr>",
                            "<tr><td>9</td><td>3</td><td>1</td></tr>",
                            "<tr><td>9</td><td>3</td><td>1</td></tr>",
                            "<tr><td>9</td><td>3</td><td>1</td></tr>",
                            "<tr><td>9</td><td>3</td><td>1</td></tr>",
                            "<tr><td>9</td><td>3</td><td>1</td></tr>",
                            "<tr><td>9</td><td>3</td><td>1</td></tr>",
                            "<tr><td>9</td><td>3</td><td>1</td></tr>",
                            "<tr><td>9</td><td>3</td><td>1</td></tr>",
                            "<tr><td>9</td><td>3</td><td>1</td></tr>",
                            "<tr><td>9</td><td>3</td><td>1</td></tr>",
                            "<tr><td>9</td><td>3</td><td>1</td></tr>",
                            "<tr><td>9</td><td>3</td><td>1</td></tr>",
                            "<tr><td>9</td><td>3</td><td>1</td></tr>",
                            "<tr><td>9</td><td>3</td><td>1</td></tr>",
                            "<tr><td>9</td><td>3</td><td>1</td></tr>",
                            "<tr><td>9</td><td>3</td><td>1</td></tr>",
                            "<tr><td>9</td><td>3</td><td>1</td></tr>",
                            "<tr><td>9</td><td>3</td><td>1</td></tr>",
                            "<tr><td>9</td><td>2</td><td>25</td></tr>",
                            "<tr><td>9</td><td>2</td><td>25</td></tr>",
                            "<tr><td>9</td><td>2</td><td>25</td></tr>",
                            "<tr><td>9</td><td>2</td><td>25</td></tr>",
                            "<tr><td>9</td><td>2</td><td>25</td></tr>",
                            "<tr><td>9</td><td>2</td><td>25</td></tr>",
                            "<tr><td>9</td><td>2</td><td>25</td></tr>",
                            "<tr><td>9</td><td>2</td><td>25</td></tr>",
                            "<tr><td>9</td><td>2</td><td>25</td></tr>",
                            "<tr><td>9</td><td>2</td><td>25</td></tr>",
                            "<tr><td>9</td><td>2</td><td>25</td></tr>",
                            "<tr><td>9</td><td>2</td><td>25</td></tr>",
                            "<tr><td>9</td><td>2</td><td>25</td></tr>",
                            "<tr><td>9</td><td>2</td><td>25</td></tr>",
                            "<tr><td>9</td><td>2</td><td>25</td></tr>",
                            "<tr><td>9</td><td>2</td><td>25</td></tr>",
                            "<tr><td>9</td><td>2</td><td>25</td></tr>",
                            "<tr><td>9</td><td>2</td><td>25</td></tr>",
                            "<tr><td>9</td><td>2</td><td>25</td></tr>",
                            "<tr><td>9</td><td>2</td><td>25</td></tr>",
                            "<tr><td>9</td><td>2</td><td>25</td></tr>",
                            "<tr><td>9</td><td>2</td><td>25</td></tr>",
                            "<tr><td>9</td><td>2</td><td>25</td></tr>",
                            "<tr><td>9</td><td>2</td><td>25</td></tr>",
                            "<tr><td>9</td><td>2</td><td>25</td></tr>",
                            "<tr><td>9</td><td>2</td><td>25</td></tr>",
                            "<tr><td>9</td><td>2</td><td>25</td></tr>",
                            "<tr><td>9</td><td>2</td><td>25</td></tr>",
                            "<tr><td>9</td><td>2</td><td>25</td></tr>",
                            "<tr><td>9</td><td>2</td><td>25</td></tr>",
                            "<tr><td>9</td><td>2</td><td>25</td></tr>",
                            "</table>"
                        ]
                    }
                }
            ],
            "execution_count": 11
        },
        {
            "cell_type": "code",
            "source": [
                "-- 2 feladat\r\n",
                "SELECT szh.SZALLAS_NEV,\r\n",
                "       COUNT(*) AS 'foglalasszam'\r\n",
                "FROM szallashely szh JOIN SZOBA sz ON szh.SZALLAS_ID = sz.SZALLAS_FK\r\n",
                "    JOIN Foglalas f ON sz.SZOBA_ID = f.SZOBA_FK\r\n",
                "\r\n",
                "WHere COUNT(*) > \r\n",
                "(\r\n",
                "    SELECT szh2.SZALLAS_NEV,\r\n",
                "    COUNT(*) AS 'foglalasszam'\r\n",
                "    FROM szallashely szh2 JOIN SZOBA sz2 ON szh2.SZALLAS_ID = sz2.SZALLAS_FK\r\n",
                "    JOIN Foglalas f2 ON sz.SZOBA_ID = f2.SZOBA_FK\r\n",
                "    WHERE szh2.SZALLAS_NEV = 'Fortuna'\r\n",
                "    GROUP BY szh2.SZALLAS_NEV     \r\n",
                "\r\n",
                ")\r\n",
                "GROUP BY BY szh.SZALLAS_NEV "
            ],
            "metadata": {
                "azdata_cell_guid": "6926ea46-280a-45fb-b930-3aff44bec4cb",
                "language": "sql",
                "tags": []
            },
            "outputs": [
                {
                    "output_type": "display_data",
                    "data": {
                        "text/html": "(11 rows affected)"
                    },
                    "metadata": {}
                },
                {
                    "output_type": "display_data",
                    "data": {
                        "text/html": "Total execution time: 00:00:00.036"
                    },
                    "metadata": {}
                },
                {
                    "output_type": "execute_result",
                    "metadata": {},
                    "execution_count": 14,
                    "data": {
                        "application/vnd.dataresource+json": {
                            "schema": {
                                "fields": [
                                    {
                                        "name": "SZALLAS_NEV"
                                    },
                                    {
                                        "name": "foglalasszam"
                                    }
                                ]
                            },
                            "data": [
                                {
                                    "SZALLAS_NEV": "Szieszta Apartmanház",
                                    "foglalasszam": "34"
                                },
                                {
                                    "SZALLAS_NEV": "Fortuna Panzió",
                                    "foglalasszam": "126"
                                },
                                {
                                    "SZALLAS_NEV": "Kentaur Hotel",
                                    "foglalasszam": "179"
                                },
                                {
                                    "SZALLAS_NEV": "Partiszél Vendégház",
                                    "foglalasszam": "26"
                                },
                                {
                                    "SZALLAS_NEV": "Sába-Ház",
                                    "foglalasszam": "70"
                                },
                                {
                                    "SZALLAS_NEV": "Családi Ház",
                                    "foglalasszam": "18"
                                },
                                {
                                    "SZALLAS_NEV": "Fortuna Apartman",
                                    "foglalasszam": "39"
                                },
                                {
                                    "SZALLAS_NEV": "Hotel Három Hattyú",
                                    "foglalasszam": "204"
                                },
                                {
                                    "SZALLAS_NEV": "Jáde panzió",
                                    "foglalasszam": "29"
                                },
                                {
                                    "SZALLAS_NEV": "Lagúna Hotel",
                                    "foglalasszam": "123"
                                },
                                {
                                    "SZALLAS_NEV": "Gold Hotel",
                                    "foglalasszam": "179"
                                }
                            ]
                        },
                        "text/html": [
                            "<table>",
                            "<tr><th>SZALLAS_NEV</th><th>foglalasszam</th></tr>",
                            "<tr><td>Szieszta Apartmanház</td><td>34</td></tr>",
                            "<tr><td>Fortuna Panzió</td><td>126</td></tr>",
                            "<tr><td>Kentaur Hotel</td><td>179</td></tr>",
                            "<tr><td>Partiszél Vendégház</td><td>26</td></tr>",
                            "<tr><td>Sába-Ház</td><td>70</td></tr>",
                            "<tr><td>Családi Ház</td><td>18</td></tr>",
                            "<tr><td>Fortuna Apartman</td><td>39</td></tr>",
                            "<tr><td>Hotel Három Hattyú</td><td>204</td></tr>",
                            "<tr><td>Jáde panzió</td><td>29</td></tr>",
                            "<tr><td>Lagúna Hotel</td><td>123</td></tr>",
                            "<tr><td>Gold Hotel</td><td>179</td></tr>",
                            "</table>"
                        ]
                    }
                }
            ],
            "execution_count": 14
        }
    ]
}